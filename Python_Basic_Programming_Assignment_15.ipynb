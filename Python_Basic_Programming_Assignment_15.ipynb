{
 "cells": [
  {
   "cell_type": "markdown",
   "id": "4fd984e8",
   "metadata": {},
   "source": [
    "### Question 1: Please write a program using generator to print the numbers which can be divisible by 5 and 7 between 0 and n in comma separated form while n is input by console.\n",
    "Example:\n",
    "If the following n is given as input to the program:\n",
    "100\n",
    "Then, the output of the program should be:\n",
    "0,35,70\n"
   ]
  },
  {
   "cell_type": "code",
   "execution_count": 11,
   "id": "e7227eac",
   "metadata": {},
   "outputs": [],
   "source": [
    "def div(num):\n",
    "    try:\n",
    "        for i in range(num):\n",
    "            if i%7 == 0 and i%5 == 0:\n",
    "                yield i\n",
    "    except Exception as e:\n",
    "        print ('Error occured : ',e)\n",
    "    \n",
    "def IsDivisible():\n",
    "    n = int(input(\"Enter the max value : \"))\n",
    "    try:\n",
    "        values = []\n",
    "        for i in div(n+1):\n",
    "            values.append(str(i))\n",
    "        print (\",\".join(values))\n",
    "    except Exception as e:\n",
    "        print ('Error occured : ',e)"
   ]
  },
  {
   "cell_type": "code",
   "execution_count": 12,
   "id": "5c758d7c",
   "metadata": {},
   "outputs": [
    {
     "name": "stdout",
     "output_type": "stream",
     "text": [
      "Enter the max value : 100\n",
      "0,35,70\n"
     ]
    }
   ],
   "source": [
    "IsDivisible()"
   ]
  },
  {
   "cell_type": "markdown",
   "id": "4ab7b620",
   "metadata": {},
   "source": [
    "### Question 2: Please write a program using generator to print the even numbers between 0 and n in comma separated form while n is input by console.\n",
    "Example:\n",
    "\n",
    "If the following n is given as input to the program:\n",
    "\n",
    "10\n",
    "\n",
    "Then, the output of the program should be:\n",
    "\n",
    "0,2,4,6,8,10\n"
   ]
  },
  {
   "cell_type": "code",
   "execution_count": 13,
   "id": "3f5e015d",
   "metadata": {},
   "outputs": [],
   "source": [
    "def even(num):\n",
    "    try:\n",
    "        for i in range(num):\n",
    "            if i%2 == 0:\n",
    "                yield i\n",
    "    except Exception as e:\n",
    "        print ('Error occured : ',e)\n",
    "    \n",
    "def IsEven():\n",
    "    n = int(input(\"Enter the max value : \"))\n",
    "    try:\n",
    "        values = []\n",
    "        for i in even(n+1):\n",
    "            values.append(str(i))\n",
    "        print (\",\".join(values))\n",
    "    except Exception as e:\n",
    "        print ('Error occured : ',e)"
   ]
  },
  {
   "cell_type": "code",
   "execution_count": 14,
   "id": "ff1165da",
   "metadata": {},
   "outputs": [
    {
     "name": "stdout",
     "output_type": "stream",
     "text": [
      "Enter the max value : 10\n",
      "0,2,4,6,8,10\n"
     ]
    }
   ],
   "source": [
    "IsEven()"
   ]
  },
  {
   "cell_type": "markdown",
   "id": "cf646858",
   "metadata": {},
   "source": [
    "### Question 3: The Fibonacci Sequence is computed based on the following formula:\n",
    "f(n)=0 if n=0\n",
    "\n",
    "f(n)=1 if n=1\n",
    "\n",
    "f(n)=f(n-1)+f(n-2) if n>1\n",
    "\n",
    "Please write a program using list comprehension to print the Fibonacci Sequence in comma separated form with a given n input by console.\n",
    "\n",
    "Example:\n",
    "\n",
    "If the following n is given as input to the program:\n",
    "\n",
    "7\n",
    "\n",
    "Then, the output of the program should be:\n",
    "\n",
    "0,1,1,2,3,5,8,13\n"
   ]
  },
  {
   "cell_type": "code",
   "execution_count": 20,
   "id": "f9e079c1",
   "metadata": {},
   "outputs": [],
   "source": [
    "def fib(n):\n",
    "    if n == 0:\n",
    "        return 0\n",
    "    elif n == 1:\n",
    "        return 1\n",
    "    elif n > 1:\n",
    "        return fib(n-1) + fib(n-2)\n",
    "    else:\n",
    "        print (\"Please enter the correct value!\")\n",
    "        \n",
    "def GetFib():\n",
    "    n = int(input(\"Enter the max value : \"))\n",
    "    try:\n",
    "        values = []\n",
    "        for i in range(n+1):\n",
    "            values.append(str(fib(i)))\n",
    "        print (\",\".join(values))\n",
    "    except Exception as e:\n",
    "        print ('Error occured : ',e)"
   ]
  },
  {
   "cell_type": "code",
   "execution_count": 21,
   "id": "de71595d",
   "metadata": {},
   "outputs": [
    {
     "name": "stdout",
     "output_type": "stream",
     "text": [
      "Enter the max value : 7\n",
      "0,1,1,2,3,5,8,13\n"
     ]
    }
   ],
   "source": [
    "GetFib()"
   ]
  },
  {
   "cell_type": "markdown",
   "id": "fae6d55f",
   "metadata": {},
   "source": [
    "### Question 4: Assuming that we have some email addresses in the \"username@companyname.com\" format, please write program to print the user name of a given email address. Both user names and company names are composed of letters only.\n",
    "Example:\n",
    "\n",
    "If the following email address is given as input to the program:\n",
    "\n",
    "john@google.com\n",
    "\n",
    "Then, the output of the program should be:\n",
    "\n",
    "john\n"
   ]
  },
  {
   "cell_type": "code",
   "execution_count": 24,
   "id": "8de6f3df",
   "metadata": {},
   "outputs": [],
   "source": [
    "def getUser():\n",
    "    n = input(\"Enter the email : \")\n",
    "    try:\n",
    "        n = n.split('@')\n",
    "        print (n[0])\n",
    "    except Exception as e:\n",
    "        print ('Error occured : ',e)"
   ]
  },
  {
   "cell_type": "code",
   "execution_count": 25,
   "id": "129bdc2a",
   "metadata": {},
   "outputs": [
    {
     "name": "stdout",
     "output_type": "stream",
     "text": [
      "Enter the email : john@google.com\n",
      "john\n"
     ]
    }
   ],
   "source": [
    "getUser()"
   ]
  },
  {
   "cell_type": "markdown",
   "id": "c19b40fa",
   "metadata": {},
   "source": [
    "### Question 5: Define a class named Shape and its subclass Square. The Square class has an init function which takes a length as argument. Both classes have a area function which can print the area of the shape where Shape's area is 0 by default.\n"
   ]
  },
  {
   "cell_type": "code",
   "execution_count": 27,
   "id": "4facdbe7",
   "metadata": {},
   "outputs": [],
   "source": [
    "class Shape:\n",
    "    \n",
    "    def area(self):\n",
    "        print (\"area of the shape is 0\")\n",
    "    \n",
    "class Square(Shape):\n",
    "    def __init__(self,length):\n",
    "        self.length = length\n",
    "        \n",
    "    def area(self):\n",
    "        a = self.length * self.length\n",
    "        print (f\"area of the shape is {a}\")"
   ]
  },
  {
   "cell_type": "code",
   "execution_count": 29,
   "id": "cb67140b",
   "metadata": {},
   "outputs": [
    {
     "name": "stdout",
     "output_type": "stream",
     "text": [
      "area of the shape is 0\n"
     ]
    }
   ],
   "source": [
    "s = Shape()\n",
    "s.area()"
   ]
  },
  {
   "cell_type": "code",
   "execution_count": 30,
   "id": "c4e892a5",
   "metadata": {},
   "outputs": [
    {
     "name": "stdout",
     "output_type": "stream",
     "text": [
      "area of the shape is 25\n"
     ]
    }
   ],
   "source": [
    "sq = Square(5)\n",
    "\n",
    "sq.area()"
   ]
  }
 ],
 "metadata": {
  "kernelspec": {
   "display_name": "Python 3",
   "language": "python",
   "name": "python3"
  },
  "language_info": {
   "codemirror_mode": {
    "name": "ipython",
    "version": 3
   },
   "file_extension": ".py",
   "mimetype": "text/x-python",
   "name": "python",
   "nbconvert_exporter": "python",
   "pygments_lexer": "ipython3",
   "version": "3.7.10"
  }
 },
 "nbformat": 4,
 "nbformat_minor": 5
}
