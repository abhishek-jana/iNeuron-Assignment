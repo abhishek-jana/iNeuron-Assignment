{
 "cells": [
  {
   "cell_type": "markdown",
   "id": "2d43192b",
   "metadata": {},
   "source": [
    "#### Q-19. Write an SQL query to determine the 5th highest salary without using TOP or limit method.\n"
   ]
  },
  {
   "cell_type": "code",
   "execution_count": null,
   "id": "255548a6",
   "metadata": {},
   "outputs": [],
   "source": [
    "SELECT Salary\n",
    "FROM Worker w1\n",
    "WHERE 4 = (SELECT COUNT(DISTINCT(w2.Salary)) FROM Worker w2\n",
    "WHERE w2.Salary >= w1.Salary);"
   ]
  },
  {
   "cell_type": "markdown",
   "id": "d9987dbd",
   "metadata": {},
   "source": [
    "#### Q-20. Write an SQL query to fetch the list of employees with the same salary.\n"
   ]
  },
  {
   "cell_type": "code",
   "execution_count": null,
   "id": "54f400e4",
   "metadata": {},
   "outputs": [],
   "source": [
    "Select DISTINCT w.Col_1, w.Salary \n",
    "from Worker w, Worker w1 \n",
    "where w.Salary = w1.Salary \n",
    "and w.Col_1 != w1.Col_1;"
   ]
  }
 ],
 "metadata": {
  "kernelspec": {
   "display_name": "Python 3 (ipykernel)",
   "language": "python",
   "name": "python3"
  },
  "language_info": {
   "codemirror_mode": {
    "name": "ipython",
    "version": 3
   },
   "file_extension": ".py",
   "mimetype": "text/x-python",
   "name": "python",
   "nbconvert_exporter": "python",
   "pygments_lexer": "ipython3",
   "version": "3.8.11"
  }
 },
 "nbformat": 4,
 "nbformat_minor": 5
}
