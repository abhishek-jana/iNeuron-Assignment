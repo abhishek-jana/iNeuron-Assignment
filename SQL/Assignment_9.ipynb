{
 "cells": [
  {
   "cell_type": "markdown",
   "id": "67d21a00",
   "metadata": {},
   "source": [
    "#### Q-17.  Write an SQL query to show the top n (say 10) records of a table.\n",
    "\n",
    "Ans. \n"
   ]
  },
  {
   "cell_type": "code",
   "execution_count": null,
   "id": "eb169f5a",
   "metadata": {},
   "outputs": [],
   "source": [
    "# for MySQL\n",
    "\n",
    "SELECT * FROM Table_1 ORDER BY Column_1 DESC LIMIT 10;\n",
    "\n",
    "# SQL Server\n",
    "\n",
    "SELECT TOP 10 * FROM Table_1 ORDER BY Column_1 DESC;"
   ]
  },
  {
   "cell_type": "markdown",
   "id": "b4ab9de2",
   "metadata": {},
   "source": [
    "#### Q-18. Write an SQL query to determine the nth (say n=5) highest salary from a table."
   ]
  },
  {
   "cell_type": "code",
   "execution_count": null,
   "id": "e232b8c4",
   "metadata": {},
   "outputs": [],
   "source": [
    "# For MySQl\n",
    "\n",
    "SELECT Salary FROM Worker ORDER BY Salary DESC LIMIT 4,1;"
   ]
  }
 ],
 "metadata": {
  "kernelspec": {
   "display_name": "Python 3 (ipykernel)",
   "language": "python",
   "name": "python3"
  },
  "language_info": {
   "codemirror_mode": {
    "name": "ipython",
    "version": 3
   },
   "file_extension": ".py",
   "mimetype": "text/x-python",
   "name": "python",
   "nbconvert_exporter": "python",
   "pygments_lexer": "ipython3",
   "version": "3.8.11"
  }
 },
 "nbformat": 4,
 "nbformat_minor": 5
}
