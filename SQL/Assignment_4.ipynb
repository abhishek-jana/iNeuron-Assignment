{
 "cells": [
  {
   "cell_type": "markdown",
   "id": "331cc6e6",
   "metadata": {},
   "source": [
    "#### Q-1. Write an SQL query to print the FIRST_NAME from Worker table after replacing ‘a’ with ‘A’.\n",
    "\n",
    "Ans. \n",
    "\n",
    "SELECT REPLACE(FIRST_NAME,'a','A') FROM Wokrer;\n",
    "\n",
    "#### Q-2. Write an SQL query to print all Worker details from the Worker table order by FIRST_NAME Ascending and DEPARTMENT Descending.\n",
    "\n",
    "Ans. \n",
    "\n",
    "Select * from Worker order by FIRST_NAME ASC,DEPARTMENT DESC;\n",
    "\n",
    "#### Q-3. Write an SQL query to fetch the names of workers who earn the highest salary.\n",
    " \n",
    "Ans.\n",
    "\n",
    "SELECT FIRST_NAME, LAST_NAME, SALARY from Worker WHERE SALARY=(SELECT max(SALARY) from Worker);"
   ]
  }
 ],
 "metadata": {
  "kernelspec": {
   "display_name": "Python 3 (ipykernel)",
   "language": "python",
   "name": "python3"
  },
  "language_info": {
   "codemirror_mode": {
    "name": "ipython",
    "version": 3
   },
   "file_extension": ".py",
   "mimetype": "text/x-python",
   "name": "python",
   "nbconvert_exporter": "python",
   "pygments_lexer": "ipython3",
   "version": "3.8.11"
  }
 },
 "nbformat": 4,
 "nbformat_minor": 5
}
