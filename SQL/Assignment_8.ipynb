{
 "cells": [
  {
   "cell_type": "markdown",
   "id": "de40ab0d",
   "metadata": {},
   "source": [
    "#### Q-15. Write an SQL query to fetch intersecting records of two tables.\n",
    "\n",
    "Ans.\n",
    "\n",
    "(SELECT * FROM Table_1) \n",
    "\n",
    "INTERSECT \n",
    "\n",
    "(SELECT * FROM Table_2);\n",
    "\n",
    "\n",
    "#### Q-16. Write an SQL query to show records from one table that another table does not have.\n",
    "\n",
    "Ans. \n",
    "\n",
    "SELECT * FROM Table_1 \n",
    "\n",
    "MINUS \n",
    "\n",
    "SELECT * FROM Table_2;"
   ]
  }
 ],
 "metadata": {
  "kernelspec": {
   "display_name": "Python 3 (ipykernel)",
   "language": "python",
   "name": "python3"
  },
  "language_info": {
   "codemirror_mode": {
    "name": "ipython",
    "version": 3
   },
   "file_extension": ".py",
   "mimetype": "text/x-python",
   "name": "python",
   "nbconvert_exporter": "python",
   "pygments_lexer": "ipython3",
   "version": "3.8.11"
  }
 },
 "nbformat": 4,
 "nbformat_minor": 5
}
