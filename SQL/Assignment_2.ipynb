{
 "cells": [
  {
   "cell_type": "markdown",
   "id": "04d98775",
   "metadata": {},
   "source": [
    "#### Q-1. Write an SQL query to print the first three characters of  FIRST_NAME from Worker table.\n",
    "\n",
    "Ans. \n",
    "\n",
    "Select substring(FIRST_NAME,1,3) from Worker;\n",
    "\n",
    "#### Q-2. Write an SQL query to find the position of the alphabet (‘a’) in the first name column ‘Amitabh’ from Worker table.\n",
    "\n",
    "Ans. \n",
    "\n",
    "Select INSTR(FIRST_NAME, BINARY'a') from Worker where FIRST_NAME = 'Amitabh';\n",
    "\n",
    "or,\n",
    "\n",
    "SELECT POSITION(\"a\" IN first_name) FROM Worker WHERE first_name = \"Amitabh\";\n",
    "\n",
    "#### Q-3. Write an SQL query to print the name of employees having the highest salary in each department.\n",
    " \n",
    "Ans.\n",
    "\n",
    "SELECT w.DEPARTMENT,w.FIRST_NAME,w.Salary from(SELECT max(Salary) as Max_\n",
    "Salary,DEPARTMENT from Worker group by DEPARTMENT) as Temp_Salary \n",
    "\n",
    "Inner Join Worker w on Temp_Salary.DEPARTMENT=w.DEPARTMENT and Temp_Salary. Max_Salary=w.Salary;"
   ]
  }
 ],
 "metadata": {
  "kernelspec": {
   "display_name": "Python 3 (ipykernel)",
   "language": "python",
   "name": "python3"
  },
  "language_info": {
   "codemirror_mode": {
    "name": "ipython",
    "version": 3
   },
   "file_extension": ".py",
   "mimetype": "text/x-python",
   "name": "python",
   "nbconvert_exporter": "python",
   "pygments_lexer": "ipython3",
   "version": "3.8.11"
  }
 },
 "nbformat": 4,
 "nbformat_minor": 5
}
