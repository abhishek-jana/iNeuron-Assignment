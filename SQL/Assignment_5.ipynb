{
 "cells": [
  {
   "cell_type": "markdown",
   "id": "8ce45439",
   "metadata": {},
   "source": [
    "#### Q-1. Write an SQL query to print details of workers excluding first names, “Vipul” and “Satish” from Worker table.\n",
    "\n",
    "Ans.\n",
    "\n",
    "Select * from Worker WHERE FIRST_NAME NOT IN (\"Vipul\",\"Satish\");\n",
    "\n",
    "#### Q-2. Write an SQL query to print details of the Workers whose FIRST_NAME ends with ‘h’ and contains six alphabets.\n",
    "\n",
    "Ans.\n",
    "\n",
    "Select * from Worker WHERE FIRST_NAME LIKE '_____h';\n",
    "\n",
    "#### Q-3. Write a query to validate Email of Employee.\n",
    " \n",
    "Ans.\n"
   ]
  },
  {
   "cell_type": "code",
   "execution_count": null,
   "id": "fdb4347a",
   "metadata": {},
   "outputs": [],
   "source": [
    "SELECT * FROM Worker WHERE Email LIKE \"_%@__%.__%\""
   ]
  }
 ],
 "metadata": {
  "kernelspec": {
   "display_name": "Python 3 (ipykernel)",
   "language": "python",
   "name": "python3"
  },
  "language_info": {
   "codemirror_mode": {
    "name": "ipython",
    "version": 3
   },
   "file_extension": ".py",
   "mimetype": "text/x-python",
   "name": "python",
   "nbconvert_exporter": "python",
   "pygments_lexer": "ipython3",
   "version": "3.8.11"
  }
 },
 "nbformat": 4,
 "nbformat_minor": 5
}
