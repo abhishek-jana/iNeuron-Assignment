{
 "cells": [
  {
   "cell_type": "markdown",
   "id": "820bbdaa",
   "metadata": {},
   "source": [
    "#### Q-1. Write an SQL query to print the FIRST_NAME from Worker table after removing white spaces from the right side.\n",
    "\n",
    "Ans. \n",
    "\n",
    "Select RTRIM(FIRST_NAME) from Worker;\n",
    "\n",
    "#### Q-2. Write an SQL query that fetches the unique values of DEPARTMENT from Worker table and prints its length.\n",
    "\n",
    "Ans. \n",
    "\n",
    "Select distinct length(DEPARTMENT) from Worker;\n",
    "\n",
    "\n",
    "#### Q-3. Write an SQL query to fetch nth max salaries from a table.\n",
    "\n",
    "Ans.\n",
    "\n",
    "SELECT DISTINCT Salary from worker w1 WHERE n >= (SELECT count(distinct Salary)\n",
    "from worker w2 WHERE w1.Salary <= w2.Salary) order by w1.Salary DESC;\n"
   ]
  }
 ],
 "metadata": {
  "kernelspec": {
   "display_name": "Python 3 (ipykernel)",
   "language": "python",
   "name": "python3"
  },
  "language_info": {
   "codemirror_mode": {
    "name": "ipython",
    "version": 3
   },
   "file_extension": ".py",
   "mimetype": "text/x-python",
   "name": "python",
   "nbconvert_exporter": "python",
   "pygments_lexer": "ipython3",
   "version": "3.8.11"
  }
 },
 "nbformat": 4,
 "nbformat_minor": 5
}
