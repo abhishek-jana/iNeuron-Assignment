{
 "cells": [
  {
   "cell_type": "markdown",
   "id": "a3530ade",
   "metadata": {},
   "source": [
    "#### Q-13. Write an SQL query to show only odd rows from a table.\n",
    "\n",
    "Ans. \n",
    "\n",
    "SELECT * FROM SomeTable WHERE MOD(COLUMN_ID, 2) = 1;\n",
    "\n",
    "#### Q-14. Write an SQL query to clone a new table from another table.\n",
    "\n",
    "Ans.\n"
   ]
  },
  {
   "cell_type": "markdown",
   "id": "9c8bcfee",
   "metadata": {},
   "source": [
    "CREATE TABLE DupWorker LIKE Worker;\n",
    "\n",
    "INSERT INTO DupWorker SELECT * FROM Worker;"
   ]
  }
 ],
 "metadata": {
  "kernelspec": {
   "display_name": "Python 3 (ipykernel)",
   "language": "python",
   "name": "python3"
  },
  "language_info": {
   "codemirror_mode": {
    "name": "ipython",
    "version": 3
   },
   "file_extension": ".py",
   "mimetype": "text/x-python",
   "name": "python",
   "nbconvert_exporter": "python",
   "pygments_lexer": "ipython3",
   "version": "3.8.11"
  }
 },
 "nbformat": 4,
 "nbformat_minor": 5
}
