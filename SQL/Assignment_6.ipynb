{
 "cells": [
  {
   "cell_type": "markdown",
   "id": "133848a1",
   "metadata": {},
   "source": [
    "#### Q-1. Write an SQL query to print details of the Workers who have joined in Feb’2014.\n",
    "\n",
    "Ans.\n",
    "\n",
    "Select * from Worker WHERE YEAR(JOINING_DATE) = 2014 and MONTH(JOINING_DATE) = 2;\n",
    "\n",
    "#### Q-2. Write an SQL query to fetch duplicate records having matching data in some fields of a table.\n",
    "\n",
    "Ans.\n",
    "\n",
    "SELECT COLUMN_1, COLUMN_2, COUNT(*)\n",
    "\n",
    "From Worker\n",
    "\n",
    "GROUP BY COLUMN_1, COLUMN_2\n",
    "\n",
    "HAVING COUNT(*) > 1;\n",
    "\n",
    "#### Q-3. How to remove duplicate rows from Employees table."
   ]
  },
  {
   "cell_type": "markdown",
   "id": "0f0edfa3",
   "metadata": {},
   "source": [
    "Ans.\n",
    "\n",
    "create table Employees\n",
    "\n",
    "(\n",
    "\n",
    "      emp_id int,\n",
    "      \n",
    "      first_name varchar(20),\n",
    "      \n",
    "      email varchar(100)\n",
    "\n",
    ");\n",
    "\n",
    "INSERT INTO Employees VALUES(1,'Abhi','xyz@gmail.com');\n",
    "\n",
    "INSERT INTO Employees VALUES(2,'Abhi','xyz@gmail.com');\n",
    "\n",
    "INSERT INTO Employees VALUES(3,'Sam','xyzab@gmail.com');\n",
    "\n",
    "INSERT INTO Employees VALUES(4,'Sid','abc@gmail.com');\n",
    "\n",
    "INSERT INTO Employees VALUES(6,'Sid','abc@gmail.com');\n",
    "\n",
    "INSERT INTO Employees VALUES(7,'Sam','xyzab@gmail.com');\n",
    "\n",
    "\n",
    "DELETE e1 FROM Employees e1, Employees e2 WHERE e1.id > e2.id AND e1.name = e2.first_name AND e1.email = e2.email;\n",
    "\n",
    "select * FROM Employees;"
   ]
  }
 ],
 "metadata": {
  "kernelspec": {
   "display_name": "Python 3 (ipykernel)",
   "language": "python",
   "name": "python3"
  },
  "language_info": {
   "codemirror_mode": {
    "name": "ipython",
    "version": 3
   },
   "file_extension": ".py",
   "mimetype": "text/x-python",
   "name": "python",
   "nbconvert_exporter": "python",
   "pygments_lexer": "ipython3",
   "version": "3.8.11"
  }
 },
 "nbformat": 4,
 "nbformat_minor": 5
}
