{
 "cells": [
  {
   "cell_type": "markdown",
   "id": "c2cd3f21",
   "metadata": {},
   "source": [
    "#### 1. Create a function based on the input and output. Look at the examples, there is a pattern.\n",
    "\n",
    "Examples:\n",
    "\n",
    "secret(\"p.one.two.three\") ➞ \"<p class='one two three'></p>\"\n",
    "\n",
    "secret(\"p.one\") ➞ \"<p class='one'></p>\"\n",
    "\n",
    "secret(\"p.four.five\") ➞ \"<p class='four five'></p>\"\n"
   ]
  },
  {
   "cell_type": "code",
   "execution_count": 10,
   "id": "1c255058",
   "metadata": {},
   "outputs": [],
   "source": [
    "def secret(string):\n",
    "    \"\"\"\n",
    "    function based on the input and output.\n",
    "    \"\"\"\n",
    "    try:\n",
    "        string_list = string.split('.')\n",
    "        return f\"<{string_list[0]} class='{' '.join(string_list[1:])}'></{string_list[0]}>\"\n",
    "        \n",
    "    except Exception as e:\n",
    "        print(\"error occurred\",e)"
   ]
  },
  {
   "cell_type": "code",
   "execution_count": 11,
   "id": "aba4c134",
   "metadata": {},
   "outputs": [
    {
     "data": {
      "text/plain": [
       "\"<p class='one two three'></p>\""
      ]
     },
     "execution_count": 11,
     "metadata": {},
     "output_type": "execute_result"
    }
   ],
   "source": [
    "secret(\"p.one.two.three\")"
   ]
  },
  {
   "cell_type": "code",
   "execution_count": 12,
   "id": "8afd2d6f",
   "metadata": {},
   "outputs": [
    {
     "data": {
      "text/plain": [
       "\"<p class='one'></p>\""
      ]
     },
     "execution_count": 12,
     "metadata": {},
     "output_type": "execute_result"
    }
   ],
   "source": [
    "secret(\"p.one\")"
   ]
  },
  {
   "cell_type": "code",
   "execution_count": 13,
   "id": "b24c20b7",
   "metadata": {},
   "outputs": [
    {
     "data": {
      "text/plain": [
       "\"<p class='four five'></p>\""
      ]
     },
     "execution_count": 13,
     "metadata": {},
     "output_type": "execute_result"
    }
   ],
   "source": [
    "secret(\"p.four.five\")"
   ]
  },
  {
   "cell_type": "markdown",
   "id": "7bbb80a5",
   "metadata": {},
   "source": [
    "#### 2. Create a function which counts how many lone 1s appear in a given number. Lone means the number doesn't appear twice or more in a row.\n",
    "Examples:\n",
    "\n",
    "count_lone_ones(101) ➞ 2\n",
    "\n",
    "count_lone_ones(1191) ➞ 1\n",
    "\n",
    "count_lone_ones(1111) ➞ 0\n",
    "\n",
    "count_lone_ones(462) ➞ 0"
   ]
  },
  {
   "cell_type": "code",
   "execution_count": 26,
   "id": "95f9be65",
   "metadata": {},
   "outputs": [],
   "source": [
    "import re\n",
    "def count_lone_ones(num):\n",
    "    \"\"\"\n",
    "    function which counts how many lone 1s appear in a given number. Lone means the number doesn't appear twice or more in a row.\n",
    "    \"\"\"\n",
    "    try:\n",
    "        pattern = r'(?<!1)1(?!1)'      \n",
    "        return len(re.findall(pattern,str(num)))\n",
    "    \n",
    "    except Exception as e:\n",
    "        print(\"error occurred:\",e)"
   ]
  },
  {
   "cell_type": "code",
   "execution_count": 27,
   "id": "9e47869b",
   "metadata": {},
   "outputs": [
    {
     "data": {
      "text/plain": [
       "2"
      ]
     },
     "execution_count": 27,
     "metadata": {},
     "output_type": "execute_result"
    }
   ],
   "source": [
    "count_lone_ones(101)"
   ]
  },
  {
   "cell_type": "code",
   "execution_count": 28,
   "id": "6e39d503",
   "metadata": {},
   "outputs": [
    {
     "data": {
      "text/plain": [
       "1"
      ]
     },
     "execution_count": 28,
     "metadata": {},
     "output_type": "execute_result"
    }
   ],
   "source": [
    "count_lone_ones(1191)"
   ]
  },
  {
   "cell_type": "code",
   "execution_count": 29,
   "id": "7bb8d1dd",
   "metadata": {},
   "outputs": [
    {
     "data": {
      "text/plain": [
       "0"
      ]
     },
     "execution_count": 29,
     "metadata": {},
     "output_type": "execute_result"
    }
   ],
   "source": [
    "count_lone_ones(1111)"
   ]
  },
  {
   "cell_type": "code",
   "execution_count": 30,
   "id": "6b3f7079",
   "metadata": {},
   "outputs": [
    {
     "data": {
      "text/plain": [
       "0"
      ]
     },
     "execution_count": 30,
     "metadata": {},
     "output_type": "execute_result"
    }
   ],
   "source": [
    "count_lone_ones(462)"
   ]
  },
  {
   "cell_type": "markdown",
   "id": "a8c74250",
   "metadata": {},
   "source": [
    "#### 3. Write a method that accepts two integer parameters rows and cols. The output is a 2d array of numbers displayed in column-major order, meaning the numbers shown increase sequentially down each column and wrap to the top of the next column to the right once the bottom of the current column is reached.\n",
    "Examples:\n",
    "\n",
    "printGrid(3, 6) ➞ [\n",
    "\n",
    "  [1, 4, 7, 10, 13, 16],\n",
    "  \n",
    "  [2, 5, 8, 11, 14, 17],\n",
    "  \n",
    "  [3, 6, 9, 12, 15, 18]\n",
    "]\n",
    "\n",
    "printGrid(5, 3) ➞ [\n",
    "\n",
    "  [1, 6, 11],\n",
    "  \n",
    "  [2, 7, 12],\n",
    "  \n",
    "  [3, 8, 13],\n",
    "  \n",
    "  [4, 9, 14],\n",
    "  \n",
    "  [5, 10, 15]\n",
    "]\n",
    "\n",
    "printGrid(4, 1) ➞ [\n",
    "\n",
    "  [1],\n",
    "  \n",
    "  [2],\n",
    "  \n",
    "  [3],\n",
    "  \n",
    "  [4]\n",
    "]"
   ]
  },
  {
   "cell_type": "code",
   "execution_count": 34,
   "id": "b5f7b753",
   "metadata": {},
   "outputs": [],
   "source": [
    "import numpy as np\n",
    "def printGrid(rows,cols):\n",
    "    \"\"\"\n",
    "    method that accepts two integer parameters rows and cols.\n",
    "    The output is a 2d array of numbers displayed in column-major order,\n",
    "    meaning the numbers shown increase sequentially down each column\n",
    "    and wrap to the top of the next column to the right once the bottom of the current column is reached.\n",
    "    \"\"\"\n",
    "    try:\n",
    "        res = np.arange(1,rows*cols + 1).reshape((cols,rows)).T\n",
    "        return res.tolist()\n",
    "        \n",
    "    except Exception as e:\n",
    "        print(\"error occurred:\",e)"
   ]
  },
  {
   "cell_type": "code",
   "execution_count": 35,
   "id": "fbaedfdd",
   "metadata": {},
   "outputs": [
    {
     "data": {
      "text/plain": [
       "[[1, 4, 7, 10, 13, 16], [2, 5, 8, 11, 14, 17], [3, 6, 9, 12, 15, 18]]"
      ]
     },
     "execution_count": 35,
     "metadata": {},
     "output_type": "execute_result"
    }
   ],
   "source": [
    "printGrid(3, 6) "
   ]
  },
  {
   "cell_type": "code",
   "execution_count": 36,
   "id": "a32f929d",
   "metadata": {},
   "outputs": [
    {
     "data": {
      "text/plain": [
       "[[1, 6, 11], [2, 7, 12], [3, 8, 13], [4, 9, 14], [5, 10, 15]]"
      ]
     },
     "execution_count": 36,
     "metadata": {},
     "output_type": "execute_result"
    }
   ],
   "source": [
    "printGrid(5, 3)"
   ]
  },
  {
   "cell_type": "code",
   "execution_count": 37,
   "id": "cc767fdc",
   "metadata": {},
   "outputs": [
    {
     "data": {
      "text/plain": [
       "[[1], [2], [3], [4]]"
      ]
     },
     "execution_count": 37,
     "metadata": {},
     "output_type": "execute_result"
    }
   ],
   "source": [
    "printGrid(4, 1)"
   ]
  },
  {
   "cell_type": "markdown",
   "id": "4430b2d8",
   "metadata": {},
   "source": [
    "#### 4. Given a list of integers, return the smallest positive integer not present in the list.\n",
    "Here is a representative example.\n",
    "\n",
    "Consider the list: [-2, 6, 4, 5, 7, -1, 7, 1, 3, 6, 6, -2, 9, 10, 2, 2]\n",
    "\n",
    "After reordering, the list becomes: [-2, -2, -1, 1, 2, 2, 3, 4, 5, 6, 6, 6, 7, 7, 9, 10]\n",
    "\n",
    "from which we see that the smallest missing positive integer is 8.\n",
    "\n",
    "Examples:\n",
    "min_miss_pos([-2, 6, 4, 5, 7, -1, 1, 3, 6, -2, 9, 10, 2, 2]) ➞ 8\n",
    "\n",
    "After sorting, list becomes [-2, -2, -1, 1, 2, 2, 3, 4, 5, 6, 6, 7, 9, 10]\n",
    "\n",
    "So the smallest missing positive integer is 8\n",
    "\n",
    "min_miss_pos([5, 9, -2, 0, 1, 3, 9, 3, 8, 9]) ➞ 2\n",
    "\n",
    "After sorting, list becomes [-2, 0, 1, 3, 3, 5, 8, 9, 9, 9]\n",
    "\n",
    "So the smallest missing positive integer is 2\n",
    "\n",
    "min_miss_pos([0, 4, 4, -1, 9, 4, 5, 2, 10, 7, 6, 3, 10, 9]) ➞ 1\n",
    "\n",
    "After sorting, list becomes [-1, 0, 2, 3, 4, 4, 4, 5, 6, 7, 9, 9, 10, 10]\n",
    "\n",
    "So the smallest missing positive integer is 1"
   ]
  },
  {
   "cell_type": "code",
   "execution_count": 44,
   "id": "95f095e2",
   "metadata": {},
   "outputs": [],
   "source": [
    "def min_miss_pos(num_list):\n",
    "    \"\"\"\n",
    "    Given a list of integers, return the smallest positive integer not present in the list.\n",
    "    \"\"\"\n",
    "    try:\n",
    "        res = 0\n",
    "        for i in range(1,max(num_list)):\n",
    "            if i not in num_list:\n",
    "                res = i\n",
    "                break\n",
    "        return res\n",
    "    \n",
    "    except Exception as e:\n",
    "        print(\"error occurred:\",e)"
   ]
  },
  {
   "cell_type": "code",
   "execution_count": 45,
   "id": "bfa38be6",
   "metadata": {},
   "outputs": [
    {
     "data": {
      "text/plain": [
       "8"
      ]
     },
     "execution_count": 45,
     "metadata": {},
     "output_type": "execute_result"
    }
   ],
   "source": [
    "min_miss_pos([-2, 6, 4, 5, 7, -1, 1, 3, 6, -2, 9, 10, 2, 2])"
   ]
  },
  {
   "cell_type": "code",
   "execution_count": 46,
   "id": "56803f60",
   "metadata": {},
   "outputs": [
    {
     "data": {
      "text/plain": [
       "2"
      ]
     },
     "execution_count": 46,
     "metadata": {},
     "output_type": "execute_result"
    }
   ],
   "source": [
    "min_miss_pos([5, 9, -2, 0, 1, 3, 9, 3, 8, 9])"
   ]
  },
  {
   "cell_type": "code",
   "execution_count": 47,
   "id": "3c4af4ab",
   "metadata": {},
   "outputs": [
    {
     "data": {
      "text/plain": [
       "1"
      ]
     },
     "execution_count": 47,
     "metadata": {},
     "output_type": "execute_result"
    }
   ],
   "source": [
    "min_miss_pos([0, 4, 4, -1, 9, 4, 5, 2, 10, 7, 6, 3, 10, 9])"
   ]
  },
  {
   "cell_type": "markdown",
   "id": "218441b1",
   "metadata": {},
   "source": [
    "#### 5. Google is launching a network of autonomous pizza delivery drones and wants you to create a flexible rewards system (Pizza Points™) that can be tweaked in the future. The rules are simple: if a customer has made at least N orders of at least Y price, they get a FREE pizza!\n",
    "\n",
    "Create a function that takes a dictionary of customers, a minimum number of orders and a minimum order price. Return a list of customers that are eligible for a free pizza.\n",
    "\n",
    "Examples\n",
    "\n",
    "customers = { \"Batman\": [22, 30, 11, 17, 15, 52, 27, 12], \"Spider-Man\": [5, 17, 30, 33, 40, 22, 26, 10, 11, 45] }\n",
    "\n",
    "pizza_points(customers, 5, 20) ➞ [\"Spider-Man\"]\n",
    "\n",
    "pizza_points(customers, 3, 10) ➞ [\"Batman\", \"Spider-Man\"]\n",
    "\n",
    "pizza_points(customers, 5, 100) ➞ []\n",
    "\n"
   ]
  },
  {
   "cell_type": "code",
   "execution_count": 65,
   "id": "1102ff46",
   "metadata": {},
   "outputs": [],
   "source": [
    "def pizza_points(customers,N,Y):\n",
    "    \"\"\"\n",
    "    if a customer has made at least N orders of at least Y price, they get a FREE pizza!\n",
    "    \"\"\"\n",
    "    try:\n",
    "        res = []\n",
    "        \n",
    "        for customer, pizza in customers.items():\n",
    "            pizza_above_Y = sum(map(lambda x : x >= Y , pizza))\n",
    "            if pizza_above_Y >= N:\n",
    "                res.append(customer)            \n",
    "        return res\n",
    "    \n",
    "    except Exception as e:\n",
    "        print(\"error occurred:\",e)"
   ]
  },
  {
   "cell_type": "code",
   "execution_count": 66,
   "id": "542e2e06",
   "metadata": {},
   "outputs": [
    {
     "data": {
      "text/plain": [
       "['Spider-Man']"
      ]
     },
     "execution_count": 66,
     "metadata": {},
     "output_type": "execute_result"
    }
   ],
   "source": [
    "customers = { \"Batman\": [22, 30, 11, 17, 15, 52, 27, 12], \"Spider-Man\": [5, 17, 30, 33, 40, 22, 26, 10, 11, 45] }\n",
    "\n",
    "pizza_points(customers, 5, 20)"
   ]
  },
  {
   "cell_type": "code",
   "execution_count": 67,
   "id": "38e9849a",
   "metadata": {},
   "outputs": [
    {
     "data": {
      "text/plain": [
       "['Batman', 'Spider-Man']"
      ]
     },
     "execution_count": 67,
     "metadata": {},
     "output_type": "execute_result"
    }
   ],
   "source": [
    "pizza_points(customers, 3, 10) "
   ]
  },
  {
   "cell_type": "code",
   "execution_count": 68,
   "id": "33248363",
   "metadata": {},
   "outputs": [
    {
     "data": {
      "text/plain": [
       "[]"
      ]
     },
     "execution_count": 68,
     "metadata": {},
     "output_type": "execute_result"
    }
   ],
   "source": [
    "pizza_points(customers, 5, 100)"
   ]
  }
 ],
 "metadata": {
  "kernelspec": {
   "display_name": "Python 3",
   "language": "python",
   "name": "python3"
  },
  "language_info": {
   "codemirror_mode": {
    "name": "ipython",
    "version": 3
   },
   "file_extension": ".py",
   "mimetype": "text/x-python",
   "name": "python",
   "nbconvert_exporter": "python",
   "pygments_lexer": "ipython3",
   "version": "3.7.10"
  }
 },
 "nbformat": 4,
 "nbformat_minor": 5
}
