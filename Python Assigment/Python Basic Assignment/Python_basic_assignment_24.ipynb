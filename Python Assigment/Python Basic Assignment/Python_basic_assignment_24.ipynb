{
 "cells": [
  {
   "cell_type": "markdown",
   "id": "a0171004",
   "metadata": {},
   "source": [
    "### 1. What is the relationship between def statements and lambda expressions ?\n",
    "\n",
    "Ans: Lambda expressions are used for simple one liner expressions and when we expect only one output. For example:"
   ]
  },
  {
   "cell_type": "code",
   "execution_count": 7,
   "id": "c778f621",
   "metadata": {},
   "outputs": [
    {
     "name": "stdout",
     "output_type": "stream",
     "text": [
      "16\n",
      "16\n"
     ]
    }
   ],
   "source": [
    "# consider a function square()\n",
    "def square(x):\n",
    "    return x*x\n",
    "\n",
    "sq = square(4)\n",
    "# Can be converted to lambda expression as:\n",
    "\n",
    "lsq = lambda x: x*x\n",
    "\n",
    "print (sq)\n",
    "print (lsq(4))"
   ]
  },
  {
   "cell_type": "markdown",
   "id": "ccf5da79",
   "metadata": {},
   "source": [
    "So python treats both of them as functions. Only difference is def is a statement whereas lambda is an expression so no statement is allowed for lambda expression. Lambda are anonymus functions whereas regular function are defined."
   ]
  },
  {
   "cell_type": "markdown",
   "id": "23567b9d",
   "metadata": {},
   "source": [
    "### 2. What is the benefit of lambda?"
   ]
  },
  {
   "cell_type": "markdown",
   "id": "e0705e40",
   "metadata": {},
   "source": [
    "Ans: Since lambda is an anonymous funcion, we can write simple lambda functions instead of defining many tiny functions which we can forget later."
   ]
  },
  {
   "cell_type": "markdown",
   "id": "9cf5e0f7",
   "metadata": {},
   "source": [
    "### 3. Compare and contrast map, filter, and reduce."
   ]
  },
  {
   "cell_type": "markdown",
   "id": "61a9b8e1",
   "metadata": {},
   "source": [
    "Ans: Map, filter and reduce are functional programming in python. All three take a function and apply iterable to the funcion.\n",
    "\n",
    "They take arguments in a form of (function,iterable).\n",
    "\n",
    "Map returns all values, filter returns true values depending on the function conditions, and reduce returns a single value by iterating through the sequence or iterable. Reduce is part of functools module. Example:\n"
   ]
  },
  {
   "cell_type": "code",
   "execution_count": 18,
   "id": "2f8dec0a",
   "metadata": {},
   "outputs": [
    {
     "name": "stdout",
     "output_type": "stream",
     "text": [
      "[1, 4, 9, 16, 25]\n"
     ]
    }
   ],
   "source": [
    "iterable = [1,2,3,4,5]\n",
    "\n",
    "# Map\n",
    "\n",
    "map_ex = map(lambda x: x**2, iterable)\n",
    "\n",
    "print(list(map_ex))"
   ]
  },
  {
   "cell_type": "code",
   "execution_count": 24,
   "id": "57a48009",
   "metadata": {},
   "outputs": [
    {
     "name": "stdout",
     "output_type": "stream",
     "text": [
      "[4, 5]\n"
     ]
    }
   ],
   "source": [
    "# filter\n",
    "\n",
    "filter_ex = filter(lambda x: x>3, iterable)\n",
    "\n",
    "print (list(filter_ex))"
   ]
  },
  {
   "cell_type": "code",
   "execution_count": 28,
   "id": "c3e35f3a",
   "metadata": {},
   "outputs": [
    {
     "name": "stdout",
     "output_type": "stream",
     "text": [
      "15\n"
     ]
    }
   ],
   "source": [
    "# reduce\n",
    "\n",
    "from functools import reduce\n",
    "\n",
    "reduce_ex = reduce(lambda x,y : x+y, iterable)\n",
    "\n",
    "print (reduce_ex)"
   ]
  },
  {
   "cell_type": "markdown",
   "id": "6c4a7115",
   "metadata": {},
   "source": [
    "### 4. What are function annotations, and how are they used?"
   ]
  },
  {
   "cell_type": "markdown",
   "id": "55897072",
   "metadata": {},
   "source": [
    "Ans: Function annotations are a form of syntax added to function arguments and return values. It has no semantic meaning to the the function and is optional. The annotations are stored in the form of a dictionary in the function's \\__annotations__ attribute. Example  "
   ]
  },
  {
   "cell_type": "code",
   "execution_count": 34,
   "id": "7572f26a",
   "metadata": {},
   "outputs": [],
   "source": [
    "def add(a : int ,b: float) -> float: return a+b"
   ]
  },
  {
   "cell_type": "code",
   "execution_count": 38,
   "id": "10d37cf2",
   "metadata": {},
   "outputs": [
    {
     "name": "stdout",
     "output_type": "stream",
     "text": [
      "4.1\n"
     ]
    },
    {
     "data": {
      "text/plain": [
       "{'a': int, 'b': float, 'return': float}"
      ]
     },
     "execution_count": 38,
     "metadata": {},
     "output_type": "execute_result"
    }
   ],
   "source": [
    "print (add(2,2.1))\n",
    "add.__annotations__"
   ]
  },
  {
   "cell_type": "markdown",
   "id": "43f6be44",
   "metadata": {},
   "source": [
    "### 5. What are recursive functions, and how are they used?"
   ]
  },
  {
   "cell_type": "markdown",
   "id": "668b8d82",
   "metadata": {},
   "source": [
    "Ans: Recursive functions are a form of function that call itself directly or indirectly in order to form a loop. They can be used for general iteration or to traverse through various data structures."
   ]
  },
  {
   "cell_type": "markdown",
   "id": "acf61635",
   "metadata": {},
   "source": [
    "### 6. What are some general design guidelines for coding functions?"
   ]
  },
  {
   "cell_type": "markdown",
   "id": "e40a37b6",
   "metadata": {},
   "source": [
    "Ans: Function name and the local/global variables inside the function should be meaningful and understandable. A function should be able to take mutable arguments and return desired output."
   ]
  },
  {
   "cell_type": "markdown",
   "id": "ac0c2566",
   "metadata": {},
   "source": [
    "### 7. Name three or more ways that functions can communicate results to a caller."
   ]
  },
  {
   "cell_type": "markdown",
   "id": "8a006941",
   "metadata": {},
   "source": [
    "Ans: Functions can communicate results through print statement, return statement and saving results to files.\n",
    "\n",
    "If a function has a print statement inside but no return statement, it will return none but print output insde the print statement.\n",
    "\n",
    "If a function has a return statement, it will return the output of the return statement.\n",
    "\n",
    "We can also save any output inside the function in a file."
   ]
  }
 ],
 "metadata": {
  "kernelspec": {
   "display_name": "Python 3",
   "language": "python",
   "name": "python3"
  },
  "language_info": {
   "codemirror_mode": {
    "name": "ipython",
    "version": 3
   },
   "file_extension": ".py",
   "mimetype": "text/x-python",
   "name": "python",
   "nbconvert_exporter": "python",
   "pygments_lexer": "ipython3",
   "version": "3.7.10"
  }
 },
 "nbformat": 4,
 "nbformat_minor": 5
}
