{
 "cells": [
  {
   "cell_type": "markdown",
   "id": "14dfaf65",
   "metadata": {},
   "source": [
    "### 1. What is the result of the code, and explain?\n",
    "\n",
    "\n",
    "X = 'iNeuron'\n",
    "\n",
    "def func():\n",
    "\n",
    "print(X)\n",
    "\n",
    "func()\n",
    "\n",
    "Ans: The result of the code is iNeuron. here 'X' variable is assigned a string 'iNeuron'. func() function is taking the global variable X and printing it's content."
   ]
  },
  {
   "cell_type": "code",
   "execution_count": 1,
   "id": "61a02eef",
   "metadata": {},
   "outputs": [
    {
     "name": "stdout",
     "output_type": "stream",
     "text": [
      "iNeuron\n"
     ]
    }
   ],
   "source": [
    "X = 'iNeuron'\n",
    "\n",
    "def func():\n",
    "    print(X)\n",
    "\n",
    "func()"
   ]
  },
  {
   "cell_type": "markdown",
   "id": "b79e8b5d",
   "metadata": {},
   "source": [
    "### 2. What is the result of the code, and explain?\n",
    "\n",
    "\n",
    "X = 'iNeuron'\n",
    " \n",
    "def func():\n",
    "\n",
    "X = 'NI!'\n",
    "\n",
    "\n",
    "func()\n",
    "\n",
    "print(X)\n"
   ]
  },
  {
   "cell_type": "code",
   "execution_count": 2,
   "id": "c4bb1515",
   "metadata": {},
   "outputs": [
    {
     "name": "stdout",
     "output_type": "stream",
     "text": [
      "iNeuron\n"
     ]
    }
   ],
   "source": [
    "X = 'iNeuron'  # global variable iNeuron is defined \n",
    "\n",
    "def func():\n",
    "    X = 'NI!' # X is updated with local value 'NI!'\n",
    "    \n",
    "print(X)  # global varibale is printed as the change happened inside the function \n",
    "# so the global variable is unaffected"
   ]
  },
  {
   "cell_type": "code",
   "execution_count": 3,
   "id": "875e7868",
   "metadata": {},
   "outputs": [],
   "source": [
    "func() # The output is None as nothing is returned"
   ]
  },
  {
   "cell_type": "markdown",
   "id": "ec6250cc",
   "metadata": {},
   "source": [
    "### 3. What does this code print, and why?\n",
    "\n",
    "\n",
    "X = 'iNeuron'\n",
    "\n",
    "def func():\n",
    "\n",
    "X = 'NI'\n",
    "\n",
    "print(X)\n",
    "\n",
    "\n",
    "func()\n",
    "\n",
    "print(X)"
   ]
  },
  {
   "cell_type": "code",
   "execution_count": 4,
   "id": "2eae8008",
   "metadata": {},
   "outputs": [
    {
     "name": "stdout",
     "output_type": "stream",
     "text": [
      "NI\n",
      "iNeuron\n"
     ]
    }
   ],
   "source": [
    "X = 'iNeuron' # global variable iNeuron is defined \n",
    "\n",
    "def func():\n",
    "    X = 'NI'  # X is updated with local value 'NI'\n",
    "    print(X)  # local value is printed when the function is called\n",
    "\n",
    "func() # function func() is called, it will print the local variable NI\n",
    "\n",
    "print(X) # global varibale is printed as the change happened inside the function\n",
    "#  so the global variable is unaffected"
   ]
  },
  {
   "cell_type": "markdown",
   "id": "05a00174",
   "metadata": {},
   "source": [
    "### 4. What output does this code produce? Why?\n",
    "\n",
    "\n",
    "X = 'iNeuron'\n",
    "\n",
    "def func():\n",
    "\n",
    "global X\n",
    "\n",
    "X = 'NI'\n",
    "\n",
    "func()\n",
    "\n",
    "print(X)"
   ]
  },
  {
   "cell_type": "code",
   "execution_count": 5,
   "id": "fdbff6f8",
   "metadata": {},
   "outputs": [
    {
     "name": "stdout",
     "output_type": "stream",
     "text": [
      "iNeuron\n"
     ]
    }
   ],
   "source": [
    "X = 'iNeuron' # global variable iNeuron is defined \n",
    "\n",
    "def func():\n",
    "    global X # X is defined as global variable\n",
    "    X = 'NI' # X is updated with local value 'NI'\n",
    "\n",
    "\n",
    "\n",
    "print(X) # global varibale is printed as the change happened inside the function\n",
    "#  so the global variable is unaffected"
   ]
  },
  {
   "cell_type": "code",
   "execution_count": 6,
   "id": "b3942db6",
   "metadata": {},
   "outputs": [],
   "source": [
    "func() # The output is None as nothing is returned"
   ]
  },
  {
   "cell_type": "markdown",
   "id": "9435739f",
   "metadata": {},
   "source": [
    "### \n",
    "5. What about this code—what’s the output, and why?\n",
    "\n",
    "X = 'iNeuron'\n",
    "\n",
    "def func():\n",
    "\n",
    "X = 'NI'\n",
    "\n",
    "def nested():\n",
    "\n",
    "print(X)\n",
    "\n",
    "nested()\n",
    "\n",
    "\n",
    "func()\n",
    "\n",
    "X\n"
   ]
  },
  {
   "cell_type": "code",
   "execution_count": 7,
   "id": "5443e2be",
   "metadata": {},
   "outputs": [],
   "source": [
    "X = 'iNeuron' # global variable iNeuron is defined \n",
    "\n",
    "def func():\n",
    "    X = 'NI' # X is updated with local value 'NI'\n",
    "    def nested(): # a function nested is defiened inside the function\n",
    "        print(X)  # prints the LOCAL variable X (iNeuron) as nested()\n",
    "                 # has access to the local variable X (NI)\n",
    "    nested() # prints the local variable NI"
   ]
  },
  {
   "cell_type": "code",
   "execution_count": 8,
   "id": "20696286",
   "metadata": {},
   "outputs": [
    {
     "name": "stdout",
     "output_type": "stream",
     "text": [
      "NI\n"
     ]
    }
   ],
   "source": [
    "func() # The output is NI"
   ]
  },
  {
   "cell_type": "code",
   "execution_count": 9,
   "id": "5798d70d",
   "metadata": {},
   "outputs": [
    {
     "data": {
      "text/plain": [
       "'iNeuron'"
      ]
     },
     "execution_count": 9,
     "metadata": {},
     "output_type": "execute_result"
    }
   ],
   "source": [
    "X # prints the global variable iNeuron"
   ]
  },
  {
   "cell_type": "markdown",
   "id": "4013c1f5",
   "metadata": {},
   "source": [
    "### 6. How about this code: what is its output in Python 3, and explain?\n",
    "\n",
    "\n",
    "def func():\n",
    "\n",
    "X = 'NI'\n",
    "\n",
    "def nested():\n",
    "\n",
    "nonlocal X\n",
    "\n",
    "X = 'Spam'\n",
    "\n",
    "nested()\n",
    "\n",
    "print(X)\n",
    "\n",
    "\n",
    "func()"
   ]
  },
  {
   "cell_type": "markdown",
   "id": "f14a2bf7",
   "metadata": {},
   "source": [
    "Ans: This is a nested function example where nested() is the inner/nested function of func(). 'nonlocal' variable inside nested function means their local scope is not defined. So the variable can be neither local nor global. \n",
    "\n",
    "So after defining nonlocal X we are assigning variable X a new value 'Spam' which replaces 'NI' variable. This happens when nested function is called in line 7. So the ouput is 'Spam'. If we don't call the nested() function or define the 'nonlocal X' inside nested(), the variable will not be updated and will print 'NI' as output."
   ]
  },
  {
   "cell_type": "code",
   "execution_count": 10,
   "id": "83757ba8",
   "metadata": {},
   "outputs": [],
   "source": [
    "def func():\n",
    "    X = 'NI'\n",
    "\n",
    "    def nested():\n",
    "        nonlocal X\n",
    "        X = 'Spam'\n",
    "    nested()\n",
    "    print(X)\n"
   ]
  },
  {
   "cell_type": "code",
   "execution_count": 11,
   "id": "98850097",
   "metadata": {},
   "outputs": [
    {
     "name": "stdout",
     "output_type": "stream",
     "text": [
      "Spam\n"
     ]
    }
   ],
   "source": [
    "func()"
   ]
  }
 ],
 "metadata": {
  "kernelspec": {
   "display_name": "Python 3",
   "language": "python",
   "name": "python3"
  },
  "language_info": {
   "codemirror_mode": {
    "name": "ipython",
    "version": 3
   },
   "file_extension": ".py",
   "mimetype": "text/x-python",
   "name": "python",
   "nbconvert_exporter": "python",
   "pygments_lexer": "ipython3",
   "version": "3.7.10"
  }
 },
 "nbformat": 4,
 "nbformat_minor": 5
}
