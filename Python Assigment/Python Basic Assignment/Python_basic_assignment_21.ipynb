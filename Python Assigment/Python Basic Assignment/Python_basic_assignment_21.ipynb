{
 "cells": [
  {
   "cell_type": "markdown",
   "id": "95aefc9c",
   "metadata": {},
   "source": [
    "### 1. Add the current date to the text file today.txt as a string."
   ]
  },
  {
   "cell_type": "code",
   "execution_count": 7,
   "id": "e332283c",
   "metadata": {},
   "outputs": [],
   "source": [
    "from datetime import date\n",
    "\n",
    "current_date = date.today()\n",
    "\n",
    "with open('today.txt', 'w') as fin:\n",
    "    fin.write(str(current_date))"
   ]
  },
  {
   "cell_type": "markdown",
   "id": "d2f78a5e",
   "metadata": {},
   "source": [
    "### 2. Read the text file today.txt into the string today_string"
   ]
  },
  {
   "cell_type": "code",
   "execution_count": 8,
   "id": "27178b1f",
   "metadata": {},
   "outputs": [
    {
     "name": "stdout",
     "output_type": "stream",
     "text": [
      "2021-06-30\n"
     ]
    }
   ],
   "source": [
    "with open('today.txt','r') as fout:\n",
    "    today_string = fout.read()\n",
    "print (today_string)"
   ]
  },
  {
   "cell_type": "markdown",
   "id": "6cfb0d00",
   "metadata": {},
   "source": [
    "### 3. Parse the date from today_string."
   ]
  },
  {
   "cell_type": "code",
   "execution_count": 12,
   "id": "6e84be1e",
   "metadata": {},
   "outputs": [
    {
     "data": {
      "text/plain": [
       "datetime.datetime(2021, 6, 30, 0, 0)"
      ]
     },
     "execution_count": 12,
     "metadata": {},
     "output_type": "execute_result"
    }
   ],
   "source": [
    "import datetime as dt\n",
    "dt.datetime.strptime(today_string,'%Y-%m-%d')"
   ]
  },
  {
   "cell_type": "markdown",
   "id": "3f8e0e7e",
   "metadata": {},
   "source": [
    "### 4. List the files in your current directory"
   ]
  },
  {
   "cell_type": "code",
   "execution_count": 15,
   "id": "bfae75e1",
   "metadata": {},
   "outputs": [
    {
     "data": {
      "text/plain": [
       "['.ipynb_checkpoints',\n",
       " 'Assignment_23.docx',\n",
       " 'Assignment_18.docx',\n",
       " 'Assignment_6.docx',\n",
       " 'Assignment_8.docx',\n",
       " 'Assignment_20.docx',\n",
       " 'Python_basic_Assignment_2.docx',\n",
       " 'Python_basic_assignment_12.ipynb',\n",
       " 'Assignment_10.docx',\n",
       " 'Assignment_17.docx',\n",
       " '__pycache__',\n",
       " 'Python_basic_assignment_15.ipynb',\n",
       " 'Assignment_24.docx',\n",
       " 'Assignment_19.docx',\n",
       " 'zoo.py',\n",
       " 'Assignment_4.docx',\n",
       " 'Python_basic_assignment_19.ipynb',\n",
       " 'today.txt',\n",
       " 'Assignment_21.docx',\n",
       " 'Assignment_1.docx',\n",
       " 'test.txt',\n",
       " 'Python_basic_assignment_16.ipynb',\n",
       " 'Python_basic_assignment_21.ipynb',\n",
       " 'Python_basic_assignment_8.ipynb',\n",
       " 'Python_basic_assignment_18.ipynb',\n",
       " 'Assignment_15.docx',\n",
       " 'Python_basic_assignment_13.ipynb',\n",
       " 'Python_basic_assignment_9.ipynb',\n",
       " 'Python_basic_assignment_20.ipynb',\n",
       " 'Python_basic_assignment_10.ipynb',\n",
       " 'Assignment_9.docx',\n",
       " 'Python_basic_assignment_1.ipynb',\n",
       " 'Assignment_12.docx',\n",
       " 'Assignment_25.docx',\n",
       " 'Python_basic_assignment_11.ipynb',\n",
       " 'Assignment_2.docx',\n",
       " 'Assignment_22.docx',\n",
       " 'Python_basic_assignment_6.ipynb',\n",
       " 'Python_basic_assignment_5.ipynb',\n",
       " 'Python_basic_Assignment_3.docx',\n",
       " 'books.db',\n",
       " 'Python_basic_Assignment_1.docx',\n",
       " 'Python_basic_assignment_3.ipynb',\n",
       " 'books.csv',\n",
       " 'Python_basic_assignment_14.ipynb',\n",
       " 'Python_basic_assignment_7.ipynb',\n",
       " 'Assignment_3.docx',\n",
       " 'Assignment_5.docx',\n",
       " 'Python_basic_assignment_4.ipynb',\n",
       " 'Python_basic_assignment_2.ipynb',\n",
       " 'Assignment_7.docx',\n",
       " 'test.zip',\n",
       " 'Python_basic_assignment_17.ipynb',\n",
       " 'Assignment_14.docx',\n",
       " 'Assignment_16.docx',\n",
       " 'Assignment_13.docx',\n",
       " 'Assignment_11.docx']"
      ]
     },
     "execution_count": 15,
     "metadata": {},
     "output_type": "execute_result"
    }
   ],
   "source": [
    "import os\n",
    "os.listdir('./')"
   ]
  },
  {
   "cell_type": "markdown",
   "id": "09ed8e6d",
   "metadata": {},
   "source": [
    "### 5. Create a list of all of the files in your parent directory (minimum five files should be available)."
   ]
  },
  {
   "cell_type": "code",
   "execution_count": 16,
   "id": "1323dc53",
   "metadata": {},
   "outputs": [
    {
     "data": {
      "text/plain": [
       "['Python Advance Assignment',\n",
       " 'test.txt',\n",
       " 'Python Basic Assignment',\n",
       " 'Python Advance Programming Assignment',\n",
       " 'Python Basic Programming Assignment']"
      ]
     },
     "execution_count": 16,
     "metadata": {},
     "output_type": "execute_result"
    }
   ],
   "source": [
    "os.listdir('../')"
   ]
  },
  {
   "cell_type": "markdown",
   "id": "0752effb",
   "metadata": {},
   "source": [
    "### 6. Use multiprocessing to create three separate processes. Make each one wait a random number of seconds between one and five, print the current time, and then exit."
   ]
  },
  {
   "cell_type": "code",
   "execution_count": 55,
   "id": "2418cc4f",
   "metadata": {},
   "outputs": [
    {
     "name": "stdout",
     "output_type": "stream",
     "text": [
      "Current time is = 07:58:21.649505 \n",
      "Process took 1.2256509087418266 second(s)\n",
      "Current time is = 07:58:24.633006 \n",
      "Process took 4.214881618393324 second(s)\n",
      "Current time is = 07:58:25.136311 \n",
      "Process took 4.712448099160492 second(s)\n"
     ]
    }
   ],
   "source": [
    "from multiprocessing import Process\n",
    "import datetime as dt\n",
    "import time\n",
    "import random\n",
    "\n",
    "def print_dt(sec):\n",
    "    \"\"\"\n",
    "    take seconds a argument to wait for the process.\n",
    "    Prints current time.\n",
    "    \"\"\"\n",
    "    time.sleep(sec)\n",
    "    print (f'Current time is = {dt.datetime.now().time()} \\nProcess took {sec} second(s)')\n",
    "    \n",
    "for i in range(3):\n",
    "    wait = random.uniform(1,5)\n",
    "    res = Process(target = print_dt, args = (wait,))\n",
    "    res.start()"
   ]
  },
  {
   "cell_type": "markdown",
   "id": "939bdc9d",
   "metadata": {},
   "source": [
    "### 7. Create a date object of your day of birth."
   ]
  },
  {
   "cell_type": "code",
   "execution_count": 58,
   "id": "82f377fd",
   "metadata": {},
   "outputs": [
    {
     "name": "stdout",
     "output_type": "stream",
     "text": [
      "1992-03-19 00:00:00\n"
     ]
    }
   ],
   "source": [
    "import datetime as dt\n",
    "\n",
    "dob = dt.datetime(1992, 3, 19)\n",
    "\n",
    "print(dob) "
   ]
  },
  {
   "cell_type": "markdown",
   "id": "91061b19",
   "metadata": {},
   "source": [
    "### 8. What day of the week was your day of birth?"
   ]
  },
  {
   "cell_type": "code",
   "execution_count": 59,
   "id": "16c5bdcf",
   "metadata": {},
   "outputs": [
    {
     "data": {
      "text/plain": [
       "3"
      ]
     },
     "execution_count": 59,
     "metadata": {},
     "output_type": "execute_result"
    }
   ],
   "source": [
    "dob.weekday() # Here Monday is 0 SO it was THURSDAY."
   ]
  },
  {
   "cell_type": "markdown",
   "id": "55ed2386",
   "metadata": {},
   "source": [
    "### 9. When will you be (or when were you) 10,000 days old?\n"
   ]
  },
  {
   "cell_type": "code",
   "execution_count": 61,
   "id": "dc3405fd",
   "metadata": {},
   "outputs": [
    {
     "name": "stdout",
     "output_type": "stream",
     "text": [
      "I was 10000 days old on 2019-08-05 00:00:00\n"
     ]
    }
   ],
   "source": [
    "from datetime import timedelta\n",
    "\n",
    "delta = timedelta(days=10000)\n",
    "\n",
    "future_date = dob + delta\n",
    "\n",
    "print (f'I was 10000 days old on {future_date}')\n"
   ]
  }
 ],
 "metadata": {
  "kernelspec": {
   "display_name": "Python 3",
   "language": "python",
   "name": "python3"
  },
  "language_info": {
   "codemirror_mode": {
    "name": "ipython",
    "version": 3
   },
   "file_extension": ".py",
   "mimetype": "text/x-python",
   "name": "python",
   "nbconvert_exporter": "python",
   "pygments_lexer": "ipython3",
   "version": "3.7.10"
  }
 },
 "nbformat": 4,
 "nbformat_minor": 5
}
