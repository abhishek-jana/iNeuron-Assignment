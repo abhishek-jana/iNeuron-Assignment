{
 "cells": [
  {
   "cell_type": "markdown",
   "id": "9bb926e4",
   "metadata": {},
   "source": [
    "### 1. What exactly is []?\n",
    "\n",
    "Ans: [] is an empty list\n",
    "\n",
    "### 2. In a list of values stored in a variable called spam, how would you assign the value &#39;hello&#39; as thethird value? (Assume [2, 4, 6, 8, 10] are in spam.)\n"
   ]
  },
  {
   "cell_type": "code",
   "execution_count": 3,
   "id": "30621605",
   "metadata": {},
   "outputs": [
    {
     "data": {
      "text/plain": [
       "[2, 4, 'hello', 8, 10]"
      ]
     },
     "execution_count": 3,
     "metadata": {},
     "output_type": "execute_result"
    }
   ],
   "source": [
    "spam = [2,4,6,8,10]\n",
    "spam[2] = 'hello' # here spam[2] means third position\n",
    "spam"
   ]
  },
  {
   "cell_type": "markdown",
   "id": "064fe874",
   "metadata": {},
   "source": [
    "Let's pretend the spam includes the list ['a','b','c','d'] for the next three queries.\n",
    "\n",
    "### 3. What is the value of spam[int(int(&#39;3&#39; * 2) / 11)]?"
   ]
  },
  {
   "cell_type": "code",
   "execution_count": 5,
   "id": "bb749ab1",
   "metadata": {},
   "outputs": [
    {
     "data": {
      "text/plain": [
       "'d'"
      ]
     },
     "execution_count": 5,
     "metadata": {},
     "output_type": "execute_result"
    }
   ],
   "source": [
    "spam = ['a','b','c','d']\n",
    "spam[int(int('3' * 2) / 11)] # int(int('3' * 2) / 11) = 3 so spam[3] = d"
   ]
  },
  {
   "cell_type": "markdown",
   "id": "d65b83a2",
   "metadata": {},
   "source": [
    "### 4. What is the value of spam[-1]?"
   ]
  },
  {
   "cell_type": "code",
   "execution_count": 8,
   "id": "0405197c",
   "metadata": {},
   "outputs": [
    {
     "data": {
      "text/plain": [
       "'d'"
      ]
     },
     "execution_count": 8,
     "metadata": {},
     "output_type": "execute_result"
    }
   ],
   "source": [
    "spam[-1] # -1 denotes last index of a list"
   ]
  },
  {
   "cell_type": "markdown",
   "id": "8abaa4a1",
   "metadata": {},
   "source": [
    "### 5. What is the value of spam[:2]?"
   ]
  },
  {
   "cell_type": "code",
   "execution_count": 10,
   "id": "4778d901",
   "metadata": {},
   "outputs": [
    {
     "data": {
      "text/plain": [
       "['a', 'b']"
      ]
     },
     "execution_count": 10,
     "metadata": {},
     "output_type": "execute_result"
    }
   ],
   "source": [
    "spam[:2] # [:2] means select all values till second position of the list"
   ]
  },
  {
   "cell_type": "markdown",
   "id": "a118c7d6",
   "metadata": {},
   "source": [
    "Let&#39;s pretend bacon has the list [3.14,'cat', 11, 'cat', True] for the next three questions.\n",
    "\n",
    "### 6. What is the value of bacon.index(&#39;cat&#39;)?\n",
    "\n",
    "### 7. How does bacon.append(99) change the look of the list value in bacon?\n",
    "\n",
    "### 8. How does bacon.remove(&#39;cat&#39;) change the look of the list in bacon?"
   ]
  },
  {
   "cell_type": "code",
   "execution_count": 12,
   "id": "154ddcce",
   "metadata": {},
   "outputs": [
    {
     "data": {
      "text/plain": [
       "1"
      ]
     },
     "execution_count": 12,
     "metadata": {},
     "output_type": "execute_result"
    }
   ],
   "source": [
    "bacon = [3.14,'cat', 11, 'cat', True]\n",
    "bacon.index('cat')  # index function returns the first occuring element in the list"
   ]
  },
  {
   "cell_type": "code",
   "execution_count": 13,
   "id": "d17786ce",
   "metadata": {},
   "outputs": [
    {
     "data": {
      "text/plain": [
       "[3.14, 'cat', 11, 'cat', True, 99]"
      ]
     },
     "execution_count": 13,
     "metadata": {},
     "output_type": "execute_result"
    }
   ],
   "source": [
    "bacon.append(99) # integer 99 is added at the end of the list\n",
    "bacon"
   ]
  },
  {
   "cell_type": "code",
   "execution_count": 14,
   "id": "193de6ec",
   "metadata": {},
   "outputs": [
    {
     "data": {
      "text/plain": [
       "[3.14, 11, 'cat', True, 99]"
      ]
     },
     "execution_count": 14,
     "metadata": {},
     "output_type": "execute_result"
    }
   ],
   "source": [
    "bacon.remove('cat') # removes the first occuring element in a list\n",
    "bacon"
   ]
  },
  {
   "cell_type": "markdown",
   "id": "52add582",
   "metadata": {},
   "source": [
    "### 9. What are the list concatenation and list replication operators?\n",
    "\n",
    "Ans. '+' operator is used for list concatenation and '=' operator is used for list replication. Example: "
   ]
  },
  {
   "cell_type": "code",
   "execution_count": 15,
   "id": "ed3978e3",
   "metadata": {},
   "outputs": [
    {
     "data": {
      "text/plain": [
       "['a', 2, 'b', 3, 'c', 4, 'd', 5]"
      ]
     },
     "execution_count": 15,
     "metadata": {},
     "output_type": "execute_result"
    }
   ],
   "source": [
    "# list concatenation\n",
    "list1 = ['a',2,'b',3]\n",
    "list2 = ['c',4,'d',5]\n",
    "list1+list2"
   ]
  },
  {
   "cell_type": "code",
   "execution_count": 17,
   "id": "ce119d9c",
   "metadata": {},
   "outputs": [
    {
     "data": {
      "text/plain": [
       "['a', 2, 'b', 3]"
      ]
     },
     "execution_count": 17,
     "metadata": {},
     "output_type": "execute_result"
    }
   ],
   "source": [
    "# list replication\n",
    "list1 = ['a',2,'b',3]\n",
    "list2 = list1\n",
    "list2"
   ]
  },
  {
   "cell_type": "markdown",
   "id": "850668fc",
   "metadata": {},
   "source": [
    "### 10. What is difference between the list methods append() and insert()?\n",
    "\n",
    "Ans. append() is used to insert/add an element at the end of the list\n",
    "\n",
    "insert() operator can be used to insert an element to a specified position.\n",
    "\n",
    "Example:"
   ]
  },
  {
   "cell_type": "code",
   "execution_count": 18,
   "id": "f18f5a5f",
   "metadata": {},
   "outputs": [
    {
     "data": {
      "text/plain": [
       "[1, 2, 3, 4, 99]"
      ]
     },
     "execution_count": 18,
     "metadata": {},
     "output_type": "execute_result"
    }
   ],
   "source": [
    "list1 = [1,2,3,4]\n",
    "# append() operation\n",
    "list1.append(99)\n",
    "list1"
   ]
  },
  {
   "cell_type": "code",
   "execution_count": 19,
   "id": "d19669de",
   "metadata": {},
   "outputs": [
    {
     "data": {
      "text/plain": [
       "[1, 2, 3, 'hello', 4, 99]"
      ]
     },
     "execution_count": 19,
     "metadata": {},
     "output_type": "execute_result"
    }
   ],
   "source": [
    "# insert operation\n",
    "list1.insert(3,'hello') # 3 is the index position\n",
    "list1"
   ]
  },
  {
   "cell_type": "markdown",
   "id": "bff795e9",
   "metadata": {},
   "source": [
    "### 11. What are the two methods for removing items from a list?\n",
    "\n",
    "Ans: Two methods are pop() and remove()\n",
    "\n",
    "pop takes index position as argument\n",
    "\n",
    "remove takes the value as argument.\n",
    "\n",
    "Example:"
   ]
  },
  {
   "cell_type": "code",
   "execution_count": 21,
   "id": "a34d992c",
   "metadata": {},
   "outputs": [
    {
     "data": {
      "text/plain": [
       "[1, 2, 4, 5]"
      ]
     },
     "execution_count": 21,
     "metadata": {},
     "output_type": "execute_result"
    }
   ],
   "source": [
    "# pop()\n",
    "list1 = [1,2,3,4,5]\n",
    "list1.pop(2) # this will remove the value 3 which is at 2 index position\n",
    "list1"
   ]
  },
  {
   "cell_type": "code",
   "execution_count": 22,
   "id": "da6daae3",
   "metadata": {},
   "outputs": [
    {
     "data": {
      "text/plain": [
       "[1, 3, 'hello', 4, 5]"
      ]
     },
     "execution_count": 22,
     "metadata": {},
     "output_type": "execute_result"
    }
   ],
   "source": [
    "list1 = [1,2,3,'hello',4,5]\n",
    "list1.remove(2) # this will remove the value 2\n",
    "list1"
   ]
  },
  {
   "cell_type": "markdown",
   "id": "eb3376e3",
   "metadata": {},
   "source": [
    "### 12. Describe how list values and string values are identical.\n",
    "\n",
    "Ans: list is an ordered collection of values which can be string, integer, float, even a list any other data types whereas \n",
    "\n",
    "string is an ordered collection of just characters. "
   ]
  },
  {
   "cell_type": "markdown",
   "id": "2297bb24",
   "metadata": {},
   "source": [
    "### 13. What's the difference between tuples and lists?\n",
    "\n",
    "Ans: Tuples are immutable means once assigned, the values cannot be changed in a tuple\n",
    "\n",
    "Lists are mutable means we can add,remove elements in a list "
   ]
  },
  {
   "cell_type": "markdown",
   "id": "9c0eff6d",
   "metadata": {},
   "source": [
    "### 14. How do you type a tuple value that only contains the integer 42?\n"
   ]
  },
  {
   "cell_type": "code",
   "execution_count": 23,
   "id": "eab1fd6f",
   "metadata": {},
   "outputs": [
    {
     "data": {
      "text/plain": [
       "(42,)"
      ]
     },
     "execution_count": 23,
     "metadata": {},
     "output_type": "execute_result"
    }
   ],
   "source": [
    "(42,)"
   ]
  },
  {
   "cell_type": "markdown",
   "id": "fadf649b",
   "metadata": {},
   "source": [
    "### 15. How do you get a list value's tuple form? How do you get a tuple value's list form?\n",
    "\n",
    "Ans: we can use tuple() method to get list value's tuple form and use list() method to get tuple values list form.\n",
    "\n",
    "Example:"
   ]
  },
  {
   "cell_type": "code",
   "execution_count": 24,
   "id": "eddb9c67",
   "metadata": {},
   "outputs": [
    {
     "data": {
      "text/plain": [
       "(1, 2, 3)"
      ]
     },
     "execution_count": 24,
     "metadata": {},
     "output_type": "execute_result"
    }
   ],
   "source": [
    "tuple([1,2,3]) # here [1,2,3] is a list"
   ]
  },
  {
   "cell_type": "code",
   "execution_count": 26,
   "id": "3a11662a",
   "metadata": {},
   "outputs": [
    {
     "data": {
      "text/plain": [
       "[1, 2, 3]"
      ]
     },
     "execution_count": 26,
     "metadata": {},
     "output_type": "execute_result"
    }
   ],
   "source": [
    "list((1,2,3)) # here (1,2,3) is a tuple"
   ]
  },
  {
   "cell_type": "markdown",
   "id": "e9d4b8ad",
   "metadata": {},
   "source": [
    "### 16. Variables that \"contain\" list values are not necessarily lists themselves. Instead, what do they contain?\n",
    "\n",
    "Ans: Variables with integer or string values contain the values whereas assigning data types like tuple, list and dictionaries in a variable will only contain the referance of the data type."
   ]
  },
  {
   "cell_type": "markdown",
   "id": "17956b46",
   "metadata": {},
   "source": [
    "### 17. How do you distinguish between copy.copy() and copy.deepcopy()?\n",
    "\n",
    "Ans: copy.copy() creates a new object which stores the referance to the actual element. So changing the original changes the copied object as well.\n",
    "\n",
    "in copy.deepcopy() a new object is created and copies of the original is inserted into the object. So changing the original won't affect the new object created through deepcopy."
   ]
  }
 ],
 "metadata": {
  "kernelspec": {
   "display_name": "Python 3",
   "language": "python",
   "name": "python3"
  },
  "language_info": {
   "codemirror_mode": {
    "name": "ipython",
    "version": 3
   },
   "file_extension": ".py",
   "mimetype": "text/x-python",
   "name": "python",
   "nbconvert_exporter": "python",
   "pygments_lexer": "ipython3",
   "version": "3.7.10"
  }
 },
 "nbformat": 4,
 "nbformat_minor": 5
}
