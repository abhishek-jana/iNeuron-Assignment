{
 "cells": [
  {
   "cell_type": "markdown",
   "id": "9e0d1e64",
   "metadata": {},
   "source": [
    "### 1. What are escape characters, and how do you use them?\n",
    "\n",
    "Ans. If we want to use characters in the string that are unaccepted, we can use backslash '\\' followed by the special character we want to insert.\n",
    "Also, escape characters like '\\t','\\n' are used to insert tab and newline respectively."
   ]
  },
  {
   "cell_type": "code",
   "execution_count": 2,
   "id": "a307b405",
   "metadata": {},
   "outputs": [
    {
     "ename": "SyntaxError",
     "evalue": "invalid syntax (<ipython-input-2-ae5fccc4b200>, line 1)",
     "output_type": "error",
     "traceback": [
      "\u001b[0;36m  File \u001b[0;32m\"<ipython-input-2-ae5fccc4b200>\"\u001b[0;36m, line \u001b[0;32m1\u001b[0m\n\u001b[0;31m    print ('Hello it's my birthday')\u001b[0m\n\u001b[0m                     ^\u001b[0m\n\u001b[0;31mSyntaxError\u001b[0m\u001b[0;31m:\u001b[0m invalid syntax\n"
     ]
    }
   ],
   "source": [
    "print ('Hello it's my birthday') #wrong"
   ]
  },
  {
   "cell_type": "code",
   "execution_count": 3,
   "id": "125ca94c",
   "metadata": {},
   "outputs": [
    {
     "name": "stdout",
     "output_type": "stream",
     "text": [
      "Hello it's my birthday\n"
     ]
    }
   ],
   "source": [
    "print ('Hello it\\'s my birthday') #correct"
   ]
  },
  {
   "cell_type": "markdown",
   "id": "169ab705",
   "metadata": {},
   "source": [
    "### 2. What do the escape characters n and t stand for?\n",
    "\n",
    "Ans: n stands for newline and t stands to tab."
   ]
  },
  {
   "cell_type": "markdown",
   "id": "898f02d6",
   "metadata": {},
   "source": [
    "### 3. What is the way to include backslash characters in a string?\n",
    "\n",
    "Ans. We can use backslack followed by another backslash (\\ \\\\) to include backslash in the string. "
   ]
  },
  {
   "cell_type": "markdown",
   "id": "f498d7d2",
   "metadata": {},
   "source": [
    "### 4. The string \"Howl's Moving Castle\" is a correct value. Why isn't the single quote character in the word Howl's not escaped a problem?\n",
    "\n",
    "Ans. When we use double quotes for a string, single quote is treated as a special character (apostrophe)."
   ]
  },
  {
   "cell_type": "markdown",
   "id": "7316181f",
   "metadata": {},
   "source": [
    "### 5. How do you write a string of newlines if you don't want to use the n character?\n",
    "\n",
    "Ans. The default value to 'end' varibale inside print function is '\\n'. So we can use separate print statements for newlines. Exmaple:"
   ]
  },
  {
   "cell_type": "code",
   "execution_count": 4,
   "id": "5eb8de10",
   "metadata": {},
   "outputs": [
    {
     "name": "stdout",
     "output_type": "stream",
     "text": [
      "What is yout name?\n",
      "My name is Abhi.\n"
     ]
    }
   ],
   "source": [
    "print('What is yout name?')\n",
    "print('My name is Abhi.')"
   ]
  },
  {
   "cell_type": "markdown",
   "id": "cdacc635",
   "metadata": {},
   "source": [
    "### 6. What are the values of the given expressions?\n",
    "'Hello, world!'[1]\n",
    "\n",
    "'Hello, world!'[0:5]\n",
    "\n",
    "'Hello, world!'[:5]\n",
    "\n",
    "'Hello, world!'[3:]\n"
   ]
  },
  {
   "cell_type": "code",
   "execution_count": 5,
   "id": "644455d7",
   "metadata": {},
   "outputs": [
    {
     "data": {
      "text/plain": [
       "'e'"
      ]
     },
     "execution_count": 5,
     "metadata": {},
     "output_type": "execute_result"
    }
   ],
   "source": [
    "'Hello, world!'[1] # selects character at 1st index (0 being the staring)"
   ]
  },
  {
   "cell_type": "code",
   "execution_count": 6,
   "id": "675ae111",
   "metadata": {},
   "outputs": [
    {
     "data": {
      "text/plain": [
       "'Hello'"
      ]
     },
     "execution_count": 6,
     "metadata": {},
     "output_type": "execute_result"
    }
   ],
   "source": [
    "'Hello, world!'[0:5] # selects characters from 0 to 4th index (0 being the staring)"
   ]
  },
  {
   "cell_type": "code",
   "execution_count": 7,
   "id": "068a0af1",
   "metadata": {},
   "outputs": [
    {
     "data": {
      "text/plain": [
       "'Hello'"
      ]
     },
     "execution_count": 7,
     "metadata": {},
     "output_type": "execute_result"
    }
   ],
   "source": [
    "'Hello, world!'[:5] # selects characters till 4th index (0 being the staring)"
   ]
  },
  {
   "cell_type": "code",
   "execution_count": 8,
   "id": "42968e2d",
   "metadata": {},
   "outputs": [
    {
     "data": {
      "text/plain": [
       "'lo, world!'"
      ]
     },
     "execution_count": 8,
     "metadata": {},
     "output_type": "execute_result"
    }
   ],
   "source": [
    "'Hello, world!'[3:] # selects charaters from 3rd index (0 being the staring)"
   ]
  },
  {
   "cell_type": "markdown",
   "id": "9bfba535",
   "metadata": {},
   "source": [
    "###7. What are the values of the following expressions?\n",
    "\n",
    "'Hello'.upper()\n",
    "\n",
    "'Hello'.upper().isupper()\n",
    "\n",
    "'Hello'.upper().lower()\n"
   ]
  },
  {
   "cell_type": "code",
   "execution_count": 9,
   "id": "b5f6b7af",
   "metadata": {},
   "outputs": [
    {
     "data": {
      "text/plain": [
       "'HELLO'"
      ]
     },
     "execution_count": 9,
     "metadata": {},
     "output_type": "execute_result"
    }
   ],
   "source": [
    "'Hello'.upper() # Makes everything uppercase"
   ]
  },
  {
   "cell_type": "code",
   "execution_count": 10,
   "id": "ea3d03ae",
   "metadata": {},
   "outputs": [
    {
     "data": {
      "text/plain": [
       "True"
      ]
     },
     "execution_count": 10,
     "metadata": {},
     "output_type": "execute_result"
    }
   ],
   "source": [
    "'Hello'.upper().isupper() # Makes everything uppercase and checks whether everything is upper or not"
   ]
  },
  {
   "cell_type": "code",
   "execution_count": 11,
   "id": "f0d9c6d2",
   "metadata": {},
   "outputs": [
    {
     "data": {
      "text/plain": [
       "'hello'"
      ]
     },
     "execution_count": 11,
     "metadata": {},
     "output_type": "execute_result"
    }
   ],
   "source": [
    "'Hello'.upper().lower() # Makes everything uppercase and then lowercase"
   ]
  },
  {
   "cell_type": "markdown",
   "id": "1e69eb60",
   "metadata": {},
   "source": [
    "### 8. What are the values of the following expressions?\n",
    "\n",
    "'Remember, remember, the fifth of July.'.split()\n",
    "\n",
    "'-'.join('There can only one.'.split())\n"
   ]
  },
  {
   "cell_type": "code",
   "execution_count": 12,
   "id": "62e039db",
   "metadata": {},
   "outputs": [
    {
     "data": {
      "text/plain": [
       "['Remember,', 'remember,', 'the', 'fifth', 'of', 'July.']"
      ]
     },
     "execution_count": 12,
     "metadata": {},
     "output_type": "execute_result"
    }
   ],
   "source": [
    "'Remember, remember, the fifth of July.'.split() # split the string by whitespace"
   ]
  },
  {
   "cell_type": "code",
   "execution_count": 13,
   "id": "67a18e8d",
   "metadata": {},
   "outputs": [
    {
     "data": {
      "text/plain": [
       "'There-can-only-one.'"
      ]
     },
     "execution_count": 13,
     "metadata": {},
     "output_type": "execute_result"
    }
   ],
   "source": [
    "'-'.join('There can only one.'.split()) # splits the string by whitespace and joins back using hyphen inbetween"
   ]
  },
  {
   "cell_type": "markdown",
   "id": "fd72b078",
   "metadata": {},
   "source": [
    "### 9. What are the methods for right-justifying, left-justifying, and centering a string?\n",
    "\n",
    "Ans: rjust() for right justfying\n",
    "\n",
    "ljust() for left justifying. And,\n",
    "\n",
    "center() for center justifying"
   ]
  },
  {
   "cell_type": "code",
   "execution_count": 35,
   "id": "54cd908e",
   "metadata": {},
   "outputs": [
    {
     "name": "stdout",
     "output_type": "stream",
     "text": [
      "-------Remember\n",
      "Remember-------\n",
      "----Remember---\n"
     ]
    }
   ],
   "source": [
    "a = 'Remember'\n",
    "ra = a.rjust(15,'-')\n",
    "la = a.ljust(15,'-')\n",
    "ca = a.center(15,'-')\n",
    "print (ra)\n",
    "print (la)\n",
    "print (ca)"
   ]
  },
  {
   "cell_type": "markdown",
   "id": "a923ef87",
   "metadata": {},
   "source": [
    "### 10. What is the best way to remove whitespace characters from the start or end?\n",
    "\n",
    "Ans. We can use replace method to remove whitespace characters. Example:"
   ]
  },
  {
   "cell_type": "code",
   "execution_count": 36,
   "id": "a0e85264",
   "metadata": {},
   "outputs": [
    {
     "data": {
      "text/plain": [
       "'Remember,remember,thefifthofJuly.'"
      ]
     },
     "execution_count": 36,
     "metadata": {},
     "output_type": "execute_result"
    }
   ],
   "source": [
    "a = 'Remember, remember, the fifth of July.'\n",
    "a.replace(\" \", \"\")"
   ]
  }
 ],
 "metadata": {
  "kernelspec": {
   "display_name": "Python 3",
   "language": "python",
   "name": "python3"
  },
  "language_info": {
   "codemirror_mode": {
    "name": "ipython",
    "version": 3
   },
   "file_extension": ".py",
   "mimetype": "text/x-python",
   "name": "python",
   "nbconvert_exporter": "python",
   "pygments_lexer": "ipython3",
   "version": "3.7.10"
  }
 },
 "nbformat": 4,
 "nbformat_minor": 5
}
