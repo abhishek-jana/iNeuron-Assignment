{
 "cells": [
  {
   "cell_type": "markdown",
   "id": "bbfdc955",
   "metadata": {},
   "source": [
    "### 1.What are the two values of the Boolean data type? How do you write them?\n",
    "Ans. The two values are true and false. We wrire them as True and False.\n",
    "### 2. What are the three different types of Boolean operators?\n",
    "Ans. Three different types of Boolean operators are: and, or, not\n",
    "### 3. Make a list of each Boolean operator's truth tables (i.e. every possible combination of Boolean values for the operator and what it evaluate )."
   ]
  },
  {
   "cell_type": "markdown",
   "id": "786b51af",
   "metadata": {},
   "source": [
    "Ans.\n",
    "\n",
    "AND operator : A and B = C\n",
    "\n",
    "|A|B|C|\n",
    "|---|---|---|\n",
    "|1  |1  |1  |\n",
    "|1  |0  |0  | \n",
    "|0  |1  |0  | \n",
    "|0  |0  |0  | \n",
    "\n",
    "OR operator : A or B = C\n",
    "\n",
    "|A|B|C|\n",
    "|---|---|---|\n",
    "|1  |1  |1  |\n",
    "|1  |0  |1  | \n",
    "|0  |1  |1  | \n",
    "|0  |0  |0  | \n",
    "\n",
    "NOT operator NOT A = B\n",
    "\n",
    "|A|B|\n",
    "|---|---|\n",
    "|1  |0  |\n",
    "|0  |1  |"
   ]
  },
  {
   "cell_type": "markdown",
   "id": "0431b55d",
   "metadata": {},
   "source": [
    "### 4. What are the values of the following expressions?\n",
    "(5 > 4) and (3 == 5)   :    False\n",
    "\n",
    "not (5 > 4)  :  False\n",
    "\n",
    "(5 > 4) or (3 == 5)  :  True\n",
    "\n",
    "not ((5 > 4) or (3 == 5))  :  False\n",
    "\n",
    "(True and True) and (True == False)  :  False\n",
    "\n",
    "(not False) or (not True)  : True\n",
    "\n",
    "### 5. What are the six comparison operators?\n",
    "Ans.\n",
    "'==' equal\n",
    "\n",
    "'!=' not equal\n",
    "\n",
    "'>' less than\n",
    "\n",
    "'<' greater than\n",
    "\n",
    "'>=' greater than equal\n",
    "\n",
    "'<=' less than equal"
   ]
  },
  {
   "cell_type": "markdown",
   "id": "f048f31f",
   "metadata": {},
   "source": [
    "### 6. How do you tell the difference between the equal to and assignment operators?Describe a condition and when you would use one.\n",
    "\n",
    "Ans. eual to operator is denoted as ‘==’ and assignment operator is denoted as ‘=’. \n",
    "we can use ‘==’ operator on an if statement. For example:"
   ]
  },
  {
   "cell_type": "markdown",
   "id": "a46c6325",
   "metadata": {},
   "source": [
    "if (x == 1):\n",
    "\n",
    "    do something "
   ]
  },
  {
   "cell_type": "markdown",
   "id": "f37fb874",
   "metadata": {},
   "source": [
    "we use ‘=’ operator for assining variable. For example,\n",
    "x = 1\n",
    "\n",
    "### 7. Identify the three blocks in this code:\n",
    "\n",
    "spam = 0\n",
    "if spam == 10:\n",
    "print('eggs')\n",
    "if spam > 5:\n",
    "print('bacon')\n",
    "else:\n",
    "print('ham')\n",
    "print('spam')\n",
    "print('spam')"
   ]
  },
  {
   "cell_type": "markdown",
   "id": "b31f2b07",
   "metadata": {},
   "source": [
    "Ans.\n",
    "\n",
    "spam = 0\n",
    "\n",
    "if spam == 10:\n",
    "\n",
    "\tprint (‘eggs’)              --> start of Block 1\n",
    "    \n",
    "\tif spam > 5:\n",
    "    \n",
    "\t\tprint (‘bacon’)  -->start of Block 2\n",
    "        \n",
    "\telse:\n",
    "    \n",
    "\t\tprint (‘ham’)     --> start of Block 3\n",
    "        \n",
    "\tprint (‘spam’)\n",
    "    \n",
    "print (‘spam’)"
   ]
  },
  {
   "cell_type": "markdown",
   "id": "b6430e41",
   "metadata": {},
   "source": [
    "### 8. Write code that prints Hello if 1 is stored in spam, prints Howdy if 2 is stored in spam, and prints Greetings! if anything else is stored in spam.\n",
    "Ans."
   ]
  },
  {
   "cell_type": "code",
   "execution_count": 3,
   "id": "a12c2919",
   "metadata": {},
   "outputs": [
    {
     "name": "stdout",
     "output_type": "stream",
     "text": [
      "Greetings!\n"
     ]
    }
   ],
   "source": [
    "spam = 5\n",
    "if spam == 1:\n",
    "    print ('Hello')\n",
    "elif spam == 2:\n",
    "    print ('Howdy')\n",
    "else:\n",
    "    print ('Greetings!')"
   ]
  },
  {
   "cell_type": "markdown",
   "id": "6ff6a303",
   "metadata": {},
   "source": [
    "### 9.If your programme is stuck in an endless loop, what keys you’ll press?\n",
    "\n",
    "Ans. Ctrl + c\n",
    "\n",
    "### 10. How can you tell the difference between break and continue?\n",
    "\n",
    "Ans. In an iterative loop break statement ends the loop whereas continue statement goes to the next iteration after the continue statement.\n",
    "\n",
    "### 11. In a for loop, what is the difference between range(10), range(0, 10), and range(0, 10, 1)?\n",
    "\n",
    "Ans. Although range(10), range(0, 10), and range(0, 10, 1) will have the same output,\n",
    "\n",
    "for range(10), 10 denotes the upper limit of range  excluding 10\n",
    "\n",
    "for range (0,10), 0 denotes lower limit and 10 denotes the upper limit of range  excluding 10\n",
    "\n",
    "for range(0,10,1), 0 denotes lower limit and 10 denotes the upper limit of range  excluding 10 and 1 denotes the jump of the range\n",
    "\n",
    "### 12. Write a short program that prints the numbers 1 to 10 using a for loop. Then write an equivalent program that prints the numbers 1 to 10 using a while loop."
   ]
  },
  {
   "cell_type": "markdown",
   "id": "1650a179",
   "metadata": {},
   "source": [
    "Ans. \n",
    "\n",
    "Using for loop\n",
    "\n",
    "for i in range(1,11):\n",
    "\n",
    "\tprint (‘i’)\n",
    "    \n",
    "Using while loop\n",
    "\n",
    "i = 1\n",
    "\n",
    "while i < 11:\n",
    "\n",
    "\tprint (‘i’)\n",
    "    \n",
    "\ti = i + 1"
   ]
  },
  {
   "cell_type": "markdown",
   "id": "53a3b702",
   "metadata": {},
   "source": [
    "### 13. If you had a function named bacon() inside a module named spam, how would you call it after importing spam?\n",
    "\n",
    "Ans.\n",
    "\n",
    "import spam\n",
    "\n",
    "spam.bacon() "
   ]
  }
 ],
 "metadata": {
  "kernelspec": {
   "display_name": "Python 3",
   "language": "python",
   "name": "python3"
  },
  "language_info": {
   "codemirror_mode": {
    "name": "ipython",
    "version": 3
   },
   "file_extension": ".py",
   "mimetype": "text/x-python",
   "name": "python",
   "nbconvert_exporter": "python",
   "pygments_lexer": "ipython3",
   "version": "3.7.10"
  }
 },
 "nbformat": 4,
 "nbformat_minor": 5
}
