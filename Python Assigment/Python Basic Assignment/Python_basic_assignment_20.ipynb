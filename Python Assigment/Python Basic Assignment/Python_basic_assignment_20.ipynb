{
 "cells": [
  {
   "cell_type": "markdown",
   "id": "ae97ec82",
   "metadata": {},
   "source": [
    "### 1. Set the variable test1 to the string 'This is a test of the emergency text system,' and save test1 to a file named test.txt."
   ]
  },
  {
   "cell_type": "code",
   "execution_count": 1,
   "id": "6a20c0cf",
   "metadata": {},
   "outputs": [],
   "source": [
    "test1 =  'This is a test of the emergency text system'\n",
    "\n",
    "fname = open('test.txt','w')\n",
    "fname.write(test1)\n",
    "fname.close()"
   ]
  },
  {
   "cell_type": "markdown",
   "id": "47231447",
   "metadata": {},
   "source": [
    "### 2. Read the contents of the file test.txt into the variable test2. Is there a difference between test 1 and test 2?"
   ]
  },
  {
   "cell_type": "code",
   "execution_count": 2,
   "id": "742d8cfc",
   "metadata": {},
   "outputs": [
    {
     "name": "stdout",
     "output_type": "stream",
     "text": [
      "This is a test of the emergency text system\n"
     ]
    }
   ],
   "source": [
    "with open('test.txt','r') as filename:\n",
    "    test2 = filename.read()\n",
    "print (test2) # no difference"
   ]
  },
  {
   "cell_type": "markdown",
   "id": "13482775",
   "metadata": {},
   "source": [
    "### 3. Create a CSV file called books.csv by using these lines:\n",
    "#### title,author,year\n",
    "#### The Weirdstone of Brisingamen,Alan Garner,1960\n",
    "#### Perdido Street Station,China Miéville,2000\n",
    "#### Thud!,Terry Pratchett,2005\n",
    "#### The Spellman Files,Lisa Lutz,2007\n",
    "#### Small Gods,Terry Pratchett,1992"
   ]
  },
  {
   "cell_type": "code",
   "execution_count": 3,
   "id": "943b69c3",
   "metadata": {},
   "outputs": [],
   "source": [
    "text = \"\"\"title,author,year\n",
    "The Weirdstone of Brisingamen,Alan Garner,1960\n",
    "Perdido Street Station,China Miéville,2000\n",
    "Thud!,Terry Pratchett,2005\n",
    "The Spellman Files,Lisa Lutz,2007\n",
    "Small Gods,Terry Pratchett,1992\"\"\"\n",
    "\n",
    "with open('books.csv','w') as fout:\n",
    "    fout.write(text)"
   ]
  },
  {
   "cell_type": "markdown",
   "id": "e87a9de6",
   "metadata": {},
   "source": [
    "### 4. Use the sqlite3 module to create a SQLite database called books.db, and a table called books with these fields: title (text), author (text), and year (integer)."
   ]
  },
  {
   "cell_type": "code",
   "execution_count": 4,
   "id": "7c31261f",
   "metadata": {},
   "outputs": [],
   "source": [
    "import sqlite3\n",
    "\n",
    "db = sqlite3.connect('books.db')\n",
    "cun = db.cursor()\n",
    "cun.execute(\"CREATE TABLE book ( title text, author text, year int)\")\n",
    "db.commit()"
   ]
  },
  {
   "cell_type": "markdown",
   "id": "8c2259b2",
   "metadata": {},
   "source": [
    "### 5. Read books.csv and insert its data into the book table."
   ]
  },
  {
   "cell_type": "code",
   "execution_count": 5,
   "id": "268203da",
   "metadata": {},
   "outputs": [],
   "source": [
    "import csv\n",
    "import sqlite3\n",
    "db = sqlite3.connect('books.db')\n",
    "cur = db.cursor()\n",
    "with open('books.csv','r') as fin:\n",
    "    books = csv.reader(fin, delimiter=',')\n",
    "    next(books, None)  # skip the headers\n",
    "    for b in books:\n",
    "        cur.execute('INSERT INTO book values (?,?,?)', b)\n",
    "db.commit()"
   ]
  },
  {
   "cell_type": "markdown",
   "id": "db15dd53",
   "metadata": {},
   "source": [
    "### 6. Select and print the title column from the book table in alphabetical order."
   ]
  },
  {
   "cell_type": "code",
   "execution_count": 6,
   "id": "8fdc363f",
   "metadata": {},
   "outputs": [
    {
     "name": "stdout",
     "output_type": "stream",
     "text": [
      "Perdido Street Station\n",
      "Small Gods\n",
      "The Spellman Files\n",
      "The Weirdstone of Brisingamen\n",
      "Thud!\n"
     ]
    }
   ],
   "source": [
    "sql = 'SELECT title FROM book ORDER BY title asc'\n",
    "\n",
    "for row in db.execute(sql):\n",
    "    print (row[0])"
   ]
  },
  {
   "cell_type": "markdown",
   "id": "2b0c05b6",
   "metadata": {},
   "source": [
    "### 7. From the book table, select and print all columns in the order of publication."
   ]
  },
  {
   "cell_type": "code",
   "execution_count": 7,
   "id": "7b30e851",
   "metadata": {},
   "outputs": [
    {
     "name": "stdout",
     "output_type": "stream",
     "text": [
      "('The Weirdstone of Brisingamen', 'Alan Garner', 1960)\n",
      "('Small Gods', 'Terry Pratchett', 1992)\n",
      "('Perdido Street Station', 'China Miéville', 2000)\n",
      "('Thud!', 'Terry Pratchett', 2005)\n",
      "('The Spellman Files', 'Lisa Lutz', 2007)\n"
     ]
    }
   ],
   "source": [
    "sql = 'SELECT * FROM book ORDER BY year asc'\n",
    "\n",
    "for row in db.execute(sql):\n",
    "    print (row)"
   ]
  },
  {
   "cell_type": "markdown",
   "id": "d7ceae9e",
   "metadata": {},
   "source": [
    "### 8. Use the sqlalchemy module to connect to the sqlite3 database books.db that you just made in exercise 6."
   ]
  },
  {
   "cell_type": "code",
   "execution_count": 8,
   "id": "8242aa98",
   "metadata": {},
   "outputs": [],
   "source": [
    "import sqlalchemy\n",
    "\n",
    "db = sqlalchemy.create_engine('sqlite:///books.db',echo=True)\n"
   ]
  },
  {
   "cell_type": "markdown",
   "id": "7b0f846c",
   "metadata": {},
   "source": [
    "### 9. Install the Redis server and the Python redis library (pip install redis) on your computer. Create a Redis hash called test with the fields count (1) and name ('Fester Bestertester'). Print all the fields for test."
   ]
  },
  {
   "cell_type": "code",
   "execution_count": 9,
   "id": "c7dbdd57",
   "metadata": {},
   "outputs": [
    {
     "data": {
      "text/plain": [
       "0"
      ]
     },
     "execution_count": 9,
     "metadata": {},
     "output_type": "execute_result"
    }
   ],
   "source": [
    "import redis\n",
    "\n",
    "con = redis.Redis('localhost')\n",
    "red_hash = {'count' : 1, 'name' : 'Fester Bestertester'}\n",
    "con.hset('test', mapping = red_hash)"
   ]
  },
  {
   "cell_type": "code",
   "execution_count": 10,
   "id": "a139f84f",
   "metadata": {},
   "outputs": [
    {
     "data": {
      "text/plain": [
       "{b'count': b'1', b'name': b'Fester Bestertester'}"
      ]
     },
     "execution_count": 10,
     "metadata": {},
     "output_type": "execute_result"
    }
   ],
   "source": [
    "con.hgetall('test') # print all"
   ]
  },
  {
   "cell_type": "markdown",
   "id": "8fe3d257",
   "metadata": {},
   "source": [
    "### 10. Increment the count field of test and print it."
   ]
  },
  {
   "cell_type": "code",
   "execution_count": 11,
   "id": "4e7b9ee3",
   "metadata": {},
   "outputs": [
    {
     "data": {
      "text/plain": [
       "4"
      ]
     },
     "execution_count": 11,
     "metadata": {},
     "output_type": "execute_result"
    }
   ],
   "source": [
    "con.hincrby('test','count',3) #increment"
   ]
  },
  {
   "cell_type": "code",
   "execution_count": 12,
   "id": "3fc464e6",
   "metadata": {},
   "outputs": [
    {
     "data": {
      "text/plain": [
       "b'4'"
      ]
     },
     "execution_count": 12,
     "metadata": {},
     "output_type": "execute_result"
    }
   ],
   "source": [
    "con.hget('test','count') #print"
   ]
  }
 ],
 "metadata": {
  "kernelspec": {
   "display_name": "Python 3",
   "language": "python",
   "name": "python3"
  },
  "language_info": {
   "codemirror_mode": {
    "name": "ipython",
    "version": 3
   },
   "file_extension": ".py",
   "mimetype": "text/x-python",
   "name": "python",
   "nbconvert_exporter": "python",
   "pygments_lexer": "ipython3",
   "version": "3.7.10"
  }
 },
 "nbformat": 4,
 "nbformat_minor": 5
}
