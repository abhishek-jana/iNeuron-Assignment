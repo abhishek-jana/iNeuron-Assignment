{
 "cells": [
  {
   "cell_type": "markdown",
   "id": "11d50ecc",
   "metadata": {},
   "source": [
    "### 1) . What is the difference between enclosing a list comprehension in square brackets and parentheses?\n"
   ]
  },
  {
   "cell_type": "markdown",
   "id": "7f734b45",
   "metadata": {},
   "source": [
    "Ans: When square brackets are used for enclosing a list, the entire result is loaded into the memory and returned all at once. When parentheses are used, the list forms a generator object and yields the result one at a time through iteration."
   ]
  },
  {
   "cell_type": "markdown",
   "id": "62338c0b",
   "metadata": {},
   "source": [
    "### 2) What is the relationship between generators and iterators?"
   ]
  },
  {
   "cell_type": "markdown",
   "id": "9fd0d29a",
   "metadata": {},
   "source": [
    "Ans: Iterators are objects that iterates through sequence of data like string, tuple, set etc. We can create and iterator object by calling the iter method. We return the result one at a time using the next method.\n",
    "\n",
    "Generator creates and iterator object and can be evaluated using next method. It will iterate over the result and won't store the entire data into memory. In python, yield statement inside a define function will create a generator."
   ]
  },
  {
   "cell_type": "markdown",
   "id": "7df9dc06",
   "metadata": {},
   "source": [
    "### 3) What are the signs that a function is a generator function?\n",
    "    "
   ]
  },
  {
   "cell_type": "markdown",
   "id": "a7e4660b",
   "metadata": {},
   "source": [
    "Ans: The function will have atleast one yield statement inside the code block. If there's a return statement, the function will hold both the yield and the return value."
   ]
  },
  {
   "cell_type": "markdown",
   "id": "9865066f",
   "metadata": {},
   "source": [
    "### 4) What is the purpose of a yield statement?"
   ]
  },
  {
   "cell_type": "markdown",
   "id": "6c398418",
   "metadata": {},
   "source": [
    "Ans: yield statement creates a generator object of a funtion and the result can be returned through iteration. Yield statement holds function execution at that state and sends value back to the caller. The function then can be resumed from the last yield state. "
   ]
  },
  {
   "cell_type": "markdown",
   "id": "e30c9667",
   "metadata": {},
   "source": [
    "### 5) What is the relationship between map calls and list comprehensions? Make a comparison and contrast between the two.\n",
    "\n"
   ]
  },
  {
   "cell_type": "markdown",
   "id": "661d1dfb",
   "metadata": {},
   "source": [
    "Ans: Map and list comprehensions both returns a series of values. For both methods, we can perform some operation one at a time on some iterables like: list,set,tuple etc. and return the total collected result. \n",
    "\n",
    "The difference is, map uses function call to each element of a sequence whereas list comprehensions can use arbitrary expressions. So they are more general and even use map operation, map requires a function to apply."
   ]
  }
 ],
 "metadata": {
  "kernelspec": {
   "display_name": "Python 3",
   "language": "python",
   "name": "python3"
  },
  "language_info": {
   "codemirror_mode": {
    "name": "ipython",
    "version": 3
   },
   "file_extension": ".py",
   "mimetype": "text/x-python",
   "name": "python",
   "nbconvert_exporter": "python",
   "pygments_lexer": "ipython3",
   "version": "3.7.10"
  }
 },
 "nbformat": 4,
 "nbformat_minor": 5
}
