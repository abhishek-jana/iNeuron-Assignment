{
 "cells": [
  {
   "cell_type": "markdown",
   "id": "4b28784c",
   "metadata": {},
   "source": [
    "### 1. What is the result of the code, and why?\n",
    " def func(a, b=6, c=8):\n",
    "\n",
    "print(a, b, c)\n",
    "\n",
    "func(1, 2)"
   ]
  },
  {
   "cell_type": "markdown",
   "id": "55f93409",
   "metadata": {},
   "source": [
    "Ans: Here func has three variables a,b and c where b and c has default values 6 and 8 respectively. When passing variables 1,2 in func, a becomes 1 and b value becomes 2. so the output will be **1,2,8**"
   ]
  },
  {
   "cell_type": "code",
   "execution_count": 1,
   "id": "51d89a08",
   "metadata": {},
   "outputs": [
    {
     "name": "stdout",
     "output_type": "stream",
     "text": [
      "1 2 8\n"
     ]
    }
   ],
   "source": [
    "def func(a, b=6, c=8):\n",
    "    print(a, b, c)\n",
    "\n",
    "func(1, 2)"
   ]
  },
  {
   "cell_type": "markdown",
   "id": "ea261c36",
   "metadata": {},
   "source": [
    "### 2. What is the result of this code, and why?\n",
    "def func(a, b, c=5):\n",
    "\n",
    "print(a, b, c)\n",
    "\n",
    "func(1, c=3, b=2)"
   ]
  },
  {
   "cell_type": "markdown",
   "id": "6f687caa",
   "metadata": {},
   "source": [
    "Ans: Here func has three variables a,b and c where c has default value 5. When passing variables 1, c=3, b=2 in func, a becomes 1 and b value becomes 2 and c becomes 3. so the output will be **1,2,3**"
   ]
  },
  {
   "cell_type": "code",
   "execution_count": 2,
   "id": "c73602ff",
   "metadata": {},
   "outputs": [
    {
     "name": "stdout",
     "output_type": "stream",
     "text": [
      "1 2 3\n"
     ]
    }
   ],
   "source": [
    "def func(a, b, c=5):\n",
    "    print(a, b, c)\n",
    "\n",
    "func(1, c=3, b=2)"
   ]
  },
  {
   "cell_type": "markdown",
   "id": "7dbe6e31",
   "metadata": {},
   "source": [
    "### 3. How about this code: what is its result, and why?\n",
    "\n",
    "def func(a, *pargs):\n",
    "\n",
    "print(a, pargs)\n",
    "\n",
    "func(1, 2, 3)\n",
    "\n",
    "Ans: \\*pargs  will take the arguments as tuples and print will print them. so the output will be **1 (2,3)**"
   ]
  },
  {
   "cell_type": "code",
   "execution_count": 7,
   "id": "b6dee7f9",
   "metadata": {},
   "outputs": [
    {
     "name": "stdout",
     "output_type": "stream",
     "text": [
      "1 (2, 3)\n"
     ]
    }
   ],
   "source": [
    "def func(a, *pargs):\n",
    "    print(a, pargs)\n",
    "    \n",
    "func(1, 2, 3)"
   ]
  },
  {
   "cell_type": "markdown",
   "id": "a250a178",
   "metadata": {},
   "source": [
    "### 4. What does this code print, and why?\n",
    "\n",
    "def func(a, **kargs):\n",
    "\n",
    "print(a, kargs)\n",
    "\n",
    "func(a=1, c=3, b=2)\n",
    "\n",
    "Ans: \\*\\*kargs will take the arguments as dictionary and print them as ke value pair. So the output will be **1 {'c' : 3, 'b' : 2}**"
   ]
  },
  {
   "cell_type": "code",
   "execution_count": 9,
   "id": "0b33ca2b",
   "metadata": {},
   "outputs": [
    {
     "name": "stdout",
     "output_type": "stream",
     "text": [
      "1 {'c': 3, 'b': 2}\n"
     ]
    }
   ],
   "source": [
    "def func(a, **kargs):\n",
    "    print(a, kargs)\n",
    "\n",
    "func(a=1, c=3, b=2)"
   ]
  },
  {
   "cell_type": "markdown",
   "id": "b299c7ab",
   "metadata": {},
   "source": [
    "### 5. What gets printed by this, and explain?\n",
    "\n",
    "def func(a, b, c=8, d=5): print(a, b, c, d)\n",
    "\n",
    "func(1, *(5, 6))\n",
    "\n",
    "Ans: When passing *(5,6) as an tuple, python will unpack them as individual arguments.So the arguments will be a = 1, b = 5, c = 6 and d = 5 (default).\n",
    "\n",
    "Will return: **1 5 6 5**\n"
   ]
  },
  {
   "cell_type": "code",
   "execution_count": 12,
   "id": "eabf8ea8",
   "metadata": {},
   "outputs": [
    {
     "name": "stdout",
     "output_type": "stream",
     "text": [
      "1 5 6 5\n"
     ]
    }
   ],
   "source": [
    "def func(a, b, c=8, d=5): \n",
    "    print(a, b, c, d)\n",
    "    \n",
    "func(1, *(5, 6))    "
   ]
  },
  {
   "cell_type": "markdown",
   "id": "2412022c",
   "metadata": {},
   "source": [
    "### 6. what is the result of this, and explain?\n",
    "\n",
    "def func(a, b, c): a = 2; b[0] = 'x'; c['a'] = 'y'\n",
    "\n",
    "l=1; m=[1]; n={'a':0}\n",
    "\n",
    "func(l, m, n)\n",
    "\n",
    "l, m, n\n",
    "\n",
    "Ans: Here are three types of variables inside the func(). a is integer, b is list and c is a dictionary. l,m,n variable are integer, list and dictionary respectively as well. Passing l inside the function repalces the default value of a (2) to 1 (value of l), but when passing m and n as argument of b and c, we are spacifying the 0th index of m (arg b) to be 'x' and key 'a' of n (arg c) to be 'y'. Since list and dictionary has prelocated memory, so the values 1 and 0 of m and n gets changed to 'x' and 'y' respectively."
   ]
  },
  {
   "cell_type": "code",
   "execution_count": 19,
   "id": "4c8efec1",
   "metadata": {},
   "outputs": [
    {
     "data": {
      "text/plain": [
       "(1, ['x'], {'a': 'y'})"
      ]
     },
     "execution_count": 19,
     "metadata": {},
     "output_type": "execute_result"
    }
   ],
   "source": [
    "def func(a, b, c): a = 2; b[0] = 'x'; c['a'] = 'y'\n",
    "    \n",
    "l=1; m=[1]; n={'a':0}\n",
    "\n",
    "func(l, m, n)\n",
    "\n",
    "l, m, n"
   ]
  }
 ],
 "metadata": {
  "kernelspec": {
   "display_name": "Python 3",
   "language": "python",
   "name": "python3"
  },
  "language_info": {
   "codemirror_mode": {
    "name": "ipython",
    "version": 3
   },
   "file_extension": ".py",
   "mimetype": "text/x-python",
   "name": "python",
   "nbconvert_exporter": "python",
   "pygments_lexer": "ipython3",
   "version": "3.7.10"
  }
 },
 "nbformat": 4,
 "nbformat_minor": 5
}
