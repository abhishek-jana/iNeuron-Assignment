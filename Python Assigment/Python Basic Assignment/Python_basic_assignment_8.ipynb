{
 "cells": [
  {
   "cell_type": "markdown",
   "id": "ed4c19e9",
   "metadata": {},
   "source": [
    "### 1. Is the Python Standard Library included with PyInputPlus?\n",
    "\n",
    "Ans: No"
   ]
  },
  {
   "cell_type": "markdown",
   "id": "000b3aee",
   "metadata": {},
   "source": [
    "### 2. Why is PyInputPlus commonly imported with import pyinputplus as pypi?\n",
    "\n",
    "Ans: pypi is an alias of pyinputplus and is used to shorten the module name call. So evertime we use the module pyinputplus, we can use pypi to call the module."
   ]
  },
  {
   "cell_type": "markdown",
   "id": "9d29d4e9",
   "metadata": {},
   "source": [
    "### 3. How do you distinguish between inputInt() and inputFloat()?\n",
    "\n",
    "Ans: inputInt() is used to ask user for an integer and the return value will be integer.\n",
    "\n",
    "inputFloat() is used to ask user for a floating point and the return value will be a float."
   ]
  },
  {
   "cell_type": "markdown",
   "id": "0809d31b",
   "metadata": {},
   "source": [
    "### 4. Using PyInputPlus, how do you ensure that the user enters a whole number between 0 and 99?\n",
    "\n",
    "Ans:  "
   ]
  },
  {
   "cell_type": "code",
   "execution_count": 4,
   "id": "40b7964f",
   "metadata": {},
   "outputs": [
    {
     "name": "stdout",
     "output_type": "stream",
     "text": [
      "Enter num: -4\n",
      "Number must be at minimum 0.\n",
      "Enter num: 101\n",
      "Number must be less than 100.\n",
      "Enter num: 3\n"
     ]
    },
    {
     "data": {
      "text/plain": [
       "3"
      ]
     },
     "execution_count": 4,
     "metadata": {},
     "output_type": "execute_result"
    }
   ],
   "source": [
    "import pyinputplus as pyip\n",
    "pyip.inputNum('Enter num: ', min = 0, lessThan=100)"
   ]
  },
  {
   "cell_type": "markdown",
   "id": "71191f56",
   "metadata": {},
   "source": [
    "### 5. What is transferred to the keyword arguments allowRegexes and blockRegexes?\n",
    "\n",
    "Ans: allowRegexes and blockRegexes are used to validate a regular expression input.\n",
    "allowRegexes will allow the specified regular expression and blockRegexes will block the specified regular expression."
   ]
  },
  {
   "cell_type": "markdown",
   "id": "3fdb55ed",
   "metadata": {},
   "source": [
    "### 6. If a blank input is entered three times, what does inputStr(limit=3) do?\n",
    "\n",
    "Ans: By default PyinputPlus will ask the user for valid input forever unless we set a termination condition. inputStr(limit=3) this function will ask the user for a valid string, and after three failed attempts, the function will raise a RetryLimitException error."
   ]
  },
  {
   "cell_type": "markdown",
   "id": "6220fca1",
   "metadata": {},
   "source": [
    "### 7. If blank input is entered three times, what does inputStr(limit=3, default='hello') do?\n",
    "\n",
    "Ans: blank input will be considered an invalid input, but instead of raising a RetryLimitException error, it will return the default value 'hello'."
   ]
  }
 ],
 "metadata": {
  "kernelspec": {
   "display_name": "Python 3",
   "language": "python",
   "name": "python3"
  },
  "language_info": {
   "codemirror_mode": {
    "name": "ipython",
    "version": 3
   },
   "file_extension": ".py",
   "mimetype": "text/x-python",
   "name": "python",
   "nbconvert_exporter": "python",
   "pygments_lexer": "ipython3",
   "version": "3.7.10"
  }
 },
 "nbformat": 4,
 "nbformat_minor": 5
}
