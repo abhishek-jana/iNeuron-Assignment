{
 "cells": [
  {
   "cell_type": "markdown",
   "id": "470c4021",
   "metadata": {},
   "source": [
    "### 1. What does RGBA stand for?\n",
    "\n",
    "Ans: RGBA stands for Red, Blue, Green, and Alpha (alpha means transparency)\n",
    "\n",
    "### 2. From the Pillow module, how do you get the RGBA value of any images?\n",
    "\n",
    "Ans: We can use getdata() function to to get the RGBA values of an image. For Example:"
   ]
  },
  {
   "cell_type": "code",
   "execution_count": 1,
   "id": "cec283fb",
   "metadata": {},
   "outputs": [
    {
     "name": "stdout",
     "output_type": "stream",
     "text": [
      "[(84, 152, 193, 255), (176, 206, 224, 255), (246, 246, 246, 255), (250, 250, 250, 255), (253, 253, 253, 255), (32, 114, 166, 255), (153, 189, 211, 255), (244, 243, 242, 255), (246, 246, 246, 255), (249, 249, 249, 255), (35, 119, 172, 255), (161, 197, 220, 255), (243, 242, 242, 255), (233, 233, 233, 255), (238, 238, 238, 255), (35, 121, 176, 255), (160, 197, 221, 255), (246, 246, 247, 255), (246, 246, 246, 255), (247, 247, 247, 255), (44, 128, 181, 255), (162, 197, 219, 255), (250, 249, 248, 255), (245, 246, 247, 255), (241, 243, 244, 255)]\n"
     ]
    }
   ],
   "source": [
    "from PIL import Image\n",
    "img=Image.open('/home/ajana/Desktop/iNeuron/test_folder/mysql3.jpg') # loading the image\n",
    "img = img.resize((5,5)) # resizing to the image to avoid long output\n",
    "rgba = img.convert(\"RGBA\") # convert to RGBA values\n",
    "print (list(rgba.getdata())) #printing the RGBA values"
   ]
  },
  {
   "cell_type": "markdown",
   "id": "85862807",
   "metadata": {},
   "source": [
    "### 3. What is a box tuple, and how does it work?\n",
    "\n",
    "Ans: Box tuple is a way of passing the arguments to Pillow's functions and methods. The argument is passed as a tuple of four integer coordinates, where the first two values represent the upper left corner and the last two values represent the lower right corner of a rectangular region of the image."
   ]
  },
  {
   "cell_type": "markdown",
   "id": "5afabc7f",
   "metadata": {},
   "source": [
    "### 4. Use your image and load in notebook then, How can you find out the width and height of an Image object?"
   ]
  },
  {
   "cell_type": "code",
   "execution_count": 3,
   "id": "1621adb5",
   "metadata": {},
   "outputs": [
    {
     "name": "stdout",
     "output_type": "stream",
     "text": [
      "981 743\n"
     ]
    }
   ],
   "source": [
    "from PIL import Image\n",
    "img=Image.open('/home/ajana/Desktop/iNeuron/test_folder/mysql3.jpg') # loading the image\n",
    "width, height = img.size\n",
    "print (width,height) # prints the width and height"
   ]
  },
  {
   "cell_type": "markdown",
   "id": "9958dc0c",
   "metadata": {},
   "source": [
    "### 5. What method would you call to get Image object for a 100×100 image, excluding the lower-left quarter of it?\n",
    "\n",
    "Ans: If img is an image object. We will use **img.crop((0,50,50,100))** method for this. "
   ]
  },
  {
   "cell_type": "markdown",
   "id": "a29cbcaf",
   "metadata": {},
   "source": [
    "### 6. After making changes to an Image object, how could you save it as an image file?\n",
    "\n",
    "Ans. If img is an image object, we can use **img.save(filename)** to save an image. Where filename is the name of the file for saving the image."
   ]
  },
  {
   "cell_type": "markdown",
   "id": "da636754",
   "metadata": {},
   "source": [
    "### 7. What module contains Pillow’s shape-drawing code?\n",
    "\n",
    "Ans: **ImageDraw** module contains Pillow’s shape-drawing code"
   ]
  },
  {
   "cell_type": "markdown",
   "id": "bf434e38",
   "metadata": {},
   "source": [
    "### 8. Image objects do not have drawing methods. What kind of object does? How do you get this kind of object?\n",
    "\n",
    "Ans: **ImageDraw** has drawing methods. We can create a new image object by using **Image.new()** function and pass the Image object to **ImageDraw.Draw()** function to get an ImageDraw object."
   ]
  }
 ],
 "metadata": {
  "kernelspec": {
   "display_name": "Python 3",
   "language": "python",
   "name": "python3"
  },
  "language_info": {
   "codemirror_mode": {
    "name": "ipython",
    "version": 3
   },
   "file_extension": ".py",
   "mimetype": "text/x-python",
   "name": "python",
   "nbconvert_exporter": "python",
   "pygments_lexer": "ipython3",
   "version": "3.7.10"
  }
 },
 "nbformat": 4,
 "nbformat_minor": 5
}
