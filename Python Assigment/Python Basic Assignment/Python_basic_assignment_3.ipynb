{
 "cells": [
  {
   "cell_type": "markdown",
   "id": "59fb4bdc",
   "metadata": {},
   "source": [
    "### 1. Why are functions advantageous to have in your programs?\n",
    "Ans: Functions can make a code clear and consice by calling a function multiple times instead of writing the same code again and again.\n",
    "\n",
    "### 2. When does the code in a function run: when it's specified or when it's called?\n",
    "Ans: When it’s called.\n",
    "\n"
   ]
  },
  {
   "cell_type": "markdown",
   "id": "4cd9a892",
   "metadata": {},
   "source": [
    "\n",
    "### 3. What statement causes a feature to be created?\n",
    "Ans: def statement creats a function.\n",
    "For example,\n"
   ]
  },
  {
   "cell_type": "code",
   "execution_count": 3,
   "id": "1f42286f",
   "metadata": {},
   "outputs": [
    {
     "name": "stdout",
     "output_type": "stream",
     "text": [
      "hello\n"
     ]
    }
   ],
   "source": [
    "def main():\n",
    "    print(\"hello\")\n",
    "main()"
   ]
  },
  {
   "cell_type": "markdown",
   "id": "827f467e",
   "metadata": {},
   "source": [
    "### 4. What is the distinction between a function and a call to a function?\n",
    "Ans: Function is created to achive a certain task, \n",
    "a call to a function is made to execute a certain task at any point of the program.\n",
    "\n",
    "\n",
    "### 5. In a Python application, how many global scopes are there? How many local scopes are there?\n",
    "Ans: There is only one global scope in a python application.\n",
    "There can be multiple local scopes in a python application for example multiple variables can be created inside a function which belongs to local scopes. \n",
    "\n",
    "### 6. What happens to variables in a local scope when the function call returns?\n",
    "Ans: After the return call of a function, all the variables in the local scope gets wiped form the memory.\n",
    "\n",
    "\n",
    "### 7. What is the concept of a return value? Is it possible to have a return value in an expression?\n",
    "Ans: Return value signifies the end of a function execution.\n",
    "If a function returns a value, then we can use that in an expression.\n",
    "\n",
    "### 8. If a function does not have a return statement, what is the return value of a call to that function?\n",
    "Ans: None\n",
    "\n",
    "\n",
    "### 9. How do you make a function variable refer to the global variable?\n",
    "Ans: We can simply use the “global” keyword before the variable to refer them as global variable. Ex:\n"
   ]
  },
  {
   "cell_type": "code",
   "execution_count": 6,
   "id": "098dd560",
   "metadata": {},
   "outputs": [],
   "source": [
    "x = 1\n",
    "def func():\n",
    "    global x\n",
    "    return x"
   ]
  },
  {
   "cell_type": "markdown",
   "id": "0236ae6c",
   "metadata": {},
   "source": [
    "Here ‘x’ is a global variable.\n",
    "### 10. What data form does None belong to?\n",
    "Ans: None is a NoneType data form. \n",
    "\n",
    "\n",
    "### 11. What does the sentence import areallyourpetsnamederic do?\n",
    "Ans: it imports a module named ‘areallyourpetsnamederic’ .\n",
    "\n",
    "\n",
    "### 12. If you had a bacon() feature in a spam module, what would you call it after importing spam?\n",
    "Ans: import spam\n",
    "spam.bacon()\n",
    "or,\n",
    "from spam import bacon\n",
    "bacon()\n",
    "\n",
    "### 13. What can you do to save a programme from crashing if it encounters an error?\n",
    "Ans: We can use error handling methods like ‘try and except’ statement.\n",
    "We can also use ‘try, except and finally’ statement to execute a code even if an error has occured.\n",
    "\n",
    "### 14. What is the purpose of the try clause? What is the purpose of the except clause?\n",
    "Ans: try statement is used to test a code block for errors. \n",
    "We use except code block when try block fails to execute. This helps us to catch the error."
   ]
  }
 ],
 "metadata": {
  "kernelspec": {
   "display_name": "Python 3",
   "language": "python",
   "name": "python3"
  },
  "language_info": {
   "codemirror_mode": {
    "name": "ipython",
    "version": 3
   },
   "file_extension": ".py",
   "mimetype": "text/x-python",
   "name": "python",
   "nbconvert_exporter": "python",
   "pygments_lexer": "ipython3",
   "version": "3.7.10"
  }
 },
 "nbformat": 4,
 "nbformat_minor": 5
}
