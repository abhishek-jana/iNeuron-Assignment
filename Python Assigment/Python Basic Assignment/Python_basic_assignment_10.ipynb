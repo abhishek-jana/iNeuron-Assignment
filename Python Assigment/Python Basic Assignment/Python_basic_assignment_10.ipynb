{
 "cells": [
  {
   "cell_type": "markdown",
   "id": "5830ef41",
   "metadata": {},
   "source": [
    "### 1. How do you distinguish between shutil.copy() and shutil.copytree()?\n",
    "\n",
    "Ans: shutil.copy() will copy a single file.\n",
    "\n",
    "shutil.copytree() will copy the entire directory and the subdirectories and files inside the directory.\n",
    "\n",
    "### 2. What function is used to rename files??\n",
    "\n",
    "Ans: We can either use os.rename() or shutil.move() function to rename files.\n",
    "\n",
    "### 3. What is the difference between the delete functions in the send2trash and shutil modules?\n",
    "\n",
    "Ans: shutil module (rmtree) will permanently delete files and folders. send2trash function will send the file/folder to the computers recycle bin.\n",
    "\n",
    "### 4.ZipFile objects have a close() method just like File objects’ close() method. What ZipFile method is equivalent to File objects’ open() method?\n",
    "\n",
    "Ans: Similar to open() method we can use 'w' argument to open and write files."
   ]
  },
  {
   "cell_type": "code",
   "execution_count": 3,
   "id": "89e0a88f",
   "metadata": {},
   "outputs": [],
   "source": [
    "import zipfile\n",
    "\n",
    "file = zipfile.ZipFile('test.zip','w')\n",
    "file.close()"
   ]
  },
  {
   "cell_type": "markdown",
   "id": "aa2c9f1e",
   "metadata": {},
   "source": [
    "### 5. Create a programme that searches a folder tree for files with a certain file extension (such as .pdf or .jpg). Copy these files from whatever location they are in to a new folder.\n"
   ]
  },
  {
   "cell_type": "code",
   "execution_count": 19,
   "id": "27c9cbfb",
   "metadata": {},
   "outputs": [
    {
     "name": "stdout",
     "output_type": "stream",
     "text": [
      "Finding file(s) with ext(s): ('jpg', 'pdf')\n",
      "copying file /home/ajana/Desktop/iNeuron/Practice notebook/19.2.MySQL/MYSQL application.pdf\n",
      "copying file /home/ajana/Desktop/iNeuron/Practice notebook/19.2.MySQL/imgs/mysql23.jpg\n",
      "copying file /home/ajana/Desktop/iNeuron/Practice notebook/19.2.MySQL/imgs/mysql5.jpg\n",
      "copying file /home/ajana/Desktop/iNeuron/Practice notebook/19.2.MySQL/imgs/mysql33.jpg\n",
      "copying file /home/ajana/Desktop/iNeuron/Practice notebook/19.2.MySQL/imgs/mysql16.jpg\n",
      "copying file /home/ajana/Desktop/iNeuron/Practice notebook/19.2.MySQL/imgs/mysql13.jpg\n",
      "copying file /home/ajana/Desktop/iNeuron/Practice notebook/19.2.MySQL/imgs/mysql2.jpg\n",
      "copying file /home/ajana/Desktop/iNeuron/Practice notebook/19.2.MySQL/imgs/mysql1.jpg\n",
      "copying file /home/ajana/Desktop/iNeuron/Practice notebook/19.2.MySQL/imgs/mysql7.jpg\n",
      "copying file /home/ajana/Desktop/iNeuron/Practice notebook/19.2.MySQL/imgs/mysql32.jpg\n",
      "copying file /home/ajana/Desktop/iNeuron/Practice notebook/19.2.MySQL/imgs/mysql27.jpg\n",
      "copying file /home/ajana/Desktop/iNeuron/Practice notebook/19.2.MySQL/imgs/mysql26.jpg\n",
      "copying file /home/ajana/Desktop/iNeuron/Practice notebook/19.2.MySQL/imgs/mysql8.jpg\n",
      "copying file /home/ajana/Desktop/iNeuron/Practice notebook/19.2.MySQL/imgs/mysql17.jpg\n",
      "copying file /home/ajana/Desktop/iNeuron/Practice notebook/19.2.MySQL/imgs/mysql4.jpg\n",
      "copying file /home/ajana/Desktop/iNeuron/Practice notebook/19.2.MySQL/imgs/mysql21.jpg\n",
      "copying file /home/ajana/Desktop/iNeuron/Practice notebook/19.2.MySQL/imgs/mysql28.jpg\n",
      "copying file /home/ajana/Desktop/iNeuron/Practice notebook/19.2.MySQL/imgs/mysql12.jpg\n",
      "copying file /home/ajana/Desktop/iNeuron/Practice notebook/19.2.MySQL/imgs/mysql3.jpg\n",
      "copying file /home/ajana/Desktop/iNeuron/Practice notebook/19.2.MySQL/imgs/mysql24.jpg\n",
      "copying file /home/ajana/Desktop/iNeuron/Practice notebook/19.2.MySQL/imgs/mysql25.jpg\n",
      "copying file /home/ajana/Desktop/iNeuron/Practice notebook/19.2.MySQL/imgs/mysql6.jpg\n",
      "copying file /home/ajana/Desktop/iNeuron/Practice notebook/19.2.MySQL/imgs/mysql14.jpg\n",
      "copying file /home/ajana/Desktop/iNeuron/Practice notebook/19.2.MySQL/imgs/mysql10.jpg\n",
      "copying file /home/ajana/Desktop/iNeuron/Practice notebook/19.2.MySQL/imgs/mysql11.jpg\n",
      "copying file /home/ajana/Desktop/iNeuron/Practice notebook/19.2.MySQL/imgs/mysql30.jpg\n",
      "copying file /home/ajana/Desktop/iNeuron/Practice notebook/19.2.MySQL/imgs/mysql29.jpg\n",
      "copying file /home/ajana/Desktop/iNeuron/Practice notebook/19.2.MySQL/imgs/mysql20.jpg\n",
      "copying file /home/ajana/Desktop/iNeuron/Practice notebook/19.2.MySQL/imgs/mysql18.jpg\n",
      "copying file /home/ajana/Desktop/iNeuron/Practice notebook/19.2.MySQL/imgs/mysql15.jpg\n",
      "copying file /home/ajana/Desktop/iNeuron/Practice notebook/19.2.MySQL/imgs/mysql9.jpg\n",
      "copying file /home/ajana/Desktop/iNeuron/Practice notebook/19.2.MySQL/imgs/mysql31.jpg\n",
      "copying file /home/ajana/Desktop/iNeuron/Practice notebook/19.2.MySQL/imgs/mysql22.jpg\n",
      "copying file /home/ajana/Desktop/iNeuron/Practice notebook/19.2.MySQL/imgs/mysql19.jpg\n"
     ]
    }
   ],
   "source": [
    "import os\n",
    "import shutil\n",
    "\n",
    "def copyfile(source_folder,ext_type,destination_folder):\n",
    "    \"\"\"\n",
    "    Function to copy certain type of files from source \n",
    "    to destination folder\n",
    "    \"\"\"\n",
    "    ext_type = tuple(ext_type)\n",
    "    \n",
    "    if os.path.isdir(source_folder) and os.path.isdir(destination_folder):\n",
    "        print (f'Finding file(s) with ext(s): {ext_type}')\n",
    "        for root, folder, filename in os.walk(source_folder):\n",
    "            for fname in filename:\n",
    "                if fname.endswith(ext_type):\n",
    "                    source_file = str(os.path.join(root,fname))\n",
    "                    print (f'copying file {source_file}')\n",
    "                    try:\n",
    "                        shutil.copy(source_file,destination_folder)\n",
    "                    except Exception as e:\n",
    "                        print (f'Error occured: {e}')\n",
    "    else:\n",
    "        print ('Please check your source and destination path')\n",
    "        \n",
    "        \n",
    "source = '/home/ajana/Desktop/iNeuron'\n",
    "dest = '/home/ajana/Desktop/iNeuron/test_folder'\n",
    "extension = ['jpg','pdf']\n",
    "copyfile(source,extension,dest)"
   ]
  }
 ],
 "metadata": {
  "kernelspec": {
   "display_name": "Python 3",
   "language": "python",
   "name": "python3"
  },
  "language_info": {
   "codemirror_mode": {
    "name": "ipython",
    "version": 3
   },
   "file_extension": ".py",
   "mimetype": "text/x-python",
   "name": "python",
   "nbconvert_exporter": "python",
   "pygments_lexer": "ipython3",
   "version": "3.7.10"
  }
 },
 "nbformat": 4,
 "nbformat_minor": 5
}
