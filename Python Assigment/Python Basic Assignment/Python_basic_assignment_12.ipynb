{
 "cells": [
  {
   "cell_type": "markdown",
   "id": "a994e132",
   "metadata": {},
   "source": [
    "### 1. In what modes should the PdfFileReader() and PdfFileWriter() File objects will be opened?\n",
    "\n",
    "Ans: We Use PdfFileReader() in 'rb' mode to specify the file should be in read binary mode.\n",
    "\n",
    "We Use PdfFileWriter() in 'wb' mode to specify the file should be in write binary mode."
   ]
  },
  {
   "cell_type": "markdown",
   "id": "346fa616",
   "metadata": {},
   "source": [
    "### 2. From a PdfFileReader object, how do you get a Page object for page 5?\n",
    "\n",
    "Ans: We use **getPage(5)** for page 5."
   ]
  },
  {
   "cell_type": "markdown",
   "id": "b50b3a3b",
   "metadata": {},
   "source": [
    "### 3. What PdfFileReader variable stores the number of pages in the PDF document?\n",
    "\n",
    "Ans: **numPages** attribute stores the total number of pages in a pdf document."
   ]
  },
  {
   "cell_type": "markdown",
   "id": "741eab51",
   "metadata": {},
   "source": [
    "### 4. If a PdfFileReader object’s PDF is encrypted with the password swordfish, what must you do before you can obtain Page objects from it?\n",
    "\n",
    "Ans: After onpening the pdf using **PdfFileReader()**, we have to check if the pdf is encripted or not using **isEncrypted** method. Finally we have to decrypt the pdf using **decrypt('swordfish')** method."
   ]
  },
  {
   "cell_type": "markdown",
   "id": "8ef1463a",
   "metadata": {},
   "source": [
    "### 5. What methods do you use to rotate a page?\n",
    "\n",
    "Ans: For clockwise rotation, use **rotateClockwise()** (pass desired rotation integer inside the function)\n",
    "\n",
    "For counter clockwise rotation, use **rotateCounterClockwise()** (pass desired rotation integer inside the function)"
   ]
  },
  {
   "cell_type": "markdown",
   "id": "03a90525",
   "metadata": {},
   "source": [
    "### 6. What is the difference between a Run object and a Paragraph object?\n",
    "\n",
    "Ans:**Paragraph** object contains the number of paragraphs in a python document.\n",
    "\n",
    "The text in word documents has diffent styles like font, size, color, and other attributes. **Run** object contains similar text stylings. A new Run object is created when there's a change in text style."
   ]
  },
  {
   "cell_type": "markdown",
   "id": "f0183df2",
   "metadata": {},
   "source": [
    "### 7. How do you obtain a list of Paragraph objects for a Document object that’s stored in a variable named doc?\n",
    "\n",
    "Ans: We will use **doc.paragraphs**"
   ]
  },
  {
   "cell_type": "markdown",
   "id": "ca6776f8",
   "metadata": {},
   "source": [
    "### 8. What type of object has bold, underline, italic, strike, and outline variables?\n",
    "\n",
    "Ans: **Run** object."
   ]
  },
  {
   "cell_type": "markdown",
   "id": "81633616",
   "metadata": {},
   "source": [
    "### 9. What is the difference between False, True, and None for the bold variable?\n",
    "\n",
    "Ans: **True** -- the bold attribute is always enabled.\n",
    "\n",
    "**False** -- The bold attribute is always disabled.\n",
    "\n",
    "**None** -- Defaults to bold."
   ]
  },
  {
   "cell_type": "markdown",
   "id": "0b908610",
   "metadata": {},
   "source": [
    "### 10. How do you create a Document object for a new Word document?\n",
    "\n",
    "Ans: "
   ]
  },
  {
   "cell_type": "code",
   "execution_count": 15,
   "id": "c1661f72",
   "metadata": {},
   "outputs": [
    {
     "data": {
      "text/plain": [
       "<docx.text.paragraph.Paragraph at 0x7fea8e44a150>"
      ]
     },
     "execution_count": 15,
     "metadata": {},
     "output_type": "execute_result"
    }
   ],
   "source": [
    "#!pip install python-docx\n",
    "import docx\n",
    "doc = docx.Document()\n",
    "doc.add_paragraph('This is the first Paragraph')"
   ]
  },
  {
   "cell_type": "markdown",
   "id": "66da0faf",
   "metadata": {},
   "source": [
    "### 11. How do you add a paragraph with the text 'Hello, there!' to a Document object stored in a variable named doc?\n",
    "\n",
    "Ans: \n",
    "\n",
    "doc.add_paragraph('Hello,there!')"
   ]
  },
  {
   "cell_type": "markdown",
   "id": "acb762a0",
   "metadata": {},
   "source": [
    "### 12. What integers represent the levels of headings available in Word documents?\n",
    "\n",
    "Ans: **1 - 4** integers represent the levels of headings available in Word documents. 1 is the main heading and 4 is the lowest subheading."
   ]
  }
 ],
 "metadata": {
  "kernelspec": {
   "display_name": "Python 3",
   "language": "python",
   "name": "python3"
  },
  "language_info": {
   "codemirror_mode": {
    "name": "ipython",
    "version": 3
   },
   "file_extension": ".py",
   "mimetype": "text/x-python",
   "name": "python",
   "nbconvert_exporter": "python",
   "pygments_lexer": "ipython3",
   "version": "3.7.10"
  }
 },
 "nbformat": 4,
 "nbformat_minor": 5
}
