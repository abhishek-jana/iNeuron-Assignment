{
 "cells": [
  {
   "cell_type": "markdown",
   "id": "b6b8a339",
   "metadata": {},
   "source": [
    "### 1. Create an assert statement that throws an AssertionError if the variable spam is a negative integer.\n",
    "\n",
    "Ans: "
   ]
  },
  {
   "cell_type": "code",
   "execution_count": 3,
   "id": "a1814739",
   "metadata": {},
   "outputs": [
    {
     "ename": "AssertionError",
     "evalue": "The spam variable cannot be negetive",
     "output_type": "error",
     "traceback": [
      "\u001b[0;31m---------------------------------------------------------------------------\u001b[0m",
      "\u001b[0;31mAssertionError\u001b[0m                            Traceback (most recent call last)",
      "\u001b[0;32m<ipython-input-3-3f54ba8532f9>\u001b[0m in \u001b[0;36m<module>\u001b[0;34m\u001b[0m\n\u001b[1;32m      1\u001b[0m \u001b[0mspam\u001b[0m \u001b[0;34m=\u001b[0m \u001b[0;34m-\u001b[0m\u001b[0;36m1\u001b[0m\u001b[0;34m\u001b[0m\u001b[0;34m\u001b[0m\u001b[0m\n\u001b[0;32m----> 2\u001b[0;31m \u001b[0;32massert\u001b[0m \u001b[0mspam\u001b[0m \u001b[0;34m>=\u001b[0m \u001b[0;36m0\u001b[0m\u001b[0;34m,\u001b[0m \u001b[0;34m'The spam variable cannot be negetive'\u001b[0m\u001b[0;34m\u001b[0m\u001b[0;34m\u001b[0m\u001b[0m\n\u001b[0m",
      "\u001b[0;31mAssertionError\u001b[0m: The spam variable cannot be negetive"
     ]
    }
   ],
   "source": [
    "spam = -1\n",
    "assert spam >= 0, 'The spam variable cannot be negetive'"
   ]
  },
  {
   "cell_type": "markdown",
   "id": "11a674bd",
   "metadata": {},
   "source": [
    "### 2. Write an assert statement that triggers an AssertionError if the variables eggs and bacon contain strings that are the same as each other, even if their cases are different (that is, 'hello' and 'hello' are considered the same, and 'goodbye' and 'GOODbye' are also considered the same).\n"
   ]
  },
  {
   "cell_type": "code",
   "execution_count": 7,
   "id": "bc55d9d0",
   "metadata": {},
   "outputs": [
    {
     "ename": "AssertionError",
     "evalue": "eggs and bacon variables are case insensitive and are same",
     "output_type": "error",
     "traceback": [
      "\u001b[0;31m---------------------------------------------------------------------------\u001b[0m",
      "\u001b[0;31mAssertionError\u001b[0m                            Traceback (most recent call last)",
      "\u001b[0;32m<ipython-input-7-bfc2c1f68ec6>\u001b[0m in \u001b[0;36m<module>\u001b[0;34m\u001b[0m\n\u001b[1;32m      1\u001b[0m \u001b[0meggs\u001b[0m \u001b[0;34m=\u001b[0m \u001b[0;34m'goodbye'\u001b[0m\u001b[0;34m\u001b[0m\u001b[0;34m\u001b[0m\u001b[0m\n\u001b[1;32m      2\u001b[0m \u001b[0mbacon\u001b[0m \u001b[0;34m=\u001b[0m \u001b[0;34m'GOODbye'\u001b[0m\u001b[0;34m\u001b[0m\u001b[0;34m\u001b[0m\u001b[0m\n\u001b[0;32m----> 3\u001b[0;31m \u001b[0;32massert\u001b[0m \u001b[0meggs\u001b[0m\u001b[0;34m.\u001b[0m\u001b[0mlower\u001b[0m\u001b[0;34m(\u001b[0m\u001b[0;34m)\u001b[0m \u001b[0;34m!=\u001b[0m \u001b[0mbacon\u001b[0m\u001b[0;34m.\u001b[0m\u001b[0mlower\u001b[0m\u001b[0;34m(\u001b[0m\u001b[0;34m)\u001b[0m\u001b[0;34m,\u001b[0m \u001b[0;34m'eggs and bacon variables are case insensitive and are same'\u001b[0m\u001b[0;34m\u001b[0m\u001b[0;34m\u001b[0m\u001b[0m\n\u001b[0m",
      "\u001b[0;31mAssertionError\u001b[0m: eggs and bacon variables are case insensitive and are same"
     ]
    }
   ],
   "source": [
    "eggs = 'goodbye'\n",
    "bacon = 'GOODbye'\n",
    "assert eggs.lower() != bacon.lower(), 'eggs and bacon variables are case insensitive and are same'"
   ]
  },
  {
   "cell_type": "code",
   "execution_count": 6,
   "id": "6053f6d8",
   "metadata": {},
   "outputs": [
    {
     "ename": "AssertionError",
     "evalue": "eggs and bacon variables are case insensitive and are same",
     "output_type": "error",
     "traceback": [
      "\u001b[0;31m---------------------------------------------------------------------------\u001b[0m",
      "\u001b[0;31mAssertionError\u001b[0m                            Traceback (most recent call last)",
      "\u001b[0;32m<ipython-input-6-1f10b761ac95>\u001b[0m in \u001b[0;36m<module>\u001b[0;34m\u001b[0m\n\u001b[1;32m      2\u001b[0m \u001b[0meggs\u001b[0m \u001b[0;34m=\u001b[0m \u001b[0;34m'goodbye'\u001b[0m\u001b[0;34m\u001b[0m\u001b[0;34m\u001b[0m\u001b[0m\n\u001b[1;32m      3\u001b[0m \u001b[0mbacon\u001b[0m \u001b[0;34m=\u001b[0m \u001b[0;34m'GOODbye'\u001b[0m\u001b[0;34m\u001b[0m\u001b[0;34m\u001b[0m\u001b[0m\n\u001b[0;32m----> 4\u001b[0;31m \u001b[0;32massert\u001b[0m \u001b[0meggs\u001b[0m\u001b[0;34m.\u001b[0m\u001b[0mupper\u001b[0m\u001b[0;34m(\u001b[0m\u001b[0;34m)\u001b[0m \u001b[0;34m!=\u001b[0m \u001b[0mbacon\u001b[0m\u001b[0;34m.\u001b[0m\u001b[0mupper\u001b[0m\u001b[0;34m(\u001b[0m\u001b[0;34m)\u001b[0m\u001b[0;34m,\u001b[0m \u001b[0;34m'eggs and bacon variables are case insensitive and are same'\u001b[0m\u001b[0;34m\u001b[0m\u001b[0;34m\u001b[0m\u001b[0m\n\u001b[0m",
      "\u001b[0;31mAssertionError\u001b[0m: eggs and bacon variables are case insensitive and are same"
     ]
    }
   ],
   "source": [
    "# OR\n",
    "eggs = 'goodbye'\n",
    "bacon = 'GOODbye'\n",
    "assert eggs.upper() != bacon.upper(), 'eggs and bacon variables are case insensitive and are same'"
   ]
  },
  {
   "cell_type": "markdown",
   "id": "ee01457d",
   "metadata": {},
   "source": [
    "### 3. Create an assert statement that throws an AssertionError every time."
   ]
  },
  {
   "cell_type": "code",
   "execution_count": 8,
   "id": "8937f2e1",
   "metadata": {},
   "outputs": [
    {
     "ename": "AssertionError",
     "evalue": "This will always show assertion error.",
     "output_type": "error",
     "traceback": [
      "\u001b[0;31m---------------------------------------------------------------------------\u001b[0m",
      "\u001b[0;31mAssertionError\u001b[0m                            Traceback (most recent call last)",
      "\u001b[0;32m<ipython-input-8-ecde9cfcc979>\u001b[0m in \u001b[0;36m<module>\u001b[0;34m\u001b[0m\n\u001b[0;32m----> 1\u001b[0;31m \u001b[0;32massert\u001b[0m \u001b[0;32mTrue\u001b[0m \u001b[0;34m!=\u001b[0m \u001b[0;32mTrue\u001b[0m\u001b[0;34m,\u001b[0m \u001b[0;34m'This will always show assertion error.'\u001b[0m\u001b[0;34m\u001b[0m\u001b[0;34m\u001b[0m\u001b[0m\n\u001b[0m",
      "\u001b[0;31mAssertionError\u001b[0m: This will always show assertion error."
     ]
    }
   ],
   "source": [
    "assert True != True, 'This will always show assertion error.'"
   ]
  },
  {
   "cell_type": "markdown",
   "id": "be8a70aa",
   "metadata": {},
   "source": [
    "### 4. What are the two lines that must be present in your software in order to call logging.debug()?"
   ]
  },
  {
   "cell_type": "code",
   "execution_count": 9,
   "id": "4d32e2dd",
   "metadata": {},
   "outputs": [],
   "source": [
    "import logging\n",
    "logging.basicConfig(level=logging.DEBUG, format=' %(asctime)s : %(levelname)s : %(message)s')"
   ]
  },
  {
   "cell_type": "markdown",
   "id": "77faa229",
   "metadata": {},
   "source": [
    "### 5. What are the two lines that your program must have in order to have logging.debug() send a logging message to a file named programLog.txt?"
   ]
  },
  {
   "cell_type": "code",
   "execution_count": 10,
   "id": "08c07fed",
   "metadata": {},
   "outputs": [],
   "source": [
    "import logging\n",
    "logging.basicConfig(filename='programLog.txt',filemode='w',level=logging.DEBUG, format=' %(asctime)s : %(levelname)s : %(message)s')"
   ]
  },
  {
   "cell_type": "markdown",
   "id": "b81f45f0",
   "metadata": {},
   "source": [
    "### 6. What are the five levels of logging?\n",
    "\n",
    "Ans: The 5 levels of logging are:\n",
    "\n",
    "level 1) DEBUG\n",
    "\n",
    "level 2) INFO\n",
    "\n",
    "level 3) WARNING\n",
    "\n",
    "level 4) ERROR\n",
    "\n",
    "level 5) CRITICAL"
   ]
  },
  {
   "cell_type": "markdown",
   "id": "b5593753",
   "metadata": {},
   "source": [
    "### 7. What line of code would you add to your software to disable all logging messages?\n"
   ]
  },
  {
   "cell_type": "code",
   "execution_count": 11,
   "id": "711a65ea",
   "metadata": {},
   "outputs": [],
   "source": [
    "logging.disable(logging.CRITICAL)"
   ]
  },
  {
   "cell_type": "markdown",
   "id": "57eb009a",
   "metadata": {},
   "source": [
    "### 8.Why is using logging messages better than using print() to display the same message?\n",
    "\n",
    "Ans: Since logging module has 5 levels of logging we can selctively print on console or to file different levels of log messages. In print statement we cannot control the level of messages.\n",
    "\n",
    "Another advantage of logging over print statement is, once we are done with the final version of the code, we do not need to remove log statement manually, a single statement 'logging.disable(logging.CRITICAL)' will disable the log whereas for print statement we have to manually disable the print statements."
   ]
  },
  {
   "cell_type": "markdown",
   "id": "9c3055a8",
   "metadata": {},
   "source": [
    "### 9. What are the differences between the Step Over, Step In, and Step Out buttons in the debugger?\n",
    "\n",
    "Ans: Step Over - this will take the debugger over to the next line without debugging the current line. If the line contains a function, the function will be executed without dubugging each line of the function.\n",
    "\n",
    "Step In - this will dubug the current line. If the line doesn't contain a function, it will work as a 'Step Over' and go to next line. But if there's a function call in the current line, Step In will debug the function line by line.\n",
    "\n",
    "Step Out - This will execute the remaining code until it steps out of the current function."
   ]
  },
  {
   "cell_type": "markdown",
   "id": "2a961832",
   "metadata": {},
   "source": [
    "### 10.After you click Continue, when will the debugger stop ?\n",
    "\n",
    "Ans: After clicking continue, the debugger will stop at the end of the code or until it reaches a breakpoint."
   ]
  },
  {
   "cell_type": "markdown",
   "id": "b5addfbb",
   "metadata": {},
   "source": [
    "### 11. What is the concept of a breakpoint?\n",
    "\n",
    "Ans: Breakpoint is a specific line of code which forces the dubugger to stop debugging once it reaches the breakpoint."
   ]
  }
 ],
 "metadata": {
  "kernelspec": {
   "display_name": "Python 3",
   "language": "python",
   "name": "python3"
  },
  "language_info": {
   "codemirror_mode": {
    "name": "ipython",
    "version": 3
   },
   "file_extension": ".py",
   "mimetype": "text/x-python",
   "name": "python",
   "nbconvert_exporter": "python",
   "pygments_lexer": "ipython3",
   "version": "3.7.10"
  }
 },
 "nbformat": 4,
 "nbformat_minor": 5
}
