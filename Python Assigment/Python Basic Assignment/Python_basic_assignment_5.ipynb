{
 "cells": [
  {
   "cell_type": "markdown",
   "id": "eeaef1a5",
   "metadata": {},
   "source": [
    "### 1. What does an empty dictionary's code look like?"
   ]
  },
  {
   "cell_type": "markdown",
   "id": "d0bbcb8a",
   "metadata": {},
   "source": [
    "Ans. There are two ways to define an empty dictionary\n",
    "\n",
    "a = dict()\n",
    "\n",
    "or,\n",
    "\n",
    "a = {}"
   ]
  },
  {
   "cell_type": "markdown",
   "id": "d20425ac",
   "metadata": {},
   "source": [
    "### 2. What is the value of a dictionary value with the key 'foo' and the value 42?\n",
    "\n",
    "\n",
    "Ans. The dictionary values will be 42."
   ]
  },
  {
   "cell_type": "markdown",
   "id": "f546b2c4",
   "metadata": {},
   "source": [
    "### 3. What is the most significant distinction between a dictionary and a list?\n",
    "\n",
    "Ans. Dictionary is created as a key-value pair where we can call the dictionary keey to access it's value. Whereas, list is stored as values only and we can access the values we can by calling the index position of the list."
   ]
  },
  {
   "cell_type": "markdown",
   "id": "12bb1107",
   "metadata": {},
   "source": [
    "### 4. What happens if you try to access spam['foo'] if spam is {'bar': 100}?\n",
    "\n",
    "Ans: It will show 'key error' as key 'foo' is not in the dictionary 'spam'"
   ]
  },
  {
   "cell_type": "code",
   "execution_count": 2,
   "id": "de2c2435",
   "metadata": {},
   "outputs": [
    {
     "ename": "KeyError",
     "evalue": "'foo'",
     "output_type": "error",
     "traceback": [
      "\u001b[0;31m---------------------------------------------------------------------------\u001b[0m",
      "\u001b[0;31mKeyError\u001b[0m                                  Traceback (most recent call last)",
      "\u001b[0;32m<ipython-input-2-56a8e50c7ff8>\u001b[0m in \u001b[0;36m<module>\u001b[0;34m\u001b[0m\n\u001b[1;32m      1\u001b[0m \u001b[0mspam\u001b[0m \u001b[0;34m=\u001b[0m \u001b[0;34m{\u001b[0m\u001b[0;34m'bar'\u001b[0m\u001b[0;34m:\u001b[0m \u001b[0;36m100\u001b[0m\u001b[0;34m}\u001b[0m\u001b[0;34m\u001b[0m\u001b[0;34m\u001b[0m\u001b[0m\n\u001b[0;32m----> 2\u001b[0;31m \u001b[0mspam\u001b[0m\u001b[0;34m[\u001b[0m\u001b[0;34m'foo'\u001b[0m\u001b[0;34m]\u001b[0m\u001b[0;34m\u001b[0m\u001b[0;34m\u001b[0m\u001b[0m\n\u001b[0m",
      "\u001b[0;31mKeyError\u001b[0m: 'foo'"
     ]
    }
   ],
   "source": [
    "spam = {'bar': 100}\n",
    "spam['foo']"
   ]
  },
  {
   "cell_type": "markdown",
   "id": "6ed61851",
   "metadata": {},
   "source": [
    "### 5. If a dictionary is stored in spam, what is the difference between the expressions 'cat' in spam and 'cat' in spam.keys()?\n",
    "\n",
    "Ans: 'cat' in spam is the shorter version of 'cat' in spam.keys() so there is no difference."
   ]
  },
  {
   "cell_type": "markdown",
   "id": "7c51a3cd",
   "metadata": {},
   "source": [
    "### 6. If a dictionary is stored in spam, what is the difference between the expressions 'cat' in spam and 'cat' in spam.values()?\n",
    "\n",
    "Ans. 'cat' in spam checks wether key 'cat' is present in the keys of dictionary spam.\n",
    "\n",
    "'cat' in spam.values() checks wether 'cat' is present in the values of dictionary spam."
   ]
  },
  {
   "cell_type": "markdown",
   "id": "f5dcc9ee",
   "metadata": {},
   "source": [
    "### 7. What is a shortcut for the following code?\n",
    "\n",
    "if 'color' not in spam:\n",
    "spam['color'] = 'black'\n",
    "\n",
    "Ans. The shortcut is using setdefault() method"
   ]
  },
  {
   "cell_type": "code",
   "execution_count": 6,
   "id": "ceca6575",
   "metadata": {},
   "outputs": [
    {
     "data": {
      "text/plain": [
       "'black'"
      ]
     },
     "execution_count": 6,
     "metadata": {},
     "output_type": "execute_result"
    }
   ],
   "source": [
    "spam.setdefault('color','black') # this will create key 'color' is it's not in spam"
   ]
  },
  {
   "cell_type": "markdown",
   "id": "437aa79c",
   "metadata": {},
   "source": [
    "### 8. How do you \"pretty print\" dictionary values using which module and function?\n",
    "\n",
    "Ans. We can use pprint function inside pprint module. Example:  "
   ]
  },
  {
   "cell_type": "code",
   "execution_count": 10,
   "id": "a7066ca5",
   "metadata": {},
   "outputs": [
    {
     "name": "stdout",
     "output_type": "stream",
     "text": [
      "{'animal': {'cat': 4,\n",
      "            'dog': 5},\n",
      " 'sweet': {'chocolate': 5,\n",
      "           'icecream': 10}}\n"
     ]
    }
   ],
   "source": [
    "spam = {'animal':{'cat':4,'dog':5},'sweet':{'chocolate':5,'icecream':10}} # create a dictionary to print\n",
    "import pprint # import pprint module\n",
    "\n",
    "pprint.pprint(spam,width=1)  # calling pprint function"
   ]
  }
 ],
 "metadata": {
  "kernelspec": {
   "display_name": "Python 3",
   "language": "python",
   "name": "python3"
  },
  "language_info": {
   "codemirror_mode": {
    "name": "ipython",
    "version": 3
   },
   "file_extension": ".py",
   "mimetype": "text/x-python",
   "name": "python",
   "nbconvert_exporter": "python",
   "pygments_lexer": "ipython3",
   "version": "3.7.10"
  }
 },
 "nbformat": 4,
 "nbformat_minor": 5
}
