{
 "cells": [
  {
   "cell_type": "markdown",
   "id": "8fc6fe16",
   "metadata": {},
   "source": [
    "### 1.How many seconds are in an hour? Use the interactive interpreter as a calculator and multiply the number of seconds in a minute (60) by the number of minutes in an hour (also 60).\n",
    "\n"
   ]
  },
  {
   "cell_type": "code",
   "execution_count": 1,
   "id": "d683d5ec",
   "metadata": {},
   "outputs": [
    {
     "data": {
      "text/plain": [
       "3600"
      ]
     },
     "execution_count": 1,
     "metadata": {},
     "output_type": "execute_result"
    }
   ],
   "source": [
    "60*60"
   ]
  },
  {
   "cell_type": "markdown",
   "id": "e7295ab9",
   "metadata": {},
   "source": [
    "### 2. Assign the result from the previous task (seconds in an hour) to a variable called seconds_per_hour."
   ]
  },
  {
   "cell_type": "code",
   "execution_count": 2,
   "id": "7e9d1942",
   "metadata": {},
   "outputs": [],
   "source": [
    "seconds_per_hour = 3600"
   ]
  },
  {
   "cell_type": "markdown",
   "id": "2ddc7797",
   "metadata": {},
   "source": [
    "### 3. How many seconds do you think there are in a day? Make use of the variables seconds per hour and minutes per hour."
   ]
  },
  {
   "cell_type": "code",
   "execution_count": 8,
   "id": "ceb44fdc",
   "metadata": {},
   "outputs": [
    {
     "data": {
      "text/plain": [
       "86400"
      ]
     },
     "execution_count": 8,
     "metadata": {},
     "output_type": "execute_result"
    }
   ],
   "source": [
    "minutes_per_hour = 60\n",
    "seconds_per_minute = seconds_per_hour//minutes_per_hour\n",
    "seconds_per_minute*minutes_per_hour*24 #prints seconds per day"
   ]
  },
  {
   "cell_type": "markdown",
   "id": "b1bdd1b8",
   "metadata": {},
   "source": [
    "### 4. Calculate seconds per day again, but this time save the result in a variable called seconds_per_day"
   ]
  },
  {
   "cell_type": "code",
   "execution_count": 9,
   "id": "16ef32f4",
   "metadata": {},
   "outputs": [],
   "source": [
    "seconds_per_day = seconds_per_minute*minutes_per_hour*24"
   ]
  },
  {
   "cell_type": "markdown",
   "id": "c8337411",
   "metadata": {},
   "source": [
    "#### 5. Divide seconds_per_day by seconds_per_hour. Use floating-point (/) division."
   ]
  },
  {
   "cell_type": "code",
   "execution_count": 10,
   "id": "c9689968",
   "metadata": {},
   "outputs": [
    {
     "data": {
      "text/plain": [
       "24.0"
      ]
     },
     "execution_count": 10,
     "metadata": {},
     "output_type": "execute_result"
    }
   ],
   "source": [
    "seconds_per_day/seconds_per_hour"
   ]
  },
  {
   "cell_type": "markdown",
   "id": "3eeb597d",
   "metadata": {},
   "source": [
    "### 6. Divide seconds_per_day by seconds_per_hour, using integer (//) division. Did this number agree with the floating-point value from the previous question, aside from the final .0?\n",
    "\n",
    "Yes it does agree."
   ]
  },
  {
   "cell_type": "code",
   "execution_count": 12,
   "id": "c57775df",
   "metadata": {},
   "outputs": [
    {
     "data": {
      "text/plain": [
       "24"
      ]
     },
     "execution_count": 12,
     "metadata": {},
     "output_type": "execute_result"
    }
   ],
   "source": [
    "seconds_per_day//seconds_per_hour"
   ]
  },
  {
   "cell_type": "markdown",
   "id": "b550429b",
   "metadata": {},
   "source": [
    "### 7. Write a generator, genPrimes, that returns the sequence of prime numbers on successive calls to its next() method: 2, 3, 5, 7, 11, ..."
   ]
  },
  {
   "cell_type": "code",
   "execution_count": 65,
   "id": "922d4f52",
   "metadata": {},
   "outputs": [],
   "source": [
    "def genPrimes():\n",
    "    prime = [2]\n",
    "    start = 3\n",
    "    yield prime[0]\n",
    "    while True:\n",
    "        for i in prime:\n",
    "            if (start % i == 0):\n",
    "                break                \n",
    "                \n",
    "        else:\n",
    "            prime.append(start)\n",
    "            yield start\n",
    "        start += 1 "
   ]
  },
  {
   "cell_type": "code",
   "execution_count": 66,
   "id": "4e6e9396",
   "metadata": {},
   "outputs": [],
   "source": [
    "generator = genPrimes()"
   ]
  },
  {
   "cell_type": "code",
   "execution_count": 67,
   "id": "1e0d9088",
   "metadata": {},
   "outputs": [
    {
     "data": {
      "text/plain": [
       "[2, 3, 5, 7, 11, 13, 17, 19, 23, 29]"
      ]
     },
     "execution_count": 67,
     "metadata": {},
     "output_type": "execute_result"
    }
   ],
   "source": [
    "[next(generator) for _ in range(10)]"
   ]
  }
 ],
 "metadata": {
  "kernelspec": {
   "display_name": "Python 3",
   "language": "python",
   "name": "python3"
  },
  "language_info": {
   "codemirror_mode": {
    "name": "ipython",
    "version": 3
   },
   "file_extension": ".py",
   "mimetype": "text/x-python",
   "name": "python",
   "nbconvert_exporter": "python",
   "pygments_lexer": "ipython3",
   "version": "3.7.10"
  }
 },
 "nbformat": 4,
 "nbformat_minor": 5
}
