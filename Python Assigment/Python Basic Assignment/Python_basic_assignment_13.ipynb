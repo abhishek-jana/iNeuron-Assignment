{
 "cells": [
  {
   "cell_type": "markdown",
   "id": "d11fe960",
   "metadata": {},
   "source": [
    "### 1. What advantages do Excel spreadsheets have over CSV spreadsheets?\n",
    "\n",
    "Ans: Advantages of Excel spreadsheets are:\n",
    "\n",
    "- Excel has defined datatypes for their values\n",
    "\n",
    "- Has settings for font size and color\n",
    "\n",
    "- Can have multiple worksheets\n",
    "\n",
    "- Can specify cell widths and heights\n",
    "\n",
    "- Can have merged cells\n",
    "\n",
    "- Can have images and charts.\n"
   ]
  },
  {
   "cell_type": "markdown",
   "id": "68010de1",
   "metadata": {},
   "source": [
    "### 2.What do you pass to csv.reader() and csv.writer() to create reader and writer objects?\n",
    "\n",
    "Ans: We don't pass the csv file directly to csv.reader() instead we first create a open file object using open() function and then pass the file object to the csv.reader().\n",
    "\n",
    "Similarly for csv.writer() we first create a file object using open() function and specifying 'w' inside the function for write operation. Finally, pass the file object to the csv.writer(). "
   ]
  },
  {
   "cell_type": "markdown",
   "id": "7acdb511",
   "metadata": {},
   "source": [
    "### 3. What modes do File objects for reader and writer objects need to be opened in?\n",
    "\n",
    "Ans: For reader, file object should be in 'r' or read mode.\n",
    "\n",
    "For writer, file object should be in 'w' or write mode."
   ]
  },
  {
   "cell_type": "markdown",
   "id": "cdabe09e",
   "metadata": {},
   "source": [
    "### 4. What method takes a list argument and writes it to a CSV file?\n",
    "\n",
    "Ans. **writerow()** method takes a list argument and writes it to a CSV file."
   ]
  },
  {
   "cell_type": "markdown",
   "id": "f4e48671",
   "metadata": {},
   "source": [
    "### 5. What do the keyword arguments delimiter and line terminator do?\n",
    "\n",
    "Ans. **delimiter** is a character that is used between cells in a row. For example, using **delimiter = ','** will use comma between cells.\n",
    "\n",
    "**line terminator** is a character that is used at the end of each row.For example, using **lineterminator = '\\n'** will use a newline  at the end of each row."
   ]
  },
  {
   "cell_type": "markdown",
   "id": "51e33810",
   "metadata": {},
   "source": [
    "### 6. What function takes a string of JSON data and returns a Python data structure?\n",
    "\n",
    "Ans: **json.loads()**  function takes a string of JSON data and returns a Python data structure."
   ]
  },
  {
   "cell_type": "markdown",
   "id": "68f22dea",
   "metadata": {},
   "source": [
    "### 7. What function takes a Python data structure and returns a string of JSON data?\n",
    "\n",
    "Ans: **json.dumps()** function takes a Python data structure and returns a string of JSON data."
   ]
  }
 ],
 "metadata": {
  "kernelspec": {
   "display_name": "Python 3",
   "language": "python",
   "name": "python3"
  },
  "language_info": {
   "codemirror_mode": {
    "name": "ipython",
    "version": 3
   },
   "file_extension": ".py",
   "mimetype": "text/x-python",
   "name": "python",
   "nbconvert_exporter": "python",
   "pygments_lexer": "ipython3",
   "version": "3.7.10"
  }
 },
 "nbformat": 4,
 "nbformat_minor": 5
}
