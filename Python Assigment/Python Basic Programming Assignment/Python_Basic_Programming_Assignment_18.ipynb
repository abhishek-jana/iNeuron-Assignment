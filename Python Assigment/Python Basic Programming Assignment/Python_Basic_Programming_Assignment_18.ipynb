{
 "cells": [
  {
   "cell_type": "markdown",
   "id": "94dc6886",
   "metadata": {},
   "source": [
    "### Question 1. Create a function that takes a list of non-negative integers and strings and return a new list without the strings.\n",
    "\n",
    "Examples\n",
    "\n",
    "filter_list([1, 2, \"a\", \"b\"]) ➞ [1, 2]\n",
    "\n",
    "filter_list([1, \"a\", \"b\", 0, 15]) ➞ [1, 0, 15]\n",
    "\n",
    "filter_list([1, 2, \"aasf\", \"1\", \"123\", 123]) ➞ [1, 2, 123]\n",
    "\n"
   ]
  },
  {
   "cell_type": "code",
   "execution_count": 5,
   "id": "cfd0dd1b",
   "metadata": {},
   "outputs": [],
   "source": [
    "def filter_list(string):\n",
    "    \"\"\"\n",
    "    unction that takes a list of non-negative integers and strings\n",
    "    and return a new list without the strings.\n",
    "    \"\"\"\n",
    "    try:\n",
    "        return [i for i in string if type(i) == int]\n",
    "    except Exception as e:\n",
    "        print ('Error occured : ',e)"
   ]
  },
  {
   "cell_type": "code",
   "execution_count": 8,
   "id": "3890d984",
   "metadata": {},
   "outputs": [
    {
     "data": {
      "text/plain": [
       "[1, 2, 123]"
      ]
     },
     "execution_count": 8,
     "metadata": {},
     "output_type": "execute_result"
    }
   ],
   "source": [
    "filter_list([1, 2, \"aasf\", \"1\", \"123\", 123])"
   ]
  },
  {
   "cell_type": "markdown",
   "id": "b64561f9",
   "metadata": {},
   "source": [
    "### Question 2 The \"Reverser\" takes a string as input and returns that string in reverse order, with the opposite case.\n",
    "Examples\n",
    "\n",
    "reverse(\"Hello World\") ➞ \"DLROw OLLEh\"\n",
    "\n",
    "reverse(\"ReVeRsE\") ➞ \"eSrEvEr\"\n",
    "\n",
    "reverse(\"Radar\") ➞ \"RADAr\""
   ]
  },
  {
   "cell_type": "code",
   "execution_count": 12,
   "id": "424d3c2d",
   "metadata": {},
   "outputs": [],
   "source": [
    "def reverse(string):\n",
    "    \"\"\"\n",
    "    The \"Reverser\" takes a string as input and \n",
    "    returns that string in reverse order, with the opposite case.\n",
    "    \"\"\"\n",
    "    try:\n",
    "        res = []\n",
    "        for char in string:\n",
    "            if char.isupper():\n",
    "                res.append(char.lower())\n",
    "            else:\n",
    "                res.append(char.upper())\n",
    "        return (''.join(res[::-1]))\n",
    "    except Exception as e:\n",
    "        print ('Error occured : ',e)"
   ]
  },
  {
   "cell_type": "code",
   "execution_count": 14,
   "id": "f4fcb821",
   "metadata": {},
   "outputs": [
    {
     "data": {
      "text/plain": [
       "'RADAr'"
      ]
     },
     "execution_count": 14,
     "metadata": {},
     "output_type": "execute_result"
    }
   ],
   "source": [
    "reverse(\"Radar\")"
   ]
  },
  {
   "cell_type": "markdown",
   "id": "13175b65",
   "metadata": {},
   "source": [
    "### Question 3\n",
    "You can assign variables from lists like this:\n",
    "\n",
    "lst = [1, 2, 3, 4, 5, 6]\n",
    "\n",
    "first = lst[0]\n",
    "\n",
    "middle = lst[1:-1]\n",
    "\n",
    "last = lst[-1]\n",
    "\n",
    "print(first) ➞ outputs 1\n",
    "\n",
    "print(middle) ➞ outputs [2, 3, 4, 5]\n",
    "\n",
    "print(last) ➞ outputs 6\n",
    "\n",
    "With Python 3, you can assign variables from lists in a much more succinct way. Create variables first, middle and last from the given list using destructuring assignment (check the Resources tab for some examples), where:\n",
    "\n",
    "first  ➞ 1\n",
    "\n",
    "middle ➞ [2, 3, 4, 5]\n",
    "\n",
    "last ➞ 6\n",
    "\n",
    "Your task is to unpack the list writeyourcodehere into three variables, being first, middle, and last, with middle being everything in between the first and last element. Then print all three variables.\n"
   ]
  },
  {
   "cell_type": "code",
   "execution_count": 19,
   "id": "5eab5cab",
   "metadata": {},
   "outputs": [],
   "source": [
    "def variables(lst):\n",
    "    \"\"\"\n",
    "    unpack the list into three variables, being first, middle, and last,\n",
    "    with middle being everything in between the first and last element. \n",
    "    \"\"\"\n",
    "    try:\n",
    "        first, *middle,last = lst\n",
    "        print(f'First = {first} \\nMiddle = {middle} \\nLast = {last}')\n",
    "    except Exception as e:\n",
    "        print ('Error occured : ',e)"
   ]
  },
  {
   "cell_type": "code",
   "execution_count": 20,
   "id": "f8f33127",
   "metadata": {},
   "outputs": [
    {
     "name": "stdout",
     "output_type": "stream",
     "text": [
      "First = 1 \n",
      "Middle = [2, 3, 4, 5] \n",
      "Last = 6\n"
     ]
    }
   ],
   "source": [
    "variables([1, 2, 3, 4, 5, 6])"
   ]
  },
  {
   "cell_type": "markdown",
   "id": "e400aedf",
   "metadata": {},
   "source": [
    "### Question4. Write a function that calculates the factorial of a number recursively.\n",
    "Examples\n",
    "\n",
    "factorial(5) ➞ 120\n",
    "\n",
    "factorial(3) ➞ 6\n",
    "\n",
    "factorial(1) ➞ 1\n",
    "\n",
    "factorial(0) ➞ 1\n"
   ]
  },
  {
   "cell_type": "code",
   "execution_count": 21,
   "id": "a009f712",
   "metadata": {},
   "outputs": [],
   "source": [
    "def factorial(num):\n",
    "    \"\"\"\n",
    "    function that calculates the factorial of a number recursively.\n",
    "    \"\"\"\n",
    "    try:\n",
    "        if num == 0:\n",
    "            return 1\n",
    "        elif num > 0:\n",
    "            return num*factorial(num-1)\n",
    "        else:\n",
    "            print (\"Number must be non-negative.\")\n",
    "    except Exception as e:\n",
    "        print ('Error occured : ',e)"
   ]
  },
  {
   "cell_type": "code",
   "execution_count": 22,
   "id": "f16efdd7",
   "metadata": {},
   "outputs": [
    {
     "data": {
      "text/plain": [
       "120"
      ]
     },
     "execution_count": 22,
     "metadata": {},
     "output_type": "execute_result"
    }
   ],
   "source": [
    "factorial(5)"
   ]
  },
  {
   "cell_type": "markdown",
   "id": "39dd71cc",
   "metadata": {},
   "source": [
    "### Question 5 Write a function that moves all elements of one type to the end of the list.\n",
    "Examples\n",
    "\n",
    "move_to_end([1, 3, 2, 4, 4, 1], 1) ➞ [3, 2, 4, 4, 1, 1]\n",
    "\n",
    "#Move all the 1s to the end of the array.\n",
    "\n",
    "move_to_end([7, 8, 9, 1, 2, 3, 4], 9) ➞ [7, 8, 1, 2, 3, 4, 9]\n",
    "\n",
    "move_to_end([\"a\", \"a\", \"a\", \"b\"], \"a\") ➞ [\"b\", \"a\", \"a\", \"a\"]"
   ]
  },
  {
   "cell_type": "code",
   "execution_count": 32,
   "id": "2fcd22c2",
   "metadata": {},
   "outputs": [],
   "source": [
    "def move_to_end(lst,ele):\n",
    "    \"\"\"\n",
    "    function that moves all elements of one type to the end of the list.\n",
    "    \"\"\"\n",
    "    try:\n",
    "        it = 0\n",
    "        for i in range(len(lst)):\n",
    "            if lst[i] != ele:\n",
    "                lst[it] = lst[i]\n",
    "                it += 1\n",
    "        while it < len(lst):\n",
    "            lst[it] = ele\n",
    "            it += 1\n",
    "        return lst\n",
    "    except Exception as e:\n",
    "        print ('Error occured : ',e)    "
   ]
  },
  {
   "cell_type": "code",
   "execution_count": 36,
   "id": "ce98f4eb",
   "metadata": {},
   "outputs": [
    {
     "data": {
      "text/plain": [
       "['b', 'a', 'a', 'a']"
      ]
     },
     "execution_count": 36,
     "metadata": {},
     "output_type": "execute_result"
    }
   ],
   "source": [
    "move_to_end([\"a\", \"a\", \"a\", \"b\"], \"a\")"
   ]
  }
 ],
 "metadata": {
  "kernelspec": {
   "display_name": "Python 3",
   "language": "python",
   "name": "python3"
  },
  "language_info": {
   "codemirror_mode": {
    "name": "ipython",
    "version": 3
   },
   "file_extension": ".py",
   "mimetype": "text/x-python",
   "name": "python",
   "nbconvert_exporter": "python",
   "pygments_lexer": "ipython3",
   "version": "3.7.10"
  }
 },
 "nbformat": 4,
 "nbformat_minor": 5
}
