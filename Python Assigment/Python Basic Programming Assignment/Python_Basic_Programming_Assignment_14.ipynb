{
 "cells": [
  {
   "cell_type": "markdown",
   "id": "6c39eb16",
   "metadata": {},
   "source": [
    "### Question 1:\n",
    "\n",
    "\n",
    "\n",
    "Define a class with a generator which can iterate the numbers, which are divisible by 7, between a given range 0 and n."
   ]
  },
  {
   "cell_type": "code",
   "execution_count": 1,
   "id": "2a9fe178",
   "metadata": {},
   "outputs": [],
   "source": [
    "class DivisibleBySeven:\n",
    "    def __init__(self,num):\n",
    "        self.num = num\n",
    "    \n",
    "    def div_seven(self):\n",
    "        try:\n",
    "            for i in range(self.num):\n",
    "                if i%7 == 0:\n",
    "                    yield i\n",
    "        except Exception as e:\n",
    "            print ('Error occured : ',e)"
   ]
  },
  {
   "cell_type": "code",
   "execution_count": 2,
   "id": "9f94e5ce",
   "metadata": {},
   "outputs": [
    {
     "name": "stdout",
     "output_type": "stream",
     "text": [
      "0 7 14 21 28 35 42 49 56 63 70 77 84 91 98 "
     ]
    }
   ],
   "source": [
    "func = DivisibleBySeven(100)\n",
    "\n",
    "for n in func.div_seven():\n",
    "    print (n,end = ' ')"
   ]
  },
  {
   "cell_type": "markdown",
   "id": "8e6a0bb7",
   "metadata": {},
   "source": [
    "### Question 2: Write a program to compute the frequency of the words from the input. The output should output after sorting the key alphanumerically. \n",
    "\n",
    "\n",
    "\n",
    "\n",
    "Suppose the following input is supplied to the program:\n",
    "\n",
    "\n",
    "\n",
    "\n",
    "New to Python or choosing between Python 2 and Python 3? Read Python 2 or Python 3.\n",
    "\n",
    "\n",
    "\n",
    "\n",
    "Then, the output should be:\n",
    "\n",
    "\n",
    "\n",
    "\n",
    "2:2\n",
    "\n",
    "\n",
    "\n",
    "\n",
    "3.:1\n",
    "\n",
    "\n",
    "\n",
    "\n",
    "3?:1\n",
    "\n",
    "\n",
    "\n",
    "\n",
    "New:1\n",
    "\n",
    "\n",
    "\n",
    "\n",
    "Python:5\n",
    "\n",
    "\n",
    "\n",
    "\n",
    "Read:1\n",
    "\n",
    "\n",
    "\n",
    "\n",
    "and:1\n",
    "\n",
    "\n",
    "\n",
    "\n",
    "between:1\n",
    "\n",
    "\n",
    "\n",
    "\n",
    "choosing:1\n",
    "\n",
    "\n",
    "\n",
    "\n",
    "or:2\n",
    "\n",
    "\n",
    "\n",
    "to:1\n"
   ]
  },
  {
   "cell_type": "code",
   "execution_count": 3,
   "id": "315feb93",
   "metadata": {},
   "outputs": [],
   "source": [
    "def count_words():\n",
    "    \"\"\"\n",
    "    program to compute the frequency of the words from the input. \n",
    "    The output should output after sorting the key alphanumerically.\n",
    "    \"\"\"\n",
    "    sent = input('Enter a sentence : ')\n",
    "    try:\n",
    "        sent = sent.split(' ')\n",
    "        word_dict = {}\n",
    "        for i in sent:\n",
    "            if i in word_dict.keys():\n",
    "                word_dict[i] += 1\n",
    "            else:\n",
    "                word_dict[i] = 1\n",
    "                \n",
    "        for key in sorted(word_dict.keys()):\n",
    "            print (f\"\\n{key} : {word_dict[key]}\")\n",
    "    except Exception as e:\n",
    "        print ('Error occured : ',e)"
   ]
  },
  {
   "cell_type": "code",
   "execution_count": 4,
   "id": "8582b002",
   "metadata": {},
   "outputs": [
    {
     "name": "stdout",
     "output_type": "stream",
     "text": [
      "Enter a sentence : New to Python or choosing between Python 2 and Python 3? Read Python 2 or Python 3.\n",
      "\n",
      "2 : 2\n",
      "\n",
      "3. : 1\n",
      "\n",
      "3? : 1\n",
      "\n",
      "New : 1\n",
      "\n",
      "Python : 5\n",
      "\n",
      "Read : 1\n",
      "\n",
      "and : 1\n",
      "\n",
      "between : 1\n",
      "\n",
      "choosing : 1\n",
      "\n",
      "or : 2\n",
      "\n",
      "to : 1\n"
     ]
    }
   ],
   "source": [
    "count_words()"
   ]
  },
  {
   "cell_type": "markdown",
   "id": "a491cb84",
   "metadata": {},
   "source": [
    "### Question 3: Define a class Person and its two child classes: Male and Female. All classes have a method \"getGender\" which can print \"Male\" for Male class and \"Female\" for Female class."
   ]
  },
  {
   "cell_type": "code",
   "execution_count": 5,
   "id": "8669c6ba",
   "metadata": {},
   "outputs": [],
   "source": [
    "class Person:\n",
    "    \n",
    "    def getGender(self):\n",
    "        print (\"Male or Female\")\n",
    "    \n",
    "class Male(Person):\n",
    "    \n",
    "    def getGender(self):\n",
    "        print (\"Male\")\n",
    "    \n",
    "class Female(Person):\n",
    "    \n",
    "    def getGender(self):\n",
    "        print (\"Female\")"
   ]
  },
  {
   "cell_type": "code",
   "execution_count": 6,
   "id": "b926f684",
   "metadata": {},
   "outputs": [
    {
     "name": "stdout",
     "output_type": "stream",
     "text": [
      "Male or Female\n"
     ]
    }
   ],
   "source": [
    "person = Person()\n",
    "person.getGender()"
   ]
  },
  {
   "cell_type": "code",
   "execution_count": 7,
   "id": "6d747475",
   "metadata": {},
   "outputs": [
    {
     "name": "stdout",
     "output_type": "stream",
     "text": [
      "Male\n"
     ]
    }
   ],
   "source": [
    "male = Male()\n",
    "male.getGender()"
   ]
  },
  {
   "cell_type": "code",
   "execution_count": 8,
   "id": "f7694067",
   "metadata": {},
   "outputs": [
    {
     "name": "stdout",
     "output_type": "stream",
     "text": [
      "Female\n"
     ]
    }
   ],
   "source": [
    "female = Female()\n",
    "female.getGender()"
   ]
  },
  {
   "cell_type": "markdown",
   "id": "ea0854e6",
   "metadata": {},
   "source": [
    "### Question 4: Please write a program to generate all sentences where subject is in [\"I\", \"You\"] and verb is in [\"Play\", \"Love\"] and the object is in [\"Hockey\",\"Football\"].\n"
   ]
  },
  {
   "cell_type": "code",
   "execution_count": 9,
   "id": "085216b1",
   "metadata": {},
   "outputs": [],
   "source": [
    "def gen_sent():\n",
    "    try:\n",
    "        subject = [\"I\", \"You\"]\n",
    "        verb = [\"Play\", \"Love\"] \n",
    "        obj = [\"Hockey\",\"Football\"]\n",
    "        \n",
    "        for sub in subject:\n",
    "            for ver in verb:\n",
    "                for ob in obj:\n",
    "                    print (f\"{sub} {ver} {ob}\")\n",
    "\n",
    "    except Exception as e:\n",
    "        print ('Error occured : ',e)"
   ]
  },
  {
   "cell_type": "code",
   "execution_count": 10,
   "id": "b6af25cb",
   "metadata": {},
   "outputs": [
    {
     "name": "stdout",
     "output_type": "stream",
     "text": [
      "I Play Hockey\n",
      "I Play Football\n",
      "I Love Hockey\n",
      "I Love Football\n",
      "You Play Hockey\n",
      "You Play Football\n",
      "You Love Hockey\n",
      "You Love Football\n"
     ]
    }
   ],
   "source": [
    "gen_sent()"
   ]
  },
  {
   "cell_type": "markdown",
   "id": "6c96e96d",
   "metadata": {},
   "source": [
    "### Question 5: Please write a program to compress and decompress the string \"hello world!hello world!hello world!hello world!\".\n",
    "\n"
   ]
  },
  {
   "cell_type": "code",
   "execution_count": 11,
   "id": "b8e3493b",
   "metadata": {},
   "outputs": [],
   "source": [
    "import zlib\n",
    "def compress_decompress(s):\n",
    "    try:\n",
    "        s = s.encode(encoding='UTF-8')\n",
    "        com = zlib.compress(s)\n",
    "        decom = zlib.decompress(com)\n",
    "        \n",
    "        print (f\"Compressed : {com}\")\n",
    "        print (f\"Decompressed : {decom}\")\n",
    "    except Exception as e:\n",
    "        print ('Error occured : ',e)"
   ]
  },
  {
   "cell_type": "code",
   "execution_count": 12,
   "id": "fa91f70a",
   "metadata": {},
   "outputs": [
    {
     "name": "stdout",
     "output_type": "stream",
     "text": [
      "Compressed : b'x\\x9c\\xcbH\\xcd\\xc9\\xc9W(\\xcf/\\xcaIQ\\xcc \\x82\\r\\x00\\xbd[\\x11\\xf5'\n",
      "Decompressed : b'hello world!hello world!hello world!hello world!'\n"
     ]
    }
   ],
   "source": [
    "string = 'hello world!hello world!hello world!hello world!'\n",
    "\n",
    "compress_decompress(string)"
   ]
  },
  {
   "cell_type": "markdown",
   "id": "3adc41ee",
   "metadata": {},
   "source": [
    "### Question 6: Please write a binary search function which searches an item in a sorted list. The function should return the index of element to be searched in the list.\n"
   ]
  },
  {
   "cell_type": "code",
   "execution_count": 13,
   "id": "018aba91",
   "metadata": {},
   "outputs": [],
   "source": [
    "def binary_search(input_list,item):\n",
    "    \"\"\"\n",
    "    binary search function which searches an item in a sorted list.\n",
    "    input_list : sorted list\n",
    "    item : item to be searched  \n",
    "    \"\"\"\n",
    "    try:\n",
    "        start = 0\n",
    "        end = len(input_list) - 1\n",
    "        while (end >= start):\n",
    "            mid = (end + start) // 2\n",
    "            \n",
    "            if input_list[mid] > item:\n",
    "                end = mid - 1\n",
    "            elif input_list[mid] < item:\n",
    "                start = mid + 1\n",
    "            else:\n",
    "                return mid\n",
    "        else:\n",
    "            print ('Item not present in the list.')\n",
    "    except Exception as e:\n",
    "        print ('Error occured : ',e)"
   ]
  },
  {
   "cell_type": "code",
   "execution_count": 14,
   "id": "3a1d5e3b",
   "metadata": {},
   "outputs": [
    {
     "data": {
      "text/plain": [
       "6"
      ]
     },
     "execution_count": 14,
     "metadata": {},
     "output_type": "execute_result"
    }
   ],
   "source": [
    "lst = [0,4,6,8,9,12,23,56,67,68,79,88,134]\n",
    "binary_search(lst,23)"
   ]
  }
 ],
 "metadata": {
  "kernelspec": {
   "display_name": "Python 3",
   "language": "python",
   "name": "python3"
  },
  "language_info": {
   "codemirror_mode": {
    "name": "ipython",
    "version": 3
   },
   "file_extension": ".py",
   "mimetype": "text/x-python",
   "name": "python",
   "nbconvert_exporter": "python",
   "pygments_lexer": "ipython3",
   "version": "3.7.10"
  }
 },
 "nbformat": 4,
 "nbformat_minor": 5
}
