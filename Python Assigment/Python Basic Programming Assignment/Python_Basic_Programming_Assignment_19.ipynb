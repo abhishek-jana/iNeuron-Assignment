{
 "cells": [
  {
   "cell_type": "markdown",
   "id": "4b2e5dad",
   "metadata": {},
   "source": [
    "### Question1 Create a function that takes a string and returns a string in which each character is repeated once.\n",
    "Examples\n",
    "\n",
    "double_char(\"String\") ➞ \"SSttrriinngg\"\n",
    "\n",
    "double_char(\"Hello World!\") ➞ \"HHeelllloo  WWoorrlldd!!\"\n",
    "\n",
    "double_char(\"1234!_ \") ➞ \"11223344!!__  \"\n"
   ]
  },
  {
   "cell_type": "code",
   "execution_count": 4,
   "id": "00286c41",
   "metadata": {},
   "outputs": [],
   "source": [
    "def double_char(string):\n",
    "    \"\"\"\n",
    "    function that takes a string \n",
    "    and returns a string in which each character is repeated once.\n",
    "    \"\"\"\n",
    "    try:\n",
    "        res = []\n",
    "        for i in string:\n",
    "            res.append(i+i)\n",
    "        return ''.join(res)\n",
    "    except Exception as e:\n",
    "        print ('Error occured : ',e) "
   ]
  },
  {
   "cell_type": "code",
   "execution_count": 5,
   "id": "05099b3c",
   "metadata": {},
   "outputs": [
    {
     "data": {
      "text/plain": [
       "'HHeelllloo  WWoorrlldd!!'"
      ]
     },
     "execution_count": 5,
     "metadata": {},
     "output_type": "execute_result"
    }
   ],
   "source": [
    "double_char(\"Hello World!\")"
   ]
  },
  {
   "cell_type": "markdown",
   "id": "7d05a924",
   "metadata": {},
   "source": [
    "### Question2 Create a function that reverses a boolean value and returns the string \"boolean expected\" if another variable type is given.\n",
    "Examples\n",
    "\n",
    "reverse(True) ➞ False\n",
    "\n",
    "reverse(False) ➞ True\n",
    "\n",
    "reverse(0) ➞ \"boolean expected\"\n",
    "\n",
    "reverse(None) ➞ \"boolean expected\"\n"
   ]
  },
  {
   "cell_type": "code",
   "execution_count": 6,
   "id": "d1f7c99b",
   "metadata": {},
   "outputs": [],
   "source": [
    "def reverse(arg):\n",
    "    \"\"\"\n",
    "    function that reverses a boolean value and \n",
    "    returns the string \"boolean expected\" \n",
    "    if another variable type is given.\n",
    "    \"\"\"\n",
    "    try:\n",
    "        if type(arg) == bool:\n",
    "            return not arg\n",
    "        else:\n",
    "            print (\"boolean expected\")\n",
    "    except Exception as e:\n",
    "        print ('Error occured : ',e) "
   ]
  },
  {
   "cell_type": "code",
   "execution_count": 10,
   "id": "8825dfa3",
   "metadata": {},
   "outputs": [
    {
     "name": "stdout",
     "output_type": "stream",
     "text": [
      "boolean expected\n"
     ]
    }
   ],
   "source": [
    "reverse(None)"
   ]
  },
  {
   "cell_type": "markdown",
   "id": "cf63f25a",
   "metadata": {},
   "source": [
    "### Question3\n",
    "Create a function that returns the thickness (in meters) of a piece of paper after folding it n number of times. The paper starts off with a thickness of 0.5mm.\n",
    "Examples\n",
    "\n",
    "num_layers(1) ➞ \"0.001m\"\n",
    "\n",
    "#Paper folded once is 1mm (equal to 0.001m)\n",
    "\n",
    "num_layers(4) ➞ \"0.008m\"\n",
    "\n",
    "#Paper folded 4 times is 8mm (equal to 0.008m)\n",
    "\n",
    "num_layers(21) ➞ \"1048.576m\"\n",
    "\n",
    "#Paper folded 21 times is 1048576mm (equal to 1048.576m)\n"
   ]
  },
  {
   "cell_type": "code",
   "execution_count": 25,
   "id": "184cc9e3",
   "metadata": {},
   "outputs": [],
   "source": [
    "def num_layers(num):\n",
    "    \"\"\"\n",
    "    unction that returns the thickness (in meters) of a piece of paper\n",
    "    after folding it n number of times.\n",
    "    \"\"\"\n",
    "    try:\n",
    "        thickness = 0.5\n",
    "        for _ in range(num):\n",
    "            thickness = thickness*2\n",
    "        print (f'{thickness/1000} m')    \n",
    "    except Exception as e:\n",
    "        print ('Error occured : ',e) "
   ]
  },
  {
   "cell_type": "code",
   "execution_count": 26,
   "id": "a0e33b1e",
   "metadata": {},
   "outputs": [
    {
     "name": "stdout",
     "output_type": "stream",
     "text": [
      "1048.576 m\n"
     ]
    }
   ],
   "source": [
    "num_layers(21)"
   ]
  },
  {
   "cell_type": "markdown",
   "id": "c1a9c3dc",
   "metadata": {},
   "source": [
    "### Question4 Create a function that takes a single string as argument and returns an ordered list containing the indices of all capital letters in the string.\n",
    "Examples\n",
    "\n",
    "index_of_caps(\"eDaBiT\") ➞ [1, 3, 5]\n",
    "\n",
    "index_of_caps(\"eQuINoX\") ➞ [1, 3, 4, 6]\n",
    "\n",
    "index_of_caps(\"determine\") ➞ []\n",
    "\n",
    "index_of_caps(\"STRIKE\") ➞ [0, 1, 2, 3, 4, 5]\n",
    "\n",
    "index_of_caps(\"sUn\") ➞ [1]"
   ]
  },
  {
   "cell_type": "code",
   "execution_count": 33,
   "id": "95965598",
   "metadata": {},
   "outputs": [],
   "source": [
    "def index_of_caps(string):\n",
    "    \"\"\"\n",
    "    function that takes a single string as argument and returns an ordered list \n",
    "    containing the indices of all capital letters in the string.\n",
    "    \"\"\"\n",
    "    try:\n",
    "        res = []\n",
    "        for i in range(len(string)):\n",
    "            if string[i].isupper():\n",
    "                res += [i]\n",
    "        return res\n",
    "    except Exception as e:\n",
    "        print ('Error occured : ',e) "
   ]
  },
  {
   "cell_type": "code",
   "execution_count": 35,
   "id": "52017748",
   "metadata": {},
   "outputs": [
    {
     "data": {
      "text/plain": [
       "[1, 3, 5]"
      ]
     },
     "execution_count": 35,
     "metadata": {},
     "output_type": "execute_result"
    }
   ],
   "source": [
    "index_of_caps(\"eDaBiT\")"
   ]
  },
  {
   "cell_type": "markdown",
   "id": "8668fc42",
   "metadata": {},
   "source": [
    "### Question5 Using list comprehensions, create a function that finds all even numbers from 1 to the given number.\n",
    "Examples\n",
    "\n",
    "find_even_nums(8) ➞ [2, 4, 6, 8]\n",
    "\n",
    "find_even_nums(4) ➞ [2, 4]\n",
    "\n",
    "find_even_nums(2) ➞ [2]\n"
   ]
  },
  {
   "cell_type": "code",
   "execution_count": 36,
   "id": "4e3faf9a",
   "metadata": {},
   "outputs": [],
   "source": [
    "def find_even_nums(num):\n",
    "    \"\"\"\n",
    "    function that finds all even numbers from 1 to the given number.\n",
    "    \"\"\"\n",
    "    try:\n",
    "        res = []\n",
    "        for i in range(1,num+1):\n",
    "            if i%2 == 0:\n",
    "                res += [i]\n",
    "        return res\n",
    "    except Exception as e:\n",
    "        print ('Error occured : ',e) "
   ]
  },
  {
   "cell_type": "code",
   "execution_count": 39,
   "id": "b1c0cc53",
   "metadata": {},
   "outputs": [
    {
     "data": {
      "text/plain": [
       "[2, 4, 6, 8]"
      ]
     },
     "execution_count": 39,
     "metadata": {},
     "output_type": "execute_result"
    }
   ],
   "source": [
    "find_even_nums(8)"
   ]
  }
 ],
 "metadata": {
  "kernelspec": {
   "display_name": "Python 3",
   "language": "python",
   "name": "python3"
  },
  "language_info": {
   "codemirror_mode": {
    "name": "ipython",
    "version": 3
   },
   "file_extension": ".py",
   "mimetype": "text/x-python",
   "name": "python",
   "nbconvert_exporter": "python",
   "pygments_lexer": "ipython3",
   "version": "3.7.10"
  }
 },
 "nbformat": 4,
 "nbformat_minor": 5
}
