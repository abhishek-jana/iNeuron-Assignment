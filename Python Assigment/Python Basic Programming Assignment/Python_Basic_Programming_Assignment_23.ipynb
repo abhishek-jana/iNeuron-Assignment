{
 "cells": [
  {
   "cell_type": "markdown",
   "id": "7d62b371",
   "metadata": {},
   "source": [
    "### Question 1\n",
    "\n",
    "Create a function that takes a number as an argument and returns True or False depending on whether the number is symmetrical or not. A number is symmetrical when it is the same as its reverse.\n",
    "\n",
    "Examples\n",
    "\n",
    "is_symmetrical(7227) ➞ True\n",
    "\n",
    "is_symmetrical(12567) ➞ False\n",
    "\n",
    "is_symmetrical(44444444) ➞ True\n",
    "\n",
    "is_symmetrical(9939) ➞ False\n",
    "\n",
    "is_symmetrical(1112111) ➞ True\n"
   ]
  },
  {
   "cell_type": "code",
   "execution_count": 6,
   "id": "c41f36a4",
   "metadata": {},
   "outputs": [],
   "source": [
    "def is_symmetrical(num):\n",
    "    \"\"\"\n",
    "    function that takes a number as an argument and returns \n",
    "    True or False depending on whether the number is symmetrical or not\n",
    "    \"\"\"\n",
    "    try:\n",
    "        return str(num) == str(num)[::-1]\n",
    "    except Exception as e:\n",
    "        print ('Error occured : ',e)"
   ]
  },
  {
   "cell_type": "code",
   "execution_count": 9,
   "id": "5b2b6a4d",
   "metadata": {},
   "outputs": [
    {
     "data": {
      "text/plain": [
       "True"
      ]
     },
     "execution_count": 9,
     "metadata": {},
     "output_type": "execute_result"
    }
   ],
   "source": [
    "is_symmetrical(1112111)"
   ]
  },
  {
   "cell_type": "markdown",
   "id": "f0beab29",
   "metadata": {},
   "source": [
    "### Question 2\n",
    "\n",
    "Given a string of numbers separated by a comma and space, return the product of the numbers.\n",
    "\n",
    "Examples\n",
    "\n",
    "multiply_nums(\"2, 3\") ➞ 6\n",
    "\n",
    "multiply_nums(\"1, 2, 3, 4\") ➞ 24\n",
    "\n",
    "multiply_nums(\"54, 75, 453, 0\") ➞ 0\n",
    "\n",
    "multiply_nums(\"10, -2\") ➞ -20\n"
   ]
  },
  {
   "cell_type": "code",
   "execution_count": 19,
   "id": "e883465e",
   "metadata": {},
   "outputs": [],
   "source": [
    "from functools import reduce\n",
    "def multiply_nums(string):\n",
    "    \"\"\"\n",
    "    Given a string of numbers separated by a comma and space,\n",
    "    return the product of the numbers.\n",
    "    \"\"\"\n",
    "    try:\n",
    "        string = string.split(',')\n",
    "        nums = [int(i) for i in string]\n",
    "        return reduce(lambda x, y: x * y, nums)\n",
    "    except Exception as e:\n",
    "        print ('Error occured : ',e)"
   ]
  },
  {
   "cell_type": "code",
   "execution_count": 21,
   "id": "a11c55b6",
   "metadata": {},
   "outputs": [
    {
     "data": {
      "text/plain": [
       "-20"
      ]
     },
     "execution_count": 21,
     "metadata": {},
     "output_type": "execute_result"
    }
   ],
   "source": [
    "multiply_nums(\"10, -2\")"
   ]
  },
  {
   "cell_type": "markdown",
   "id": "2bf3b142",
   "metadata": {},
   "source": [
    "### Question 3\n",
    "Create a function that squares every digit of a number.\n",
    "\n",
    "Examples\n",
    "square_digits(9119) ➞ 811181\n",
    "\n",
    "square_digits(2483) ➞ 416649\n",
    "\n",
    "square_digits(3212) ➞ 9414\n",
    "\n",
    "Notes\n",
    "\n",
    "The function receives an integer and must return an integer.\n"
   ]
  },
  {
   "cell_type": "code",
   "execution_count": 27,
   "id": "fd914e7c",
   "metadata": {},
   "outputs": [],
   "source": [
    "def square_digits(integer):\n",
    "    \"\"\"\n",
    "    function that squares every digit of a number.\n",
    "    \"\"\"\n",
    "    try:\n",
    "        string = str(integer)\n",
    "        square = [str(int(i)**2) for i in string]\n",
    "        return int(''.join(square))\n",
    "    except Exception as e:\n",
    "        print ('Error occured : ',e)"
   ]
  },
  {
   "cell_type": "code",
   "execution_count": 30,
   "id": "1377095b",
   "metadata": {},
   "outputs": [
    {
     "data": {
      "text/plain": [
       "9414"
      ]
     },
     "execution_count": 30,
     "metadata": {},
     "output_type": "execute_result"
    }
   ],
   "source": [
    "square_digits(3212)"
   ]
  },
  {
   "cell_type": "markdown",
   "id": "b3333389",
   "metadata": {},
   "source": [
    "### Question 4\n",
    "Create a function that sorts a list and removes all duplicate items from it.\n",
    "\n",
    "Examples\n",
    "\n",
    "setify([1, 3, 3, 5, 5]) ➞ [1, 3, 5]\n",
    "\n",
    "setify([4, 4, 4, 4]) ➞ [4]\n",
    "\n",
    "setify([5, 7, 8, 9, 10, 15]) ➞ [5, 7, 8, 9, 10, 15]\n",
    "\n",
    "setify([3, 3, 3, 2, 1]) ➞ [1, 2, 3]"
   ]
  },
  {
   "cell_type": "code",
   "execution_count": 34,
   "id": "0066bd3e",
   "metadata": {},
   "outputs": [],
   "source": [
    "def setify(lst):\n",
    "    \"\"\"\n",
    "    function that sorts a list and removes all duplicate items from it.\n",
    "    \"\"\"\n",
    "    try:\n",
    "        return sorted(set(lst))\n",
    "    except Exception as e:\n",
    "        print ('Error occured : ',e)"
   ]
  },
  {
   "cell_type": "code",
   "execution_count": 38,
   "id": "4aae02a0",
   "metadata": {},
   "outputs": [
    {
     "data": {
      "text/plain": [
       "[1, 2, 3]"
      ]
     },
     "execution_count": 38,
     "metadata": {},
     "output_type": "execute_result"
    }
   ],
   "source": [
    "setify([3, 3, 3, 2, 1])"
   ]
  },
  {
   "cell_type": "markdown",
   "id": "5a4bb81d",
   "metadata": {},
   "source": [
    "### Question 5\n",
    "Create a function that returns the mean of all digits.\n",
    "\n",
    "Examples\n",
    "mean(42) ➞ 3\n",
    "\n",
    "mean(12345) ➞ 3\n",
    "\n",
    "mean(666) ➞ 6\n",
    "\n",
    "Notes\n",
    "\n",
    "- The mean of all digits is the sum of digits / how many digits there are (e.g. mean of digits in 512 is (5+1+2)/3(number of digits) = 8/3=2).\n",
    "- The mean will always be an integer.\n"
   ]
  },
  {
   "cell_type": "code",
   "execution_count": 47,
   "id": "e62f565d",
   "metadata": {},
   "outputs": [],
   "source": [
    "def mean(num):\n",
    "    \"\"\"\n",
    "    function that returns the mean of all digits.\n",
    "    \"\"\"\n",
    "    try:\n",
    "        if num == 0:\n",
    "            return 0\n",
    "        else:\n",
    "            digit = []\n",
    "            while num > 0:\n",
    "                digit.append(num%10)\n",
    "                num = num//10\n",
    "            return int(sum(digit)/len(digit))\n",
    "    except Exception as e:\n",
    "        print ('Error occured : ',e)"
   ]
  },
  {
   "cell_type": "code",
   "execution_count": 50,
   "id": "72148db1",
   "metadata": {},
   "outputs": [
    {
     "data": {
      "text/plain": [
       "6"
      ]
     },
     "execution_count": 50,
     "metadata": {},
     "output_type": "execute_result"
    }
   ],
   "source": [
    "mean(666)"
   ]
  }
 ],
 "metadata": {
  "kernelspec": {
   "display_name": "Python 3",
   "language": "python",
   "name": "python3"
  },
  "language_info": {
   "codemirror_mode": {
    "name": "ipython",
    "version": 3
   },
   "file_extension": ".py",
   "mimetype": "text/x-python",
   "name": "python",
   "nbconvert_exporter": "python",
   "pygments_lexer": "ipython3",
   "version": "3.7.10"
  }
 },
 "nbformat": 4,
 "nbformat_minor": 5
}
