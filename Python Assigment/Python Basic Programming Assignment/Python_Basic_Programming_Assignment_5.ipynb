{
 "cells": [
  {
   "cell_type": "markdown",
   "id": "2c7b65c1",
   "metadata": {},
   "source": [
    "### 1. Write a Python Program to Find LCM?"
   ]
  },
  {
   "cell_type": "code",
   "execution_count": 1,
   "id": "434b8b95",
   "metadata": {},
   "outputs": [],
   "source": [
    "def LCM():\n",
    "    x = input(\"Enter first number :\")\n",
    "    y = input(\"Enter second number :\")\n",
    "    try:\n",
    "        x = float(x)\n",
    "        y = float(y)\n",
    "        if (x > y):\n",
    "            lcm = x\n",
    "        else:\n",
    "            lcm = y\n",
    "        while True:\n",
    "            if lcm % x == 0 and lcm % y == 0:\n",
    "                print (f'LCM of {x} and {y} is: {lcm}')\n",
    "                break\n",
    "            lcm += 1\n",
    "    except Exception as e:\n",
    "        print ('Error occured :',e)           "
   ]
  },
  {
   "cell_type": "code",
   "execution_count": 4,
   "id": "114de9a2",
   "metadata": {},
   "outputs": [
    {
     "name": "stdout",
     "output_type": "stream",
     "text": [
      "Enter first number :6\n",
      "Enter second number :9\n",
      "LCM of 6.0 and 9.0 is: 18.0\n"
     ]
    }
   ],
   "source": [
    "LCM()"
   ]
  },
  {
   "cell_type": "markdown",
   "id": "f8fdee20",
   "metadata": {},
   "source": [
    "### 2. Write a Python Program to Find HCF?"
   ]
  },
  {
   "cell_type": "code",
   "execution_count": 7,
   "id": "1ce0abdc",
   "metadata": {},
   "outputs": [],
   "source": [
    "def HCF():\n",
    "    x = input(\"Enter first number :\")\n",
    "    y = input(\"Enter second number :\")\n",
    "    try:\n",
    "        x = int(x)\n",
    "        y = int(y)\n",
    "        if (x > y):\n",
    "            small = x\n",
    "        else:\n",
    "            small = y\n",
    "        for i in range(1,small+1):\n",
    "            if x % i == 0 and y % i == 0:\n",
    "                hcf = i\n",
    "        print (f'HCF of {x} and {y} is: {hcf}')\n",
    "    except Exception as e:\n",
    "        print ('Error occured :',e)  "
   ]
  },
  {
   "cell_type": "code",
   "execution_count": 8,
   "id": "37c4f714",
   "metadata": {},
   "outputs": [
    {
     "name": "stdout",
     "output_type": "stream",
     "text": [
      "Enter first number :45\n",
      "Enter second number :1325\n",
      "HCF of 45 and 1325 is: 5\n"
     ]
    }
   ],
   "source": [
    "HCF()"
   ]
  },
  {
   "cell_type": "markdown",
   "id": "910aabec",
   "metadata": {},
   "source": [
    "### 3. Write a Python Program to Convert Decimal to Binary, Octal and Hexadecimal?"
   ]
  },
  {
   "cell_type": "code",
   "execution_count": 20,
   "id": "c08a7d90",
   "metadata": {},
   "outputs": [],
   "source": [
    "def convert():\n",
    "    num = input('Enter an integer :')\n",
    "    meth = input(\"Choose a conversion. \\nOptions are 'binary','octal', and 'hexadecimal' : \")\n",
    "    try:\n",
    "        num = int(num)\n",
    "        meth = str(meth)\n",
    "        if meth == 'binary':\n",
    "            print (f\"{num} converted to binary is : {bin(num)}\")\n",
    "        elif meth == 'octal':\n",
    "            print (f\"{num} converted to octal is : {oct(num)}\")\n",
    "        elif meth == 'hexadecimal':\n",
    "            print (f\"{num} converted to hexadecimal is : {hex(num)}\")\n",
    "        else:\n",
    "            print (\"Choose between 'binary','octal', and 'hexadecimal'\")\n",
    "    except Exception as e:\n",
    "        print ('Error occured :',e)\n",
    "            \n",
    "        \n",
    "        "
   ]
  },
  {
   "cell_type": "code",
   "execution_count": 21,
   "id": "26999def",
   "metadata": {},
   "outputs": [
    {
     "name": "stdout",
     "output_type": "stream",
     "text": [
      "Enter an integer :6\n",
      "Choose a conversion. \n",
      "Options are 'binary','octal', and 'hexadecimal' : octal\n",
      "6 converted to octal is : 0o6\n"
     ]
    }
   ],
   "source": [
    "convert()"
   ]
  },
  {
   "cell_type": "markdown",
   "id": "effd3101",
   "metadata": {},
   "source": [
    "### 4. Write a Python Program To Find ASCII value of a character?"
   ]
  },
  {
   "cell_type": "code",
   "execution_count": 27,
   "id": "3fe0dde4",
   "metadata": {},
   "outputs": [],
   "source": [
    "def FindASCII():\n",
    "    char = input('Enter a character : ')\n",
    "    try:\n",
    "        char = str(char)\n",
    "        print (f\"{char} converted to ASCII is : {ord(char)}\")\n",
    "    except Exception as e:\n",
    "        print ('Error occured :',e)"
   ]
  },
  {
   "cell_type": "code",
   "execution_count": 28,
   "id": "c540da2b",
   "metadata": {},
   "outputs": [
    {
     "name": "stdout",
     "output_type": "stream",
     "text": [
      "Enter a character : q\n",
      "q converted to ASCII is : 113\n"
     ]
    }
   ],
   "source": [
    "FindASCII()"
   ]
  },
  {
   "cell_type": "markdown",
   "id": "40403a07",
   "metadata": {},
   "source": [
    "### 5.Write a Python Program to Make a Simple Calculator with 4 basic mathematical operations?"
   ]
  },
  {
   "cell_type": "code",
   "execution_count": 45,
   "id": "2e3a7b20",
   "metadata": {},
   "outputs": [],
   "source": [
    "# addition\n",
    "def add(args):\n",
    "    try:\n",
    "        tot = 0\n",
    "        for i in args:\n",
    "            tot += i\n",
    "        return tot\n",
    "    except Exception as e:\n",
    "        print ('Error occured :',e)\n",
    "\n",
    "# Subtract\n",
    "def subtract(x,y):\n",
    "    try:\n",
    "        return x - y\n",
    "    except Exception as e:\n",
    "        print ('Error occured :',e)\n",
    "        \n",
    "# division\n",
    "def division(x,y):\n",
    "    try:\n",
    "        return x / y\n",
    "    except Exception as e:\n",
    "        print ('Error occured :',e)\n",
    "        \n",
    "# multiply\n",
    "def multiply(args):\n",
    "    try:\n",
    "        tot = 1\n",
    "        for i in args:\n",
    "            tot = tot*i\n",
    "        return tot\n",
    "    except Exception as e:\n",
    "        print ('Error occured :',e)\n",
    "        \n",
    "def calculator():\n",
    "\n",
    "    op = input(\"Choose a mathematical operation. \\nOptions are 'add','subtract', 'multiply', and 'divide' : \")\n",
    "    try:\n",
    "        op = str(op)\n",
    "        if op in ('subtract', 'division'):\n",
    "            num1 = float(input(\"Enter first number : \"))\n",
    "            num2 = float(input(\"Enter second number : \"))\n",
    "            if op == 'subtract':\n",
    "                print (f\"{num1} - {num2} = {subtract(num1,num2)}\")\n",
    "            if op == 'division':\n",
    "                print (f\"{num1} / {num2} = {division(num1,num2)}\")\n",
    "        elif op in ('add', 'multiply'):\n",
    "            input_list = input(\"Enter the numbers separated by space : \")\n",
    "            input_list = input_list.split()\n",
    "            input_list = [int(i) for i in input_list]\n",
    "            if op == 'add':\n",
    "                print (f\"Addition of {input_list} = {add(input_list)}\")\n",
    "            if op == 'multiply':\n",
    "                print (f\"Multiplication of {input_list} = {multiply(input_list)}\")\n",
    "        else:\n",
    "            print (\"Choose between 'add','subtract', 'multiply', and 'divide'\")\n",
    "            \n",
    "    except Exception as e:\n",
    "        print ('Error occured :',e)\n",
    "    "
   ]
  },
  {
   "cell_type": "code",
   "execution_count": 46,
   "id": "66975bda",
   "metadata": {},
   "outputs": [
    {
     "name": "stdout",
     "output_type": "stream",
     "text": [
      "Choose a mathematical operation. \n",
      "Options are 'add','subtract', 'multiply', and 'divide' : add\n",
      "Enter the numbers separated by space : 2 4 5 6 7\n",
      "Addition of [2, 4, 5, 6, 7] = 24\n"
     ]
    }
   ],
   "source": [
    "calculator()"
   ]
  },
  {
   "cell_type": "code",
   "execution_count": 47,
   "id": "c93f1da0",
   "metadata": {},
   "outputs": [
    {
     "name": "stdout",
     "output_type": "stream",
     "text": [
      "Choose a mathematical operation. \n",
      "Options are 'add','subtract', 'multiply', and 'divide' : subtract\n",
      "Enter first number : 10\n",
      "Enter second number : 5\n",
      "10.0 - 5.0 = 5.0\n"
     ]
    }
   ],
   "source": [
    "calculator()"
   ]
  }
 ],
 "metadata": {
  "kernelspec": {
   "display_name": "Python 3",
   "language": "python",
   "name": "python3"
  },
  "language_info": {
   "codemirror_mode": {
    "name": "ipython",
    "version": 3
   },
   "file_extension": ".py",
   "mimetype": "text/x-python",
   "name": "python",
   "nbconvert_exporter": "python",
   "pygments_lexer": "ipython3",
   "version": "3.7.10"
  }
 },
 "nbformat": 4,
 "nbformat_minor": 5
}
