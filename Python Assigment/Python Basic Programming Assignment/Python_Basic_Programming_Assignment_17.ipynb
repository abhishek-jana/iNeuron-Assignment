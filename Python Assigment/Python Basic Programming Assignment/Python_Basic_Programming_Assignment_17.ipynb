{
 "cells": [
  {
   "cell_type": "markdown",
   "id": "5acdb159",
   "metadata": {},
   "source": [
    "### Question1. Create a function that takes three arguments a, b, c and returns the sum of the numbers that are evenly divided by c from the range a, b inclusive.\n",
    "Examples\n",
    "evenly_divisible(1, 10, 20) ➞ 0\n",
    "\n",
    "#No number between 1 and 10 can be evenly divided by 20.\n",
    "\n",
    "evenly_divisible(1, 10, 2) ➞ 30\n",
    "\n",
    "#2 + 4 + 6 + 8 + 10 = 30\n",
    "\n",
    "evenly_divisible(1, 10, 3) ➞ 18\n",
    "\n",
    "#3 + 6 + 9 = 18\n"
   ]
  },
  {
   "cell_type": "code",
   "execution_count": 1,
   "id": "21819ba2",
   "metadata": {},
   "outputs": [],
   "source": [
    "def evenly_divisible(a,b,c):\n",
    "    \"\"\"\n",
    "    returns the sum of the numbers that are evenly divided by c \n",
    "    from the range a, b inclusive\n",
    "    \"\"\"\n",
    "    try:\n",
    "        total = 0\n",
    "        for i in range(a,b+1):\n",
    "            if i % c == 0:\n",
    "                total += i\n",
    "        return total\n",
    "    except Exception as e:\n",
    "        print ('Error occured : ',e)"
   ]
  },
  {
   "cell_type": "code",
   "execution_count": 4,
   "id": "2d9a696b",
   "metadata": {},
   "outputs": [
    {
     "data": {
      "text/plain": [
       "30"
      ]
     },
     "execution_count": 4,
     "metadata": {},
     "output_type": "execute_result"
    }
   ],
   "source": [
    "evenly_divisible(1,10,2)"
   ]
  },
  {
   "cell_type": "markdown",
   "id": "bb604954",
   "metadata": {},
   "source": [
    "### Question2. Create a function that returns True if a given inequality expression is correct and False otherwise.\n",
    "Examples\n",
    "\n",
    "correct_signs(\"3 < 7 < 11\") ➞ True\n",
    "\n",
    "correct_signs(\"13 > 44 > 33 > 1\") ➞ False\n",
    "\n",
    "correct_signs(\"1 < 2 < 6 < 9 > 3\") ➞ True\n"
   ]
  },
  {
   "cell_type": "code",
   "execution_count": 52,
   "id": "bc58c5b7",
   "metadata": {},
   "outputs": [],
   "source": [
    "def correct_signs(condition):\n",
    "    \"\"\"\n",
    "    function that returns True if a given inequality expression is correct\n",
    "    and False otherwise.\n",
    "    \"\"\"\n",
    "    try:\n",
    "        condition = condition.split() # must be separated by whitespace\n",
    "        size = len(condition)\n",
    "        i = 0\n",
    "        res = True\n",
    "        while (i < size-2):\n",
    "            if condition[i+1] == '<':\n",
    "                res = int(condition[i]) < int(condition[i+2])\n",
    "                if not res:\n",
    "                    return res\n",
    "                    \n",
    "            elif condition[i+1] == '>':\n",
    "                res = int(condition[i]) > int(condition[i+2])\n",
    "                if not res:\n",
    "                    return res\n",
    "                    \n",
    "            else: \n",
    "                print (\"Please enter the correct condition!\") \n",
    "            i = i + 2\n",
    "        return res\n",
    "    except Exception as e:\n",
    "        print ('Error occured : ',e)\n"
   ]
  },
  {
   "cell_type": "code",
   "execution_count": 61,
   "id": "90857239",
   "metadata": {},
   "outputs": [
    {
     "data": {
      "text/plain": [
       "False"
      ]
     },
     "execution_count": 61,
     "metadata": {},
     "output_type": "execute_result"
    }
   ],
   "source": [
    "correct_signs(\"13 > 44 > 33 > 1\")"
   ]
  },
  {
   "cell_type": "markdown",
   "id": "4af45d49",
   "metadata": {},
   "source": [
    "### Question3. Create a function that replaces all the vowels in a string with a specified character.\n",
    "Examples\n",
    "\n",
    "replace_vowels(\"the aardvark\", \"#\") ➞ \"th# ##rdv#rk\"\n",
    "\n",
    "replace_vowels(\"minnie mouse\", \"?\") ➞ \"m?nn?? m??s?\"\n",
    "\n",
    "replace_vowels(\"shakespeare\", \"*\") ➞ \"sh*k*sp**r*\"\n"
   ]
  },
  {
   "cell_type": "code",
   "execution_count": 66,
   "id": "f847cb81",
   "metadata": {},
   "outputs": [],
   "source": [
    "def replace_vowels(string,sign):\n",
    "    \"\"\"\n",
    "    function that replaces all the vowels in a string with a specified character.\n",
    "    \"\"\"\n",
    "    try:\n",
    "        vowels = ['a','e','i','o','u']\n",
    "        res = []\n",
    "        for i in string:\n",
    "            if i in vowels:\n",
    "                res.append(sign)\n",
    "            else:\n",
    "                res.append(i)\n",
    "        return ''.join(res)\n",
    "    except Exception as e:\n",
    "        print ('Error occured : ',e)\n"
   ]
  },
  {
   "cell_type": "code",
   "execution_count": 70,
   "id": "458d546b",
   "metadata": {},
   "outputs": [
    {
     "data": {
      "text/plain": [
       "'sh*k*sp**r*'"
      ]
     },
     "execution_count": 70,
     "metadata": {},
     "output_type": "execute_result"
    }
   ],
   "source": [
    "replace_vowels(\"shakespeare\", \"*\")"
   ]
  },
  {
   "cell_type": "markdown",
   "id": "463ddcf1",
   "metadata": {},
   "source": [
    "### Question4. Write a function that calculates the factorial of a number recursively.\n",
    "Examples\n",
    "\n",
    "factorial(5) ➞ 120\n",
    "\n",
    "factorial(3) ➞ 6\n",
    "\n",
    "factorial(1) ➞ 1\n",
    "\n",
    "factorial(0) ➞ 1\n"
   ]
  },
  {
   "cell_type": "code",
   "execution_count": 3,
   "id": "677ca488",
   "metadata": {},
   "outputs": [],
   "source": [
    "def factorial(num):\n",
    "    \"\"\"\n",
    "    function that calculates the factorial of a number recursively.\n",
    "    \"\"\"\n",
    "    try:\n",
    "        if num == 0:\n",
    "            return 1\n",
    "        elif num > 0:\n",
    "            return num*factorial(num-1)\n",
    "        else:\n",
    "            print (\"Number must be non-negative.\")\n",
    "    except Exception as e:\n",
    "        print ('Error occured : ',e)"
   ]
  },
  {
   "cell_type": "code",
   "execution_count": 7,
   "id": "a8967198",
   "metadata": {},
   "outputs": [
    {
     "data": {
      "text/plain": [
       "1"
      ]
     },
     "execution_count": 7,
     "metadata": {},
     "output_type": "execute_result"
    }
   ],
   "source": [
    "factorial(0)"
   ]
  },
  {
   "cell_type": "markdown",
   "id": "82f1e8ae",
   "metadata": {},
   "source": [
    "### Question 5. Hamming distance is the number of characters that differ between two strings.\n",
    "To illustrate:\n",
    "\n",
    "String1: \"abcbba\"\n",
    "\n",
    "String2: \"abcbda\"\n",
    "\n",
    "Hamming Distance: 1 - \"b\" vs. \"d\" is the only difference.\n",
    "\n",
    "Create a function that computes the hamming distance between two strings.\n",
    "\n",
    "Examples\n",
    "\n",
    "hamming_distance(\"abcde\", \"bcdef\") ➞ 5\n",
    "\n",
    "hamming_distance(\"abcde\", \"abcde\") ➞ 0\n",
    "\n",
    "hamming_distance(\"strong\", \"strung\") ➞ 1\n"
   ]
  },
  {
   "cell_type": "code",
   "execution_count": 19,
   "id": "f72cc6e5",
   "metadata": {},
   "outputs": [],
   "source": [
    "def hamming_distance(string1,string2):\n",
    "    \"\"\"\n",
    "    Hamming distance is the number of characters that differ between two strings.\n",
    "    \"\"\"\n",
    "    try:    \n",
    "        total = 0\n",
    "        for i in range(len(string1)):\n",
    "            if (string1[i] != string2[i]):\n",
    "                total += 1\n",
    "        return total\n",
    "    except Exception as e:\n",
    "        print ('Error occured : ',e)"
   ]
  },
  {
   "cell_type": "code",
   "execution_count": 21,
   "id": "26ca4785",
   "metadata": {},
   "outputs": [
    {
     "data": {
      "text/plain": [
       "0"
      ]
     },
     "execution_count": 21,
     "metadata": {},
     "output_type": "execute_result"
    }
   ],
   "source": [
    "hamming_distance(\"abcde\", \"abcde\")"
   ]
  },
  {
   "cell_type": "code",
   "execution_count": 15,
   "id": "199e956d",
   "metadata": {},
   "outputs": [
    {
     "data": {
      "text/plain": [
       "'a'"
      ]
     },
     "execution_count": 15,
     "metadata": {},
     "output_type": "execute_result"
    }
   ],
   "source": [
    "a[0]"
   ]
  },
  {
   "cell_type": "code",
   "execution_count": null,
   "id": "607bd161",
   "metadata": {},
   "outputs": [],
   "source": []
  }
 ],
 "metadata": {
  "kernelspec": {
   "display_name": "Python 3",
   "language": "python",
   "name": "python3"
  },
  "language_info": {
   "codemirror_mode": {
    "name": "ipython",
    "version": 3
   },
   "file_extension": ".py",
   "mimetype": "text/x-python",
   "name": "python",
   "nbconvert_exporter": "python",
   "pygments_lexer": "ipython3",
   "version": "3.7.10"
  }
 },
 "nbformat": 4,
 "nbformat_minor": 5
}
