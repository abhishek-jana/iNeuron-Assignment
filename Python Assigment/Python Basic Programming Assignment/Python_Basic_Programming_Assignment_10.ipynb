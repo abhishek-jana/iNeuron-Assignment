{
 "cells": [
  {
   "cell_type": "markdown",
   "id": "205d6966",
   "metadata": {},
   "source": [
    "### 1. Write a Python program to find sum of elements in list?"
   ]
  },
  {
   "cell_type": "code",
   "execution_count": 1,
   "id": "32927bb2",
   "metadata": {},
   "outputs": [],
   "source": [
    "def sumele(lst):\n",
    "    \"\"\"\n",
    "    Python program to find sum of elements in list.\n",
    "    lst: input list.\n",
    "    \"\"\"\n",
    "    try:\n",
    "        return sum(lst)\n",
    "    except Exception as e:\n",
    "        print ('Error occured : ',e)"
   ]
  },
  {
   "cell_type": "code",
   "execution_count": 2,
   "id": "bf560ce8",
   "metadata": {},
   "outputs": [
    {
     "data": {
      "text/plain": [
       "82"
      ]
     },
     "execution_count": 2,
     "metadata": {},
     "output_type": "execute_result"
    }
   ],
   "source": [
    "sumele([2,3,45,7,8,9,8])"
   ]
  },
  {
   "cell_type": "markdown",
   "id": "34372026",
   "metadata": {},
   "source": [
    "### 2. Write a Python program to  Multiply all numbers in the list?"
   ]
  },
  {
   "cell_type": "code",
   "execution_count": 3,
   "id": "0994d3bc",
   "metadata": {},
   "outputs": [],
   "source": [
    "def multiply(lst):\n",
    "    \"\"\"\n",
    "    Python program to Multiply all numbers in the list.\n",
    "    lst: input list.\n",
    "    \"\"\"\n",
    "    try:\n",
    "        res = 1\n",
    "        for i in lst:\n",
    "            res *= i\n",
    "        return res\n",
    "    except Exception as e:\n",
    "        print ('Error occured : ',e)"
   ]
  },
  {
   "cell_type": "code",
   "execution_count": 4,
   "id": "7381bdca",
   "metadata": {},
   "outputs": [
    {
     "data": {
      "text/plain": [
       "360"
      ]
     },
     "execution_count": 4,
     "metadata": {},
     "output_type": "execute_result"
    }
   ],
   "source": [
    "multiply([3,4,5,6])"
   ]
  },
  {
   "cell_type": "markdown",
   "id": "1e0a557c",
   "metadata": {},
   "source": [
    "### 3. Write a Python program to find smallest number in a list?"
   ]
  },
  {
   "cell_type": "code",
   "execution_count": 5,
   "id": "7bcfd0ac",
   "metadata": {},
   "outputs": [],
   "source": [
    "def smallest(lst):\n",
    "    \"\"\"\n",
    "    Python program to find smallest number in a list.\n",
    "    lst: input list.\n",
    "    \"\"\"\n",
    "    try:\n",
    "        return min(lst)\n",
    "    except Exception as e:\n",
    "        print ('Error occured : ',e)"
   ]
  },
  {
   "cell_type": "code",
   "execution_count": 6,
   "id": "a11306cc",
   "metadata": {},
   "outputs": [
    {
     "data": {
      "text/plain": [
       "2"
      ]
     },
     "execution_count": 6,
     "metadata": {},
     "output_type": "execute_result"
    }
   ],
   "source": [
    "smallest([2,3,45,7,8,9,8])"
   ]
  },
  {
   "cell_type": "markdown",
   "id": "3e6f21d3",
   "metadata": {},
   "source": [
    "### 4. Write a Python program to find largest number in a list?"
   ]
  },
  {
   "cell_type": "code",
   "execution_count": 7,
   "id": "48a1d6c3",
   "metadata": {},
   "outputs": [],
   "source": [
    "def largest(lst):\n",
    "    \"\"\"\n",
    "    Python program to find largest number in a list.\n",
    "    lst: input list.\n",
    "    \"\"\"\n",
    "    try:\n",
    "        return max(lst)\n",
    "    except Exception as e:\n",
    "        print ('Error occured : ',e)"
   ]
  },
  {
   "cell_type": "code",
   "execution_count": 8,
   "id": "04a696c3",
   "metadata": {},
   "outputs": [
    {
     "data": {
      "text/plain": [
       "45"
      ]
     },
     "execution_count": 8,
     "metadata": {},
     "output_type": "execute_result"
    }
   ],
   "source": [
    "largest([2,3,45,7,8,9,8])"
   ]
  },
  {
   "cell_type": "markdown",
   "id": "d08af918",
   "metadata": {},
   "source": [
    "### 5. Write a Python program to find second largest number in a list?"
   ]
  },
  {
   "cell_type": "code",
   "execution_count": 9,
   "id": "1dd3219b",
   "metadata": {},
   "outputs": [],
   "source": [
    "def second_largest(lst):\n",
    "    \"\"\"\n",
    "    Python program to find second largest number in a list.\n",
    "    lst: input list.\n",
    "    \"\"\"\n",
    "    try:\n",
    "        largest = max(lst)\n",
    "        lst.remove(largest)\n",
    "        return max(lst)\n",
    "    except Exception as e:\n",
    "        print ('Error occured : ',e)"
   ]
  },
  {
   "cell_type": "code",
   "execution_count": 10,
   "id": "b6c398d0",
   "metadata": {},
   "outputs": [
    {
     "data": {
      "text/plain": [
       "9"
      ]
     },
     "execution_count": 10,
     "metadata": {},
     "output_type": "execute_result"
    }
   ],
   "source": [
    "second_largest([2,3,45,7,8,9,8])"
   ]
  },
  {
   "cell_type": "markdown",
   "id": "7266d855",
   "metadata": {},
   "source": [
    "### 6. Write a Python program to find N largest elements from a list?"
   ]
  },
  {
   "cell_type": "code",
   "execution_count": 11,
   "id": "31ece18b",
   "metadata": {},
   "outputs": [],
   "source": [
    "def nlargest(lst,n):\n",
    "    \"\"\"\n",
    "    Python program to find n largest number in a list.\n",
    "    lst: input list.\n",
    "    n: order\n",
    "    \"\"\"\n",
    "    try:\n",
    "        for _ in range(n):\n",
    "            largest = max(lst)\n",
    "            lst.remove(largest)\n",
    "        return max(lst)\n",
    "    except Exception as e:\n",
    "        print ('Error occured : ',e)"
   ]
  },
  {
   "cell_type": "code",
   "execution_count": 12,
   "id": "ec8505f6",
   "metadata": {},
   "outputs": [
    {
     "data": {
      "text/plain": [
       "3"
      ]
     },
     "execution_count": 12,
     "metadata": {},
     "output_type": "execute_result"
    }
   ],
   "source": [
    "nlargest([2,3,45,7,8,9,8],5)"
   ]
  },
  {
   "cell_type": "markdown",
   "id": "d5e69df7",
   "metadata": {},
   "source": [
    "### 7. Write a Python program to print even numbers in a list?"
   ]
  },
  {
   "cell_type": "code",
   "execution_count": 13,
   "id": "a7ee33be",
   "metadata": {},
   "outputs": [],
   "source": [
    "def even(lst):\n",
    "    \"\"\"\n",
    "    Python program to print even numbers in a list.\n",
    "    lst: input list.\n",
    "    \"\"\"\n",
    "    try:\n",
    "        even_list = []\n",
    "        for i in lst:\n",
    "            if i % 2 == 0:\n",
    "                even_list.append(i)\n",
    "        print (f\"List of even numbers are: {even_list}\")\n",
    "    except Exception as e:\n",
    "        print ('Error occured : ',e)"
   ]
  },
  {
   "cell_type": "code",
   "execution_count": 14,
   "id": "6ea3e11d",
   "metadata": {},
   "outputs": [
    {
     "name": "stdout",
     "output_type": "stream",
     "text": [
      "List of even numbers are: [2, 8, 8]\n"
     ]
    }
   ],
   "source": [
    "even([2,3,45,7,8,9,8])"
   ]
  },
  {
   "cell_type": "markdown",
   "id": "df8c6f4d",
   "metadata": {},
   "source": [
    "### 8. Write a Python program to print odd numbers in a List?"
   ]
  },
  {
   "cell_type": "code",
   "execution_count": 15,
   "id": "23f5c4a9",
   "metadata": {},
   "outputs": [],
   "source": [
    "def odd(lst):\n",
    "    \"\"\"\n",
    "    Python program to print odd numbers in a list.\n",
    "    lst: input list.\n",
    "    \"\"\"\n",
    "    try:\n",
    "        odd_list = []\n",
    "        for i in lst:\n",
    "            if i % 2 != 0:\n",
    "                odd_list.append(i)\n",
    "        print (f\"List of odd numbers are: {odd_list}\")\n",
    "    except Exception as e:\n",
    "        print ('Error occured : ',e)"
   ]
  },
  {
   "cell_type": "code",
   "execution_count": 16,
   "id": "91a9b948",
   "metadata": {},
   "outputs": [
    {
     "name": "stdout",
     "output_type": "stream",
     "text": [
      "List of odd numbers are: [3, 45, 7, 9]\n"
     ]
    }
   ],
   "source": [
    "odd([2,3,45,7,8,9,8])"
   ]
  },
  {
   "cell_type": "markdown",
   "id": "109783fb",
   "metadata": {},
   "source": [
    "### 9. Write a Python program to Remove empty List from List?"
   ]
  },
  {
   "cell_type": "code",
   "execution_count": 17,
   "id": "01ca0cbe",
   "metadata": {},
   "outputs": [],
   "source": [
    "def remove_empty_list(lst):\n",
    "    \"\"\"\n",
    "    Python program to remove empty List from List.\n",
    "    lst: input list.\n",
    "    \"\"\"\n",
    "    try:\n",
    "        non_empty_list = []\n",
    "        for i in lst:\n",
    "            if i:\n",
    "                non_empty_list.append(i)\n",
    "        print (f\"The non empty list is: {non_empty_list}\")\n",
    "    except Exception as e:\n",
    "        print ('Error occured : ',e)"
   ]
  },
  {
   "cell_type": "code",
   "execution_count": 18,
   "id": "4964f336",
   "metadata": {},
   "outputs": [
    {
     "name": "stdout",
     "output_type": "stream",
     "text": [
      "The non empty list is: [[2, 4, 6, 7], 3, ['a', 'b', '3'], [45, 7], 8, 9, 8]\n"
     ]
    }
   ],
   "source": [
    "remove_empty_list([[2,4,6,7],[],3,[],['a','b','3'],[45,7],8,9,8])"
   ]
  },
  {
   "cell_type": "markdown",
   "id": "5b1b0392",
   "metadata": {},
   "source": [
    "### 10. Write a Python program to Cloning or Copying a list?"
   ]
  },
  {
   "cell_type": "code",
   "execution_count": 19,
   "id": "042b73a6",
   "metadata": {},
   "outputs": [],
   "source": [
    "def clone(lst):\n",
    "    \"\"\"\n",
    "    Python program to Cloning or Copying a list.\n",
    "    lst: input list.\n",
    "    \"\"\"\n",
    "    try:\n",
    "        cloned_list = lst.copy()\n",
    "        return cloned_list\n",
    "    except Exception as e:\n",
    "        print ('Error occured : ',e)"
   ]
  },
  {
   "cell_type": "code",
   "execution_count": 20,
   "id": "6158eafb",
   "metadata": {},
   "outputs": [
    {
     "data": {
      "text/plain": [
       "[[2, 4, 6, 7], [], 3, [], ['a', 'b', '3'], [45, 7], 8, 9, 8]"
      ]
     },
     "execution_count": 20,
     "metadata": {},
     "output_type": "execute_result"
    }
   ],
   "source": [
    "clone([[2,4,6,7],[],3,[],['a','b','3'],[45,7],8,9,8])"
   ]
  },
  {
   "cell_type": "markdown",
   "id": "52e68352",
   "metadata": {},
   "source": [
    "### 11. Write a Python program to Count occurrences of an element in a list?"
   ]
  },
  {
   "cell_type": "code",
   "execution_count": 21,
   "id": "cab6b3d3",
   "metadata": {},
   "outputs": [],
   "source": [
    "def count_occurances(lst,ele):\n",
    "    \"\"\"\n",
    "    Python program to Count occurrences of an element in a list.\n",
    "    lst: input list.\n",
    "    ele : element to match\n",
    "    \"\"\"\n",
    "    try:\n",
    "        count = 0\n",
    "        for i in lst:\n",
    "            if i == ele:\n",
    "                count += 1\n",
    "        print (f'Number of occurances of {ele} is : {count}')\n",
    "    except Exception as e:\n",
    "        print ('Error occured : ',e)"
   ]
  },
  {
   "cell_type": "code",
   "execution_count": 22,
   "id": "88ad79f5",
   "metadata": {},
   "outputs": [
    {
     "name": "stdout",
     "output_type": "stream",
     "text": [
      "Number of occurances of 3 is : 4\n"
     ]
    }
   ],
   "source": [
    "count_occurances([1,2,3,3,4,5,3,3,7,7,9,1,1,2,5,2,5,7,2],3)"
   ]
  }
 ],
 "metadata": {
  "kernelspec": {
   "display_name": "Python 3",
   "language": "python",
   "name": "python3"
  },
  "language_info": {
   "codemirror_mode": {
    "name": "ipython",
    "version": 3
   },
   "file_extension": ".py",
   "mimetype": "text/x-python",
   "name": "python",
   "nbconvert_exporter": "python",
   "pygments_lexer": "ipython3",
   "version": "3.7.10"
  }
 },
 "nbformat": 4,
 "nbformat_minor": 5
}
