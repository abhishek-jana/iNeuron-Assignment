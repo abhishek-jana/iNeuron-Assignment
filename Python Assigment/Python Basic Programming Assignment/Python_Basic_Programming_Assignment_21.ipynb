{
 "cells": [
  {
   "cell_type": "markdown",
   "id": "9e6f8886",
   "metadata": {},
   "source": [
    "Question1\n",
    "Write a function that takes a list and a number as arguments. Add the number to the end of the list, then remove the first element of the list. The function should then return the updated list.\n",
    "Examples\n",
    "next_in_line([5, 6, 7, 8, 9], 1) ➞ [6, 7, 8, 9, 1]\n",
    "\n",
    "next_in_line([7, 6, 3, 23, 17], 10) ➞ [6, 3, 23, 17, 10]\n",
    "\n",
    "next_in_line([1, 10, 20, 42 ], 6) ➞ [10, 20, 42, 6]\n",
    "\n",
    "next_in_line([], 6) ➞ \"No list has been selected\"\n"
   ]
  },
  {
   "cell_type": "code",
   "execution_count": 12,
   "id": "9b9e0c65",
   "metadata": {},
   "outputs": [],
   "source": [
    "def add_indexes(lst,ele):\n",
    "    \"\"\"\n",
    "    function that takes a list and a number as arguments. \n",
    "    Add the number to the end of the list, \n",
    "    then remove the first element of the list.  \n",
    "    \"\"\"\n",
    "    try:\n",
    "        _,*last = lst\n",
    "        last.append(ele)\n",
    "        return last\n",
    "    except ValueError:\n",
    "        print ('No list has been selected') \n",
    "    except Exception as e:\n",
    "        print ('Error occured : ',e) "
   ]
  },
  {
   "cell_type": "code",
   "execution_count": 17,
   "id": "d259620d",
   "metadata": {},
   "outputs": [
    {
     "data": {
      "text/plain": [
       "[10, 20, 42, 6]"
      ]
     },
     "execution_count": 17,
     "metadata": {},
     "output_type": "execute_result"
    }
   ],
   "source": [
    "add_indexes([1, 10, 20, 42],6)"
   ]
  },
  {
   "cell_type": "markdown",
   "id": "158b1a4f",
   "metadata": {},
   "source": [
    "### Question2 Create the function that takes a list of dictionaries and returns the sum of people's budgets.\n",
    "Examples\n",
    "\n",
    "get_budgets([\n",
    "\n",
    "  { \"name\": \"John\", \"age\": 21, \"budget\": 23000 },\n",
    "  \n",
    "  { \"name\": \"Steve\",  \"age\": 32, \"budget\": 40000 },\n",
    "  \n",
    "  { \"name\": \"Martin\",  \"age\": 16, \"budget\": 2700 }\n",
    "  \n",
    "]) ➞ 65700\n",
    "\n",
    "get_budgets([\n",
    "\n",
    "  { \"name\": \"John\",  \"age\": 21, \"budget\": 29000 },\n",
    "  \n",
    "  { \"name\": \"Steve\",  \"age\": 32, \"budget\": 32000 },\n",
    "  \n",
    "  { \"name\": \"Martin\",  \"age\": 16, \"budget\": 1600 }\n",
    "  \n",
    "]) ➞ 62600\n"
   ]
  },
  {
   "cell_type": "code",
   "execution_count": 20,
   "id": "b7e93039",
   "metadata": {},
   "outputs": [],
   "source": [
    "def get_budgets(list_of_dicts):\n",
    "    \"\"\"\n",
    "    function that takes a list of dictionaries \n",
    "    and returns the sum of people's budgets.\n",
    "    \"\"\"\n",
    "    try:\n",
    "        total = 0\n",
    "        for i in list_of_dicts:\n",
    "            total += i[\"budget\"]\n",
    "        return total\n",
    "    except Exception as e:\n",
    "        print ('Error occured : ',e) "
   ]
  },
  {
   "cell_type": "code",
   "execution_count": 22,
   "id": "f0809f3b",
   "metadata": {},
   "outputs": [
    {
     "data": {
      "text/plain": [
       "65700"
      ]
     },
     "execution_count": 22,
     "metadata": {},
     "output_type": "execute_result"
    }
   ],
   "source": [
    "get_budgets([\n",
    "\n",
    "{ \"name\": \"John\", \"age\": 21, \"budget\": 23000 },\n",
    "\n",
    "{ \"name\": \"Steve\", \"age\": 32, \"budget\": 40000 },\n",
    "\n",
    "{ \"name\": \"Martin\", \"age\": 16, \"budget\": 2700 }\n",
    "\n",
    "])"
   ]
  },
  {
   "cell_type": "markdown",
   "id": "a3b15943",
   "metadata": {},
   "source": [
    "### Question3 Create a function that takes a string and returns a string with its letters in alphabetical order.\n",
    "Examples\n",
    "\n",
    "alphabet_soup(\"hello\") ➞ \"ehllo\"\n",
    "\n",
    "alphabet_soup(\"edabit\") ➞ \"abdeit\"\n",
    "\n",
    "alphabet_soup(\"hacker\") ➞ \"acehkr\"\n",
    "\n",
    "alphabet_soup(\"geek\") ➞ \"eegk\"\n",
    "\n",
    "alphabet_soup(\"javascript\") ➞ \"aacijprstv\"\n"
   ]
  },
  {
   "cell_type": "code",
   "execution_count": 28,
   "id": "d5e8306e",
   "metadata": {},
   "outputs": [],
   "source": [
    "def alphabet_soup(string):\n",
    "    \"\"\"\n",
    "    function that takes a string \n",
    "    and returns a string with its letters in alphabetical order.\n",
    "    \"\"\"\n",
    "    try:\n",
    "        sorted_str_list = sorted(string)\n",
    "        return ''.join(sorted_str_list)\n",
    "    except Exception as e:\n",
    "        print ('Error occured : ',e) "
   ]
  },
  {
   "cell_type": "code",
   "execution_count": 31,
   "id": "97293b6e",
   "metadata": {},
   "outputs": [
    {
     "data": {
      "text/plain": [
       "'eegk'"
      ]
     },
     "execution_count": 31,
     "metadata": {},
     "output_type": "execute_result"
    }
   ],
   "source": [
    "alphabet_soup(\"geek\")"
   ]
  },
  {
   "cell_type": "markdown",
   "id": "fd224d40",
   "metadata": {},
   "source": [
    "### Question4 Suppose that you invest $10,000 for 10 years at an interest rate of 6\\% compounded monthly. What will be the value of your investment at the end of the 10 year period?\n",
    "\n",
    "Create a function that accepts the principal p, the term in years t, the interest rate r, and the number of compounding periods per year n. The function returns the value at the end of term rounded to the nearest cent.\n",
    "For the example above:\n",
    "\n",
    "compound_interest(10000, 10, 0.06, 12) ➞ 18193.97\n",
    "\n",
    "Note that the interest rate is given as a decimal and n=12 because with monthly compounding there are 12 periods per year. Compounding can also be done annually, quarterly, weekly, or daily.\n",
    "\n",
    "Examples\n",
    "\n",
    "compound_interest(100, 1, 0.05, 1) ➞ 105.0\n",
    "\n",
    "compound_interest(3500, 15, 0.1, 4) ➞ 15399.26\n",
    "\n",
    "compound_interest(100000, 20, 0.15, 365) ➞ 2007316.26\n"
   ]
  },
  {
   "cell_type": "code",
   "execution_count": 34,
   "id": "bbdd21b7",
   "metadata": {},
   "outputs": [],
   "source": [
    "def compound_interest(p,t,r,n):\n",
    "    \"\"\"\n",
    "    function to calculate compound interest\n",
    "    INPUT:\n",
    "    p : principal\n",
    "    t : the term in years \n",
    "    r : the interest rate\n",
    "    n : the number of compounding periods per year \n",
    "    \n",
    "    \"\"\"\n",
    "    try:\n",
    "        interest = p * (1 + (r / n))**(n*t)\n",
    "        return round(interest, ndigits = 2)\n",
    "    except Exception as e:\n",
    "        print ('Error occured : ',e) "
   ]
  },
  {
   "cell_type": "code",
   "execution_count": 36,
   "id": "936880f1",
   "metadata": {},
   "outputs": [
    {
     "data": {
      "text/plain": [
       "15399.26"
      ]
     },
     "execution_count": 36,
     "metadata": {},
     "output_type": "execute_result"
    }
   ],
   "source": [
    "compound_interest(3500, 15, 0.1, 4)"
   ]
  },
  {
   "cell_type": "markdown",
   "id": "54089c4e",
   "metadata": {},
   "source": [
    "### Question5 Write a function that takes a list of elements and returns only the integers.\n",
    "Examples\n",
    "\n",
    "return_only_integer([9, 2, \"space\", \"car\", \"lion\", 16]) ➞ [9, 2, 16]\n",
    "\n",
    "return_only_integer([\"hello\", 81, \"basketball\", 123, \"fox\"]) ➞ [81, 123]\n",
    "\n",
    "return_only_integer([10, \"121\", 56, 20, \"car\", 3, \"lion\"]) ➞ [10, 56, 20, 3]\n",
    "\n",
    "return_only_integer([\"String\",  True,  3.3,  1]) ➞ [1]\n"
   ]
  },
  {
   "cell_type": "code",
   "execution_count": 37,
   "id": "6b2c6ae5",
   "metadata": {},
   "outputs": [],
   "source": [
    "def return_only_integer(lst):\n",
    "    \n",
    "    \"\"\"\n",
    "    function that takes a list of elements and returns only the integers.\n",
    "    \"\"\"\n",
    "    try:\n",
    "        return list(filter(lambda x: type(x) == int,lst))\n",
    "    except Exception as e:\n",
    "        print ('Error occured : ',e) "
   ]
  },
  {
   "cell_type": "code",
   "execution_count": null,
   "id": "efc76588",
   "metadata": {},
   "outputs": [],
   "source": [
    "return_only_integer()"
   ]
  }
 ],
 "metadata": {
  "kernelspec": {
   "display_name": "Python 3",
   "language": "python",
   "name": "python3"
  },
  "language_info": {
   "codemirror_mode": {
    "name": "ipython",
    "version": 3
   },
   "file_extension": ".py",
   "mimetype": "text/x-python",
   "name": "python",
   "nbconvert_exporter": "python",
   "pygments_lexer": "ipython3",
   "version": "3.7.10"
  }
 },
 "nbformat": 4,
 "nbformat_minor": 5
}
