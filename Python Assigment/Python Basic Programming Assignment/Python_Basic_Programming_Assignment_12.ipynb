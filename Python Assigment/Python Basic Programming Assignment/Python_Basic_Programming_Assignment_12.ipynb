{
 "cells": [
  {
   "cell_type": "markdown",
   "id": "1ea863d7",
   "metadata": {},
   "source": [
    "### 1. Write a Python program to Extract Unique values dictionary values?"
   ]
  },
  {
   "cell_type": "code",
   "execution_count": 4,
   "id": "e1a761cb",
   "metadata": {},
   "outputs": [],
   "source": [
    "def unique(dictionary):\n",
    "    \"\"\"\n",
    "    Python program to Extract Unique values dictionary values.\n",
    "    dictionary: input dictionary\n",
    "    \"\"\"\n",
    "    try:\n",
    "        list_ele = []\n",
    "        for vals in dictionary.values():\n",
    "            list_ele += vals\n",
    "        return list(set(list_ele))\n",
    "            \n",
    "        \n",
    "    except Exception as e:\n",
    "        print ('Error occured : ',e)"
   ]
  },
  {
   "cell_type": "code",
   "execution_count": 7,
   "id": "ebe7965c",
   "metadata": {},
   "outputs": [],
   "source": [
    "d = {'a' : [1,2,3,4],'b' : [4, 2, 10, 11,],'c' : [5, 12, 1, 9]}"
   ]
  },
  {
   "cell_type": "code",
   "execution_count": 8,
   "id": "a97627b3",
   "metadata": {},
   "outputs": [
    {
     "data": {
      "text/plain": [
       "[1, 2, 3, 4, 5, 9, 10, 11, 12]"
      ]
     },
     "execution_count": 8,
     "metadata": {},
     "output_type": "execute_result"
    }
   ],
   "source": [
    "unique(d)"
   ]
  },
  {
   "cell_type": "markdown",
   "id": "377989af",
   "metadata": {},
   "source": [
    "### 2. Write a Python program to find the sum of all items in a dictionary?"
   ]
  },
  {
   "cell_type": "code",
   "execution_count": 10,
   "id": "04b01f3c",
   "metadata": {},
   "outputs": [],
   "source": [
    "def sum_dict(dictionary):\n",
    "    \"\"\"\n",
    "    Python program to find the sum of all items in a dictionary.\n",
    "    dictionary: input dictionary\n",
    "    \"\"\"\n",
    "    try:\n",
    "        total = 0\n",
    "        for vals in dictionary.values():\n",
    "            total += sum(vals)\n",
    "        return total\n",
    "            \n",
    "        \n",
    "    except Exception as e:\n",
    "        print ('Error occured : ',e)"
   ]
  },
  {
   "cell_type": "code",
   "execution_count": 11,
   "id": "3a79ab95",
   "metadata": {},
   "outputs": [
    {
     "data": {
      "text/plain": [
       "64"
      ]
     },
     "execution_count": 11,
     "metadata": {},
     "output_type": "execute_result"
    }
   ],
   "source": [
    "d = {'a' : [1,2,3,4],'b' : [4, 2, 10, 11,],'c' : [5, 12, 1, 9]}\n",
    "sum_dict(d)"
   ]
  },
  {
   "cell_type": "markdown",
   "id": "e93557f9",
   "metadata": {},
   "source": [
    "### 3. Write a Python program to Merging two Dictionaries?"
   ]
  },
  {
   "cell_type": "code",
   "execution_count": 74,
   "id": "d9a1d178",
   "metadata": {},
   "outputs": [],
   "source": [
    "def merge_dict(dict1,dict2):\n",
    "    \"\"\"\n",
    "    Python program to Merging two Dictionaries\n",
    "    dict1: dictionary 1\n",
    "    dict2 : dictionary 2\n",
    "    \"\"\"\n",
    "    try:\n",
    "        dict3 = dict1.copy()\n",
    "        dict3.update(dict2)\n",
    "        return dict3\n",
    "    except Exception as e:\n",
    "        print ('Error occured : ',e)\n",
    "        "
   ]
  },
  {
   "cell_type": "code",
   "execution_count": 75,
   "id": "9df131cf",
   "metadata": {},
   "outputs": [
    {
     "data": {
      "text/plain": [
       "{'a': 1, 'b': 2, 'c': 3, 'd': 4}"
      ]
     },
     "execution_count": 75,
     "metadata": {},
     "output_type": "execute_result"
    }
   ],
   "source": [
    "d1 = {'a': 1, 'b': 2}\n",
    "d2 = {'c': 3, 'd': 4}\n",
    "\n",
    "merge_dict(d1,d2)"
   ]
  },
  {
   "cell_type": "markdown",
   "id": "5b387638",
   "metadata": {},
   "source": [
    "### 4. Write a Python program to convert key-values list to flat dictionary?"
   ]
  },
  {
   "cell_type": "code",
   "execution_count": 80,
   "id": "1a20ee15",
   "metadata": {},
   "outputs": [],
   "source": [
    "def cenvert_dict(keys,values):\n",
    "    \"\"\"\n",
    "    Python program to convert key-values list to flat dictionary\n",
    "    keys: list 1\n",
    "    values : list 2\n",
    "    \"\"\"\n",
    "    try:\n",
    "        res = dict(zip(keys,values))\n",
    "        return res\n",
    "    except Exception as e:\n",
    "        print ('Error occured : ',e)"
   ]
  },
  {
   "cell_type": "code",
   "execution_count": 81,
   "id": "e8b365a5",
   "metadata": {},
   "outputs": [
    {
     "data": {
      "text/plain": [
       "{1: 'a', 2: 'b', 3: 'c', 4: 'd', 5: 'e'}"
      ]
     },
     "execution_count": 81,
     "metadata": {},
     "output_type": "execute_result"
    }
   ],
   "source": [
    "a = [1,2,3,4,5]\n",
    "b = ['a','b','c','d','e']\n",
    "cenvert_dict(a,b)"
   ]
  },
  {
   "cell_type": "markdown",
   "id": "f14ad6df",
   "metadata": {},
   "source": [
    "### 5. Write a Python program to insertion at the beginning in OrderedDict?"
   ]
  },
  {
   "cell_type": "code",
   "execution_count": 94,
   "id": "6c1a6e76",
   "metadata": {},
   "outputs": [],
   "source": [
    "from collections import OrderedDict\n",
    "\n",
    "def insert_val(ordered,new_val):\n",
    "    \"\"\"\n",
    "    Python program to convert key-values list to flat dictionary\n",
    "    ordered: ordered dictionary\n",
    "    new_val : new dictionary value to be added\n",
    "    \"\"\"\n",
    "    try:\n",
    "        new_dict = OrderedDict(list(new_val.items()) + list(ordered.items()))\n",
    "        return new_dict\n",
    "    except Exception as e:\n",
    "        print ('Error occured : ',e)"
   ]
  },
  {
   "cell_type": "code",
   "execution_count": 95,
   "id": "5e69a219",
   "metadata": {},
   "outputs": [
    {
     "data": {
      "text/plain": [
       "OrderedDict([('a', 'apple'), ('b', 'ball'), ('c', 'cat'), ('d', 'dog')])"
      ]
     },
     "execution_count": 95,
     "metadata": {},
     "output_type": "execute_result"
    }
   ],
   "source": [
    "od = OrderedDict([('b','ball'),('c','cat'),('d','dog')])\n",
    "val = {'a':'apple'}\n",
    "\n",
    "insert_val(od,val)"
   ]
  },
  {
   "cell_type": "markdown",
   "id": "ba0382be",
   "metadata": {},
   "source": [
    "### 6. Write a Python program to check order of character in string using OrderedDict()?"
   ]
  },
  {
   "cell_type": "code",
   "execution_count": 98,
   "id": "c0c9b3ef",
   "metadata": {},
   "outputs": [],
   "source": [
    "from collections import OrderedDict\n",
    "\n",
    "def insert_val(input_string,char):\n",
    "    \"\"\"\n",
    "    Python program to check order of character in string using OrderedDict()\n",
    "    input_string: input string to match\n",
    "    char : input characters to match the pattern\n",
    "    \"\"\"\n",
    "    try:\n",
    "        res_dict = OrderedDict.fromkeys(input_string)\n",
    "        size = 0\n",
    "        for key,val in res_dict.items():\n",
    "            if (key == char[size]):\n",
    "                size += 1\n",
    "            if (size == (len(char))):\n",
    "                return True\n",
    "        return False\n",
    "\n",
    "    except Exception as e:\n",
    "        print ('Error occured : ',e)"
   ]
  },
  {
   "cell_type": "code",
   "execution_count": 99,
   "id": "79e9ee08",
   "metadata": {},
   "outputs": [
    {
     "data": {
      "text/plain": [
       "True"
      ]
     },
     "execution_count": 99,
     "metadata": {},
     "output_type": "execute_result"
    }
   ],
   "source": [
    "inp_str = 'Hello how are you?'\n",
    "c = 'lo'\n",
    "\n",
    "insert_val(inp_str,c)"
   ]
  },
  {
   "cell_type": "markdown",
   "id": "c3b55e83",
   "metadata": {},
   "source": [
    "### 7. Write a Python program to sort Python Dictionaries by Key or Value?"
   ]
  },
  {
   "cell_type": "code",
   "execution_count": 115,
   "id": "1eee722d",
   "metadata": {},
   "outputs": [],
   "source": [
    "def sort_dict(input_dict,sortby = 'key'):\n",
    "    \"\"\"\n",
    "    Python program to sort Python Dictionaries by Key or Value\n",
    "    input_dict: input dictionary\n",
    "    sortby : sort by key or value. (default is key)\n",
    "    \"\"\"\n",
    "    try:\n",
    "        if sortby == 'key':\n",
    "            print (sorted(input_dict.keys()))\n",
    "            \n",
    "        elif sortby == 'value':\n",
    "            print (sorted(input_dict.values()))\n",
    "        else:\n",
    "            print (\"Enter correct method!\")\n",
    "    except Exception as e:\n",
    "        print ('Error occured : ',e)"
   ]
  },
  {
   "cell_type": "code",
   "execution_count": 117,
   "id": "b3b40c2b",
   "metadata": {},
   "outputs": [
    {
     "name": "stdout",
     "output_type": "stream",
     "text": [
      "['apple', 'ball', 'cat', 'dog']\n"
     ]
    }
   ],
   "source": [
    "d = {'b':'ball','c':'cat','d':'dog','a':'apple'}\n",
    "sort_dict(d,sortby='value')"
   ]
  }
 ],
 "metadata": {
  "kernelspec": {
   "display_name": "Python 3",
   "language": "python",
   "name": "python3"
  },
  "language_info": {
   "codemirror_mode": {
    "name": "ipython",
    "version": 3
   },
   "file_extension": ".py",
   "mimetype": "text/x-python",
   "name": "python",
   "nbconvert_exporter": "python",
   "pygments_lexer": "ipython3",
   "version": "3.7.10"
  }
 },
 "nbformat": 4,
 "nbformat_minor": 5
}
