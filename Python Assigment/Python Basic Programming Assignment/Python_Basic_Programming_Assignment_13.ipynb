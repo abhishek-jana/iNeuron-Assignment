{
 "cells": [
  {
   "cell_type": "markdown",
   "id": "e3d852b3",
   "metadata": {},
   "source": [
    "### 1.Write a program that calculates and prints the value according to the given formula:\n",
    "\n",
    "Q = Square root of [(2 * C * D)/H]\n",
    "\n",
    "Following are the fixed values of C and H:\n",
    "\n",
    "C is 50. H is 30.\n",
    "\n",
    "D is the variable whose values should be input to your program in a comma-separated sequence.\n",
    "\n",
    "Example\n",
    "\n",
    "Let us assume the following comma separated input sequence is given to the program:\n",
    "\n",
    "100,150,180\n",
    "\n",
    "The output of the program should be:\n",
    "\n",
    "18,22,24\n"
   ]
  },
  {
   "cell_type": "code",
   "execution_count": 74,
   "id": "f010f0fc",
   "metadata": {},
   "outputs": [],
   "source": [
    "import math\n",
    "\n",
    "def evaluate(c = 50,h = 30):\n",
    "    \"\"\"\n",
    "    calculates and prints the value according to the given formula    \n",
    "    Square root of [(2 * C * D)/H]\n",
    "    \"\"\"\n",
    "    \n",
    "    d = input('Enter comma separated input sequence: ')\n",
    "    \n",
    "    try:\n",
    "        d = d.split(',')\n",
    "        d = list(map(int, d))\n",
    "        q = lambda x : math.sqrt((2*c*x)/h)\n",
    "        res = list(map(q,d))        \n",
    "        return list(map(round,res))\n",
    "    except Exception as e:\n",
    "        print ('Error occured : ',e)"
   ]
  },
  {
   "cell_type": "code",
   "execution_count": 75,
   "id": "a561c46d",
   "metadata": {},
   "outputs": [
    {
     "name": "stdout",
     "output_type": "stream",
     "text": [
      "Enter comma separated input sequence: 100,150,180\n"
     ]
    },
    {
     "data": {
      "text/plain": [
       "[18, 22, 24]"
      ]
     },
     "execution_count": 75,
     "metadata": {},
     "output_type": "execute_result"
    }
   ],
   "source": [
    "evaluate()"
   ]
  },
  {
   "cell_type": "markdown",
   "id": "a716e5c4",
   "metadata": {},
   "source": [
    "### 2. Write a program which takes 2 digits, X,Y as input and generates a 2-dimensional array. The element value in the i-th row and j-th column of the array should be i*j.\n",
    "\n",
    "Note: i=0,1.., X-1; j=0,1,¡Y-1.\n",
    "\n",
    "Example\n",
    "\n",
    "Suppose the following inputs are given to the program:\n",
    "\n",
    "3,5\n",
    "\n",
    "Then, the output of the program should be:\n",
    "\n",
    "[[0, 0, 0, 0, 0], [0, 1, 2, 3, 4], [0, 2, 4, 6, 8]] "
   ]
  },
  {
   "cell_type": "code",
   "execution_count": 42,
   "id": "96616dbb",
   "metadata": {},
   "outputs": [],
   "source": [
    "def two_dim_array():\n",
    "    \"\"\"\n",
    "    program which takes 2 digits, X,Y as input and generates a 2-dimensional array.\n",
    "    \"\"\"\n",
    "    \n",
    "    d = input('Enter comma separated 2 input: ')\n",
    "    \n",
    "    try:\n",
    "        d = d.split(',')\n",
    "        x,y = list(map(int, d))\n",
    "        res = [[0 for col in range(y)] for row in range(x)]     \n",
    "        for i in range(x):\n",
    "            for j in range(y):\n",
    "                res[i][j] = i*j\n",
    "        return res\n",
    "    except Exception as e:\n",
    "        print ('Error occured : ',e)"
   ]
  },
  {
   "cell_type": "code",
   "execution_count": 43,
   "id": "f9397ed7",
   "metadata": {},
   "outputs": [
    {
     "name": "stdout",
     "output_type": "stream",
     "text": [
      "Enter comma separated 2 input: 3,5\n"
     ]
    },
    {
     "data": {
      "text/plain": [
       "[[0, 0, 0, 0, 0], [0, 1, 2, 3, 4], [0, 2, 4, 6, 8]]"
      ]
     },
     "execution_count": 43,
     "metadata": {},
     "output_type": "execute_result"
    }
   ],
   "source": [
    "two_dim_array()"
   ]
  },
  {
   "cell_type": "markdown",
   "id": "63c32f24",
   "metadata": {},
   "source": [
    "### Question 3: Write a program that accepts a comma separated sequence of words as input and prints the words in a comma-separated sequence after sorting them alphabetically.\n",
    "\n",
    "\n",
    "\n",
    "\n",
    "Suppose the following input is supplied to the program:\n",
    "\n",
    "\n",
    "\n",
    "\n",
    "without,hello,bag,world\n",
    "\n",
    "\n",
    "\n",
    "\n",
    "Then, the output should be:\n",
    "\n",
    "\n",
    "\n",
    "bag,hello,without,world\n"
   ]
  },
  {
   "cell_type": "code",
   "execution_count": 69,
   "id": "3cd09d70",
   "metadata": {},
   "outputs": [],
   "source": [
    "def alpha_sort():\n",
    "    \"\"\"\n",
    "    program that accepts a comma separated sequence of words as input\n",
    "    and prints the words in a comma-separated sequence after sorting\n",
    "    them alphabetically.\n",
    "    \"\"\"\n",
    "    d = input('Enter comma separated input sequence: ')\n",
    "    try:\n",
    "        d = d.split(',')\n",
    "        print (\"\\nAfter sorting alphabetically \\n\")\n",
    "        \n",
    "        print(','.join(sorted(d)))\n",
    "    except Exception as e:\n",
    "        print ('Error occured : ',e)"
   ]
  },
  {
   "cell_type": "code",
   "execution_count": 70,
   "id": "a21b6be5",
   "metadata": {},
   "outputs": [
    {
     "name": "stdout",
     "output_type": "stream",
     "text": [
      "Enter comma separated input sequence: without,hello,bag,world\n",
      "\n",
      "After sorting alphabetically \n",
      "\n",
      "bag,hello,without,world\n"
     ]
    }
   ],
   "source": [
    "alpha_sort()"
   ]
  },
  {
   "cell_type": "markdown",
   "id": "0d6f7135",
   "metadata": {},
   "source": [
    "### Question 4: Write a program that accepts a sequence of whitespace separated words as input and prints the words after removing all duplicate words and sorting them alphanumerically.\n",
    "\n",
    "\n",
    "\n",
    "\n",
    "Suppose the following input is supplied to the program:\n",
    "\n",
    "\n",
    "\n",
    "\n",
    "hello world and practice makes perfect and hello world again\n",
    "\n",
    "\n",
    "\n",
    "\n",
    "Then, the output should be:\n",
    "\n",
    "\n",
    "\n",
    "again and hello makes perfect practice world"
   ]
  },
  {
   "cell_type": "code",
   "execution_count": 87,
   "id": "e1e25655",
   "metadata": {},
   "outputs": [],
   "source": [
    "def alphanum_sort():\n",
    "    \"\"\"\n",
    "    program that accepts a whitespace separated sequence of words as input\n",
    "    and prints the words after removing all duplicate words and sorting \n",
    "    them alphanumerically.\n",
    "    \"\"\"\n",
    "    d = input('Enter comma separated input sequence: ')\n",
    "    try:\n",
    "        d = d.split(' ')\n",
    "        d = list(set(d))\n",
    "        print (\"\\nAfter sorting alphanumerically \\n\")\n",
    "        print (' '.join(sorted(d)))\n",
    "    except Exception as e:\n",
    "        print ('Error occured : ',e)"
   ]
  },
  {
   "cell_type": "code",
   "execution_count": 89,
   "id": "af920705",
   "metadata": {},
   "outputs": [
    {
     "name": "stdout",
     "output_type": "stream",
     "text": [
      "Enter comma separated input sequence: hello world and practice makes perfect and hello world again\n",
      "\n",
      "After sorting alphanumerically \n",
      "\n",
      "again and hello makes perfect practice world\n"
     ]
    }
   ],
   "source": [
    "alphanum_sort()"
   ]
  },
  {
   "cell_type": "markdown",
   "id": "74cc45c2",
   "metadata": {},
   "source": [
    "### Question 5: Write a program that accepts a sentence and calculate the number of letters and digits.\n",
    "\n",
    "\n",
    "\n",
    "\n",
    "Suppose the following input is supplied to the program:\n",
    "\n",
    "\n",
    "\n",
    "\n",
    "hello world! 123\n",
    "\n",
    "\n",
    "\n",
    "\n",
    "Then, the output should be:\n",
    "\n",
    "\n",
    "\n",
    "\n",
    "LETTERS 10\n",
    "\n",
    "\n",
    "\n",
    "DIGITS 3"
   ]
  },
  {
   "cell_type": "code",
   "execution_count": 102,
   "id": "3e0b5365",
   "metadata": {},
   "outputs": [],
   "source": [
    "import re\n",
    "def count_letters_digits():\n",
    "    \"\"\"\n",
    "    program that accepts a sentence and calculate the number of letters and digits.\n",
    "    \"\"\"\n",
    "    sent = input('Enter a sentence : ')\n",
    "    sent = re.sub(r'[^\\w\\s]', '', sent) # remove punctuation\n",
    "    try:\n",
    "        sent = sent.split(' ')\n",
    "        letters = []\n",
    "        digits = []\n",
    "        for i in sent:\n",
    "            if i.isdigit():\n",
    "                digits.append(i)\n",
    "            else:\n",
    "                letters.append(i)\n",
    "        \n",
    "        letters = ''.join(letters)\n",
    "        digits = ''.join(digits)\n",
    "        \n",
    "        print ('LETTERS : ', len(letters))\n",
    "        print ('DIGITS : ',len(digits))\n",
    "    except Exception as e:\n",
    "        print ('Error occured : ',e)"
   ]
  },
  {
   "cell_type": "code",
   "execution_count": 103,
   "id": "f0fb6ca3",
   "metadata": {},
   "outputs": [
    {
     "name": "stdout",
     "output_type": "stream",
     "text": [
      "Enter a sentence : hello world! 123\n",
      "LETTERS :  10\n",
      "DIGITS :  3\n"
     ]
    }
   ],
   "source": [
    "count_letters_digits()"
   ]
  },
  {
   "cell_type": "markdown",
   "id": "28d8006c",
   "metadata": {},
   "source": [
    "### Question 6: A website requires the users to input username and password to register. Write a program to check the validity of password input by users.\n",
    "\n",
    "\n",
    "\n",
    "\n",
    "Following are the criteria for checking the password:\n",
    "\n",
    "\n",
    "\n",
    "\n",
    "1. At least 1 letter between [a-z]\n",
    "\n",
    "\n",
    "\n",
    "\n",
    "2. At least 1 number between [0-9]\n",
    "\n",
    "\n",
    "\n",
    "\n",
    "1. At least 1 letter between [A-Z]\n",
    "\n",
    "\n",
    "\n",
    "\n",
    "3. At least 1 character from [$#@]\n",
    "\n",
    "\n",
    "\n",
    "\n",
    "4. Minimum length of transaction password: 6\n",
    "\n",
    "\n",
    "\n",
    "\n",
    "5. Maximum length of transaction password: 12\n",
    "\n",
    "\n",
    "\n",
    "\n",
    "Your program should accept a sequence of comma separated passwords and will check them according to the above criteria. Passwords that match the criteria are to be printed, each separated by a comma.\n",
    "\n",
    "\n",
    "\n",
    "\n",
    "Example\n",
    "\n",
    "\n",
    "\n",
    "\n",
    "If the following passwords are given as input to the program:\n",
    "\n",
    "\n",
    "\n",
    "\n",
    "ABd1234@1,a F1#,2w3E*,2We3345\n",
    "\n",
    "\n",
    "\n",
    "\n",
    "Then, the output of the program should be:\n",
    "\n",
    "\n",
    "\n",
    "ABd1234@1\n"
   ]
  },
  {
   "cell_type": "code",
   "execution_count": 114,
   "id": "8773938c",
   "metadata": {},
   "outputs": [],
   "source": [
    "import re\n",
    "def IsValid():\n",
    "    \"\"\"\n",
    "    program to check the validity of password input by users\n",
    "    \"\"\"\n",
    "    password = input('Enter the sequence of passwords separeted by comma : ')\n",
    "    password = password.split(',')\n",
    "    \n",
    "    try:\n",
    "        valid = []\n",
    "\n",
    "        for p in password:\n",
    "            is_valid = False\n",
    "            while True:\n",
    "                if (len(p) < 6 or len(p) > 12):\n",
    "                    is_valid = False\n",
    "                    break\n",
    "                elif not (re.search(\"[a-z]\",p)):\n",
    "                    is_valid = False  \n",
    "                    break\n",
    "                elif not (re.search(\"[0-9]\",p)):\n",
    "                    is_valid = False\n",
    "                    break\n",
    "                elif not (re.search(\"[A-Z]\",p)):\n",
    "                    is_valid = False\n",
    "                    break\n",
    "                elif not (re.search(\"[$@#]\",p)):\n",
    "                    is_valid = False\n",
    "                    break\n",
    "                else:\n",
    "                    is_valid = True\n",
    "                    break\n",
    "            if is_valid:\n",
    "                valid.append(p)\n",
    "        print (f\"valid password(s) : {','.join(valid)}\") \n",
    "    except Exception as e:\n",
    "        print ('Error occured : ',e)        "
   ]
  },
  {
   "cell_type": "code",
   "execution_count": 117,
   "id": "5c9deb90",
   "metadata": {},
   "outputs": [
    {
     "name": "stdout",
     "output_type": "stream",
     "text": [
      "Enter the sequence of passwords separeted by comma : ABd1234@1,a F1#,2w3E*,2We3345\n",
      "valid password(s) : ABd1234@1\n"
     ]
    }
   ],
   "source": [
    "IsValid()"
   ]
  }
 ],
 "metadata": {
  "kernelspec": {
   "display_name": "Python 3",
   "language": "python",
   "name": "python3"
  },
  "language_info": {
   "codemirror_mode": {
    "name": "ipython",
    "version": 3
   },
   "file_extension": ".py",
   "mimetype": "text/x-python",
   "name": "python",
   "nbconvert_exporter": "python",
   "pygments_lexer": "ipython3",
   "version": "3.7.10"
  }
 },
 "nbformat": 4,
 "nbformat_minor": 5
}
