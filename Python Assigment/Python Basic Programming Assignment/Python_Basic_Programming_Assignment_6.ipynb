{
 "cells": [
  {
   "cell_type": "markdown",
   "id": "0334bb1d",
   "metadata": {},
   "source": [
    "### 1.Write a Python Program to Display Fibonacci Sequence Using Recursion?"
   ]
  },
  {
   "cell_type": "code",
   "execution_count": 4,
   "id": "6cf6bb45",
   "metadata": {},
   "outputs": [],
   "source": [
    "def fib(n):\n",
    "    if n < 0:\n",
    "        print ('Value must be non negetive!')\n",
    "    elif n <= 1:\n",
    "        return n\n",
    "    else:\n",
    "        return (fib(n-1) + fib(n-2))"
   ]
  },
  {
   "cell_type": "code",
   "execution_count": 5,
   "id": "cfc3fed8",
   "metadata": {},
   "outputs": [
    {
     "data": {
      "text/plain": [
       "[0, 1, 1, 2, 3, 5, 8, 13, 21, 34]"
      ]
     },
     "execution_count": 5,
     "metadata": {},
     "output_type": "execute_result"
    }
   ],
   "source": [
    "[fib(i) for i in range(10)]"
   ]
  },
  {
   "cell_type": "markdown",
   "id": "17f6264c",
   "metadata": {},
   "source": [
    "### 2.Write a Python Program to Find Factorial of Number Using Recursion?"
   ]
  },
  {
   "cell_type": "code",
   "execution_count": 7,
   "id": "27bc1589",
   "metadata": {},
   "outputs": [],
   "source": [
    "def factorial(n):\n",
    "    if n < 0:\n",
    "        print ('Value must be non negetive!')\n",
    "    elif n in [0,1]:\n",
    "        return 1\n",
    "    else:\n",
    "        return n*factorial(n-1)"
   ]
  },
  {
   "cell_type": "code",
   "execution_count": 14,
   "id": "278ce760",
   "metadata": {},
   "outputs": [
    {
     "data": {
      "text/plain": [
       "720"
      ]
     },
     "execution_count": 14,
     "metadata": {},
     "output_type": "execute_result"
    }
   ],
   "source": [
    "factorial(6)"
   ]
  },
  {
   "cell_type": "markdown",
   "id": "43bceedb",
   "metadata": {},
   "source": [
    "### 3.Write a Python Program to calculate your Body Mass Index?"
   ]
  },
  {
   "cell_type": "code",
   "execution_count": 18,
   "id": "0864b50f",
   "metadata": {},
   "outputs": [],
   "source": [
    "def BMI():\n",
    "    height = input('Enter your height in meters: ')\n",
    "    weight = input('Enter your weight in Kg: ')\n",
    "    try:\n",
    "        height = float(height)\n",
    "        weight = float(weight)\n",
    "        bmi = (weight/(height*height))\n",
    "        print (f'Your BMI is : {bmi}')\n",
    "    except Exception as e:\n",
    "        print ('Error occured: ',e)"
   ]
  },
  {
   "cell_type": "code",
   "execution_count": 19,
   "id": "0d2c30be",
   "metadata": {},
   "outputs": [
    {
     "name": "stdout",
     "output_type": "stream",
     "text": [
      "Enter your height in meters: 1.7\n",
      "Enter your weight in Kg: 65\n",
      "Your BMI is : 22.49134948096886\n"
     ]
    }
   ],
   "source": [
    "BMI()"
   ]
  },
  {
   "cell_type": "markdown",
   "id": "89c4d4a6",
   "metadata": {},
   "source": [
    "### 4. Write a Python Program to calculate the natural logarithm of any number?"
   ]
  },
  {
   "cell_type": "code",
   "execution_count": 20,
   "id": "d5c41a22",
   "metadata": {},
   "outputs": [],
   "source": [
    "import math\n",
    "\n",
    "def NatLog(n):\n",
    "    try:\n",
    "        print (f\"Natural log of {n} is : {math.log(n)}\")\n",
    "    except Exception as e:\n",
    "        print ('Error occured: ',e)"
   ]
  },
  {
   "cell_type": "code",
   "execution_count": 25,
   "id": "538592fc",
   "metadata": {},
   "outputs": [
    {
     "name": "stdout",
     "output_type": "stream",
     "text": [
      "Natural log of 5 is : 1.6094379124341003\n"
     ]
    }
   ],
   "source": [
    "NatLog(5)"
   ]
  },
  {
   "cell_type": "markdown",
   "id": "5c7edcd3",
   "metadata": {},
   "source": [
    "### 5. Write a Python Program for cube sum of first n natural numbers?"
   ]
  },
  {
   "cell_type": "code",
   "execution_count": 29,
   "id": "720cabc7",
   "metadata": {},
   "outputs": [],
   "source": [
    "def CubeSum(n):\n",
    "    try:\n",
    "        tot = 0\n",
    "        for i in range(n+1):\n",
    "            tot += i**3\n",
    "        print (f\"The cube sum of first {n} natural numbers is : {tot}\")\n",
    "        \n",
    "    except Exception as e:\n",
    "        print ('Error occured: ',e)"
   ]
  },
  {
   "cell_type": "code",
   "execution_count": 34,
   "id": "5a8707aa",
   "metadata": {},
   "outputs": [
    {
     "name": "stdout",
     "output_type": "stream",
     "text": [
      "The cube sum of first 5 natural numbers is : 225\n"
     ]
    }
   ],
   "source": [
    "CubeSum(5)"
   ]
  }
 ],
 "metadata": {
  "kernelspec": {
   "display_name": "Python 3",
   "language": "python",
   "name": "python3"
  },
  "language_info": {
   "codemirror_mode": {
    "name": "ipython",
    "version": 3
   },
   "file_extension": ".py",
   "mimetype": "text/x-python",
   "name": "python",
   "nbconvert_exporter": "python",
   "pygments_lexer": "ipython3",
   "version": "3.7.10"
  }
 },
 "nbformat": 4,
 "nbformat_minor": 5
}
