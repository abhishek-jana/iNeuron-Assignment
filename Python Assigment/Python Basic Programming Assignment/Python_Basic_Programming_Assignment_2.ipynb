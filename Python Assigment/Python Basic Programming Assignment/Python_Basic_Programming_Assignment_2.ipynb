{
 "cells": [
  {
   "cell_type": "markdown",
   "id": "867da77d",
   "metadata": {},
   "source": [
    "### 1. Write a Python program to convert kilometers to miles?"
   ]
  },
  {
   "cell_type": "code",
   "execution_count": 1,
   "id": "c55e525d",
   "metadata": {},
   "outputs": [
    {
     "name": "stdout",
     "output_type": "stream",
     "text": [
      "Enter the Kilometers :45\n",
      "45.0 kms in miles is 27.961695\n"
     ]
    }
   ],
   "source": [
    "kms = float(input(\"Enter the Kilometers :\"))\n",
    "\n",
    "conversion_fac = 0.621371  \n",
    "\n",
    "print (f'{kms} kms in miles is {kms*conversion_fac}')"
   ]
  },
  {
   "cell_type": "markdown",
   "id": "85e6bde5",
   "metadata": {},
   "source": [
    "### 2. Write a Python program to convert Celsius to Fahrenheit?"
   ]
  },
  {
   "cell_type": "code",
   "execution_count": 2,
   "id": "8ed8e73b",
   "metadata": {},
   "outputs": [
    {
     "name": "stdout",
     "output_type": "stream",
     "text": [
      "Enter the temperature in celsius :32\n",
      "32.0 degree celsius in ferenheit is 89.6\n"
     ]
    }
   ],
   "source": [
    "celsius = float(input(\"Enter the temperature in celsius :\"))\n",
    "\n",
    "ferenheit = (celsius * (9/5)) +32\n",
    "\n",
    "print (f'{celsius} degree celsius in ferenheit is {ferenheit}')"
   ]
  },
  {
   "cell_type": "markdown",
   "id": "82404e91",
   "metadata": {},
   "source": [
    "### 3. Write a Python program to display calendar?"
   ]
  },
  {
   "cell_type": "code",
   "execution_count": 4,
   "id": "f34b082a",
   "metadata": {},
   "outputs": [
    {
     "name": "stdout",
     "output_type": "stream",
     "text": [
      "Enter the year of calendar :2021\n",
      "Enter the month of calendar :4\n",
      "     April 2021\n",
      "Mo Tu We Th Fr Sa Su\n",
      "          1  2  3  4\n",
      " 5  6  7  8  9 10 11\n",
      "12 13 14 15 16 17 18\n",
      "19 20 21 22 23 24 25\n",
      "26 27 28 29 30\n",
      "\n"
     ]
    }
   ],
   "source": [
    "import calendar\n",
    "\n",
    "year = int(input(\"Enter the year of calendar :\"))\n",
    "\n",
    "month = int(input(\"Enter the month of calendar :\"))\n",
    "\n",
    "print (calendar.month(year, month))"
   ]
  },
  {
   "cell_type": "markdown",
   "id": "9abf47f8",
   "metadata": {},
   "source": [
    "### 4. Write a Python program to solve quadratic equation?"
   ]
  },
  {
   "cell_type": "code",
   "execution_count": 7,
   "id": "062938a7",
   "metadata": {},
   "outputs": [
    {
     "name": "stdout",
     "output_type": "stream",
     "text": [
      "Enter a,b,c values of quadratic equation of the form ax^2 + bx + c = 0\n",
      "Enter a :2\n",
      "Enter b :3\n",
      "Enter c :4\n",
      "Solution 1: (-0.75+1.1989578808281798j)\n",
      "Solution 2: (-0.75-1.1989578808281798j)\n"
     ]
    }
   ],
   "source": [
    "import cmath  \n",
    "\n",
    "print('Enter a,b,c values of quadratic equation of the form ax^2 + bx + c = 0')\n",
    "\n",
    "a = float(input(\"Enter a :\"))\n",
    "b = float(input(\"Enter b :\"))\n",
    "c = float(input(\"Enter c :\"))\n",
    "\n",
    "# discriminant\n",
    "\n",
    "dis = b**2 - 4*a*c\n",
    "\n",
    "soln1 = (-b + cmath.sqrt(dis)) / (2*a)  # Solution 1\n",
    "\n",
    "soln2 = (-b - cmath.sqrt(dis)) / (2*a)  # Solution 2\n",
    "\n",
    "print (f'Solution 1: {soln1}')\n",
    "print (f'Solution 2: {soln2}')"
   ]
  },
  {
   "cell_type": "markdown",
   "id": "51e7910c",
   "metadata": {},
   "source": [
    "### 5. Write a Python program to swap two variables without temp variable?"
   ]
  },
  {
   "cell_type": "code",
   "execution_count": 11,
   "id": "c53faf05",
   "metadata": {},
   "outputs": [
    {
     "name": "stdout",
     "output_type": "stream",
     "text": [
      "Enter variable 1 :x\n",
      "Enter variable 2 :g\n",
      "input variable 1 = x \n",
      "input variable 2 = g\n",
      "Swapped! \n",
      "output variable 1 = g \n",
      "output variable 2 = x\n"
     ]
    }
   ],
   "source": [
    "def swap():\n",
    "    \"\"\"\n",
    "    function to swap two variables\n",
    "    \"\"\"\n",
    "    a = input(\"Enter variable 1 :\")\n",
    "    b = input(\"Enter variable 2 :\")\n",
    "    print (f'input variable 1 = {a} \\ninput variable 2 = {b}')\n",
    "    a,b = b,a\n",
    "    print (f'Swapped! \\noutput variable 1 = {a} \\noutput variable 2 = {b}')\n",
    "    \n",
    "swap()"
   ]
  }
 ],
 "metadata": {
  "kernelspec": {
   "display_name": "Python 3",
   "language": "python",
   "name": "python3"
  },
  "language_info": {
   "codemirror_mode": {
    "name": "ipython",
    "version": 3
   },
   "file_extension": ".py",
   "mimetype": "text/x-python",
   "name": "python",
   "nbconvert_exporter": "python",
   "pygments_lexer": "ipython3",
   "version": "3.7.10"
  }
 },
 "nbformat": 4,
 "nbformat_minor": 5
}
