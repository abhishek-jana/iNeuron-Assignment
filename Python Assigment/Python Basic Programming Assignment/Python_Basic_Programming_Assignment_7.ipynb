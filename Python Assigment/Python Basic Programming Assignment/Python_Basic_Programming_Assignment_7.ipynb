{
 "cells": [
  {
   "cell_type": "markdown",
   "id": "0a38627b",
   "metadata": {},
   "source": [
    "### 1. Write a Python Program to find sum of array?"
   ]
  },
  {
   "cell_type": "code",
   "execution_count": 1,
   "id": "53a4de9a",
   "metadata": {},
   "outputs": [],
   "source": [
    "def sumofarray(lst):\n",
    "    try:\n",
    "        tot = 0\n",
    "        for i in lst:\n",
    "            tot += i\n",
    "        print (f'Sum of array is : {tot}')\n",
    "    except Exception as e:\n",
    "        print ('Error occured : ',e)"
   ]
  },
  {
   "cell_type": "code",
   "execution_count": 2,
   "id": "205c2d10",
   "metadata": {},
   "outputs": [
    {
     "name": "stdout",
     "output_type": "stream",
     "text": [
      "Sum of array is : 28\n"
     ]
    }
   ],
   "source": [
    "sumofarray([1,2,3,4,5,6,7])"
   ]
  },
  {
   "cell_type": "markdown",
   "id": "fc7fac91",
   "metadata": {},
   "source": [
    "### 2. Write a Python Program to find largest element in an array?"
   ]
  },
  {
   "cell_type": "code",
   "execution_count": 3,
   "id": "fe055828",
   "metadata": {},
   "outputs": [],
   "source": [
    "def largest(arr):\n",
    "    try:\n",
    "        large = 0\n",
    "        for i in arr:\n",
    "            if (i > large):\n",
    "                large = i\n",
    "        print (f'Largest element in {arr} is : {large}')\n",
    "    except:\n",
    "        print ('Error occured : ',e)\n",
    "        \n",
    "# or\n",
    "\n",
    "def largest_ele(arr):\n",
    "    try:\n",
    "        print (f'Largest element in {arr} is : {max(arr)}')\n",
    "    except Exception as e:\n",
    "        print ('Error occured : ',e)"
   ]
  },
  {
   "cell_type": "code",
   "execution_count": 4,
   "id": "febcaba9",
   "metadata": {},
   "outputs": [
    {
     "name": "stdout",
     "output_type": "stream",
     "text": [
      "Largest element in [3, 4, 723, 3456, 234, 65, 6] is : 3456\n"
     ]
    }
   ],
   "source": [
    "largest([3,4,723,3456,234,65,6])"
   ]
  },
  {
   "cell_type": "code",
   "execution_count": 5,
   "id": "9ca5ee90",
   "metadata": {},
   "outputs": [
    {
     "name": "stdout",
     "output_type": "stream",
     "text": [
      "Largest element in [3, 4, 723, 3456, 234, 65, 6] is : 3456\n"
     ]
    }
   ],
   "source": [
    "largest_ele([3,4,723,3456,234,65,6])"
   ]
  },
  {
   "cell_type": "markdown",
   "id": "9e5c49cf",
   "metadata": {},
   "source": [
    "### 3. Write a Python Program for array rotation?"
   ]
  },
  {
   "cell_type": "code",
   "execution_count": 6,
   "id": "c6d56468",
   "metadata": {},
   "outputs": [],
   "source": [
    "def RotateArray(arr,n):\n",
    "    \"\"\"\n",
    "    Function to rotate the array\n",
    "    arr : input array\n",
    "    n : rotation count\n",
    "    \"\"\"\n",
    "    try:\n",
    "        print (f'Initial array = \\n{arr}')\n",
    "        larr = len(arr)  # length of the array\n",
    "        arr [:] = arr[n:larr] + arr[:n]\n",
    "        print (f'After {n} rotation = \\n{arr}')\n",
    "    except Exception as e:\n",
    "        print ('Error occured : ',e)"
   ]
  },
  {
   "cell_type": "code",
   "execution_count": 7,
   "id": "9697d419",
   "metadata": {},
   "outputs": [
    {
     "name": "stdout",
     "output_type": "stream",
     "text": [
      "Initial array = \n",
      "[3, 4, 56, 7, 1, 1, 46, 2, 6, 2, 12]\n",
      "After 4 rotation = \n",
      "[1, 1, 46, 2, 6, 2, 12, 3, 4, 56, 7]\n"
     ]
    }
   ],
   "source": [
    "RotateArray([3,4,56,7,1,1,46,2,6,2,12],4)"
   ]
  },
  {
   "cell_type": "markdown",
   "id": "1a51203e",
   "metadata": {},
   "source": [
    "### 4. Write a Python Program to Split the array and add the first part to the end?"
   ]
  },
  {
   "cell_type": "code",
   "execution_count": 8,
   "id": "b06c62e2",
   "metadata": {},
   "outputs": [],
   "source": [
    "def SplitArray(arr,n):\n",
    "    \"\"\"\n",
    "    Function to split the array at n,\n",
    "    and add the first part to the end\n",
    "    \n",
    "    arr : input array\n",
    "    n : split position\n",
    "    \"\"\"\n",
    "    try:\n",
    "        print (f'Initial array = \\n{arr}')\n",
    "        larr = len(arr)  # length of the array\n",
    "        arr [:] = arr[n:larr] + arr[:n]\n",
    "        print (f'After splitting at {n} = \\n{arr}')\n",
    "    except Exception as e:\n",
    "        print ('Error occured : ',e)"
   ]
  },
  {
   "cell_type": "code",
   "execution_count": 9,
   "id": "9dff4adf",
   "metadata": {},
   "outputs": [
    {
     "name": "stdout",
     "output_type": "stream",
     "text": [
      "Initial array = \n",
      "[7, 23, 74, 3, 1, 2, 46, 2, 6, 2, 12]\n",
      "After splitting at 4 = \n",
      "[1, 2, 46, 2, 6, 2, 12, 7, 23, 74, 3]\n"
     ]
    }
   ],
   "source": [
    "SplitArray([7,23,74,3,1,2,46,2,6,2,12],4)"
   ]
  },
  {
   "cell_type": "markdown",
   "id": "94310cd7",
   "metadata": {},
   "source": [
    "### 5. Write a Python Program to check if given array is Monotonic?\n"
   ]
  },
  {
   "cell_type": "code",
   "execution_count": 10,
   "id": "44a9e0bc",
   "metadata": {},
   "outputs": [],
   "source": [
    "def IsMono(arr):\n",
    "    \"\"\"\n",
    "    Function to check if given array is Monotonic\n",
    "    \"\"\"\n",
    "    try:\n",
    "        return ((all(arr[i] <= arr [i+1] for i in range(len(arr) - 1))) or (all(arr[i] >= arr [i+1] for i in range(len(arr) - 1))))\n",
    "    except Exception as e:\n",
    "        print ('Error occured : ',e)"
   ]
  },
  {
   "cell_type": "code",
   "execution_count": 11,
   "id": "135eb212",
   "metadata": {},
   "outputs": [
    {
     "data": {
      "text/plain": [
       "False"
      ]
     },
     "execution_count": 11,
     "metadata": {},
     "output_type": "execute_result"
    }
   ],
   "source": [
    "IsMono([7,23,74,3,1,2,46,2,6,2,12])"
   ]
  },
  {
   "cell_type": "code",
   "execution_count": 12,
   "id": "e73ec055",
   "metadata": {},
   "outputs": [
    {
     "data": {
      "text/plain": [
       "True"
      ]
     },
     "execution_count": 12,
     "metadata": {},
     "output_type": "execute_result"
    }
   ],
   "source": [
    "IsMono([7,23,74,78,98,104,200])"
   ]
  }
 ],
 "metadata": {
  "kernelspec": {
   "display_name": "Python 3",
   "language": "python",
   "name": "python3"
  },
  "language_info": {
   "codemirror_mode": {
    "name": "ipython",
    "version": 3
   },
   "file_extension": ".py",
   "mimetype": "text/x-python",
   "name": "python",
   "nbconvert_exporter": "python",
   "pygments_lexer": "ipython3",
   "version": "3.7.10"
  }
 },
 "nbformat": 4,
 "nbformat_minor": 5
}
