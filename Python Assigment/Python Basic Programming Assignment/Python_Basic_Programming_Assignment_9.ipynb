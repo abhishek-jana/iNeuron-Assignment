{
 "cells": [
  {
   "cell_type": "markdown",
   "id": "645b30cd",
   "metadata": {},
   "source": [
    "### 1. Write a Python program to check if the given number is a Disarium Number?"
   ]
  },
  {
   "cell_type": "code",
   "execution_count": 1,
   "id": "22b888df",
   "metadata": {},
   "outputs": [],
   "source": [
    "def order(num):  \n",
    "    \"\"\"\n",
    "    Function to find out the order no.\n",
    "    Example: 1234 has order 4.\n",
    "    \"\"\"    \n",
    "    i = 0\n",
    "    while (num != 0):\n",
    "        i = i + 1\n",
    "        num = num // 10          \n",
    "    return i\n",
    "\n",
    "def ChkDisarium():\n",
    "    \"\"\"\n",
    "    Function to check Disarium Number.\n",
    "    \"\"\"\n",
    "    num = input('Enter a number to check for Disarium Number :')\n",
    "    try:\n",
    "        num = int(num)\n",
    "        order_no = order(num)\n",
    "        total = 0\n",
    "        temp_num = num\n",
    "        for i in range(1,order_no+1):\n",
    "            pos = temp_num // (10**(order_no-i))  \n",
    "            total += pos**i\n",
    "            temp_num = temp_num % (10**(order_no-i))\n",
    "        \n",
    "        if (num == total):\n",
    "            print (\"This is a Disarium Number!\")\n",
    "        else:\n",
    "            print (\"This is not a Disarium Number!\")\n",
    "    except Exception as e:\n",
    "        print ('Error Occured :',e)"
   ]
  },
  {
   "cell_type": "code",
   "execution_count": 2,
   "id": "65979e8d",
   "metadata": {},
   "outputs": [
    {
     "name": "stdout",
     "output_type": "stream",
     "text": [
      "Enter a number to check for Disarium Number :56\n",
      "This is not a Disarium Number!\n"
     ]
    }
   ],
   "source": [
    "ChkDisarium()"
   ]
  },
  {
   "cell_type": "markdown",
   "id": "f041ad32",
   "metadata": {},
   "source": [
    "### 2. Write a Python program to print all disarium numbers between 1 to 100?"
   ]
  },
  {
   "cell_type": "code",
   "execution_count": 3,
   "id": "d29b0238",
   "metadata": {},
   "outputs": [],
   "source": [
    "def ChkDisarium(num):    \n",
    "    try:\n",
    "        num = int(num)\n",
    "        order_no = order(num)\n",
    "        total = 0\n",
    "        temp_num = num\n",
    "        for i in range(1,order_no+1):\n",
    "            pos = temp_num // (10**(order_no-i))  \n",
    "            total += pos**i\n",
    "            temp_num = temp_num % (10**(order_no-i))\n",
    "        \n",
    "        if (num == total):\n",
    "            return True\n",
    "        else:\n",
    "            return False\n",
    "    except Exception as e:\n",
    "        print ('Error Occured :',e)\n",
    "        \n",
    "def FindDisarium(start,end):\n",
    "    \"\"\"\n",
    "    Function to find Disarium number(s) in an interval\n",
    "    \n",
    "    strt(int): start of the interval\n",
    "    end(int): end of the interval\n",
    "    \"\"\"\n",
    "    nums = []\n",
    "    for i in range(start,end+1):\n",
    "        res = ChkDisarium(i)\n",
    "        if res:\n",
    "            nums.append(i)\n",
    "    if len(nums)>0:\n",
    "        print (f\"Disarium numbers(s) in the interval {start} to {end} is: {nums}\")\n",
    "    else:\n",
    "        print (f\"There is no Disarium number in the interval {start} to {end}.\")"
   ]
  },
  {
   "cell_type": "code",
   "execution_count": 4,
   "id": "17490f4a",
   "metadata": {},
   "outputs": [
    {
     "name": "stdout",
     "output_type": "stream",
     "text": [
      "Disarium numbers(s) in the interval 1 to 100 is: [1, 2, 3, 4, 5, 6, 7, 8, 9, 89]\n"
     ]
    }
   ],
   "source": [
    "FindDisarium(1,100)"
   ]
  },
  {
   "cell_type": "markdown",
   "id": "c1fcdcca",
   "metadata": {},
   "source": [
    "### 3.Write a Python program to check if the given number is Happy Number?"
   ]
  },
  {
   "cell_type": "code",
   "execution_count": 5,
   "id": "d37d3111",
   "metadata": {},
   "outputs": [],
   "source": [
    "def AddNum(num):\n",
    "    \"\"\"\n",
    "    function to add the digits powered by square\n",
    "    \"\"\"\n",
    "\n",
    "    total = 0\n",
    "    temp_num = num\n",
    "    while temp_num > 0:\n",
    "        pos = temp_num % 10            \n",
    "        total += pos**2\n",
    "        temp_num = temp_num//10\n",
    "    return total\n",
    "\n",
    "def IsHappyNum():\n",
    "    num = input('Enter a number to check for Happy Number :')\n",
    "    try:\n",
    "        num = int(num)\n",
    "        res = num\n",
    "        while(res != 1 and res != 4):\n",
    "            res = AddNum(res)\n",
    "        if (res == 1):\n",
    "            print (f'{num} is a Happy Number!')\n",
    "        elif (res == 4):\n",
    "            print (f'{num} is not a Happy Number!')\n",
    "    except Exception as e:\n",
    "        print ('Error Occured :',e)"
   ]
  },
  {
   "cell_type": "code",
   "execution_count": 6,
   "id": "82268210",
   "metadata": {},
   "outputs": [
    {
     "name": "stdout",
     "output_type": "stream",
     "text": [
      "Enter a number to check for Happy Number :76\n",
      "76 is not a Happy Number!\n"
     ]
    }
   ],
   "source": [
    "IsHappyNum()"
   ]
  },
  {
   "cell_type": "markdown",
   "id": "716dc2bf",
   "metadata": {},
   "source": [
    "### 4. Write a Python program to print all happy numbers between 1 and 100?"
   ]
  },
  {
   "cell_type": "code",
   "execution_count": 7,
   "id": "860beef0",
   "metadata": {},
   "outputs": [],
   "source": [
    "def ChkHappyNum(num):\n",
    "    try:\n",
    "        num = int(num)\n",
    "        res = num\n",
    "        while(res != 1 and res != 4):\n",
    "            res = AddNum(res)\n",
    "        if (res == 1):\n",
    "            return True\n",
    "        elif (res == 4):\n",
    "            return False\n",
    "    except Exception as e:\n",
    "        print ('Error Occured :',e)\n",
    "\n",
    "def FindHappy(start,end):\n",
    "    \"\"\"\n",
    "    Function to find Happy number(s) in an interval\n",
    "    \n",
    "    strt(int): start of the interval\n",
    "    end(int): end of the interval\n",
    "    \"\"\"\n",
    "    nums = []\n",
    "    for i in range(start,end+1):\n",
    "        res = ChkHappyNum(i)\n",
    "        if res:\n",
    "            nums.append(i)\n",
    "    if len(nums)>0:\n",
    "        print (f\"Happy numbers(s) in the interval {start} to {end} is: {nums}\")\n",
    "    else:\n",
    "        print (f\"There is no Happy number in the interval {start} to {end}.\")"
   ]
  },
  {
   "cell_type": "code",
   "execution_count": 8,
   "id": "f1338f82",
   "metadata": {},
   "outputs": [
    {
     "name": "stdout",
     "output_type": "stream",
     "text": [
      "Happy numbers(s) in the interval 1 to 100 is: [1, 7, 10, 13, 19, 23, 28, 31, 32, 44, 49, 68, 70, 79, 82, 86, 91, 94, 97, 100]\n"
     ]
    }
   ],
   "source": [
    "FindHappy(1,100)"
   ]
  },
  {
   "cell_type": "markdown",
   "id": "8b38e450",
   "metadata": {},
   "source": [
    "### 5. Write a Python program to determine whether the given number is a Harshad Number?"
   ]
  },
  {
   "cell_type": "code",
   "execution_count": 9,
   "id": "a5b00cfe",
   "metadata": {},
   "outputs": [],
   "source": [
    "def ChkHarshad():\n",
    "    \"\"\"\n",
    "    Function to check Harshad Number.\n",
    "    \"\"\"\n",
    "    num = input('Enter a number to check for Harshad Number :')\n",
    "    try:\n",
    "        num = int(num)\n",
    "        total = 0\n",
    "        temp_num = num\n",
    "        while temp_num > 0:\n",
    "            pos = temp_num % 10            \n",
    "            total += pos\n",
    "            temp_num = temp_num//10\n",
    "        \n",
    "        if (num % total == 0):\n",
    "            print (f\"{num} is a Harshad Number!\")\n",
    "        else:\n",
    "            print (f\"{num} is not a Harshad Number!\")\n",
    "    except Exception as e:\n",
    "        print ('Error Occured :',e)"
   ]
  },
  {
   "cell_type": "code",
   "execution_count": 10,
   "id": "3e040b28",
   "metadata": {},
   "outputs": [
    {
     "name": "stdout",
     "output_type": "stream",
     "text": [
      "Enter a number to check for Harshad Number :763\n",
      "763 is not a Harshad Number!\n"
     ]
    }
   ],
   "source": [
    "ChkHarshad()"
   ]
  },
  {
   "cell_type": "markdown",
   "id": "5e469537",
   "metadata": {},
   "source": [
    "### 6. Write a Python program to print all pronic numbers between 1 and 100?"
   ]
  },
  {
   "cell_type": "code",
   "execution_count": 11,
   "id": "884612ae",
   "metadata": {},
   "outputs": [],
   "source": [
    "def IsPronic(num):\n",
    "    \"\"\"\n",
    "    Function to check Pronic Number.\n",
    "    \"\"\"\n",
    "    try:\n",
    "        num = int(num)\n",
    "        for i in range(1,num+1):\n",
    "            if (i*(i+1) == num):\n",
    "                return True\n",
    "                break\n",
    "        return False\n",
    "    except Exception as e:\n",
    "        print ('Error Occured :',e)\n",
    "        \n",
    "def FindPronic(start,end):\n",
    "    \"\"\"\n",
    "    Function to find Pronic number(s) in an interval\n",
    "    \n",
    "    strt(int): start of the interval\n",
    "    end(int): end of the interval\n",
    "    \"\"\"\n",
    "    nums = []\n",
    "    for i in range(start,end+1):\n",
    "        res = IsPronic(i)\n",
    "        if res:\n",
    "            nums.append(i)\n",
    "    if len(nums)>0:\n",
    "        print (f\"Pronic numbers(s) in the interval {start} to {end} is: {nums}\")\n",
    "    else:\n",
    "        print (f\"There is no Pronic number in the interval {start} to {end}.\")"
   ]
  },
  {
   "cell_type": "code",
   "execution_count": 12,
   "id": "26c9b46b",
   "metadata": {},
   "outputs": [
    {
     "name": "stdout",
     "output_type": "stream",
     "text": [
      "Pronic numbers(s) in the interval 1 to 100 is: [2, 6, 12, 20, 30, 42, 56, 72, 90]\n"
     ]
    }
   ],
   "source": [
    "FindPronic(1,100)"
   ]
  }
 ],
 "metadata": {
  "kernelspec": {
   "display_name": "Python 3",
   "language": "python",
   "name": "python3"
  },
  "language_info": {
   "codemirror_mode": {
    "name": "ipython",
    "version": 3
   },
   "file_extension": ".py",
   "mimetype": "text/x-python",
   "name": "python",
   "nbconvert_exporter": "python",
   "pygments_lexer": "ipython3",
   "version": "3.7.10"
  }
 },
 "nbformat": 4,
 "nbformat_minor": 5
}
