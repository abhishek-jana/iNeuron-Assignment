{
 "cells": [
  {
   "cell_type": "markdown",
   "id": "608135d1",
   "metadata": {},
   "source": [
    "### 1. Write a Python program to find words which are greater than given length k?"
   ]
  },
  {
   "cell_type": "code",
   "execution_count": 1,
   "id": "06506351",
   "metadata": {},
   "outputs": [],
   "source": [
    "def greater_string(string, k):\n",
    "    \"\"\"\n",
    "    Python program to find words which are greater than given length k.\n",
    "    lst: string\n",
    "    k: given length\n",
    "    \"\"\"\n",
    "    try:\n",
    "        k_lst = []\n",
    "        lst = string.split()\n",
    "        for i in lst:\n",
    "            if len(i) > k:\n",
    "                k_lst.append(i)\n",
    "        return k_lst\n",
    "    except Exception as e:\n",
    "        print ('Error occured : ',e)"
   ]
  },
  {
   "cell_type": "code",
   "execution_count": 2,
   "id": "ee4d3f5b",
   "metadata": {},
   "outputs": [
    {
     "data": {
      "text/plain": [
       "['Hello', 'Abhishek', 'Jana.', 'programming', 'assignment']"
      ]
     },
     "execution_count": 2,
     "metadata": {},
     "output_type": "execute_result"
    }
   ],
   "source": [
    "s = 'Hello my name is Abhishek Jana. This is programming assignment 11.'\n",
    "greater_string(s,4)"
   ]
  },
  {
   "cell_type": "markdown",
   "id": "1d1d2045",
   "metadata": {},
   "source": [
    "### 2. Write a Python program for removing i-th character from a string?\n"
   ]
  },
  {
   "cell_type": "code",
   "execution_count": 3,
   "id": "9f4aa7f7",
   "metadata": {},
   "outputs": [],
   "source": [
    "def remove_ichar(char,i):\n",
    "    \"\"\"\n",
    "    Python program for removing i-th character from a string.\n",
    "    char: string\n",
    "    i: given position to remove.\n",
    "    \"\"\"\n",
    "    try:\n",
    "        char = char[: (i-1)] + char[i:]\n",
    "        return char\n",
    "    except Exception as e:\n",
    "        print ('Error occured : ',e)"
   ]
  },
  {
   "cell_type": "code",
   "execution_count": 4,
   "id": "8a262c88",
   "metadata": {},
   "outputs": [
    {
     "data": {
      "text/plain": [
       "'gjjdturdtr'"
      ]
     },
     "execution_count": 4,
     "metadata": {},
     "output_type": "execute_result"
    }
   ],
   "source": [
    "c = 'gjjydturdtr'\n",
    "remove_ichar(c,4)"
   ]
  },
  {
   "cell_type": "markdown",
   "id": "e513ad46",
   "metadata": {},
   "source": [
    "### 3. Write a Python program to split and join a string?"
   ]
  },
  {
   "cell_type": "code",
   "execution_count": 5,
   "id": "b46d88db",
   "metadata": {},
   "outputs": [],
   "source": [
    "def split_and_join(string,join_char):\n",
    "    \"\"\"\n",
    "    Python program to split and join a string.\n",
    "    string: string\n",
    "    join_char : join character to join the string\n",
    "    \"\"\"\n",
    "    try:\n",
    "        split_str = string.split()\n",
    "        join_str = join_char.join(split_str)\n",
    "        return join_str\n",
    "    except Exception as e:\n",
    "        print ('Error occured : ',e)"
   ]
  },
  {
   "cell_type": "code",
   "execution_count": 6,
   "id": "f9128752",
   "metadata": {},
   "outputs": [
    {
     "data": {
      "text/plain": [
       "'Hello--my--name--is--Abhishek--Jana.--This--is--programming--assignment--11.'"
      ]
     },
     "execution_count": 6,
     "metadata": {},
     "output_type": "execute_result"
    }
   ],
   "source": [
    "s = 'Hello my name is Abhishek Jana. This is programming assignment 11.'\n",
    "split_and_join(string = s,join_char = '--')"
   ]
  },
  {
   "cell_type": "markdown",
   "id": "ce03b2fd",
   "metadata": {},
   "source": [
    "### 4.Write a Python to check if a given string is binary string or not?"
   ]
  },
  {
   "cell_type": "code",
   "execution_count": 7,
   "id": "69198216",
   "metadata": {},
   "outputs": [],
   "source": [
    "def binary(string):\n",
    "    \"\"\"\n",
    "    Python to check if a given string is binary string or not.\n",
    "    string: string\n",
    "    \"\"\"\n",
    "    try:\n",
    "        if any(i not in ('0','1') for i in string):\n",
    "            print ('This is not a binary string!')\n",
    "        else:\n",
    "            print ('This is a binary string!')\n",
    "    except Exception as e:\n",
    "        print ('Error occured : ',e)"
   ]
  },
  {
   "cell_type": "code",
   "execution_count": 8,
   "id": "47db420b",
   "metadata": {},
   "outputs": [
    {
     "name": "stdout",
     "output_type": "stream",
     "text": [
      "This is not a binary string!\n"
     ]
    }
   ],
   "source": [
    "s = '110100021001'\n",
    "binary(s)"
   ]
  },
  {
   "cell_type": "markdown",
   "id": "b0cd226d",
   "metadata": {},
   "source": [
    "### 5. Write a Python program to find uncommon words from two Strings?"
   ]
  },
  {
   "cell_type": "code",
   "execution_count": 9,
   "id": "c87178cb",
   "metadata": {},
   "outputs": [],
   "source": [
    "import re\n",
    "def uncommon_words(string1,string2):\n",
    "    \"\"\"\n",
    "    Python program to find uncommon words from two Strings.\n",
    "    string1 : string 1\n",
    "    string2 : string 2\n",
    "    \"\"\"\n",
    "    try:\n",
    "        string1 = re.sub(r'[^\\w\\s]', '', string1)\n",
    "        string2 = re.sub(r'[^\\w\\s]', '', string2)\n",
    "        string1_list = string1.split()\n",
    "        string2_list = string2.split()\n",
    "        uncommon = []\n",
    "        for i in string1_list:\n",
    "            if i not in string2_list:\n",
    "                uncommon.append(i)\n",
    "        for j in string2_list:\n",
    "            if j not in string1_list:\n",
    "                uncommon.append(j)\n",
    "        print ('Uncommon words are : ', uncommon)\n",
    "    except Exception as e:\n",
    "        print ('Error occured : ',e)\n"
   ]
  },
  {
   "cell_type": "code",
   "execution_count": 10,
   "id": "3f3f3f48",
   "metadata": {},
   "outputs": [],
   "source": [
    "st1 = 'Hello there, what is your name?'\n",
    "\n",
    "st2 = 'Hello, my name is Abhishek.'"
   ]
  },
  {
   "cell_type": "code",
   "execution_count": 11,
   "id": "6c379648",
   "metadata": {},
   "outputs": [
    {
     "name": "stdout",
     "output_type": "stream",
     "text": [
      "Uncommon words are :  ['there', 'what', 'your', 'my', 'Abhishek']\n"
     ]
    }
   ],
   "source": [
    "uncommon_words(st1,st2)"
   ]
  },
  {
   "cell_type": "markdown",
   "id": "c8b3d4ba",
   "metadata": {},
   "source": [
    "### 6. Write a Python to find all duplicate characters in string?"
   ]
  },
  {
   "cell_type": "code",
   "execution_count": 12,
   "id": "4212ea39",
   "metadata": {},
   "outputs": [],
   "source": [
    "def duplicate_char(string):\n",
    "    \"\"\"\n",
    "    Python program to find all duplicate characters in string.\n",
    "    string: string \n",
    "    \"\"\"\n",
    "    try:\n",
    "        dup_dict = {}\n",
    "        for i in string:\n",
    "            if i in dup_dict.keys():\n",
    "                dup_dict[i] += 1\n",
    "            else:\n",
    "                dup_dict[i] = 1\n",
    "        dup_char = []\n",
    "        for key,vals in dup_dict.items():\n",
    "            if vals > 1:\n",
    "                dup_char.append(key)\n",
    "        return dup_char\n",
    "    except Exception as e:\n",
    "        print ('Error occured : ',e)\n"
   ]
  },
  {
   "cell_type": "code",
   "execution_count": 13,
   "id": "d6914f9e",
   "metadata": {},
   "outputs": [
    {
     "data": {
      "text/plain": [
       "['a', 'c', 'd']"
      ]
     },
     "execution_count": 13,
     "metadata": {},
     "output_type": "execute_result"
    }
   ],
   "source": [
    "a = 'aaabccdde'\n",
    "duplicate_char(a)"
   ]
  },
  {
   "cell_type": "markdown",
   "id": "01556ed6",
   "metadata": {},
   "source": [
    "### 7.Write a Python Program to check if a string contains any special character?"
   ]
  },
  {
   "cell_type": "code",
   "execution_count": 14,
   "id": "f3c78ee6",
   "metadata": {},
   "outputs": [],
   "source": [
    "def special_char(string,sp_char = \"[@_!#$%^&*()<>?/\\|}{~:]\"):\n",
    "    \"\"\"\n",
    "    Python program to check if a string contains any special character.\n",
    "    string: string \n",
    "    sp_char: special characters to check (default: \"[@_!#$%^&*()<>?/\\|}{~:]\")\n",
    "    \"\"\"\n",
    "    try:\n",
    "        if any(char in sp_char for char in string):\n",
    "            print(\"String has special character(s).\")\n",
    "        else:\n",
    "            print(\"String doesn't have any special character.\")\n",
    "            \n",
    "        \n",
    "    except Exception as e:\n",
    "        print ('Error occured : ',e)\n"
   ]
  },
  {
   "cell_type": "code",
   "execution_count": 15,
   "id": "a4e64d3c",
   "metadata": {},
   "outputs": [
    {
     "name": "stdout",
     "output_type": "stream",
     "text": [
      "String has special character(s).\n"
     ]
    }
   ],
   "source": [
    "str1 = 'Hello, how are you?'\n",
    "str2 = 'This string has no special characters'\n",
    "special_char(str1)"
   ]
  },
  {
   "cell_type": "code",
   "execution_count": 16,
   "id": "1cafc076",
   "metadata": {},
   "outputs": [
    {
     "name": "stdout",
     "output_type": "stream",
     "text": [
      "String doesn't have any special character.\n"
     ]
    }
   ],
   "source": [
    "special_char(str2)"
   ]
  }
 ],
 "metadata": {
  "kernelspec": {
   "display_name": "Python 3",
   "language": "python",
   "name": "python3"
  },
  "language_info": {
   "codemirror_mode": {
    "name": "ipython",
    "version": 3
   },
   "file_extension": ".py",
   "mimetype": "text/x-python",
   "name": "python",
   "nbconvert_exporter": "python",
   "pygments_lexer": "ipython3",
   "version": "3.7.10"
  }
 },
 "nbformat": 4,
 "nbformat_minor": 5
}
