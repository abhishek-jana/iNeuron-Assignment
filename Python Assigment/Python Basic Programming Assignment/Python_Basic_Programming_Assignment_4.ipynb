{
 "cells": [
  {
   "cell_type": "markdown",
   "id": "b854d064",
   "metadata": {},
   "source": [
    "### 1. Write a Python Program to Find the Factorial of a Number?"
   ]
  },
  {
   "cell_type": "code",
   "execution_count": 1,
   "id": "9492a82e",
   "metadata": {},
   "outputs": [],
   "source": [
    "def factorial(n):\n",
    "    \"\"\"\n",
    "    Function to calculate factorial.\n",
    "    \n",
    "    n(int): integer of the factorial.\n",
    "    \"\"\"\n",
    "    try:\n",
    "        fac = 1\n",
    "        for i in range(1,n+1):            \n",
    "            fac = i*fac\n",
    "        return fac        \n",
    "    except Exception as e:\n",
    "        print ('Error Occured :',e)"
   ]
  },
  {
   "cell_type": "code",
   "execution_count": 2,
   "id": "dac07a68",
   "metadata": {},
   "outputs": [
    {
     "data": {
      "text/plain": [
       "24"
      ]
     },
     "execution_count": 2,
     "metadata": {},
     "output_type": "execute_result"
    }
   ],
   "source": [
    "factorial(4)"
   ]
  },
  {
   "cell_type": "code",
   "execution_count": 3,
   "id": "262ee5cf",
   "metadata": {},
   "outputs": [],
   "source": [
    "def MulTable(num):\n",
    "    \"\"\"\n",
    "    Fucction to to ptint multiplication table of a given number\n",
    "    num(int): Integer og the table\n",
    "    \"\"\"\n",
    "    \n",
    "    for i in range(1,11):\n",
    "        print (f'{num} X {i} = {num*i}')"
   ]
  },
  {
   "cell_type": "code",
   "execution_count": 4,
   "id": "e3476c49",
   "metadata": {},
   "outputs": [
    {
     "name": "stdout",
     "output_type": "stream",
     "text": [
      "17 X 1 = 17\n",
      "17 X 2 = 34\n",
      "17 X 3 = 51\n",
      "17 X 4 = 68\n",
      "17 X 5 = 85\n",
      "17 X 6 = 102\n",
      "17 X 7 = 119\n",
      "17 X 8 = 136\n",
      "17 X 9 = 153\n",
      "17 X 10 = 170\n"
     ]
    }
   ],
   "source": [
    "MulTable(17)"
   ]
  },
  {
   "cell_type": "markdown",
   "id": "9af45aec",
   "metadata": {},
   "source": [
    "### 3. Write a Python Program to Print the Fibonacci sequence?"
   ]
  },
  {
   "cell_type": "code",
   "execution_count": 5,
   "id": "ccc581bd",
   "metadata": {},
   "outputs": [],
   "source": [
    "def fibonacci():\n",
    "    fib = [0,1]\n",
    "    yield fib[0]\n",
    "    yield fib[1]\n",
    "    while True:\n",
    "        for i in fib:\n",
    "            fib.append(fib[-1]+fib[-2])\n",
    "            yield fib[-1]\n",
    "        "
   ]
  },
  {
   "cell_type": "code",
   "execution_count": 6,
   "id": "90396d50",
   "metadata": {},
   "outputs": [
    {
     "name": "stdout",
     "output_type": "stream",
     "text": [
      "Enter the number of fibonacci terms: 10\n",
      "Fibonacci Sequence is: [0, 1, 1, 2, 3, 5, 8, 13, 21, 34]\n"
     ]
    }
   ],
   "source": [
    "total = int(input('Enter the number of fibonacci terms: '))\n",
    "fib = fibonacci()\n",
    "print ('Fibonacci Sequence is:', [next(fib) for _ in range(total)])"
   ]
  },
  {
   "cell_type": "markdown",
   "id": "6210500c",
   "metadata": {},
   "source": [
    "### 4. Write a Python Program to Check Armstrong Number"
   ]
  },
  {
   "cell_type": "code",
   "execution_count": 7,
   "id": "f939cbee",
   "metadata": {},
   "outputs": [],
   "source": [
    "def order(num):  \n",
    "    \"\"\"\n",
    "    Function to find out the order no.\n",
    "    Example: 1234 has order 4.\n",
    "    \"\"\"    \n",
    "    i = 0\n",
    "    while (num != 0):\n",
    "        i = i + 1\n",
    "        num = num // 10          \n",
    "    return i\n",
    "\n",
    "def ChkArmNum():\n",
    "    \"\"\"\n",
    "    Function to check Armstrong Number.\n",
    "    \"\"\"\n",
    "    num = input('Enter a number to check for Armstrong Number :')\n",
    "    try:\n",
    "        num = int(num)\n",
    "        order_no = order(num)\n",
    "        total = 0\n",
    "        temp_num = num\n",
    "        while temp_num > 0:\n",
    "            pos = temp_num % 10            \n",
    "            total += pos**order_no\n",
    "            temp_num = temp_num//10\n",
    "        \n",
    "        if (num == total):\n",
    "            print (\"This is an Armstrong Number!\")\n",
    "        else:\n",
    "            print (\"This is not an Armstrong Number!\")\n",
    "    except Exception as e:\n",
    "        print ('Error Occured :',e)"
   ]
  },
  {
   "cell_type": "code",
   "execution_count": 8,
   "id": "aa646c37",
   "metadata": {},
   "outputs": [
    {
     "name": "stdout",
     "output_type": "stream",
     "text": [
      "Enter a number to check for Armstrong Number :153\n",
      "This is an Armstrong Number!\n"
     ]
    }
   ],
   "source": [
    "ChkArmNum()"
   ]
  },
  {
   "cell_type": "markdown",
   "id": "9fa5762a",
   "metadata": {},
   "source": [
    "### 5. Write a Python Program to Find Armstrong Number in an Interval?"
   ]
  },
  {
   "cell_type": "code",
   "execution_count": 9,
   "id": "7e097ed6",
   "metadata": {},
   "outputs": [],
   "source": [
    "def ChkArm(num):    \n",
    "    try:\n",
    "        num = int(num)\n",
    "        order_no = order(num)\n",
    "        total = 0\n",
    "        temp_num = num\n",
    "        while temp_num > 0:\n",
    "            pos = temp_num % 10            \n",
    "            total += pos**order_no \n",
    "            temp_num = temp_num//10\n",
    "        \n",
    "        if (num == total):\n",
    "            return True\n",
    "        else:\n",
    "            return False\n",
    "    except Exception as e:\n",
    "        print ('Error Occured :',e)\n",
    "        \n",
    "def FindArmNum(start,end):\n",
    "    \"\"\"\n",
    "    Function to find Armstrong number(s) in an interval\n",
    "    \n",
    "    strt(int): start of the interval\n",
    "    end(int): end of the interval\n",
    "    \"\"\"\n",
    "    nums = []\n",
    "    for i in range(start,end+1):\n",
    "        res = ChkArm(i)\n",
    "        if res:\n",
    "            nums.append(i)\n",
    "    if len(nums)>0:\n",
    "        print (f\"Armstrong numbers(s) in the interval {start} to {end} is: {nums}\")\n",
    "    else:\n",
    "        print (f\"There is no Armstrong number in the interval {start} to {end}.\")"
   ]
  },
  {
   "cell_type": "code",
   "execution_count": 10,
   "id": "1c25e55b",
   "metadata": {},
   "outputs": [
    {
     "name": "stdout",
     "output_type": "stream",
     "text": [
      "Armstrong numbers(s) in the interval 1 to 10000 is: [1, 2, 3, 4, 5, 6, 7, 8, 9, 153, 370, 371, 407, 1634, 8208, 9474]\n"
     ]
    }
   ],
   "source": [
    "FindArmNum(1,10000)"
   ]
  },
  {
   "cell_type": "markdown",
   "id": "214d4ba3",
   "metadata": {},
   "source": [
    "### 6. Write a Python Program to Find the Sum of Natural Numbers?"
   ]
  },
  {
   "cell_type": "code",
   "execution_count": 11,
   "id": "e671469f",
   "metadata": {},
   "outputs": [],
   "source": [
    "def NatNumSum():\n",
    "    \n",
    "    \"\"\"\n",
    "    Function to find the sum of natural numbers\n",
    "    \"\"\"\n",
    "    num = input('Enter a number to find the sum of natural numbers :')\n",
    "    try:\n",
    "        tot = 0\n",
    "        num = int(num)\n",
    "        if num < 0:\n",
    "            print ('Enter a positive value.')\n",
    "        else:\n",
    "            for i in range(num+1):\n",
    "                tot += i\n",
    "            print (f'The sum is {tot}')\n",
    "    except Exception as e:\n",
    "        print ('Error Occured :',e)\n",
    "    "
   ]
  },
  {
   "cell_type": "code",
   "execution_count": 12,
   "id": "9e4e74af",
   "metadata": {},
   "outputs": [
    {
     "name": "stdout",
     "output_type": "stream",
     "text": [
      "Enter a number to find the sum of natural numbers :10\n",
      "The sum is 55\n"
     ]
    }
   ],
   "source": [
    "NatNumSum()"
   ]
  }
 ],
 "metadata": {
  "kernelspec": {
   "display_name": "Python 3",
   "language": "python",
   "name": "python3"
  },
  "language_info": {
   "codemirror_mode": {
    "name": "ipython",
    "version": 3
   },
   "file_extension": ".py",
   "mimetype": "text/x-python",
   "name": "python",
   "nbconvert_exporter": "python",
   "pygments_lexer": "ipython3",
   "version": "3.7.10"
  }
 },
 "nbformat": 4,
 "nbformat_minor": 5
}
