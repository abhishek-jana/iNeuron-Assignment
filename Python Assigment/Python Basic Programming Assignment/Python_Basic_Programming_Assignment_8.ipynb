{
 "cells": [
  {
   "cell_type": "markdown",
   "id": "53f2f26d",
   "metadata": {},
   "source": [
    "### 1. Write a Python Program to Add Two Matrices?\n",
    "### 2. Write a Python Program to Multiply Two Matrices?\n",
    "### 3. Write a Python Program to Transpose a Matrix?\n",
    "\n",
    "Ans: For the first 3 questions, I'm going to write a class that does addition, multiplication and transpose of a matrix"
   ]
  },
  {
   "cell_type": "code",
   "execution_count": 1,
   "id": "1f3b7186",
   "metadata": {},
   "outputs": [],
   "source": [
    "class MatrixOps:\n",
    "    def __init__(self,m):\n",
    "        self.m = m\n",
    "    def add(self,other):\n",
    "        try:\n",
    "            rows = len(self.m)\n",
    "            cols = len(self.m[0])\n",
    "            res = [[None for i in range(cols)] for j in range(rows)]\n",
    "            if (len(self.m) == len(other.m) and len(self.m[0]) == len(other.m[0])):\n",
    "                for i in range(rows):\n",
    "                    for j in range(cols):\n",
    "                        res[i][j] = self.m[i][j] + other.m[i][j]\n",
    "                for r in res:\n",
    "                    print (r)\n",
    "            else:\n",
    "                print (\"Size mismatch!\")\n",
    "        except Exception as e:\n",
    "            print ('Error occured : ',e)\n",
    "                \n",
    "    def multiply(self,other):\n",
    "        try:\n",
    "            rows = len(self.m)\n",
    "            cols = len(other.m[0])\n",
    "            res = [[0 for i in range(len(other.m[0]))] for j in range(rows)]\n",
    "            for i in range(rows): # rows of matrix 1\n",
    "                for j in range(cols): # cols of matrix 1 \n",
    "                    for k in range(len(other.m)): # rows of matrix 2\n",
    "                        res[i][j] += self.m[i][k]*other.m[k][j]\n",
    "            \n",
    "            for r in res:\n",
    "                print (r)\n",
    "        except Exception as e:\n",
    "            print ('Error occured : ',e)                \n",
    "\n",
    "    def transpose(self):\n",
    "        try:\n",
    "            rows = len(self.m)\n",
    "            cols = len(self.m[0])\n",
    "            res = [[None for i in range(cols)] for j in range(rows)]\n",
    "            for i in range(rows): # rows of matrix 1\n",
    "                for j in range(cols): # cols of matrix 1 \n",
    "                    res[j][i] = self.m[i][j]\n",
    "#             for r in res:\n",
    "#                 print (r)\n",
    "            for r in res:\n",
    "                print (r)\n",
    "        except Exception as e:\n",
    "            print ('Error occured : ',e)\n",
    "            \n",
    "    def __str__(self):\n",
    "        return \"Matrix operation class that does addition, multiplication and transpose of a matrix\""
   ]
  },
  {
   "cell_type": "code",
   "execution_count": 2,
   "id": "c67c116e",
   "metadata": {},
   "outputs": [],
   "source": [
    "mat1 = MatrixOps([[12,42,23],[17,22,76],[11,25,71]])\n",
    "mat2 = MatrixOps([[1,4,3],[7,2,6],[1,2,7]])"
   ]
  },
  {
   "cell_type": "code",
   "execution_count": 3,
   "id": "c7d61be1",
   "metadata": {},
   "outputs": [
    {
     "name": "stdout",
     "output_type": "stream",
     "text": [
      "[13, 46, 26]\n",
      "[24, 24, 82]\n",
      "[12, 27, 78]\n"
     ]
    }
   ],
   "source": [
    "mat1.add(mat2) #addition"
   ]
  },
  {
   "cell_type": "code",
   "execution_count": 4,
   "id": "7a163093",
   "metadata": {},
   "outputs": [
    {
     "name": "stdout",
     "output_type": "stream",
     "text": [
      "[329, 178, 449]\n",
      "[247, 264, 715]\n",
      "[257, 236, 680]\n"
     ]
    }
   ],
   "source": [
    "mat1.multiply(mat2) #multiplication"
   ]
  },
  {
   "cell_type": "code",
   "execution_count": 5,
   "id": "5fb0ed25",
   "metadata": {},
   "outputs": [
    {
     "name": "stdout",
     "output_type": "stream",
     "text": [
      "[12, 17, 11]\n",
      "[42, 22, 25]\n",
      "[23, 76, 71]\n"
     ]
    }
   ],
   "source": [
    "mat1.transpose() #transpose"
   ]
  },
  {
   "cell_type": "markdown",
   "id": "8ebd37cd",
   "metadata": {},
   "source": [
    "### 4. Write a Python Program to Sort Words in Alphabetic Order?"
   ]
  },
  {
   "cell_type": "code",
   "execution_count": 6,
   "id": "d10fdde1",
   "metadata": {},
   "outputs": [],
   "source": [
    "def SortWords():\n",
    "    input_str = input(\"Enter a sentence to sort in Alphabetic Order : \")\n",
    "    try:\n",
    "        word = input_str.split()\n",
    "        word.sort()\n",
    "        sent = [s for s in word]\n",
    "        print (f\"Sentence after sorting: {' '.join(sent)}\")\n",
    "    except Exception as e:\n",
    "        print ('Error occured : ',e)\n",
    "        "
   ]
  },
  {
   "cell_type": "code",
   "execution_count": 7,
   "id": "9ecfdfbf",
   "metadata": {},
   "outputs": [
    {
     "name": "stdout",
     "output_type": "stream",
     "text": [
      "Enter a sentence to sort in Alphabetic Order : Hello, my name is Abhishek Jana. This is assignment 8.\n",
      "Sentence after sorting: 8. Abhishek Hello, Jana. This assignment is is my name\n"
     ]
    }
   ],
   "source": [
    "SortWords()"
   ]
  },
  {
   "cell_type": "markdown",
   "id": "a8f10203",
   "metadata": {},
   "source": [
    "### 5. Write a Python Program to Remove Punctuation From a String?"
   ]
  },
  {
   "cell_type": "code",
   "execution_count": 9,
   "id": "5c677c87",
   "metadata": {},
   "outputs": [],
   "source": [
    "import re\n",
    "\n",
    "def remove_punc():\n",
    "    input_str = input(\"Enter a sentence to remove punctuation : \")\n",
    "    try:\n",
    "        res = re.sub(r'[^\\w\\s]','',input_str)\n",
    "        print (f\"Sentence after removing punctuation: {res}\")\n",
    "    except Exception as e:\n",
    "        print ('Error occured : ',e)"
   ]
  },
  {
   "cell_type": "code",
   "execution_count": 10,
   "id": "3c10daf2",
   "metadata": {},
   "outputs": [
    {
     "name": "stdout",
     "output_type": "stream",
     "text": [
      "Enter a sentence to remove punctuation : Hello, my name is Abhishek Jana. This is assignment 8.\n",
      "Sentence after removing punctuation: Hello my name is Abhishek Jana This is assignment 8\n"
     ]
    }
   ],
   "source": [
    "remove_punc()"
   ]
  }
 ],
 "metadata": {
  "kernelspec": {
   "display_name": "Python 3",
   "language": "python",
   "name": "python3"
  },
  "language_info": {
   "codemirror_mode": {
    "name": "ipython",
    "version": 3
   },
   "file_extension": ".py",
   "mimetype": "text/x-python",
   "name": "python",
   "nbconvert_exporter": "python",
   "pygments_lexer": "ipython3",
   "version": "3.7.10"
  }
 },
 "nbformat": 4,
 "nbformat_minor": 5
}
