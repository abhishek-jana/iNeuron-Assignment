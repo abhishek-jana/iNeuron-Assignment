{
 "cells": [
  {
   "cell_type": "markdown",
   "id": "97b36d5e",
   "metadata": {},
   "source": [
    "### 1. Write a Python program to print \"Hello Python\"?"
   ]
  },
  {
   "cell_type": "code",
   "execution_count": 1,
   "id": "1e984441",
   "metadata": {},
   "outputs": [
    {
     "name": "stdout",
     "output_type": "stream",
     "text": [
      "Hello Python\n"
     ]
    }
   ],
   "source": [
    "print (\"Hello Python\")"
   ]
  },
  {
   "cell_type": "markdown",
   "id": "dbb805d2",
   "metadata": {},
   "source": [
    "### 2. Write a Python program to do arithmetical operations addition and division.?"
   ]
  },
  {
   "cell_type": "code",
   "execution_count": 2,
   "id": "ac5c682b",
   "metadata": {},
   "outputs": [],
   "source": [
    "def addition(*args):\n",
    "    \"\"\"\n",
    "    function for addition operation\n",
    "    \"\"\"\n",
    "    add = 0\n",
    "    try:\n",
    "        for i in args:\n",
    "            add += i\n",
    "        return add\n",
    "    except Exception as e:\n",
    "        print (\"error occured: \",e)\n",
    "        "
   ]
  },
  {
   "cell_type": "code",
   "execution_count": 3,
   "id": "8c200b2d",
   "metadata": {},
   "outputs": [
    {
     "data": {
      "text/plain": [
       "15"
      ]
     },
     "execution_count": 3,
     "metadata": {},
     "output_type": "execute_result"
    }
   ],
   "source": [
    "addition(1,2,3,4,5)"
   ]
  },
  {
   "cell_type": "code",
   "execution_count": 4,
   "id": "5d98c162",
   "metadata": {},
   "outputs": [
    {
     "name": "stdout",
     "output_type": "stream",
     "text": [
      "error occured:  unsupported operand type(s) for +=: 'int' and 'str'\n"
     ]
    }
   ],
   "source": [
    "addition(1,2,3,4,'5')"
   ]
  },
  {
   "cell_type": "code",
   "execution_count": 5,
   "id": "810d857b",
   "metadata": {},
   "outputs": [],
   "source": [
    "def division(a,b):\n",
    "    \"\"\"\n",
    "    function to evaluate division\n",
    "    \"\"\"\n",
    "    try:\n",
    "        return a/b\n",
    "    except Exception as e:\n",
    "        print (\"error occured: \",e)"
   ]
  },
  {
   "cell_type": "code",
   "execution_count": 6,
   "id": "1b02366c",
   "metadata": {},
   "outputs": [
    {
     "name": "stdout",
     "output_type": "stream",
     "text": [
      "error occured:  division by zero\n"
     ]
    }
   ],
   "source": [
    "division(1,0)"
   ]
  },
  {
   "cell_type": "code",
   "execution_count": 7,
   "id": "5cb674bc",
   "metadata": {},
   "outputs": [
    {
     "data": {
      "text/plain": [
       "0.5"
      ]
     },
     "execution_count": 7,
     "metadata": {},
     "output_type": "execute_result"
    }
   ],
   "source": [
    "division(1,2)"
   ]
  },
  {
   "cell_type": "markdown",
   "id": "03c53012",
   "metadata": {},
   "source": [
    "### 3. Write a Python program to find the area of a triangle?"
   ]
  },
  {
   "cell_type": "code",
   "execution_count": 8,
   "id": "ef521b25",
   "metadata": {},
   "outputs": [],
   "source": [
    "import math\n",
    "def triangle_area(*args):\n",
    "    \"\"\"\n",
    "    Function to calculate the area of a triagle.\n",
    "    Args:\n",
    "\n",
    "    args -- height and base or the lengths of the triangle sides\n",
    "            \n",
    "            \n",
    "    Returns:\n",
    "    area: area of the triangle\n",
    "    \n",
    "    \"\"\"\n",
    "    \n",
    "    if len(args) == 2:\n",
    "        base  = args[0]\n",
    "        height = args[1]\n",
    "        try:\n",
    "            print (\"Assuming you entered the height and base!\")\n",
    "            area = base*height/2\n",
    "            print (\"Area of the triangle is: \",area)\n",
    "        except Exception as e:\n",
    "            print ('error occured:', e)\n",
    "            \n",
    "    elif len(args) == 3:\n",
    "        \n",
    "        a = args[0]\n",
    "        b = args[1]\n",
    "        c = args[2]\n",
    "        try :\n",
    "            print (\"Assuming you entered the 3 lengths of the triangle sides\")\n",
    "            area = math.sqrt(4*(a**2)*(b**2) - (a**2 + b**2 - c**2)**2)/4\n",
    "            print (\"Area of the triangle is: \",area)\n",
    "        except Exception as e:\n",
    "            print (\"error occured: \",e)\n",
    "    else:\n",
    "        print (\"Please check your arguments! Either provide height and base or provide the 3 lengths of the triangle sides\")\n"
   ]
  },
  {
   "cell_type": "code",
   "execution_count": 9,
   "id": "ae968168",
   "metadata": {},
   "outputs": [
    {
     "name": "stdout",
     "output_type": "stream",
     "text": [
      "Please check your arguments! Either provide height and base or provide the 3 lengths of the triangle sides\n"
     ]
    }
   ],
   "source": [
    "triangle_area(8,6,6,6)"
   ]
  },
  {
   "cell_type": "code",
   "execution_count": 10,
   "id": "25878305",
   "metadata": {},
   "outputs": [
    {
     "name": "stdout",
     "output_type": "stream",
     "text": [
      "Assuming you entered the 3 lengths of the triangle sides\n",
      "Area of the triangle is:  11.61895003862225\n"
     ]
    }
   ],
   "source": [
    "triangle_area(6,8,4)"
   ]
  },
  {
   "cell_type": "code",
   "execution_count": 11,
   "id": "f90d1cd8",
   "metadata": {},
   "outputs": [
    {
     "name": "stdout",
     "output_type": "stream",
     "text": [
      "Assuming you entered the height and base!\n",
      "Area of the triangle is:  24.0\n"
     ]
    }
   ],
   "source": [
    "triangle_area(6,8)"
   ]
  },
  {
   "cell_type": "markdown",
   "id": "78070fdd",
   "metadata": {},
   "source": [
    "### 4. Write a Python program to swap two variables?"
   ]
  },
  {
   "cell_type": "code",
   "execution_count": 12,
   "id": "abebfd96",
   "metadata": {},
   "outputs": [],
   "source": [
    "def swap(a,b):\n",
    "    \"\"\"\n",
    "    function to swap two variables\n",
    "    \"\"\"\n",
    "    print (f'input a = {a} \\ninput b = {b}')\n",
    "    a,b = b,a\n",
    "    print (f'output a = {a} \\noutput b = {b}')"
   ]
  },
  {
   "cell_type": "code",
   "execution_count": 13,
   "id": "da131672",
   "metadata": {},
   "outputs": [
    {
     "name": "stdout",
     "output_type": "stream",
     "text": [
      "input a = 5 \n",
      "input b = 6\n",
      "output a = 6 \n",
      "output b = 5\n"
     ]
    }
   ],
   "source": [
    "swap(5,6)"
   ]
  },
  {
   "cell_type": "markdown",
   "id": "a4b39a55",
   "metadata": {},
   "source": [
    "### 5. Write a Python program to generate a random number?"
   ]
  },
  {
   "cell_type": "code",
   "execution_count": 14,
   "id": "e55c67dc",
   "metadata": {},
   "outputs": [
    {
     "data": {
      "text/plain": [
       "0.13839705109673706"
      ]
     },
     "execution_count": 14,
     "metadata": {},
     "output_type": "execute_result"
    }
   ],
   "source": [
    "import random\n",
    "\n",
    "random.random()"
   ]
  }
 ],
 "metadata": {
  "kernelspec": {
   "display_name": "Python 3",
   "language": "python",
   "name": "python3"
  },
  "language_info": {
   "codemirror_mode": {
    "name": "ipython",
    "version": 3
   },
   "file_extension": ".py",
   "mimetype": "text/x-python",
   "name": "python",
   "nbconvert_exporter": "python",
   "pygments_lexer": "ipython3",
   "version": "3.7.10"
  }
 },
 "nbformat": 4,
 "nbformat_minor": 5
}
