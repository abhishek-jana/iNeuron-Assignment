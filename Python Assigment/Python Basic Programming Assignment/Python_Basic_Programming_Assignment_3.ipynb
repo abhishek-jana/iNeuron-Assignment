{
 "cells": [
  {
   "cell_type": "markdown",
   "id": "e69eed68",
   "metadata": {},
   "source": [
    "### 1. Write a Python Program to Check if a Number is Positive, Negative or Zero?"
   ]
  },
  {
   "cell_type": "code",
   "execution_count": 1,
   "id": "64f563f9",
   "metadata": {},
   "outputs": [],
   "source": [
    "def checkNum():\n",
    "    \"\"\"\n",
    "    Call this function to check for Positive,Negative or zero\n",
    "    \"\"\"\n",
    "    \n",
    "    num = input(\"Enter a number: \")\n",
    "    try :\n",
    "        num = float(num)\n",
    "        if num < 0:\n",
    "            print ('The number is negative.')\n",
    "        elif num > 0:\n",
    "            print ('The number is positive.')\n",
    "        else:\n",
    "            print ('The number is 0')\n",
    "    except Exception as e:\n",
    "        print ('Error occured :', e)"
   ]
  },
  {
   "cell_type": "code",
   "execution_count": 2,
   "id": "83f773f3",
   "metadata": {},
   "outputs": [
    {
     "name": "stdout",
     "output_type": "stream",
     "text": [
      "Enter a number: 4\n",
      "The number is positive.\n"
     ]
    }
   ],
   "source": [
    "checkNum()"
   ]
  },
  {
   "cell_type": "markdown",
   "id": "51e72310",
   "metadata": {},
   "source": [
    "### 2. Write a Python Program to Check if a Number is Odd or Even?"
   ]
  },
  {
   "cell_type": "code",
   "execution_count": 3,
   "id": "c4f1428e",
   "metadata": {},
   "outputs": [],
   "source": [
    "def OddEven():\n",
    "    num = input('Enter a number :')\n",
    "    try:\n",
    "        num = float(num)\n",
    "        if num % 2 == 0:\n",
    "            print ('This is an even number.')\n",
    "        else:\n",
    "            print ('This is an odd number.')\n",
    "    except Exception as e:\n",
    "        print ('Error occured :',e)"
   ]
  },
  {
   "cell_type": "code",
   "execution_count": 4,
   "id": "0090d0cd",
   "metadata": {},
   "outputs": [
    {
     "name": "stdout",
     "output_type": "stream",
     "text": [
      "Enter a number :5\n",
      "This is an odd number.\n"
     ]
    }
   ],
   "source": [
    "OddEven()"
   ]
  },
  {
   "cell_type": "markdown",
   "id": "cab4503e",
   "metadata": {},
   "source": [
    "### 3. Write a Python Program to Check Leap Year?"
   ]
  },
  {
   "cell_type": "code",
   "execution_count": 5,
   "id": "45799084",
   "metadata": {},
   "outputs": [],
   "source": [
    "def IsLeapYear():\n",
    "    year = input('Enter year to check for leap year :')\n",
    "    try:\n",
    "        year = int(year)\n",
    "        if year % 4 == 0:\n",
    "            if year % 100 == 0:\n",
    "                if year % 400 == 0:\n",
    "                    print (\"It's a leap year!\")\n",
    "                else:\n",
    "                    print (\"It's not a leap year!\")\n",
    "            else:\n",
    "                print (\"It's a leap year!\")\n",
    "        else:\n",
    "            print (\"It's not a leap year!\")\n",
    "    except Exception as e:\n",
    "        print ('error occured :',e)"
   ]
  },
  {
   "cell_type": "code",
   "execution_count": 6,
   "id": "b7ca2b0b",
   "metadata": {},
   "outputs": [
    {
     "name": "stdout",
     "output_type": "stream",
     "text": [
      "Enter year to check for leap year :1800\n",
      "It's not a leap year!\n"
     ]
    }
   ],
   "source": [
    "IsLeapYear()"
   ]
  },
  {
   "cell_type": "code",
   "execution_count": 7,
   "id": "b4280c27",
   "metadata": {},
   "outputs": [
    {
     "name": "stdout",
     "output_type": "stream",
     "text": [
      "Enter year to check for leap year :2000\n",
      "It's a leap year!\n"
     ]
    }
   ],
   "source": [
    "IsLeapYear()"
   ]
  },
  {
   "cell_type": "markdown",
   "id": "ceb39a14",
   "metadata": {},
   "source": [
    "### 4. Write a Python Program to Check Prime Number?"
   ]
  },
  {
   "cell_type": "code",
   "execution_count": 8,
   "id": "28cc9ce7",
   "metadata": {},
   "outputs": [],
   "source": [
    "def IsPrime():\n",
    "    num = input('Enter a number to check for prime :')\n",
    "    try:\n",
    "        num = int(num)\n",
    "        if num > 1:\n",
    "            for i in range(2,num):\n",
    "                if num % i == 0:\n",
    "                    print (f'{num} is not a prime number!')\n",
    "                    break\n",
    "            else:\n",
    "                print (f'{num} is a prime number!')\n",
    "        else:\n",
    "            print (f'{num} is not a prime number!')\n",
    "    except Exception as e:\n",
    "        print ('Error occured :',e)"
   ]
  },
  {
   "cell_type": "code",
   "execution_count": 9,
   "id": "c106b4ec",
   "metadata": {},
   "outputs": [
    {
     "name": "stdout",
     "output_type": "stream",
     "text": [
      "Enter a number to check for prime :73\n",
      "73 is a prime number!\n"
     ]
    }
   ],
   "source": [
    "IsPrime()"
   ]
  },
  {
   "cell_type": "markdown",
   "id": "ba28da7e",
   "metadata": {},
   "source": [
    "### 5. Write a Python Program to Print all Prime Numbers in an Interval of 1-10000?"
   ]
  },
  {
   "cell_type": "code",
   "execution_count": 10,
   "id": "13d87d59",
   "metadata": {},
   "outputs": [],
   "source": [
    "def genPrimes():\n",
    "    prime = [2]\n",
    "    start = 3\n",
    "    yield prime[0]\n",
    "    while True:\n",
    "        for i in prime:\n",
    "            if (start % i == 0):\n",
    "                break                \n",
    "                \n",
    "        else:\n",
    "            prime.append(start)\n",
    "            yield start\n",
    "        start += 1"
   ]
  },
  {
   "cell_type": "code",
   "execution_count": 11,
   "id": "be4b6fa5",
   "metadata": {},
   "outputs": [],
   "source": [
    "def getPrimes(lim):\n",
    "    \n",
    "    \"\"\"\n",
    "    Function to generate prime within limit.\n",
    "    \n",
    "    lim - upper limit of prime numbers\n",
    "    \"\"\"\n",
    "    try:\n",
    "        gen = genPrimes() #generator object\n",
    "        prime = []\n",
    "        for n in gen:\n",
    "            if n <= lim:\n",
    "                prime.append(n)\n",
    "            else:\n",
    "                break\n",
    "        return prime\n",
    "    except Exception as e:\n",
    "        print ('Error occured :',e)"
   ]
  },
  {
   "cell_type": "code",
   "execution_count": 12,
   "id": "87bbce64",
   "metadata": {},
   "outputs": [
    {
     "data": {
      "text/plain": [
       "[2,\n",
       " 3,\n",
       " 5,\n",
       " 7,\n",
       " 11,\n",
       " 13,\n",
       " 17,\n",
       " 19,\n",
       " 23,\n",
       " 29,\n",
       " 31,\n",
       " 37,\n",
       " 41,\n",
       " 43,\n",
       " 47,\n",
       " 53,\n",
       " 59,\n",
       " 61,\n",
       " 67,\n",
       " 71,\n",
       " 73,\n",
       " 79,\n",
       " 83,\n",
       " 89,\n",
       " 97]"
      ]
     },
     "execution_count": 12,
     "metadata": {},
     "output_type": "execute_result"
    }
   ],
   "source": [
    "getPrimes(100) # using 100 to stop overflowing output, but will work for 10000."
   ]
  }
 ],
 "metadata": {
  "kernelspec": {
   "display_name": "Python 3",
   "language": "python",
   "name": "python3"
  },
  "language_info": {
   "codemirror_mode": {
    "name": "ipython",
    "version": 3
   },
   "file_extension": ".py",
   "mimetype": "text/x-python",
   "name": "python",
   "nbconvert_exporter": "python",
   "pygments_lexer": "ipython3",
   "version": "3.7.10"
  }
 },
 "nbformat": 4,
 "nbformat_minor": 5
}
