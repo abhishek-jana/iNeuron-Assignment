{
 "cells": [
  {
   "cell_type": "markdown",
   "id": "3f5ab867",
   "metadata": {},
   "source": [
    "### Question1 Create a function that takes a list of strings and integers, and filters out the list so that it returns a list of integers only.\n",
    "Examples\n",
    "\n",
    "filter_list([1, 2, 3, \"a\", \"b\", 4]) ➞ [1, 2, 3, 4]\n",
    "\n",
    "filter_list([\"A\", 0, \"Edabit\", 1729, \"Python\", \"1729\"]) ➞ [0, 1729]\n",
    "\n",
    "filter_list([\"Nothing\", \"here\"]) ➞ []\n"
   ]
  },
  {
   "cell_type": "code",
   "execution_count": 1,
   "id": "295b12cb",
   "metadata": {},
   "outputs": [],
   "source": [
    "def filter_list(lst):\n",
    "    \n",
    "    \"\"\"\n",
    "    function that takes a list of strings and integers, \n",
    "    and filters out the list so that it returns a list of integers only.\n",
    "    \"\"\"\n",
    "    try:\n",
    "        return list(filter(lambda x: type(x) == int,lst))\n",
    "    except Exception as e:\n",
    "        print ('Error occured : ',e) "
   ]
  },
  {
   "cell_type": "code",
   "execution_count": 2,
   "id": "99699c48",
   "metadata": {},
   "outputs": [
    {
     "data": {
      "text/plain": [
       "[0, 1729]"
      ]
     },
     "execution_count": 2,
     "metadata": {},
     "output_type": "execute_result"
    }
   ],
   "source": [
    "filter_list([\"A\", 0, \"Edabit\", 1729, \"Python\", \"1729\"])"
   ]
  },
  {
   "cell_type": "markdown",
   "id": "df4c240b",
   "metadata": {},
   "source": [
    "### Question2 Given a list of numbers, create a function which returns the list but with each element's index in the list added to itself. This means you add 0 to the number at index 0, add 1 to the number at index 1, etc...\n",
    "Examples\n",
    "\n",
    "add_indexes([0, 0, 0, 0, 0]) ➞ [0, 1, 2, 3, 4]\n",
    "\n",
    "add_indexes([1, 2, 3, 4, 5]) ➞ [1, 3, 5, 7, 9]\n",
    "\n",
    "add_indexes([5, 4, 3, 2, 1]) ➞ [5, 5, 5, 5, 5]\n"
   ]
  },
  {
   "cell_type": "code",
   "execution_count": 3,
   "id": "055227d0",
   "metadata": {},
   "outputs": [],
   "source": [
    "def add_indexes(lst):\n",
    "    \"\"\"\n",
    "    function which returns the list but \n",
    "    with each element's index in the list added to itself. \n",
    "    \"\"\"\n",
    "    try:\n",
    "        for i in range(len(lst)):\n",
    "            lst[i] = lst[i] + i\n",
    "        return lst\n",
    "    except Exception as e:\n",
    "        print ('Error occured : ',e) "
   ]
  },
  {
   "cell_type": "code",
   "execution_count": 4,
   "id": "34006de3",
   "metadata": {},
   "outputs": [
    {
     "data": {
      "text/plain": [
       "[5, 5, 5, 5, 5]"
      ]
     },
     "execution_count": 4,
     "metadata": {},
     "output_type": "execute_result"
    }
   ],
   "source": [
    "add_indexes([5,4,3,2,1])"
   ]
  },
  {
   "cell_type": "markdown",
   "id": "e2b54afc",
   "metadata": {},
   "source": [
    "### Question3 Create a function that takes the height and radius of a cone as arguments and returns the volume of the cone rounded to the nearest hundredth. See the resources tab for the formula.\n",
    "\n",
    "Examples\n",
    "\n",
    "cone_volume(3, 2) ➞ 12.57\n",
    "\n",
    "cone_volume(15, 6) ➞ 565.49\n",
    "\n",
    "cone_volume(18, 0) ➞ 0\n"
   ]
  },
  {
   "cell_type": "code",
   "execution_count": 5,
   "id": "ff3eb9ee",
   "metadata": {},
   "outputs": [],
   "source": [
    "import math\n",
    "def cone_vloume(height,radius):\n",
    "    \"\"\"\n",
    "    function that takes the height and radius of a cone as arguments \n",
    "    and returns the volume of the cone rounded to the nearest hundredth.\n",
    "    \"\"\"\n",
    "    try:\n",
    "        volume = ((math.pi * radius**2)*height)/3\n",
    "        return round(volume,ndigits = 2)\n",
    "        \n",
    "    except Exception as e:\n",
    "        print ('Error occured : ',e)"
   ]
  },
  {
   "cell_type": "code",
   "execution_count": 6,
   "id": "bcfb51a6",
   "metadata": {},
   "outputs": [
    {
     "data": {
      "text/plain": [
       "565.49"
      ]
     },
     "execution_count": 6,
     "metadata": {},
     "output_type": "execute_result"
    }
   ],
   "source": [
    "cone_vloume(15,6)"
   ]
  },
  {
   "cell_type": "markdown",
   "id": "87c86ff8",
   "metadata": {},
   "source": [
    "### Question4 This Triangular Number Sequence is generated from a pattern of dots that form a triangle. The first 5 numbers of the sequence, or dots, are: \n",
    "\n",
    "### 1, 3, 6, 10, 15\n",
    "\n",
    "### This means that the first triangle has just one dot, the second one has three dots, the third one has 6 dots and so on.\n",
    "### Write a function that gives the number of dots with its corresponding triangle number of the sequence.\n",
    "\n",
    "Examples\n",
    "\n",
    "triangle(1) ➞ 1\n",
    "\n",
    "triangle(6) ➞ 21\n",
    "\n",
    "triangle(215) ➞ 23220\n"
   ]
  },
  {
   "cell_type": "code",
   "execution_count": 7,
   "id": "17571b3f",
   "metadata": {},
   "outputs": [],
   "source": [
    "def triangle(num):\n",
    "    \"\"\"\n",
    "    function that gives the number of dots \n",
    "    with its corresponding triangle number of the sequence.\n",
    "    \"\"\"\n",
    "    try:        \n",
    "        return sum(list(range(num))) + num       \n",
    "        \n",
    "    except Exception as e:\n",
    "        print ('Error occured : ',e)"
   ]
  },
  {
   "cell_type": "code",
   "execution_count": 8,
   "id": "510ddddc",
   "metadata": {},
   "outputs": [
    {
     "data": {
      "text/plain": [
       "23220"
      ]
     },
     "execution_count": 8,
     "metadata": {},
     "output_type": "execute_result"
    }
   ],
   "source": [
    "triangle(215)"
   ]
  },
  {
   "cell_type": "markdown",
   "id": "6b3dac51",
   "metadata": {},
   "source": [
    "### Question5 Create a function that takes a list of numbers between 1 and 10 (excluding one number) and returns the missing number.\n",
    "Examples\n",
    "\n",
    "missing_num([1, 2, 3, 4, 6, 7, 8, 9, 10]) ➞ 5\n",
    "\n",
    "missing_num([7, 2, 3, 6, 5, 9, 1, 4, 8]) ➞ 10\n",
    "\n",
    "missing_num([10, 5, 1, 2, 4, 6, 8, 3, 9]) ➞ 7\n"
   ]
  },
  {
   "cell_type": "code",
   "execution_count": 9,
   "id": "ebba16f0",
   "metadata": {},
   "outputs": [],
   "source": [
    "list(range(1,11)).remove(2)"
   ]
  },
  {
   "cell_type": "code",
   "execution_count": 10,
   "id": "d0db541c",
   "metadata": {},
   "outputs": [],
   "source": [
    "def missing_num(lst):\n",
    "    \"\"\"\n",
    "    function that takes a list of numbers \n",
    "    between 1 and 10 (excluding one number)\n",
    "    and returns the missing number.\n",
    "    \"\"\"\n",
    "    try:\n",
    "        nums = list(range(1,11))\n",
    "        for i in lst:\n",
    "            nums.remove(i)\n",
    "        return nums[0]\n",
    "    except Exception as e:\n",
    "        print ('Error occured : ',e)"
   ]
  },
  {
   "cell_type": "code",
   "execution_count": 11,
   "id": "2bb393ac",
   "metadata": {},
   "outputs": [
    {
     "data": {
      "text/plain": [
       "7"
      ]
     },
     "execution_count": 11,
     "metadata": {},
     "output_type": "execute_result"
    }
   ],
   "source": [
    "missing_num([10, 5, 1, 2, 4, 6, 8, 3, 9])"
   ]
  }
 ],
 "metadata": {
  "kernelspec": {
   "display_name": "Python 3",
   "language": "python",
   "name": "python3"
  },
  "language_info": {
   "codemirror_mode": {
    "name": "ipython",
    "version": 3
   },
   "file_extension": ".py",
   "mimetype": "text/x-python",
   "name": "python",
   "nbconvert_exporter": "python",
   "pygments_lexer": "ipython3",
   "version": "3.7.10"
  }
 },
 "nbformat": 4,
 "nbformat_minor": 5
}
