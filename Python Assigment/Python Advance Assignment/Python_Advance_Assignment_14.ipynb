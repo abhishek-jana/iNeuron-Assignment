{
 "cells": [
  {
   "cell_type": "markdown",
   "id": "95fc537f",
   "metadata": {},
   "source": [
    "#### Q1. Is an assignment operator like += only for show? Is it possible that it would lead to faster results at the runtime?\n"
   ]
  },
  {
   "cell_type": "markdown",
   "id": "e10d45e5",
   "metadata": {},
   "source": [
    "In Python, += is sugar coating for the iadd special method, or add or radd if iadd isn't present.\n",
    "\n",
    "The iadd method of a class can do anything it wants.\n",
    "\n",
    "The list object implements it and uses it to iterate over an iterable object appending each element to itself in the same way that the list's extend method does."
   ]
  },
  {
   "cell_type": "markdown",
   "id": "640ab4e9",
   "metadata": {},
   "source": [
    "#### Q2. What is the smallest number of statements you'd have to write in most programming languages to replace the Python expression a, b = a + b, a?"
   ]
  },
  {
   "cell_type": "code",
   "execution_count": 4,
   "id": "3dfe3a9d",
   "metadata": {},
   "outputs": [
    {
     "name": "stdout",
     "output_type": "stream",
     "text": [
      "a: 3 \t b: 1\n",
      "a: 4 \t b: 3\n",
      "a: 7 \t b: 4\n",
      "a: 11 \t b: 7\n",
      "a: 18 \t b: 11\n"
     ]
    }
   ],
   "source": [
    "a,b=1,2\n",
    "\n",
    "while b<10:\n",
    "    temp=a\n",
    "    a=a+b\n",
    "    b=temp\n",
    "    print(\"a:\",a,\"\\t b:\",b)"
   ]
  },
  {
   "cell_type": "markdown",
   "id": "3a5be5d0",
   "metadata": {},
   "source": [
    "#### Q3. In Python, what is the most effective way to set a list of 100 integers to 0? "
   ]
  },
  {
   "cell_type": "code",
   "execution_count": 7,
   "id": "6b4e8a31",
   "metadata": {},
   "outputs": [
    {
     "name": "stdout",
     "output_type": "stream",
     "text": [
      "[0, 0, 0, 0, 0, 0, 0, 0, 0, 0, 0, 0, 0, 0, 0, 0, 0, 0, 0, 0, 0, 0, 0, 0, 0, 0, 0, 0, 0, 0, 0, 0, 0, 0, 0, 0, 0, 0, 0, 0, 0, 0, 0, 0, 0, 0, 0, 0, 0, 0, 0, 0, 0, 0, 0, 0, 0, 0, 0, 0, 0, 0, 0, 0, 0, 0, 0, 0, 0, 0, 0, 0, 0, 0, 0, 0, 0, 0, 0, 0, 0, 0, 0, 0, 0, 0, 0, 0, 0, 0, 0, 0, 0, 0, 0, 0, 0, 0, 0, 0]\n"
     ]
    }
   ],
   "source": [
    "lst=[0]*100\n",
    "print(lst)"
   ]
  },
  {
   "cell_type": "markdown",
   "id": "1f291327",
   "metadata": {},
   "source": [
    "#### Q4. What is the most effective way to initialise a list of 99 integers that repeats the sequence 1, 2, 3? S If necessary, show step-by-step instructions on how to accomplish this.\n"
   ]
  },
  {
   "cell_type": "code",
   "execution_count": 9,
   "id": "7c47168c",
   "metadata": {},
   "outputs": [
    {
     "name": "stdout",
     "output_type": "stream",
     "text": [
      "[1, 2, 3, 1, 2, 3, 1, 2, 3, 1, 2, 3, 1, 2, 3, 1, 2, 3, 1, 2, 3, 1, 2, 3, 1, 2, 3, 1, 2, 3, 1, 2, 3, 1, 2, 3, 1, 2, 3, 1, 2, 3, 1, 2, 3, 1, 2, 3, 1, 2, 3, 1, 2, 3, 1, 2, 3, 1, 2, 3, 1, 2, 3, 1, 2, 3, 1, 2, 3, 1, 2, 3, 1, 2, 3, 1, 2, 3, 1, 2, 3, 1, 2, 3, 1, 2, 3, 1, 2, 3, 1, 2, 3, 1, 2, 3, 1, 2, 3, 1, 2, 3, 1, 2, 3, 1, 2, 3, 1, 2, 3, 1, 2, 3, 1, 2, 3, 1, 2, 3, 1, 2, 3, 1, 2, 3, 1, 2, 3, 1, 2, 3, 1, 2, 3, 1, 2, 3, 1, 2, 3, 1, 2, 3, 1, 2, 3, 1, 2, 3, 1, 2, 3, 1, 2, 3, 1, 2, 3, 1, 2, 3, 1, 2, 3, 1, 2, 3, 1, 2, 3, 1, 2, 3, 1, 2, 3, 1, 2, 3, 1, 2, 3, 1, 2, 3, 1, 2, 3, 1, 2, 3, 1, 2, 3, 1, 2, 3, 1, 2, 3, 1, 2, 3, 1, 2, 3, 1, 2, 3, 1, 2, 3, 1, 2, 3, 1, 2, 3, 1, 2, 3, 1, 2, 3, 1, 2, 3, 1, 2, 3, 1, 2, 3, 1, 2, 3, 1, 2, 3, 1, 2, 3, 1, 2, 3, 1, 2, 3, 1, 2, 3, 1, 2, 3, 1, 2, 3, 1, 2, 3, 1, 2, 3, 1, 2, 3, 1, 2, 3, 1, 2, 3, 1, 2, 3, 1, 2, 3, 1, 2, 3, 1, 2, 3, 1, 2, 3, 1, 2, 3, 1, 2, 3, 1, 2, 3]\n"
     ]
    }
   ],
   "source": [
    "#Define the seq as a list\n",
    "seq=[1,2,3]\n",
    "\n",
    "#Multiply the list sequence to the number of repititions of the sequence\n",
    "lst=seq*99\n",
    "\n",
    "print(lst)"
   ]
  },
  {
   "cell_type": "markdown",
   "id": "a4d10cad",
   "metadata": {},
   "source": [
    "#### Q5. If you're using IDLE to run a Python application, explain how to print a multidimensional list as efficiently?\n"
   ]
  },
  {
   "cell_type": "code",
   "execution_count": 14,
   "id": "c1e833c8",
   "metadata": {},
   "outputs": [
    {
     "name": "stdout",
     "output_type": "stream",
     "text": [
      "[[0, 1, 2, 3], [1, 2, 3, 4], [2, 3, 4, 5], [3, 4, 5, 6], [4, 5, 6, 7]]\n"
     ]
    }
   ],
   "source": [
    "r = 4\n",
    "c = 5\n",
    "  \n",
    "a = [[i+j for i in range(r)] for j in range(c)]\n",
    "print(a)"
   ]
  },
  {
   "cell_type": "markdown",
   "id": "505ef65b",
   "metadata": {},
   "source": [
    "#### Q6. Is it possible to use list comprehension with a string? If so, how can you go about doing it?"
   ]
  },
  {
   "cell_type": "code",
   "execution_count": 15,
   "id": "5e5ca0e4",
   "metadata": {},
   "outputs": [
    {
     "data": {
      "text/plain": [
       "['I', ' ', 'a', 'm', ' ', 'A', 'b', 'h', 'i', 's', 'h', 'e', 'k']"
      ]
     },
     "execution_count": 15,
     "metadata": {},
     "output_type": "execute_result"
    }
   ],
   "source": [
    "string=\"I am Abhishek\"\n",
    "\n",
    "list(string)"
   ]
  },
  {
   "cell_type": "markdown",
   "id": "10bd7792",
   "metadata": {},
   "source": [
    "#### Q7. From the command line, how do you get support with a user-written Python programme? Is this possible from inside IDLE?\n",
    "\n",
    "If we have a python script like 'python_script.py' We can run 'cat python_script.py' commmand to see the content of a python file, to edit a python file from command line, we can run 'nano python_script.py' or 'vim python_script.py' to edit a python script from command line.\n",
    "\n",
    "For IDLE we have advanced text editors like sublime text, vscode etc. to edit a python script and run the script."
   ]
  },
  {
   "cell_type": "markdown",
   "id": "a5e8df25",
   "metadata": {},
   "source": [
    "#### Q8. Functions are said to be “first-class objects” in Python but not in most other languages, such as C++ or Java. What can you do in Python with a function (callable object) that you can't do in C or C++?\n",
    "\n",
    "In python we don't have to define the type of function arguments and it's return values, but in C or C++ we have to define the type of argument and return values.\n",
    "\n",
    "Also, in python, function can be reassigned in runtime, whereas in C and C++ the entire code is compiled beforehand."
   ]
  },
  {
   "cell_type": "markdown",
   "id": "8a3074e7",
   "metadata": {},
   "source": [
    "#### Q9. How do you distinguish between a wrapper, a wrapped feature, and a decorator?"
   ]
  },
  {
   "cell_type": "markdown",
   "id": "fc3f4528",
   "metadata": {},
   "source": [
    "Decorator:\n",
    "Allows objects to be composed/add capabilities by wrapping them with a class with the same interface.\n",
    "\n",
    "Wrapper:\n",
    "Allows you to wrap an object without a known interface implementation so it adheres to an interface. The point is to \"translate\" one interface into another."
   ]
  },
  {
   "cell_type": "markdown",
   "id": "43591e4b",
   "metadata": {},
   "source": [
    "#### Q10. If a function is a generator function, what does it return?\n"
   ]
  },
  {
   "cell_type": "markdown",
   "id": "18a5c6fd",
   "metadata": {},
   "source": [
    " A generator is a special type of function which does not return a single value, instead, it returns an iterator object with a sequence of values.\n",
    "\n",
    "In a generator function, a yield statement is used rather than a return statement."
   ]
  },
  {
   "cell_type": "markdown",
   "id": "bfb29d4a",
   "metadata": {},
   "source": [
    "#### Q11. What is the one improvement that must be made to a function in order for it to become a generator function in the Python language?\n"
   ]
  },
  {
   "cell_type": "markdown",
   "id": "941e3ff9",
   "metadata": {},
   "source": [
    "In order for a function to act as generator, yield statement is used instead of a return statement."
   ]
  },
  {
   "cell_type": "markdown",
   "id": "3a4cf4fe",
   "metadata": {},
   "source": [
    "#### Q12. Identify at least one benefit of generators."
   ]
  },
  {
   "cell_type": "markdown",
   "id": "63cb8251",
   "metadata": {},
   "source": [
    "Generators are memory efficient (as compared to iterators) since the elements are generated dynamically and every next item is generated only after the item before is consumed."
   ]
  }
 ],
 "metadata": {
  "kernelspec": {
   "display_name": "Python 3 (ipykernel)",
   "language": "python",
   "name": "python3"
  },
  "language_info": {
   "codemirror_mode": {
    "name": "ipython",
    "version": 3
   },
   "file_extension": ".py",
   "mimetype": "text/x-python",
   "name": "python",
   "nbconvert_exporter": "python",
   "pygments_lexer": "ipython3",
   "version": "3.8.11"
  }
 },
 "nbformat": 4,
 "nbformat_minor": 5
}
