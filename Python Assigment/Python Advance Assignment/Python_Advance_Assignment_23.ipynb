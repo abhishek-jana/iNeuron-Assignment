{
 "cells": [
  {
   "cell_type": "markdown",
   "id": "2c447c46",
   "metadata": {},
   "source": [
    "#### Q1. If you have any, what are your choices for increasing the comparison between different figures on the same graph?"
   ]
  },
  {
   "cell_type": "markdown",
   "id": "3f7d4d13",
   "metadata": {},
   "source": [
    "For increasing comparision, one can :\n",
    "    \n",
    "1. Change the colors ,i.e., a distinct color for each figure and attach labels to it to make more understandable.\n",
    "\n",
    "2. Change the pattern of the figures. One can assign a unique pattern for each figure ,e.g., line, dotted , degree of bold,etc. Attach labels along with it for the same reason as above.\n"
   ]
  },
  {
   "cell_type": "markdown",
   "id": "74ada73b",
   "metadata": {},
   "source": [
    "#### Q2. Can you explain the benefit of compound interest over a higher rate of interest that does not compound after reading this chapter?"
   ]
  },
  {
   "cell_type": "markdown",
   "id": "c546487c",
   "metadata": {},
   "source": [
    "Which chapter? Question isn't clear."
   ]
  },
  {
   "cell_type": "markdown",
   "id": "8299f130",
   "metadata": {},
   "source": [
    "#### Q3. What is a histogram, exactly? Name a numpy method for creating such a graph."
   ]
  },
  {
   "cell_type": "markdown",
   "id": "6a4dcb7f",
   "metadata": {},
   "source": [
    "Histogram is a graphical display of data using bars of different heights , where the heights may stand for frequency or the percentile value.\n",
    "\n",
    "numpy.histogram() is a bulit-in numpy function for creating a histogram representation."
   ]
  },
  {
   "cell_type": "markdown",
   "id": "971583fd",
   "metadata": {},
   "source": [
    "#### Q4. If necessary, how do you change the aspect ratios between the X and Y axes?"
   ]
  },
  {
   "cell_type": "markdown",
   "id": "747a7e4d",
   "metadata": {},
   "source": [
    "The aspect ratio can be changed by using figure(figsize=(10,8)) function inside the matplot.pyplot library which we scale down or up the graph."
   ]
  },
  {
   "cell_type": "markdown",
   "id": "cc6e07da",
   "metadata": {},
   "source": [
    "#### 5. Summarize the differences in array multiplication between two arrays, as it is used in these three forms: dot product, outer product, and standard multiplication of two numpy arrays."
   ]
  },
  {
   "cell_type": "markdown",
   "id": "f4f33427",
   "metadata": {},
   "source": [
    "The standard multiplication multiplies two arrays placewise/positionwise.\n",
    "\n",
    "The dot product does the vector multiplication of two matrices represented as arrays.\n",
    "\n",
    "In outer product, every element of one array will be multiplied by every element of other array such that the number of columns in the output array will be equal to the number of elements in the second array.\n",
    "\n",
    "Below are the examples of each."
   ]
  },
  {
   "cell_type": "code",
   "execution_count": 5,
   "id": "c1327a79",
   "metadata": {},
   "outputs": [
    {
     "name": "stdout",
     "output_type": "stream",
     "text": [
      "Standard: \n",
      " [[ 10  40  90]\n",
      " [160 250 360]\n",
      " [360 490 640]] \n",
      "\n",
      "Dot: \n",
      " [[ 270  330  390]\n",
      " [ 600  750  900]\n",
      " [ 820 1030 1240]] \n",
      "\n",
      "Outer: \n",
      " [[ 10  20  30  40  50  60  60  70  80]\n",
      " [ 20  40  60  80 100 120 120 140 160]\n",
      " [ 30  60  90 120 150 180 180 210 240]\n",
      " [ 40  80 120 160 200 240 240 280 320]\n",
      " [ 50 100 150 200 250 300 300 350 400]\n",
      " [ 60 120 180 240 300 360 360 420 480]\n",
      " [ 60 120 180 240 300 360 360 420 480]\n",
      " [ 70 140 210 280 350 420 420 490 560]\n",
      " [ 80 160 240 320 400 480 480 560 640]]\n"
     ]
    }
   ],
   "source": [
    "import numpy as np\n",
    "\n",
    "a1=np.array([[1,2,3],[4,5,6],[6,7,8]])\n",
    "a2=np.array([[10,20,30],[40,50,60],[60,70,80]])\n",
    "\n",
    "#standard\n",
    "print(\"Standard: \\n\",a1*a2,\"\\n\")\n",
    "\n",
    "#dot\n",
    "print(\"Dot: \\n\",np.dot(a1,a2),\"\\n\")\n",
    "\n",
    "#outer\n",
    "print(\"Outer: \\n\",np.outer(a1,a2))\n"
   ]
  },
  {
   "cell_type": "markdown",
   "id": "44ebe243",
   "metadata": {},
   "source": [
    "#### Q6. Before you buy a home, which numpy function will you use to measure your monthly mortgage payment?"
   ]
  },
  {
   "cell_type": "markdown",
   "id": "c6947c43",
   "metadata": {},
   "source": [
    "One needs to use: **np.pmt(rate, nper, pv)**\n",
    "\n",
    "where, ate = The periodic interest rate\n",
    "\n",
    "nper = The number of payment periods\n",
    "\n",
    "pv = The total mortgage loan"
   ]
  },
  {
   "cell_type": "markdown",
   "id": "46f78541",
   "metadata": {},
   "source": [
    "#### Q7. Can numpy arrays store string data? If so, state at least one limitation that is imposed on this data."
   ]
  },
  {
   "cell_type": "markdown",
   "id": "56f34ad3",
   "metadata": {},
   "source": [
    "Yes numpy arrays can store string data.The drawback is that the dtype of any such array is the maximum length of any string present in the array. so once assigned, it can only store a new string if it's length is not more than the maximum length at the time the string array was created."
   ]
  }
 ],
 "metadata": {
  "kernelspec": {
   "display_name": "Python 3 (ipykernel)",
   "language": "python",
   "name": "python3"
  },
  "language_info": {
   "codemirror_mode": {
    "name": "ipython",
    "version": 3
   },
   "file_extension": ".py",
   "mimetype": "text/x-python",
   "name": "python",
   "nbconvert_exporter": "python",
   "pygments_lexer": "ipython3",
   "version": "3.8.11"
  }
 },
 "nbformat": 4,
 "nbformat_minor": 5
}
