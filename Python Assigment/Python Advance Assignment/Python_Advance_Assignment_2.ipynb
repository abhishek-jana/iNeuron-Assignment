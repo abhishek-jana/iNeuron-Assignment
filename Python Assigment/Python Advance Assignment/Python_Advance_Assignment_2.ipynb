{
 "cells": [
  {
   "cell_type": "markdown",
   "id": "4752ee16",
   "metadata": {},
   "source": [
    "#### Q1. What is the relationship between classes and modules?\n",
    "\n",
    "Ans. Classes and modules are both namespaces, and classes are attributes of the module object. Module is an entire file of code which can contain multiple classes. Classes support OOP, multiple instances, operator overloading, inheritance but module is like a single instance without operator overloading and inheritance. \n",
    "\n",
    "#### Q2. How do you make instances and classes?\n",
    "\n",
    "Ans. Instances are made by calling a class like a function. Class is created using the \"class\" statement. Eg.\n"
   ]
  },
  {
   "cell_type": "code",
   "execution_count": 2,
   "id": "eab974c6",
   "metadata": {},
   "outputs": [],
   "source": [
    "#class example:\n",
    "class SomeClass:\n",
    "    pass\n",
    "\n",
    "#instance example\n",
    "x = SomeClass() \n"
   ]
  },
  {
   "cell_type": "markdown",
   "id": "9437a112",
   "metadata": {},
   "source": [
    "#### Q3. Where and how should be class attributes created?\n",
    "\n",
    "Ans. Class attributes are variables created inside all objects of the class. Any name inside the class statement block becomes the class attribute. However, class attributes can also be created anywhere with a referance to the class object (even outside the class statement). \n",
    "\n",
    "#### Q4. Where and how are instance attributes created?\n",
    "\n",
    "Ans. Instance attributes are created by assigning the attributes to the class instance. Any arguments inside the function method of a class is considered an attribute by implimenting self argument. The \\_\\_init__ constructor initiates the attributes. Like class attributes, instance attributes can also be created outside the class statement.  \n",
    "\n",
    "#### Q5. What does the term \"self\" in a Python class mean?\n",
    "\n",
    "Ans. \"self\" is the first argument of a function method inside a class object. It is used to access the function methods and attributes of a class. It connests the attributes to the arguments.\n",
    "\n",
    "#### Q6. How does a Python class handle operator overloading?\n",
    "\n",
    "Ans. Operator overloading are special methods inside a python class. They are denoted by double underscore followed by the method name and double underscore after the name. They are run by default when an instance is created from the class. Python is able to define the mapping between the operations and special method names.\n",
    "\n",
    "#### Q7. When do you consider allowing operator overloading of your classes?\n",
    "\n",
    "Ans. Operator overloading is used to allow special operations extending their predefined meaning. It also allows us to load the the data during the class instance call. For example we generally use \"+\" operator to add two numeric integers, but using operator overloading, we can redefine \"+\" operator to add two matrices or two strings etc. \n",
    "\n",
    "#### Q8. What is the most popular form of operator overloading?\n",
    "\n",
    "Ans. \\_\\_init__ is the most popular for of operator overloading.\n",
    "\n",
    "#### Q9. What are the two most important concepts to grasp in order to comprehend Python OOP code?\n",
    "\n",
    "Ans. The two most important concepts in OOP code are: use of \"self\" argument and the use of \\_\\_init__ constructor method. "
   ]
  }
 ],
 "metadata": {
  "kernelspec": {
   "display_name": "Python 3",
   "language": "python",
   "name": "python3"
  },
  "language_info": {
   "codemirror_mode": {
    "name": "ipython",
    "version": 3
   },
   "file_extension": ".py",
   "mimetype": "text/x-python",
   "name": "python",
   "nbconvert_exporter": "python",
   "pygments_lexer": "ipython3",
   "version": "3.7.10"
  }
 },
 "nbformat": 4,
 "nbformat_minor": 5
}
