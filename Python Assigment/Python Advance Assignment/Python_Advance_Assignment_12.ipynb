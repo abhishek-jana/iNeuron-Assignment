{
 "cells": [
  {
   "cell_type": "markdown",
   "id": "16dba9e5",
   "metadata": {},
   "source": [
    "#### Q1. Does assigning a value to a string's indexed character violate Python's string immutability?\n",
    "\n",
    "Ans. Yes. Since strings are immutable, we cannot assign value to a string's indexed character.\n",
    "\n",
    "#### Q2. Does using the += operator to concatenate strings violate Python's string immutability? Why or why not?\n",
    "\n",
    "Ans. Using the += operator to concatenate strings doesn't violate Python's string immutability. Although, instead of numeric addition, += is interpreted as string concatenation.\n",
    "\n",
    "#### Q3. In Python, how many different ways are there to index a character?\n",
    "\n",
    "Ans. There are two ways to index a character:\n",
    "\n",
    "1. By using positive index number to access characters,\n",
    "\n",
    "2. By using negative index number to access characters.\n",
    "\n",
    "#### Q4. What is the relationship between indexing and slicing?\n",
    "\n",
    "Ans. \"indexing\" is a reference to an element of an iterable sequence. This starts from 0 where 0 is the first elemnet of a sequence. If we use negative indexing, it will start from -1 and -1 refers to the last element of a sequence.\n",
    "\n",
    "\"slicing\" is a subset of elements of an iterable sequence. We can slice a sequence given the starting and ending indeces.\n",
    "\n",
    "Eg.\n",
    " "
   ]
  },
  {
   "cell_type": "code",
   "execution_count": 1,
   "id": "696a54ac",
   "metadata": {},
   "outputs": [
    {
     "name": "stdout",
     "output_type": "stream",
     "text": [
      "Element with index 2 is : e\n",
      "Slicing from index 3 to index 5 : ur\n"
     ]
    }
   ],
   "source": [
    "# indexing \n",
    "\n",
    "arr = 'iNeuron Python Assignment'\n",
    "\n",
    "print (\"Element with index 2 is :\", arr[2] )\n",
    "\n",
    "# Slicing\n",
    "\n",
    "print (\"Slicing from index 3 to index 5 :\", arr[3:5])"
   ]
  },
  {
   "cell_type": "markdown",
   "id": "637aa429",
   "metadata": {},
   "source": [
    "#### Q5. What is an indexed character's exact data type? What is the data form of a slicing-generated substring?\n",
    "\n",
    "Ans. Both indexed character and slicing-generated substring has data type : string."
   ]
  },
  {
   "cell_type": "code",
   "execution_count": 2,
   "id": "9a9b6059",
   "metadata": {},
   "outputs": [
    {
     "name": "stdout",
     "output_type": "stream",
     "text": [
      "<class 'str'>\n",
      "<class 'str'>\n"
     ]
    }
   ],
   "source": [
    "# indexing\n",
    "\n",
    "print (type(arr[2]) )\n",
    "\n",
    "# Slicing\n",
    "\n",
    "print (type(arr[3:5]))"
   ]
  },
  {
   "cell_type": "markdown",
   "id": "c4cca63d",
   "metadata": {},
   "source": [
    "#### Q6. What is the relationship between string and character \"types\" in Python?\n",
    "\n",
    "Ans. There is no character data type in python. They are simply type \"string\" with length 1."
   ]
  },
  {
   "cell_type": "markdown",
   "id": "b4106283",
   "metadata": {},
   "source": [
    "#### Q7. Identify at least two operators and one method that allow you to combine one or more smaller strings to create a larger string.\n",
    "\n",
    "Ans. Two operators for string concatenation are : '+' and '+='\n",
    "\n",
    "Method for string concatenation is : join()"
   ]
  },
  {
   "cell_type": "code",
   "execution_count": 5,
   "id": "5f39005f",
   "metadata": {},
   "outputs": [
    {
     "name": "stdout",
     "output_type": "stream",
     "text": [
      "iNeuron Assignment\n",
      "iNeuronAssignment\n",
      "iNeuron Assignment\n"
     ]
    }
   ],
   "source": [
    "# '+' operator\n",
    "\n",
    "arr1 = 'iNeuron'\n",
    "arr2 = 'Assignment'\n",
    "\n",
    "print (arr1+' '+arr2)\n",
    "\n",
    "# '+=' operator\n",
    "arr1 += arr2\n",
    "\n",
    "print (arr1)\n",
    "\n",
    "# join() method\n",
    "\n",
    "arr1 = 'iNeuron'\n",
    "arr2 = 'Assignment'\n",
    "\n",
    "print (' '.join([arr1,arr2]))"
   ]
  },
  {
   "cell_type": "markdown",
   "id": "45fae2bb",
   "metadata": {},
   "source": [
    "#### Q8. What is the benefit of first checking the target string with in or not in before using the index method to find a substring?\n",
    "\n",
    "Ans. Checking the target string with in or not in will return True or False respectively which will help us determine whether index method is useful on the string or not. \n",
    "\n",
    "#### Q9. Which operators and built-in string methods produce simple Boolean (true/false) results?\n",
    "\n",
    "Ans. Operators for boolean result: AND, OR, NOT, < , > , <=, >=, ==\n",
    "\n",
    "Methods for boolean result: isalpha(),isdigit(),islower(),isupper() etc. to name a few."
   ]
  }
 ],
 "metadata": {
  "kernelspec": {
   "display_name": "Python 3 (ipykernel)",
   "language": "python",
   "name": "python3"
  },
  "language_info": {
   "codemirror_mode": {
    "name": "ipython",
    "version": 3
   },
   "file_extension": ".py",
   "mimetype": "text/x-python",
   "name": "python",
   "nbconvert_exporter": "python",
   "pygments_lexer": "ipython3",
   "version": "3.8.11"
  }
 },
 "nbformat": 4,
 "nbformat_minor": 5
}
