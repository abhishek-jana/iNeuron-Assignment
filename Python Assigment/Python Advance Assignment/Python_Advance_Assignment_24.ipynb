{
 "cells": [
  {
   "cell_type": "markdown",
   "id": "88ffda8e",
   "metadata": {},
   "source": [
    "#### Q1. Is it permissible to use several import statements to import the same module? What would the goal be? Can you think of a situation where it would be beneficial?"
   ]
  },
  {
   "cell_type": "markdown",
   "id": "f66748ce",
   "metadata": {},
   "source": [
    "Yes it is permissible but not essentially needed unless the modules has a range submodules with long names. In that case, the modules could be imported . e.g.,\n",
    "\n",
    "from sklearn.preprocessing import LabelEncoder\n",
    "\n",
    "from sklearn.linear_model import LinearRegression"
   ]
  },
  {
   "cell_type": "markdown",
   "id": "6f327625",
   "metadata": {},
   "source": [
    "#### Q2. What are some of a modules characteristics? (Name at least one.)"
   ]
  },
  {
   "cell_type": "markdown",
   "id": "225443e8",
   "metadata": {},
   "source": [
    "Module has the following characteristics:\n",
    "\n",
    "- contain info, processing logic, and data.\n",
    "- can be separately compiled and stored in a library.\n",
    "- can be used by invoking a name and some parameters.\n"
   ]
  },
  {
   "cell_type": "markdown",
   "id": "5fe73c39",
   "metadata": {},
   "source": [
    "#### Q3. Circular importing, such as when two modules import each other, can lead to dependencies and bugs that aren't visible. How can you go about creating a program that avoids mutual importing?"
   ]
  },
  {
   "cell_type": "markdown",
   "id": "a9233387",
   "metadata": {},
   "source": [
    "Circular importing is created with the import statement. In the documentation, it is suggested to use import X, instead of other statements, such as from module import *, or from module import x,y,z."
   ]
  },
  {
   "cell_type": "markdown",
   "id": "9aba67e3",
   "metadata": {},
   "source": [
    "#### Q4. Why is _ _all_ _ in Python?"
   ]
  },
  {
   "cell_type": "markdown",
   "id": "6912a506",
   "metadata": {},
   "source": [
    "It specifies all the modules present in the particular library."
   ]
  },
  {
   "cell_type": "markdown",
   "id": "4aa0c983",
   "metadata": {},
   "source": [
    "#### Q5. In what situation is it useful to refer to the _ _name_ _ attribute or the string _ _main_ _?"
   ]
  },
  {
   "cell_type": "markdown",
   "id": "c590d227",
   "metadata": {},
   "source": [
    "While reading a file, the _name_ variable is set as _main_ if the module being run, or as the module's name if it is imported. Reading the file executes all top level code except functions and classes since they will only get imported/called."
   ]
  },
  {
   "cell_type": "markdown",
   "id": "aadb2a38",
   "metadata": {},
   "source": [
    "#### Q6. What are some of the benefits of attaching a program counter to the RPN interpreter application, which interprets an RPN script line by line?"
   ]
  },
  {
   "cell_type": "code",
   "execution_count": null,
   "id": "f838ab69",
   "metadata": {},
   "outputs": [],
   "source": []
  },
  {
   "cell_type": "markdown",
   "id": "b0950210",
   "metadata": {},
   "source": [
    "#### Q7. What are the minimum expressions or statements (or both) that you'd need to render a basic programming language like RPN primitive but complete— that is, capable of carrying out any computerised task theoretically possible?"
   ]
  },
  {
   "cell_type": "code",
   "execution_count": null,
   "id": "7644b50c",
   "metadata": {},
   "outputs": [],
   "source": []
  }
 ],
 "metadata": {
  "kernelspec": {
   "display_name": "Python 3 (ipykernel)",
   "language": "python",
   "name": "python3"
  },
  "language_info": {
   "codemirror_mode": {
    "name": "ipython",
    "version": 3
   },
   "file_extension": ".py",
   "mimetype": "text/x-python",
   "name": "python",
   "nbconvert_exporter": "python",
   "pygments_lexer": "ipython3",
   "version": "3.8.11"
  }
 },
 "nbformat": 4,
 "nbformat_minor": 5
}
