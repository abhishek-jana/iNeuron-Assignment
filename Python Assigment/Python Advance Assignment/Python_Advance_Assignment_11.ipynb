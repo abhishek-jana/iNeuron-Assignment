{
 "cells": [
  {
   "cell_type": "markdown",
   "id": "2df67fef",
   "metadata": {},
   "source": [
    "#### Q1. What is the concept of a metaclass?\n",
    "\n",
    "Ans. Metaclass is a class to create a class. They are used to customize the class creation method by redifning methods like \\_\\_init__ and \\_\\_new__ . They can be coded like simple functions but they have to make and return an object for the new class. \n",
    "\n",
    "#### Q2. What is the best way to declare a class's metaclass?\n",
    "\n",
    "Ans. We add a keyword argument in the class header line. For example: \n",
    "\n",
    "class A(metaclass = B).\n",
    "\n",
    "#### Q3. How do class decorators overlap with metaclasses for handling classes?\n",
    "\n",
    "Ans. Both are triggered at the end of class statement. Decorators links the class name to the callable result and metaclass leads to class creation by calling, but both can serve similar purpose. Decorators join and return the original class object. Metaclass join a class after creation. So it has has an advantage over decorators as class is created later.\n",
    "\n",
    "#### Q4. How do class decorators overlap with metaclasses for handling instances?\n",
    "\n",
    "Ans. We can add a wrapper object to detect instance creation for both metaclass and decorators. Decorators join and return the original class object for instance creation. Metaclass can do this, but it has to create the class object first."
   ]
  }
 ],
 "metadata": {
  "kernelspec": {
   "display_name": "Python 3 (ipykernel)",
   "language": "python",
   "name": "python3"
  },
  "language_info": {
   "codemirror_mode": {
    "name": "ipython",
    "version": 3
   },
   "file_extension": ".py",
   "mimetype": "text/x-python",
   "name": "python",
   "nbconvert_exporter": "python",
   "pygments_lexer": "ipython3",
   "version": "3.8.11"
  }
 },
 "nbformat": 4,
 "nbformat_minor": 5
}
