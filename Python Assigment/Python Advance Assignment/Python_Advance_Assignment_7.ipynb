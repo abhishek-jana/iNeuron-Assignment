{
 "cells": [
  {
   "cell_type": "markdown",
   "id": "e4d1a176",
   "metadata": {},
   "source": [
    "#### Q1. What is the purpose of the try statement?\n",
    "\n",
    "Ans. Try statement is used to catch and recover from the exceptions raised by Python or custom exception created by the user.\n",
    "\n",
    "#### Q2. What are the two most popular try statement variations?\n",
    "\n",
    "Ans. try/except and try/finally\n",
    "\n",
    "#### Q3. What is the purpose of the raise statement?\n",
    "\n",
    "Ans. Raise is used to trigger an exception in the code manually.\n",
    "\n",
    "#### Q4. What does the assert statement do, and what other statement is it like?\n",
    "\n",
    "Ans. Assert is used to trigger an exception in the code conditionally.\n",
    "\n",
    "#### Q5. What is the purpose of the with/as argument, and what other statement is it like?\n",
    "\n",
    "Ans. The with/as argument used as context management logic to ensure termination action irrespective of any exception block.\n",
    "\n",
    "Other similar statement is try/finally."
   ]
  }
 ],
 "metadata": {
  "kernelspec": {
   "display_name": "Python 3 (ipykernel)",
   "language": "python",
   "name": "python3"
  },
  "language_info": {
   "codemirror_mode": {
    "name": "ipython",
    "version": 3
   },
   "file_extension": ".py",
   "mimetype": "text/x-python",
   "name": "python",
   "nbconvert_exporter": "python",
   "pygments_lexer": "ipython3",
   "version": "3.8.11"
  }
 },
 "nbformat": 4,
 "nbformat_minor": 5
}
