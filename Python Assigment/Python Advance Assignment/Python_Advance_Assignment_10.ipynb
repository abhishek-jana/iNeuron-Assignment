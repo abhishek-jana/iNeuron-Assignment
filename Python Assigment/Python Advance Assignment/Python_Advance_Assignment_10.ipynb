{
 "cells": [
  {
   "cell_type": "markdown",
   "id": "5cad4c90",
   "metadata": {},
   "source": [
    "#### Q1. What is the difference between \\_\\_getattr__ and\\_\\_getattribute__?\n",
    "\n",
    "Ans.  \\_\\_getattr__ is run for undefined attributes. This is straighforward to use as it's run for attributes not stored on an instance or inherited from it's classes.\n",
    "\n",
    "\\_\\_getattribute__ is run for every attribute. We have to be careful while using this method as it is all-inclusive. By passing attribute access to superclass we can avoid recursive loop.\n",
    "\n",
    "#### Q2. What is the difference between properties and descriptors?\n",
    "\n",
    "Ans. Property as special roles like using get, set, and delete functions for a specific attribute. Descriptors are more general, apart from providing class for these methods we can use custom methods too. So properties are specific kind of descriptors.\n",
    "\n",
    "In terms of coding, property is created with buit-in methods whereas, descriptors follow OOP. So we can access class properties like inheritance. \n",
    "\n",
    "#### Q3. What are the key differences in functionality between \\_\\_getattr__ and  \\_\\_getattribute__, as well as properties and descriptors?\n",
    "\n",
    "Ans.  \\_\\_getattr__ and  \\_\\_getattribute__ are more generic in catching arbitrarily many attributes. We cannot catch all attributes with a single propety or descriptor.\n",
    "\n",
    "\\_\\_getattr__ and  \\_\\_getattribute__ handle attribute fetchs only, \\_\\_setattr__ is needed to fetch assignment. Both property and decorators can handle attribute fetch and assignment.\n",
    "\n",
    "In terms of implementation, \\_\\_getattr__ and  \\_\\_getattribute__ are operator overloading methods whereas property and decorators are objects manually assigned to class attributes."
   ]
  }
 ],
 "metadata": {
  "kernelspec": {
   "display_name": "Python 3 (ipykernel)",
   "language": "python",
   "name": "python3"
  },
  "language_info": {
   "codemirror_mode": {
    "name": "ipython",
    "version": 3
   },
   "file_extension": ".py",
   "mimetype": "text/x-python",
   "name": "python",
   "nbconvert_exporter": "python",
   "pygments_lexer": "ipython3",
   "version": "3.8.11"
  }
 },
 "nbformat": 4,
 "nbformat_minor": 5
}
