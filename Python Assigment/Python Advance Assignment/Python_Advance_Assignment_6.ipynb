{
 "cells": [
  {
   "cell_type": "markdown",
   "id": "234aa3ae",
   "metadata": {},
   "source": [
    "#### Q1. Describe three applications for exception processing.\n",
    "\n",
    "Ans. The three applications for exception processing is error handling, termination action and event notification. Using exception processiong we can easily handle special cases. It also reduces the amount error checking operation as we can always filter the error in the exception statement. \n",
    "\n",
    "#### Q2. What happens if you don't do something extra to treat an exception?\n",
    "\n",
    "Ans. If we don't do something extra to treat an exception, it filters to python's default exception handler. The handler then prints the familier error and terminates the program.\n",
    " \n",
    "#### Q3. What are your options for recovering from an exception in your script?\n",
    "\n",
    "Ans. We can use try/except statement in this case. The program is terminated if an exception is caught, and continues in the the try block.\n",
    "\n",
    "#### Q4. Describe two methods for triggering exceptions in your script.\n",
    "\n",
    "Ans. The two methods for triggering exceptions is 'raise' and 'assert' statement. We can raise an exception be making a mistake, and wrong assert statement will also trigger an exception. \n",
    "\n",
    "#### Q5. Identify two methods for specifying actions to be executed at termination time, regardless of whether or not an exception exists.\n",
    "\n",
    "Ans. The two methods for specifying actions to be executed at termination time is 'try/finally' statement and 'with/as' statement. Using 'try/finally' statement we can ensure that the cade block in finally statement will run regardless of an exception. Similarly with/as is used to run a code after termination, but object type must be supported in this case."
   ]
  }
 ],
 "metadata": {
  "kernelspec": {
   "display_name": "Python 3 (ipykernel)",
   "language": "python",
   "name": "python3"
  },
  "language_info": {
   "codemirror_mode": {
    "name": "ipython",
    "version": 3
   },
   "file_extension": ".py",
   "mimetype": "text/x-python",
   "name": "python",
   "nbconvert_exporter": "python",
   "pygments_lexer": "ipython3",
   "version": "3.8.11"
  }
 },
 "nbformat": 4,
 "nbformat_minor": 5
}
