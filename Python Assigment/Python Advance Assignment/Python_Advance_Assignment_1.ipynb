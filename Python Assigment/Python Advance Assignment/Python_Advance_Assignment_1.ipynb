{
 "cells": [
  {
   "cell_type": "markdown",
   "id": "3f1c0459",
   "metadata": {},
   "source": [
    "### Q1. What is the purpose of Python's OOP?"
   ]
  },
  {
   "cell_type": "markdown",
   "id": "e25636ff",
   "metadata": {},
   "source": [
    "Ans. OOP helps us structure our python code into bundled into objects. For example, if we want to create a database of members at a college, we can create a class like \"Person\", which will have properties like role, name, age, contact etc. This will help us organize our code better.\n",
    "\n",
    "This also helps us reuse the code better by creating an instance for each peron, hence reducing redundancy."
   ]
  },
  {
   "cell_type": "markdown",
   "id": "f78deb2c",
   "metadata": {},
   "source": [
    "#### Q2. Where does an inheritance search look for an attribute?"
   ]
  },
  {
   "cell_type": "markdown",
   "id": "c5cedcc9",
   "metadata": {},
   "source": [
    "An inheritance search looks for an attribute in the instance first, then it looks in the class of the instance, if there are superclasses, then it will look in the superclasses strating from bottom to top of the object tree and from left to right order. Whenever the first attribute is found, the search stops.  "
   ]
  },
  {
   "cell_type": "markdown",
   "id": "e60cfbdf",
   "metadata": {},
   "source": [
    "#### Q3. How do you distinguish between a class object and an instance object?\n",
    "\n",
    "Ans. Class and instance are both namespaces consisting of variables as attributes. Class is used to create multiple instances. We can use operator overloading in class which instances inherit and uses functions inside them as methods.\n",
    "\n",
    "#### Q4. What makes the first argument in a class’s method function special?\n",
    "\n",
    "Ans. By convention self is used as the first argument. It helps to create a class instance which has access to all methods and attributes of the class. This is why the first argument is special.\n",
    "\n",
    "#### Q5. What is the purpose of the __init__ method?\n",
    "\n",
    "Ans. \\_\\_init__ is the constructor method in the class. Whenever a class instance is created, the \\_\\_init__ method is called by default. It allows us to initialize the attributes of the class. This is the most common operator overloading method. Without this, an empty namespace will be initiated.\n",
    "\n",
    "#### Q6. What is the process for creating a class instance?\n",
    "\n",
    "Ans. To create a class we call the class like a function call. If there are two or more arguments in the \\_\\_init__ constructor method, we pass them while creating the class instance. For example,\n",
    "\n",
    "cls1 = Class1()  # only 1 argument (self) in \\_\\_init__ method\n",
    "\n",
    "cls2 = Class2(arg1) # 2 arguments (self,arg1) in \\_\\_init__ method.\n",
    "\n",
    "#### Q8. How would you define the superclasses of a class?\n",
    "\n",
    "Ans. To create a superclass of a class, we list the superclasses in the parenthesis to the class. The classes in the parenthesis give the left to right inheritance search order in the class tree. Example,\n",
    "\n",
    "Class1(Class2, Class3, Class 4), here Class2, Class3, Class4 are superclasses of Class1 with "
   ]
  }
 ],
 "metadata": {
  "kernelspec": {
   "display_name": "Python 3",
   "language": "python",
   "name": "python3"
  },
  "language_info": {
   "codemirror_mode": {
    "name": "ipython",
    "version": 3
   },
   "file_extension": ".py",
   "mimetype": "text/x-python",
   "name": "python",
   "nbconvert_exporter": "python",
   "pygments_lexer": "ipython3",
   "version": "3.7.10"
  }
 },
 "nbformat": 4,
 "nbformat_minor": 5
}
