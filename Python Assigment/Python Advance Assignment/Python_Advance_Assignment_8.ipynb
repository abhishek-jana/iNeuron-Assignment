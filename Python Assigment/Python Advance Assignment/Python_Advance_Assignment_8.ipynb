{
 "cells": [
  {
   "cell_type": "markdown",
   "id": "25f9f998",
   "metadata": {},
   "source": [
    "#### Q1. What are the two latest user-defined exception constraints in Python 3.X?\n",
    "\n",
    "Ans. In python 3.X, exceptions are raised and caught through class instance object. Also, exception class are derived from buit-in class BaseException. To catch all normal exceptions, most programs inherit from Exception subclass. \n",
    "\n",
    "#### Q2. How are class-based exceptions that have been raised matched to handlers?\n",
    "\n",
    "Ans. Class-based exceptions are matched by superclass exceptions. A superclass in an exception handler will catch instances of the class and it's subclasses. So, superclass is like a general exception categories having more specific categories in it's subclass.\n",
    "\n",
    "#### Q3. Describe two methods for attaching context information to exception artefacts.\n",
    "\n",
    "Ans. We can create a custom class constructor and attach context information to exception artefacts by fillung out the instance attributes in the class instance.\n",
    "\n",
    "For genral purpose, the built-in exception supeclass can be used as a constructor to arguments in the class instance. \n",
    "\n",
    "#### Q4. Describe two methods for specifying the text of an exception object's error message.\n",
    "\n",
    "Ans. We can use a custom \\_\\_str__ opertaor overloading to display an exception object's error message. For general purpose, the built-in exception superclass will autometically display anything passed to the class constructor. \n",
    "\n",
    "Also, print and str operations can autometically display the error message through excetion object or by printing the error statement.\n",
    "\n",
    "#### Q5. Why do you no longer use string-based exceptions?\n",
    "\n",
    "Ans. String-based exceptions don't support categories, state information,or behaviour inheritance. So for bigger and complex programms it is not ideal. That's why we use class based exception now."
   ]
  }
 ],
 "metadata": {
  "kernelspec": {
   "display_name": "Python 3 (ipykernel)",
   "language": "python",
   "name": "python3"
  },
  "language_info": {
   "codemirror_mode": {
    "name": "ipython",
    "version": 3
   },
   "file_extension": ".py",
   "mimetype": "text/x-python",
   "name": "python",
   "nbconvert_exporter": "python",
   "pygments_lexer": "ipython3",
   "version": "3.8.11"
  }
 },
 "nbformat": 4,
 "nbformat_minor": 5
}
