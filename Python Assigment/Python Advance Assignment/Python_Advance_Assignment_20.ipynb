{
 "cells": [
  {
   "cell_type": "markdown",
   "id": "5e32bd6a",
   "metadata": {},
   "source": [
    "#### Q1. Compare and contrast the float and Decimal classes' benefits and drawbacks."
   ]
  },
  {
   "cell_type": "markdown",
   "id": "cdddf10d",
   "metadata": {},
   "source": [
    "###### Decimal class:\n",
    "\n",
    "Provides support for fast correctly-rounded decimal floating point arithmetic.\n",
    "\n",
    "Represent the number in a nice readable way.\n",
    "\n",
    "Gives you the exact arithmatic operation result.\n",
    "\n",
    "It can be constructed from integers, strings, floats, or tuples. Construction from an integer or a float performs an exact conversion of the value of that integer or float.\n",
    "\n",
    "Financial and monetary calculations\n",
    "\n",
    "Default precision of 28 places\n",
    "\n",
    "###### Floating class:\n",
    "\n",
    "It do not represent the exact precise value value.\n",
    "\n",
    "It gives the value close to the result.\n",
    "\n",
    "The float object exposes only a modest portion of its capabilities\n",
    "\n",
    "Some values cannot be exactly represented in a float data type. For instance, storing the 0.1 value in float (which is a binary floating point value) variable we get only an approximation of the value. Similarly, the 1/3 value cannot be represented exactly in decimal floating point type.\n",
    "\n",
    "Scientific calculations\n",
    "\n",
    "Default precision of 18 places."
   ]
  },
  {
   "cell_type": "markdown",
   "id": "0c5b446a",
   "metadata": {},
   "source": [
    "#### Q2. Consider two objects: Decimal('1.200') and Decimal('1.2'). In what sense are these the same object? Are these just two ways of representing the exact same value, or do they correspond to different internal states?"
   ]
  },
  {
   "cell_type": "markdown",
   "id": "5e257879",
   "metadata": {},
   "source": [
    "They are identical value wise but internal state of these two values are different, as they have decimal values of different precisions."
   ]
  },
  {
   "cell_type": "code",
   "execution_count": 3,
   "id": "97505c7e",
   "metadata": {},
   "outputs": [
    {
     "name": "stdout",
     "output_type": "stream",
     "text": [
      "1.200\n",
      "1.2\n"
     ]
    }
   ],
   "source": [
    "from decimal import Decimal\n",
    "print(Decimal('1.200'))\n",
    "\n",
    "print(Decimal('1.2'))"
   ]
  },
  {
   "cell_type": "markdown",
   "id": "b6019bf1",
   "metadata": {},
   "source": [
    "#### Q3. What happens if the equality of Decimal('1.200') and Decimal('1.2') is checked?"
   ]
  },
  {
   "cell_type": "code",
   "execution_count": 5,
   "id": "eae7d349",
   "metadata": {},
   "outputs": [
    {
     "data": {
      "text/plain": [
       "True"
      ]
     },
     "execution_count": 5,
     "metadata": {},
     "output_type": "execute_result"
    }
   ],
   "source": [
    "Decimal('1.200') == Decimal('1.2')"
   ]
  },
  {
   "cell_type": "markdown",
   "id": "e2e1e306",
   "metadata": {},
   "source": [
    "#### Q4. Why is it preferable to start a Decimal object with a string rather than a floating-point value?"
   ]
  },
  {
   "cell_type": "markdown",
   "id": "f28bce40",
   "metadata": {},
   "source": [
    "Floating-point value is converted to Decimal format, which can store float value with absolute precision. But when float value is given as Decimal object,it first needs to be converted from floating point value which might already have rounding error. Hence it is preferable to start a Decimal object with a string."
   ]
  },
  {
   "cell_type": "markdown",
   "id": "b9cb8a0b",
   "metadata": {},
   "source": [
    "#### Q5. In an arithmetic phrase, how simple is it to combine Decimal objects with integers"
   ]
  },
  {
   "cell_type": "markdown",
   "id": "33c62c09",
   "metadata": {},
   "source": [
    "It is similar to doing any normal calculation. But if one doesn't specify the number as a string then in order to get in decimal form ,he  needs to convert the value from float into decimal object and use the round method to get the precise value."
   ]
  },
  {
   "cell_type": "code",
   "execution_count": 7,
   "id": "a248b1f1",
   "metadata": {},
   "outputs": [
    {
     "name": "stdout",
     "output_type": "stream",
     "text": [
      "20.00\n",
      "20.00\n",
      "100\n"
     ]
    }
   ],
   "source": [
    "from decimal import Decimal\n",
    "\n",
    "d1=Decimal('10.00')\n",
    "print(d1+10)\n",
    "\n",
    "d2=Decimal(10)\n",
    "print(round(d2+10,2))\n",
    "\n",
    "f=100\n",
    "print(round(f,4))"
   ]
  },
  {
   "cell_type": "markdown",
   "id": "5c771b61",
   "metadata": {},
   "source": [
    "#### 6. Can Decimal objects and floating-point values be combined easily?"
   ]
  },
  {
   "cell_type": "markdown",
   "id": "504f8d08",
   "metadata": {},
   "source": [
    "Arithmetic operations like addition,substraction,multiplication of a Decimal object by a floating-point value always generates an error.\n",
    "In order to do these operations, the floating point has to be converted to a Decimal object,i.e., converting from a floating-point value and then round up."
   ]
  },
  {
   "cell_type": "markdown",
   "id": "7895984d",
   "metadata": {},
   "source": [
    "#### Q7. Using the Fraction class but not the Decimal class, give an example of a quantity that can be expressed with absolute precision"
   ]
  },
  {
   "cell_type": "code",
   "execution_count": 10,
   "id": "d8b08bbc",
   "metadata": {},
   "outputs": [
    {
     "name": "stdout",
     "output_type": "stream",
     "text": [
      "5404319552844595/9007199254740992\n"
     ]
    }
   ],
   "source": [
    "from fractions import Fraction\n",
    "\n",
    "value=0.6\n",
    "ans=Fraction(value)\n",
    "print(ans)\n"
   ]
  },
  {
   "cell_type": "markdown",
   "id": "e8dab6b3",
   "metadata": {},
   "source": [
    "#### Q8. Describe a quantity that can be accurately expressed by the Decimal or Fraction classes but not by a floating-point value"
   ]
  },
  {
   "cell_type": "code",
   "execution_count": 12,
   "id": "7cf5764b",
   "metadata": {},
   "outputs": [
    {
     "name": "stdout",
     "output_type": "stream",
     "text": [
      "decimal= 0.04\n",
      "fraction= 1/25\n",
      "float value= 0.0\n"
     ]
    }
   ],
   "source": [
    "dec=Decimal('0.2') * Decimal('0.2')\n",
    "print(\"decimal=\",dec)\n",
    "frac=Fraction('1/5') * Fraction('1/5')\n",
    "print(\"fraction=\",frac)\n",
    "flt=0.2*0.\n",
    "print(\"float value=\",flt)"
   ]
  },
  {
   "cell_type": "markdown",
   "id": "f648e762",
   "metadata": {},
   "source": [
    "#### Q9. Consider the following two fraction objects: Fraction(1, 2) and Fraction(1, 2). (5, 10). Is the internal state of these two objects the same? Why do you think that is?"
   ]
  },
  {
   "cell_type": "code",
   "execution_count": 15,
   "id": "86d6d931",
   "metadata": {},
   "outputs": [
    {
     "name": "stdout",
     "output_type": "stream",
     "text": [
      "2/5\n",
      "2/5\n",
      "Fraction (1,2) and Fraction(5,10) are equal\n"
     ]
    }
   ],
   "source": [
    "from fractions import Fraction\n",
    "frac1=Fraction(2, 5)\n",
    "print(frac1)\n",
    "frac2=Fraction(8, 20)\n",
    "print(frac2)\n",
    "if (frac1 == frac2 ):\n",
    "    print('Fraction (1,2) and Fraction(5,10) are equal')"
   ]
  },
  {
   "cell_type": "markdown",
   "id": "4595e546",
   "metadata": {},
   "source": [
    "The internal state defines the value when the objects are reduced to their simplest form. Hence in the given example, the internal states of both the objects are same."
   ]
  },
  {
   "cell_type": "markdown",
   "id": "4db8ffc5",
   "metadata": {},
   "source": [
    "#### Q10. How do the Fraction class and the integer type (int) relate to each other? Containment or inheritance?"
   ]
  },
  {
   "cell_type": "markdown",
   "id": "43946cca",
   "metadata": {},
   "source": [
    "Fraction class and integer type(int) are related in form of a container.\n",
    "It basically contains two integer type data, the numerator and the denominator."
   ]
  },
  {
   "cell_type": "code",
   "execution_count": 16,
   "id": "741dd7bd",
   "metadata": {},
   "outputs": [
    {
     "name": "stdout",
     "output_type": "stream",
     "text": [
      "numerator: 3 <class 'int'>\n",
      "denominator: 7 <class 'int'>\n"
     ]
    }
   ],
   "source": [
    "from fractions import Fraction\n",
    "\n",
    "frac = Fraction(3,7)\n",
    "\n",
    "print('numerator:', frac.numerator,type(frac.numerator))\n",
    "print('denominator:', frac.denominator,type(frac.numerator) )"
   ]
  }
 ],
 "metadata": {
  "kernelspec": {
   "display_name": "Python 3 (ipykernel)",
   "language": "python",
   "name": "python3"
  },
  "language_info": {
   "codemirror_mode": {
    "name": "ipython",
    "version": 3
   },
   "file_extension": ".py",
   "mimetype": "text/x-python",
   "name": "python",
   "nbconvert_exporter": "python",
   "pygments_lexer": "ipython3",
   "version": "3.8.11"
  }
 },
 "nbformat": 4,
 "nbformat_minor": 5
}
