{
 "cells": [
  {
   "cell_type": "markdown",
   "id": "96c7b496",
   "metadata": {},
   "source": [
    "#### Q1. Which two operator overloading methods can you use in your classes to support iteration?\n",
    "\n",
    "Ans. The  two operator overloading methods can you use in your classes to support iteration are : \\_\\_iter and \\_\\_getitem__. By default \\_\\_iter is prioratized over \\_\\_getitem__, and returns an object using \\_\\_next__ method. \n",
    "\n",
    "\\_\\_getitem__ is an indexing method, which iterates to higher indexes by repeated calls. In this method 'yield' statement can be used to call the \\_\\_next__ method automatically.\n",
    "\n",
    "#### Q2. In what contexts do the two operator overloading methods manage printing?\n",
    "\n",
    "Ans.  The two operator overloading methods \\_\\_str__ and \\_\\_repr__ are used to print displays. \n",
    "\n",
    "\\_\\_str__ is called by 'print' and 'str' built-in functions and if  \\_\\_str__ is not defined, \\_\\_repr__ is called by 'print' and 'str' built-in functions.\n",
    "\n",
    "If \\_\\_str__ is defined, \\_\\_repr__ is used everywhere except for 'print' and 'str'. \\_\\_str__ is used for brief user friendly display, whereas \\_\\_repr__ shows more detailed display or example code form.\n",
    "\n",
    "#### Q3. In a class, how do you intercept slice operations?\n",
    "\n",
    "Ans. Slice operations are intercepted using \\_\\_getitem__ method. Instead of an integer index, a slice object (\\_\\_getitem__) can be used according to the problem.\n",
    "\n",
    "#### Q4. In a class, how do you capture in-place addition?\n",
    "\n",
    "Ans. In-place addition is captured using \\_\\_iadd__ method. If \\_\\_iadd__ is not present, \\_\\_add__ is used with an assignment. Same method follows for binary addition. For right side addition, \\_\\_radd__ method can be used.  \n",
    "\n",
    "#### Q5. When is it appropriate to use operator overloading?\n",
    "\n",
    "Ans. We use operator overloading when a class needs to imitate or naturally matches a built-in type's inteface. "
   ]
  }
 ],
 "metadata": {
  "kernelspec": {
   "display_name": "Python 3 (ipykernel)",
   "language": "python",
   "name": "python3"
  },
  "language_info": {
   "codemirror_mode": {
    "name": "ipython",
    "version": 3
   },
   "file_extension": ".py",
   "mimetype": "text/x-python",
   "name": "python",
   "nbconvert_exporter": "python",
   "pygments_lexer": "ipython3",
   "version": "3.8.11"
  }
 },
 "nbformat": 4,
 "nbformat_minor": 5
}
