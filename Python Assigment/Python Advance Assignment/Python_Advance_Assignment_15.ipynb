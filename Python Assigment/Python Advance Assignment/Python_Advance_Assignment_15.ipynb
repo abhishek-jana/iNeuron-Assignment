{
 "cells": [
  {
   "cell_type": "markdown",
   "id": "f72e4b91",
   "metadata": {},
   "source": [
    "#### Q1.What are the new features added in Python 3.8 version?"
   ]
  },
  {
   "cell_type": "markdown",
   "id": "3923dc29",
   "metadata": {},
   "source": [
    "The new features added in python3.8 version are:\n",
    "1. walrus operator\n",
    "2. positional only arguments\n",
    "3. new syntax warnings\n",
    "4. Improved typing"
   ]
  },
  {
   "cell_type": "markdown",
   "id": "1211684e",
   "metadata": {},
   "source": [
    "#### Q2.What is monkey patching in Python?\n"
   ]
  },
  {
   "cell_type": "markdown",
   "id": "a617dad0",
   "metadata": {},
   "source": [
    "In Python,it is possible to change the behavior of code at run-time. Monkey patch refers to these dynamic (or run-time) modifications of a class or module."
   ]
  },
  {
   "cell_type": "markdown",
   "id": "6204b214",
   "metadata": {},
   "source": [
    "#### Q3.What is the difference between a shallow copy and deep copy?"
   ]
  },
  {
   "cell_type": "markdown",
   "id": "05af992c",
   "metadata": {},
   "source": [
    "Shallow Copy stores the references of objects to the original memory address.It stores the copy of the original object and points the references to the objects.\n",
    "\n",
    "Deep copy stores copies of the object's value and doesn't reflect changes made to the new copied object in the original object. \n",
    "\n",
    "In essence , shallow copy is only one level deep."
   ]
  },
  {
   "cell_type": "markdown",
   "id": "72be16e1",
   "metadata": {},
   "source": [
    "#### Q4.What is the maximum possible length of an identifier?\n"
   ]
  },
  {
   "cell_type": "markdown",
   "id": "7fdf1c2f",
   "metadata": {},
   "source": [
    "Python gives the identifiers unlimited length. But the layout of PEP-8 makes sure the rules are intact and includes a 79-character limit."
   ]
  },
  {
   "cell_type": "markdown",
   "id": "f1d1d0f3",
   "metadata": {},
   "source": [
    "#### Q5.What is generator comprehension?\n"
   ]
  },
  {
   "cell_type": "markdown",
   "id": "aced9da8",
   "metadata": {},
   "source": [
    "Generator comprehension is an easy way of creating generators with a certain structure. Instead of creating a list and keeping the whole sequence in the memory, the generator generates the next element in demand.The Generator Expression allows us to create a generator without the yield keyword. For example,"
   ]
  },
  {
   "cell_type": "code",
   "execution_count": 10,
   "id": "34e30561",
   "metadata": {},
   "outputs": [
    {
     "name": "stdout",
     "output_type": "stream",
     "text": [
      "<generator object <genexpr> at 0x00000278E6688C10>\n"
     ]
    },
    {
     "data": {
      "text/plain": [
       "10"
      ]
     },
     "execution_count": 10,
     "metadata": {},
     "output_type": "execute_result"
    }
   ],
   "source": [
    "gen=(i for i in range(0,5))\n",
    "print(gen)\n",
    "sum(gen)"
   ]
  }
 ],
 "metadata": {
  "kernelspec": {
   "display_name": "Python 3 (ipykernel)",
   "language": "python",
   "name": "python3"
  },
  "language_info": {
   "codemirror_mode": {
    "name": "ipython",
    "version": 3
   },
   "file_extension": ".py",
   "mimetype": "text/x-python",
   "name": "python",
   "nbconvert_exporter": "python",
   "pygments_lexer": "ipython3",
   "version": "3.8.11"
  }
 },
 "nbformat": 4,
 "nbformat_minor": 5
}
