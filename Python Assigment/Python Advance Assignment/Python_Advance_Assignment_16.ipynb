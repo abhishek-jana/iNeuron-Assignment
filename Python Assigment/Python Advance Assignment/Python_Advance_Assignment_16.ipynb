{
 "cells": [
  {
   "cell_type": "markdown",
   "id": "3b68fa29",
   "metadata": {},
   "source": [
    "#### Q1. What is the benefit of regular expressions?"
   ]
  },
  {
   "cell_type": "markdown",
   "id": "4c305659",
   "metadata": {},
   "source": [
    "Regular expressions are used to search and replace operations.The most common uses are:\n",
    "1. to look for a sub-string that matches a certain pattern and replace it with something else.\n",
    "2. extract the required values or texts from a word/sentence.."
   ]
  },
  {
   "cell_type": "markdown",
   "id": "af2f75d1",
   "metadata": {},
   "source": [
    "#### Q2. Describe the difference between the effects of \"(ab)c+\" and \"a(bc)+.\" Which of these, if any, is the unqualified pattern \"abc+\"?"
   ]
  },
  {
   "cell_type": "markdown",
   "id": "364710b2",
   "metadata": {},
   "source": [
    "None of them is unqualified. The difference is  r\"(ab)c+\" matches the pattern with any string that has the substring \"ab\" followed by \"c\" getting repeated.,eg, abc, abcc,abcccc.....\n",
    "\n",
    "Whereas for r\"a(bc)+\", it looks for strings that matches the pattern \"a\" followed by repetitions of the group string \"bc\". e.g., abc,abcbc, abcbcbc,....and so on."
   ]
  },
  {
   "cell_type": "markdown",
   "id": "92cc4359",
   "metadata": {},
   "source": [
    "#### Q3. How much do you need to use the following sentence while using regular expressions?"
   ]
  },
  {
   "cell_type": "code",
   "execution_count": 1,
   "id": "37c34cb8",
   "metadata": {},
   "outputs": [],
   "source": [
    "# one needs to import the regular expression\n",
    "import re"
   ]
  },
  {
   "cell_type": "markdown",
   "id": "b2d8a4aa",
   "metadata": {},
   "source": [
    "#### Q4. Which characters have special significance in square brackets when expressing a range, and under what circumstances?"
   ]
  },
  {
   "cell_type": "markdown",
   "id": "f503b9b9",
   "metadata": {},
   "source": [
    "A closing square bracket has special meaning, terminating the\n",
    "character set; therefore, a closing bracket must be escaped with a\n",
    "backslash to be interpreted literally: “\\]”\n",
    "\n",
    "The minus sign (-) has special meaning unless it occurs at the very\n",
    "beginning or end of the character set, in which case it is interpreted\n",
    "as a literal minus sign.\n",
    "\n",
    "A caret (^) has special meaning at\n",
    "the beginning of a range but not elsewhere.\n"
   ]
  },
  {
   "cell_type": "markdown",
   "id": "ee980901",
   "metadata": {},
   "source": [
    "#### Q5. How does compiling a regular-expression object benefit you?\n"
   ]
  },
  {
   "cell_type": "markdown",
   "id": "786c8162",
   "metadata": {},
   "source": [
    "Regular expression pattern can be combined into pattern objects, which can be used for pattern matching. Moreoevr it can be used to search a pattern again without having to rewrite it."
   ]
  },
  {
   "cell_type": "markdown",
   "id": "5dc1e8de",
   "metadata": {},
   "source": [
    "#### Q6. What are some examples of how to use the match object returned by re.match and re.search?"
   ]
  },
  {
   "cell_type": "markdown",
   "id": "a7f9904b",
   "metadata": {},
   "source": [
    "re.search() searches for the whole string even if the string contains multi-lines and tries to find a match of the substring in all the lines of string. It returns the first occurrence or match of searched substring .\n",
    "\n",
    "re.match() searches only from the beginning of the string and return match object if found. But if a match of substring is found somewhere in the middle of the string, it returns none. It also returns only the first occurrence or match of search substring."
   ]
  },
  {
   "cell_type": "code",
   "execution_count": 5,
   "id": "98b801fb",
   "metadata": {},
   "outputs": [
    {
     "name": "stdout",
     "output_type": "stream",
     "text": [
      "<re.Match object; span=(2, 6), match='have'>\n",
      "None\n",
      "<re.Match object; span=(0, 4), match='Have'>\n",
      "<re.Match object; span=(0, 4), match='Have'>\n"
     ]
    }
   ],
   "source": [
    "import re\n",
    "substring ='have'\n",
    " \n",
    "line1 = \"I have to have coffee \"\n",
    "line2 =\"Have you  ever had starbucks coffee before? If not, let's have it today.\"\n",
    " \n",
    "# Use of re.search() Method\n",
    "print(re.search(substring, line1, re.IGNORECASE))\n",
    "#Returns the first/only occurence of \"have\"\n",
    "\n",
    "# Use of re.match() Method\n",
    "print(re.match(substring, line1, re.IGNORECASE)) \n",
    "#Returns None since \"have\" isn't the first occurence in line1\n",
    " \n",
    "# Use of re.search() Method\n",
    "print(re.search(substring, line2, re.IGNORECASE))\n",
    "#Returns the first occurence of \"have\"\n",
    "\n",
    "# Use of re.match() Method\n",
    "print(re.match(substring, line2, re.IGNORECASE))\n",
    "#Returns the match since \"have\" is the first occurence in line1"
   ]
  },
  {
   "cell_type": "markdown",
   "id": "3011f14d",
   "metadata": {},
   "source": [
    "#### Q7. What is the difference between using a vertical bar (|) as an alteration and using square brackets as a character set?"
   ]
  },
  {
   "cell_type": "markdown",
   "id": "8f8b4287",
   "metadata": {},
   "source": [
    "When (|) is used the pattern searches for  'or' option i.e \\<str1>|\\<str2> means it searches for as \\<str1> or \\<str2>. When both \\<str1> and \\<str2> occur in the searched string, the first occurrence of matching text will be returned as the Match object\n",
    "\n",
    "Using character set in square brackets is used, it searches for all the character set in the square bracket and returns the match if found."
   ]
  },
  {
   "cell_type": "markdown",
   "id": "ba306b0a",
   "metadata": {},
   "source": [
    "#### Q8. In regular-expression search patterns, why is it necessary to use the raw-string indicator (r)? In  replacement strings?"
   ]
  },
  {
   "cell_type": "markdown",
   "id": "8d0cb251",
   "metadata": {},
   "source": [
    "Raw strings are used in regular expression search patterns, when the regular expression includes a backslash character"
   ]
  }
 ],
 "metadata": {
  "kernelspec": {
   "display_name": "Python 3 (ipykernel)",
   "language": "python",
   "name": "python3"
  },
  "language_info": {
   "codemirror_mode": {
    "name": "ipython",
    "version": 3
   },
   "file_extension": ".py",
   "mimetype": "text/x-python",
   "name": "python",
   "nbconvert_exporter": "python",
   "pygments_lexer": "ipython3",
   "version": "3.8.11"
  }
 },
 "nbformat": 4,
 "nbformat_minor": 5
}
