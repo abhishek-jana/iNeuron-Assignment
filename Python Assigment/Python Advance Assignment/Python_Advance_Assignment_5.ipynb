{
 "cells": [
  {
   "cell_type": "markdown",
   "id": "963af1e9",
   "metadata": {},
   "source": [
    "#### Q1. What is the meaning of multiple inheritance?\n",
    "\n",
    "Ans. Multiple inheritance inherits from more than one superclasses. It is useful to mix multiple packages which uses class-based code structure. The default attribute search is from left to right. \n",
    "\n",
    "#### Q2. What is the concept of delegation?\n",
    "\n",
    "Ans. Delegation uses a proxy class to wrap an object. This adds extra features and operations to the wrapped object maintaing the original interface of the wrapped object.\n",
    "\n",
    "#### Q3. What is the concept of composition?\n",
    "\n",
    "Ans. Composition is a technique to build lagrer structures with classes. In this method, a controller class is used to embed and direct a number of objects providing it's own inteface.\n",
    "\n",
    "#### Q4. What are bound methods and how do we use them?\n",
    "\n",
    "Ans. Bound method is used to combine an instance and a method function. Since the instance object is already there, we don't need to pass a new instance object to call them.\n",
    "\n",
    "#### Q5. What is the purpose of pseudoprivate attributes?\n",
    "\n",
    "Ans. Pseudoprivate attributes are localized names inside an enclosing class. They can be identified by the use of two leading underscores but not ending with underscores (\\_\\_x). Pseudoprivate attributes can be 'self' instance attribute inside classe's method of the class method itself. They can be expaned to class names as well."
   ]
  }
 ],
 "metadata": {
  "kernelspec": {
   "display_name": "Python 3 (ipykernel)",
   "language": "python",
   "name": "python3"
  },
  "language_info": {
   "codemirror_mode": {
    "name": "ipython",
    "version": 3
   },
   "file_extension": ".py",
   "mimetype": "text/x-python",
   "name": "python",
   "nbconvert_exporter": "python",
   "pygments_lexer": "ipython3",
   "version": "3.8.11"
  }
 },
 "nbformat": 4,
 "nbformat_minor": 5
}
