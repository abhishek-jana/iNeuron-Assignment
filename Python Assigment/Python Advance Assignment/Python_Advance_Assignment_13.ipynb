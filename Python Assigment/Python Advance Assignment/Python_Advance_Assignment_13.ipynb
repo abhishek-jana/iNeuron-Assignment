{
 "cells": [
  {
   "cell_type": "markdown",
   "id": "7deb2140",
   "metadata": {},
   "source": [
    "#### Q1. Can you create a programme or function that employs both positive and negative indexing? Is there any repercussion if you do so?\n"
   ]
  },
  {
   "cell_type": "code",
   "execution_count": 19,
   "id": "c854e882",
   "metadata": {},
   "outputs": [
    {
     "data": {
      "text/plain": [
       "('', ' meet you')"
      ]
     },
     "execution_count": 19,
     "metadata": {},
     "output_type": "execute_result"
    }
   ],
   "source": [
    "def func(a):\n",
    "    pos=a[5:12]\n",
    "    l=len(a)\n",
    "    neg=a[-10:-1]       \n",
    "    return pos, neg \n",
    "\n",
    "func(\"Hi.I am Abhishek.Nice to meet you.\")"
   ]
  },
  {
   "cell_type": "markdown",
   "id": "e7a5f7c0",
   "metadata": {},
   "source": [
    "##### Repercussions (blank output) arises in these cases of slicling:\n",
    "\n",
    "slice=input_array[a:b]\n",
    "\n",
    "If index of a comes later than index of b , the output will be an empty string."
   ]
  },
  {
   "cell_type": "markdown",
   "id": "268278f8",
   "metadata": {},
   "source": [
    "#### Q2. What is the most effective way of starting with 1,000 elements in a Python list? Assume that all elements should be set to the same value.\n"
   ]
  },
  {
   "cell_type": "code",
   "execution_count": 10,
   "id": "0ad4b684",
   "metadata": {},
   "outputs": [
    {
     "name": "stdout",
     "output_type": "stream",
     "text": [
      "[5, 5, 5, 5, 5, 5, 5, 5, 5, 5, 5, 5, 5, 5, 5, 5, 5, 5, 5, 5, 5, 5, 5, 5, 5, 5, 5, 5, 5, 5, 5, 5, 5, 5, 5, 5, 5, 5, 5, 5, 5, 5, 5, 5, 5, 5, 5, 5, 5, 5, 5, 5, 5, 5, 5, 5, 5, 5, 5, 5, 5, 5, 5, 5, 5, 5, 5, 5, 5, 5, 5, 5, 5, 5, 5, 5, 5, 5, 5, 5, 5, 5, 5, 5, 5, 5, 5, 5, 5, 5, 5, 5, 5, 5, 5, 5, 5, 5, 5, 5, 5, 5, 5, 5, 5, 5, 5, 5, 5, 5, 5, 5, 5, 5, 5, 5, 5, 5, 5, 5, 5, 5, 5, 5, 5, 5, 5, 5, 5, 5, 5, 5, 5, 5, 5, 5, 5, 5, 5, 5, 5, 5, 5, 5, 5, 5, 5, 5, 5, 5, 5, 5, 5, 5, 5, 5, 5, 5, 5, 5, 5, 5, 5, 5, 5, 5, 5, 5, 5, 5, 5, 5, 5, 5, 5, 5, 5, 5, 5, 5, 5, 5, 5, 5, 5, 5, 5, 5, 5, 5, 5, 5, 5, 5, 5, 5, 5, 5, 5, 5, 5, 5, 5, 5, 5, 5, 5, 5, 5, 5, 5, 5, 5, 5, 5, 5, 5, 5, 5, 5, 5, 5, 5, 5, 5, 5, 5, 5, 5, 5, 5, 5, 5, 5, 5, 5, 5, 5, 5, 5, 5, 5, 5, 5, 5, 5, 5, 5, 5, 5, 5, 5, 5, 5, 5, 5, 5, 5, 5, 5, 5, 5, 5, 5, 5, 5, 5, 5, 5, 5, 5, 5, 5, 5, 5, 5, 5, 5, 5, 5, 5, 5, 5, 5, 5, 5, 5, 5, 5, 5, 5, 5, 5, 5, 5, 5, 5, 5, 5, 5, 5, 5, 5, 5, 5, 5, 5, 5, 5, 5, 5, 5, 5, 5, 5, 5, 5, 5, 5, 5, 5, 5, 5, 5, 5, 5, 5, 5, 5, 5, 5, 5, 5, 5, 5, 5, 5, 5, 5, 5, 5, 5, 5, 5, 5, 5, 5, 5, 5, 5, 5, 5, 5, 5, 5, 5, 5, 5, 5, 5, 5, 5, 5, 5, 5, 5, 5, 5, 5, 5, 5, 5, 5, 5, 5, 5, 5, 5, 5, 5, 5, 5, 5, 5, 5, 5, 5, 5, 5, 5, 5, 5, 5, 5, 5, 5, 5, 5, 5, 5, 5, 5, 5, 5, 5, 5, 5, 5, 5, 5, 5, 5, 5, 5, 5, 5, 5, 5, 5, 5, 5, 5, 5, 5, 5, 5, 5, 5, 5, 5, 5, 5, 5, 5, 5, 5, 5, 5, 5, 5, 5, 5, 5, 5, 5, 5, 5, 5, 5, 5, 5, 5, 5, 5, 5, 5, 5, 5, 5, 5, 5, 5, 5, 5, 5, 5, 5, 5, 5, 5, 5, 5, 5, 5, 5, 5, 5, 5, 5, 5, 5, 5, 5, 5, 5, 5, 5, 5, 5, 5, 5, 5, 5, 5, 5, 5, 5, 5, 5, 5, 5, 5, 5, 5, 5, 5, 5, 5, 5, 5, 5, 5, 5, 5, 5, 5, 5, 5, 5, 5, 5, 5, 5, 5, 5, 5, 5, 5, 5, 5, 5, 5, 5, 5, 5, 5, 5, 5, 5, 5, 5, 5, 5, 5, 5, 5, 5, 5, 5, 5, 5, 5, 5, 5, 5, 5, 5, 5, 5, 5, 5, 5, 5, 5, 5, 5, 5, 5, 5, 5, 5, 5, 5, 5, 5, 5, 5, 5, 5, 5, 5, 5, 5, 5, 5, 5, 5, 5, 5, 5, 5, 5, 5, 5, 5, 5, 5, 5, 5, 5, 5, 5, 5, 5, 5, 5, 5, 5, 5, 5, 5, 5, 5, 5, 5, 5, 5, 5, 5, 5, 5, 5, 5, 5, 5, 5, 5, 5, 5, 5, 5, 5, 5, 5, 5, 5, 5, 5, 5, 5, 5, 5, 5, 5, 5, 5, 5, 5, 5, 5, 5, 5, 5, 5, 5, 5, 5, 5, 5, 5, 5, 5, 5, 5, 5, 5, 5, 5, 5, 5, 5, 5, 5, 5, 5, 5, 5, 5, 5, 5, 5, 5, 5, 5, 5, 5, 5, 5, 5, 5, 5, 5, 5, 5, 5, 5, 5, 5, 5, 5, 5, 5, 5, 5, 5, 5, 5, 5, 5, 5, 5, 5, 5, 5, 5, 5, 5, 5, 5, 5, 5, 5, 5, 5, 5, 5, 5, 5, 5, 5, 5, 5, 5, 5, 5, 5, 5, 5, 5, 5, 5, 5, 5, 5, 5, 5, 5, 5, 5, 5, 5, 5, 5, 5, 5, 5, 5, 5, 5, 5, 5, 5, 5, 5, 5, 5, 5, 5, 5, 5, 5, 5, 5, 5, 5, 5, 5, 5, 5, 5, 5, 5, 5, 5, 5, 5, 5, 5, 5, 5, 5, 5, 5, 5, 5, 5, 5, 5, 5, 5, 5, 5, 5, 5, 5, 5, 5, 5, 5, 5, 5, 5, 5, 5, 5, 5, 5, 5, 5, 5, 5, 5, 5, 5, 5, 5, 5, 5, 5, 5, 5, 5, 5, 5, 5, 5, 5, 5, 5, 5, 5, 5, 5, 5, 5, 5, 5, 5, 5, 5, 5, 5, 5, 5, 5, 5, 5, 5, 5, 5, 5, 5, 5, 5, 5, 5, 5, 5, 5, 5, 5, 5, 5, 5, 5, 5, 5, 5, 5, 5, 5, 5, 5, 5, 5, 5, 5, 5, 5, 5, 5, 5, 5, 5, 5, 5, 5, 5, 5, 5, 5, 5, 5, 5, 5, 5, 5, 5, 5, 5, 5, 5, 5, 5, 5, 5, 5, 5, 5, 5, 5, 5, 5, 5, 5, 5, 5, 5, 5, 5, 5, 5, 5, 5, 5, 5, 5, 5, 5, 5, 5, 5, 5, 5, 5, 5, 5, 5, 5, 5, 5, 5, 5, 5, 5, 5, 5, 5, 5, 5, 5, 5, 5, 5, 5, 5, 5, 5, 5, 5, 5, 5, 5, 5, 5, 5, 5, 5, 5, 5, 5, 5, 5, 5, 5, 5, 5, 5, 5, 5, 5, 5, 5, 5, 5, 5, 5, 5, 5, 5]\n"
     ]
    }
   ],
   "source": [
    "# Set the value\n",
    "val = 5\n",
    "lst=[val]*1000\n",
    "print(lst)"
   ]
  },
  {
   "cell_type": "markdown",
   "id": "6a0e9f03",
   "metadata": {},
   "source": [
    "#### Q3. How do you slice a list to get any other part while missing the rest? (For example, suppose you want to make a new list with the elements first, third, fifth, seventh, and so on.)\n"
   ]
  },
  {
   "cell_type": "code",
   "execution_count": 14,
   "id": "96d506d1",
   "metadata": {},
   "outputs": [
    {
     "name": "stdout",
     "output_type": "stream",
     "text": [
      "[1, 3, 5, 7, 9, 11, 13]\n"
     ]
    }
   ],
   "source": [
    "lst=[1,2,3,4,5,6,7,8,9,10,11,12,13,14]\n",
    "\n",
    "print(lst[0:len(lst):2])"
   ]
  },
  {
   "cell_type": "markdown",
   "id": "6f367f46",
   "metadata": {},
   "source": [
    "#### Q4. Explain the distinctions between indexing and slicing.\n"
   ]
  },
  {
   "cell_type": "markdown",
   "id": "a1523563",
   "metadata": {},
   "source": [
    " \"indexing\" is a reference to an element of an iterable sequence. This starts from 0 where 0 is the first elemnet of a sequence. If we use negative indexing, it will start from -1 and -1 refers to the last element of a sequence.\n",
    "\n",
    "\"slicing\" is a subset of elements of an iterable sequence. We can slice a sequence given the starting and ending indeces."
   ]
  },
  {
   "cell_type": "code",
   "execution_count": 20,
   "id": "07efd1aa",
   "metadata": {},
   "outputs": [
    {
     "name": "stdout",
     "output_type": "stream",
     "text": [
      "Element with index 2 is : e\n",
      "Slicing from index 3 to index 5 : ur\n"
     ]
    }
   ],
   "source": [
    "# indexing \n",
    "\n",
    "arr = 'iNeuron Python Assignment'\n",
    "\n",
    "print (\"Element with index 2 is :\", arr[2] )\n",
    "\n",
    "# Slicing\n",
    "\n",
    "print (\"Slicing from index 3 to index 5 :\", arr[3:5])"
   ]
  },
  {
   "cell_type": "markdown",
   "id": "b0047949",
   "metadata": {},
   "source": [
    "#### Q5. What happens if one of the slicing expression's indexes is out of range?\n"
   ]
  },
  {
   "cell_type": "markdown",
   "id": "51263011",
   "metadata": {},
   "source": [
    "It will return the slice till the length of the sequence."
   ]
  },
  {
   "cell_type": "code",
   "execution_count": 22,
   "id": "ca463cfd",
   "metadata": {},
   "outputs": [
    {
     "data": {
      "text/plain": [
       "'ron'"
      ]
     },
     "execution_count": 22,
     "metadata": {},
     "output_type": "execute_result"
    }
   ],
   "source": [
    "arr=\"iNeuron\"\n",
    "arr[4:100]"
   ]
  },
  {
   "cell_type": "markdown",
   "id": "facb50d1",
   "metadata": {},
   "source": [
    "#### Q6. If you pass a list to a function, and if you want the function to be able to change the values of the list—so that the list is different after the function returns—what action should you avoid?\n"
   ]
  },
  {
   "cell_type": "code",
   "execution_count": 55,
   "id": "2027d05a",
   "metadata": {},
   "outputs": [
    {
     "name": "stdout",
     "output_type": "stream",
     "text": [
      "Before: [1, 2, 3, 4, 5]\n",
      "[3, 2, 3, 4, 5]\n",
      "After: [3, 2, 3, 4, 5]\n"
     ]
    }
   ],
   "source": [
    "lst1=[1,2,3,4,5]\n",
    "\n",
    "def func1(lst):\n",
    "    a = ['a','b','c']\n",
    "    lst = a \n",
    "    return lst\n",
    "\n",
    "print(\"Before:\",lst1)\n",
    "print(func1(lst1))\n",
    "print(\"After:\", lst1)"
   ]
  },
  {
   "cell_type": "code",
   "execution_count": 52,
   "id": "591e3000",
   "metadata": {},
   "outputs": [
    {
     "name": "stdout",
     "output_type": "stream",
     "text": [
      "First: [1, 2, 3, 4, 5]\n",
      "['a', 'b', 'c']\n",
      "End: ['a', 'b', 'c']\n"
     ]
    }
   ],
   "source": [
    "def func2(lst):\n",
    "    a = ['a','b','c']\n",
    "    lst[:] = a\n",
    "    return lst\n",
    "    \n",
    "print(\"First:\",lst1)\n",
    "print(func2(lst1))\n",
    "print(\"End:\", lst1)"
   ]
  },
  {
   "cell_type": "markdown",
   "id": "0055dc3d",
   "metadata": {},
   "source": [
    "The first function changes the list locally , hence the input list remains unchanged.\n",
    "\n",
    "The second function changes it globally."
   ]
  },
  {
   "cell_type": "markdown",
   "id": "36adc857",
   "metadata": {},
   "source": [
    "#### Q7. What is the concept of an unbalanced matrix?\n"
   ]
  },
  {
   "cell_type": "markdown",
   "id": "d2ee487c",
   "metadata": {},
   "source": [
    "\n",
    "Whenever the cost matrix of an assignment problem is not a square matrix, that is, whenever the number of sources is not equal to the number of destinations, the assignment problem is called an unbalanced assignment problem."
   ]
  },
  {
   "cell_type": "markdown",
   "id": "85ecfb10",
   "metadata": {},
   "source": [
    "example:\n",
    "A company has 5 machines that are used for 4 jobs. Each job can be assigned to one and only one machine. The cost of each job on each machine will then be given by a 4 X 5 matrix where 4 stands for the number of jobs and 5 stands for number of machines. So this non-square matrix will be unbalanced. To make it balanced, one can add one superficial job/row with all elements( cost of this job on each machine) to be zero and then the matrix will be balanced."
   ]
  },
  {
   "cell_type": "markdown",
   "id": "e1bf4b29",
   "metadata": {},
   "source": [
    "#### Q8. Why is it necessary to use either list comprehension or a loop to create arbitrarily large matrices?\n"
   ]
  },
  {
   "cell_type": "markdown",
   "id": "62af3a01",
   "metadata": {},
   "source": [
    "List comprehension automatically scans rows and columns and are useful for simple operations like concatenation,extension,etc.e.g.,"
   ]
  },
  {
   "cell_type": "code",
   "execution_count": 72,
   "id": "d7fc49a5",
   "metadata": {},
   "outputs": [
    {
     "name": "stdout",
     "output_type": "stream",
     "text": [
      "[[1, 2], [3, 4], ['a', 'b'], ['c', 'd']]\n",
      "[[1, 2], [3, 4], [1, 2], [3, 4], [1, 2], [3, 4], [1, 2], [3, 4]]\n"
     ]
    }
   ],
   "source": [
    "a=[[1,2],[3,4]]\n",
    "b=[[\"a\",\"b\"],[\"c\",\"d\"]]\n",
    "\n",
    "print(a+b)\n",
    "print(a*4)"
   ]
  },
  {
   "cell_type": "markdown",
   "id": "57191555",
   "metadata": {},
   "source": [
    "for-loop might be slower but is memory efficient and favorable for complicated operations/assignments.e.g.,"
   ]
  },
  {
   "cell_type": "code",
   "execution_count": 75,
   "id": "7da22b46",
   "metadata": {},
   "outputs": [
    {
     "data": {
      "text/plain": [
       "[[2, 14], [2, 15], [3, 14], [3, 15]]"
      ]
     },
     "execution_count": 75,
     "metadata": {},
     "output_type": "execute_result"
    }
   ],
   "source": [
    "a=[[i,j] for i in range(2,4) for j in range(14,16)]\n",
    "a"
   ]
  },
  {
   "cell_type": "markdown",
   "id": "b56be312",
   "metadata": {},
   "source": [
    "\n",
    "So these should be preferred in cases where we need to simply iterate and perform operations."
   ]
  }
 ],
 "metadata": {
  "kernelspec": {
   "display_name": "Python 3 (ipykernel)",
   "language": "python",
   "name": "python3"
  },
  "language_info": {
   "codemirror_mode": {
    "name": "ipython",
    "version": 3
   },
   "file_extension": ".py",
   "mimetype": "text/x-python",
   "name": "python",
   "nbconvert_exporter": "python",
   "pygments_lexer": "ipython3",
   "version": "3.8.11"
  }
 },
 "nbformat": 4,
 "nbformat_minor": 5
}
