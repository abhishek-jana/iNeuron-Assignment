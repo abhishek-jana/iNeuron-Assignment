{
 "cells": [
  {
   "cell_type": "markdown",
   "id": "2ea7e73c",
   "metadata": {},
   "source": [
    "#### Q1. In Python 3.X, what are the names and functions of string object types?\n",
    "\n",
    "Ans. There are three types of string object types.\n",
    "\n",
    "str - for Unicode text and ASCII\n",
    "\n",
    "bytes - binary data with absolute binary value.\n",
    "\n",
    "bytearray - mutable version of bytes.\n",
    "\n",
    "str type is used to view the content of a text file. And byte and bytearray are used to view binary files.\n",
    "\n",
    "#### Q2. How do the string forms in Python 3.X vary in terms of operations?\n",
    "\n",
    "Ans. All string types can perform operations like: method calls, sequence operations, and pattern matching. But, only string supports string formatting operation, and bytearray has operations to perform in-place changes. The str and bytes type can also perform encoding and decoding text, respectively. \n",
    "\n",
    "#### Q3. In 3.X, how do you put non-ASCII Unicode characters in a string?\n",
    "\n",
    "Ans. Non-ASCII Unicode characters can be put using hex (\\xNN) and Unicode(\\uNNNN, \\UNNNNNNNN) escapes. Some machines can directly take some non-ASCII characters in typed of pasted format.\n",
    "\n",
    "#### Q4. In Python 3.X, what are the key differences between text-mode and binary-mode files?\n",
    "\n",
    "Ans. Text-mode is Unicode text which is decoded while reading and encoded while writing. The contents of the file are displayed as str obects. Text-mode also, hadles byte order mark(BOM) and end of line (\\n) automatically unless specified otherwise.\n",
    "\n",
    "In binary-mode files, bytes are tranferred to and from the unchanged file. The contents are represented as bytes or bytearray objects. They do not perform BOM or end of line operations.  \n",
    "\n",
    "#### Q5. How can you interpret a Unicode text file containing text encoded in a different encoding than your platform's default?\n",
    "\n",
    "Ans. To  interpret a Unicode text file containing text encoded in a different encoding than your platform's default, we can pass the file's encoding to the 'open' buit-in method and the data will be decoded accordingly. Alternatively, we can read it in binary mode and manually decode the bytes using the encoding. But, this can have error due to multibyte characters.\n",
    "\n",
    "#### Q6. What is the best way to make a Unicode text file in a particular encoding format?\n",
    "\n",
    "Ans. The best way to make a Unicode text file in a particular encoding format is to pass the desired encoding to the 'open' operation and the string will be encoded and written to the file accordingly. Alternatively, we can manually encode string to byte and write in binary mode.\n",
    "\n",
    "#### Q7. What qualifies ASCII text as a form of Unicode text?\n",
    "\n",
    "Ans. ASCII has a 7-bit range of values which is a subset of most unicode encodings.\n",
    "\n",
    "#### Q8. How much of an effect does the change in string types in Python 3.X have on your code?\n",
    "\n",
    "Ans. There is minimal effect on change in string types for scripts that use simple ASCII text with ACSII compatible default encoding.\n",
    "Similarly for binary data files we deal with bytes object whinch has minimal effect on change."
   ]
  }
 ],
 "metadata": {
  "kernelspec": {
   "display_name": "Python 3 (ipykernel)",
   "language": "python",
   "name": "python3"
  },
  "language_info": {
   "codemirror_mode": {
    "name": "ipython",
    "version": 3
   },
   "file_extension": ".py",
   "mimetype": "text/x-python",
   "name": "python",
   "nbconvert_exporter": "python",
   "pygments_lexer": "ipython3",
   "version": "3.8.11"
  }
 },
 "nbformat": 4,
 "nbformat_minor": 5
}
