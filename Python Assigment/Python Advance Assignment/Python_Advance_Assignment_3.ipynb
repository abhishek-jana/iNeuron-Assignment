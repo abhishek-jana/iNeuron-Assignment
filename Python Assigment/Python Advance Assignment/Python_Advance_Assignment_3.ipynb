{
 "cells": [
  {
   "cell_type": "markdown",
   "id": "0c89e3f4",
   "metadata": {},
   "source": [
    "#### 1. What is the concept of an abstract superclass?\n",
    "\n",
    "Ans. Abstract superclass calls a method that is filled by a subclass. This is a more generalized from of class which becomes more defined once a more specific subclass is coded. In OOP framework this is more like a user defined, customizable operation.\n",
    "\n",
    "#### 2. What happens when a class statement's top level contains a basic assignment statement?\n",
    "\n",
    "Ans. A basic assignment statement (like a = 5) at top level of a class statement will attach the data attribute to the class (Class.a) and will be shared by all class instances. Data attributes will not be callable function methods.\n",
    "\n",
    "#### 3. Why does a class need to manually call a superclass's __init__ method?\n",
    "\n",
    "Ans. A class need to manually call a superclass's \\_\\_init__ method if it wants to run the superclass's construction code. Python will by default run the lowest constructor in the tree. Superclass constructors are called manually like the following: SuperclassName.\\_\\_init__(self,...) \n",
    "\n",
    "#### 4. How can you augment, instead of completely replacing, an inherited method?\n",
    "\n",
    "Ans. To augment, instead of completely replacing, an inherited method, redefine the method in a subclass, and callback to the superclass's method manually from the new method in the subclass. For example, Superclass.method(self, ...). \n",
    "\n",
    "#### 5. How is the local scope of a class different from that of a function?\n",
    "\n",
    "Ans. A class has access to enclosed local scope, but they cannot be used in a nested code. Similar to modules, the class's local scope is accessed through an attribute namespace after the class statement is run."
   ]
  }
 ],
 "metadata": {
  "kernelspec": {
   "display_name": "Python 3 (ipykernel)",
   "language": "python",
   "name": "python3"
  },
  "language_info": {
   "codemirror_mode": {
    "name": "ipython",
    "version": 3
   },
   "file_extension": ".py",
   "mimetype": "text/x-python",
   "name": "python",
   "nbconvert_exporter": "python",
   "pygments_lexer": "ipython3",
   "version": "3.8.11"
  }
 },
 "nbformat": 4,
 "nbformat_minor": 5
}
