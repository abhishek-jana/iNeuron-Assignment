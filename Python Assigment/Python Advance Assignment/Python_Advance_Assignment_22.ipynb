{
 "cells": [
  {
   "cell_type": "markdown",
   "id": "80fb0c62",
   "metadata": {},
   "source": [
    "#### Q1. What are the benefits of the built-in array package, if any?"
   ]
  },
  {
   "cell_type": "markdown",
   "id": "d7fb55c0",
   "metadata": {},
   "source": [
    "- Arrays can contain multiple data items of the same type. \n",
    "- One can get the elements just by using the corresponding index.\n",
    "- Arrays don't cause memory overflow because they allocate memory in contiguous memory locations for all its elements. There is no need for extra memory."
   ]
  },
  {
   "cell_type": "markdown",
   "id": "d159eec9",
   "metadata": {},
   "source": [
    "#### Q2. What are some of the array package's limitations?"
   ]
  },
  {
   "cell_type": "markdown",
   "id": "7302e587",
   "metadata": {},
   "source": [
    "- The size of the array needs to be specified before allocation.\n",
    "\n",
    "- Since it has a  static structure, the size of the array , once specified, cannot be changed.\n",
    "\n",
    "- Insertion and deletion are difficult and  swapping and shifting operations are expensive."
   ]
  },
  {
   "cell_type": "markdown",
   "id": "e17ca4bd",
   "metadata": {},
   "source": [
    "#### Q3. Describe the main differences between the array and numpy packages."
   ]
  },
  {
   "cell_type": "markdown",
   "id": "b1d6d564",
   "metadata": {},
   "source": [
    "- NumPy offers a large variety of numerical operations while the array does not.\n",
    "\n",
    "- Access or append operation in a numpy takes longer time than an array.\n",
    "\n",
    "- Numpy forms a tabular structure while the array does not."
   ]
  },
  {
   "cell_type": "markdown",
   "id": "b35c48b0",
   "metadata": {},
   "source": [
    "#### Q4. Explain the distinctions between the empty, ones, and zeros functions"
   ]
  },
  {
   "cell_type": "markdown",
   "id": "a40310a2",
   "metadata": {},
   "source": [
    "- An empty function does not carry any statement within its body. To write a function definition without any statement in python will give an error. This can be avoided if one uses the pass statement. It is a special dummy statement in Python.\n",
    "\n",
    "- Ones function returns a new array of given shape and data type, where the value of all the elements being 1.\n",
    "\n",
    "- Zeros function returns a new array of given shape and data type, where the common value of all elements is 0."
   ]
  },
  {
   "cell_type": "markdown",
   "id": "a50ea9c3",
   "metadata": {},
   "source": [
    "#### Q5. In the fromfunction function, which is used to construct new arrays, what is the role of the callable argument?"
   ]
  },
  {
   "cell_type": "markdown",
   "id": "6b242476",
   "metadata": {},
   "source": [
    "The role of the callable argument is to execute the function over each coordinate and the output array. The function is called with N parameters, where N is the rank of shape. Each parameter represents the coordinates of the array along different axis."
   ]
  },
  {
   "cell_type": "markdown",
   "id": "c97afa4d",
   "metadata": {},
   "source": [
    "#### Q6. What happens when a numpy array is combined with a single-value operand (a scalar, such as an int or a floating-point value) through addition, as in the expression A + n?"
   ]
  },
  {
   "cell_type": "markdown",
   "id": "fa22f3b0",
   "metadata": {},
   "source": [
    "If a scalar is added to a numpy array, then all the elements inside that array will have that value added to them, irrespective of the shape and size of the array."
   ]
  },
  {
   "cell_type": "markdown",
   "id": "f759a1d5",
   "metadata": {},
   "source": [
    "#### Q7. Can array-to-scalar operations use combined operation-assign operators (such as += or *=)? What is the outcome?"
   ]
  },
  {
   "cell_type": "markdown",
   "id": "b218bd36",
   "metadata": {},
   "source": [
    "Yes they can. In that case, the scalar-operation will be applied on each and every element in that array."
   ]
  },
  {
   "cell_type": "code",
   "execution_count": 16,
   "id": "513d0051",
   "metadata": {},
   "outputs": [],
   "source": [
    "import numpy as np\n",
    "arr=np.arange(10,70,10).reshape(2,3)"
   ]
  },
  {
   "cell_type": "code",
   "execution_count": 17,
   "id": "377c6e91",
   "metadata": {},
   "outputs": [
    {
     "data": {
      "text/plain": [
       "array([[10, 20, 30],\n",
       "       [40, 50, 60]])"
      ]
     },
     "execution_count": 17,
     "metadata": {},
     "output_type": "execute_result"
    }
   ],
   "source": [
    "arr"
   ]
  },
  {
   "cell_type": "code",
   "execution_count": 18,
   "id": "0bfd40e7",
   "metadata": {},
   "outputs": [
    {
     "data": {
      "text/plain": [
       "array([[11, 21, 31],\n",
       "       [41, 51, 61]])"
      ]
     },
     "execution_count": 18,
     "metadata": {},
     "output_type": "execute_result"
    }
   ],
   "source": [
    "arr+=1\n",
    "arr"
   ]
  },
  {
   "cell_type": "code",
   "execution_count": 19,
   "id": "d1774b42",
   "metadata": {},
   "outputs": [
    {
     "data": {
      "text/plain": [
       "array([[ 55, 105, 155],\n",
       "       [205, 255, 305]])"
      ]
     },
     "execution_count": 19,
     "metadata": {},
     "output_type": "execute_result"
    }
   ],
   "source": [
    "arr*=5\n",
    "arr"
   ]
  },
  {
   "cell_type": "markdown",
   "id": "c986ab50",
   "metadata": {},
   "source": [
    "#### Q8. Does a numpy array contain fixed-length strings? What happens if you allocate a longer string to one of these arrays?"
   ]
  },
  {
   "cell_type": "markdown",
   "id": "49f17d4f",
   "metadata": {},
   "source": [
    "numpy array can contain fixed-length strings. The dtype of such an array is the maximum length of any string present in the array.\n",
    "\n",
    "Once set, it can store new string values having length not exceeding the maximum length at the time of the creation. If one tries to reallocate a string value having length greater than the maximum length of the existing elements, then it simply discards all the character values in the string beyond the maximum length and takes upto those that are under the threshold."
   ]
  },
  {
   "cell_type": "code",
   "execution_count": 20,
   "id": "74d54fb9",
   "metadata": {},
   "outputs": [],
   "source": [
    "arr=np.array([\"Jacko\",\"Jill\",\"Up\",\"Down\"])"
   ]
  },
  {
   "cell_type": "code",
   "execution_count": 21,
   "id": "e1209d67",
   "metadata": {},
   "outputs": [],
   "source": [
    "arr[arr==\"Jill\"]=\"Hickory\""
   ]
  },
  {
   "cell_type": "code",
   "execution_count": 22,
   "id": "de96b916",
   "metadata": {},
   "outputs": [
    {
     "data": {
      "text/plain": [
       "array(['Jacko', 'Hicko', 'Up', 'Down'], dtype='<U5')"
      ]
     },
     "execution_count": 22,
     "metadata": {},
     "output_type": "execute_result"
    }
   ],
   "source": [
    "arr"
   ]
  },
  {
   "cell_type": "markdown",
   "id": "563c682c",
   "metadata": {},
   "source": [
    "#### Q9. What happens when you combine two numpy arrays using an operation like addition (+) or multiplication (*)? What are the conditions for combining two numpy arrays?"
   ]
  },
  {
   "cell_type": "markdown",
   "id": "24470fc0",
   "metadata": {},
   "source": [
    "The operation will be one-to-one operation applied to the corresponding elements sharing a common index.\n",
    "\n",
    "The conditions are:\n",
    "\n",
    "- The data type both the arrays should be same.\n",
    "- Shape of both the arrays need to be same."
   ]
  },
  {
   "cell_type": "markdown",
   "id": "a1b3d927",
   "metadata": {},
   "source": [
    "#### Q10. What is the best way to use a Boolean array to mask another array?"
   ]
  },
  {
   "cell_type": "code",
   "execution_count": 26,
   "id": "86ab0600",
   "metadata": {},
   "outputs": [
    {
     "name": "stdout",
     "output_type": "stream",
     "text": [
      "[True, True, False, True, masked, masked]\n"
     ]
    }
   ],
   "source": [
    "\n",
    "bool = np.array([True,True,False,True,False,True])          \n",
    "x = np.array([1,2,3,4,5,6])         \n",
    "mask = np.ma.masked_where(x**2>19,bool)  \n",
    "print(list(mask))\n"
   ]
  },
  {
   "cell_type": "markdown",
   "id": "5f507f09",
   "metadata": {},
   "source": [
    "#### Q11. What are three different ways to get the standard deviation of a wide collection of data using both standard Python and its packages? Sort the three of them by how quickly they execute."
   ]
  },
  {
   "cell_type": "markdown",
   "id": "4ec2516f",
   "metadata": {},
   "source": [
    "Following are the ways with an example:"
   ]
  },
  {
   "cell_type": "code",
   "execution_count": 52,
   "id": "6d3b761a",
   "metadata": {},
   "outputs": [
    {
     "name": "stdout",
     "output_type": "stream",
     "text": [
      "[0 1 2 3 4 5 6 7 8]\n",
      "Standard deviation :  2.581988897471611\n"
     ]
    }
   ],
   "source": [
    "#Using math module\n",
    "\n",
    "import math\n",
    "arr=np.arange(9)\n",
    "print(arr)\n",
    "avg=np.mean(arr)\n",
    "N=len(arr)\n",
    "sum=0\n",
    "for i in arr:\n",
    "    sum=sum+(i-avg)**2\n",
    "SD=math.sqrt(sum/N)\n",
    "print(\"Standard deviation : \",SD)"
   ]
  },
  {
   "cell_type": "code",
   "execution_count": 53,
   "id": "63867d60",
   "metadata": {},
   "outputs": [
    {
     "name": "stdout",
     "output_type": "stream",
     "text": [
      "Standard deviation :  2.581988897471611\n"
     ]
    }
   ],
   "source": [
    "#Arithmetics\n",
    "SD= (sum/N)**0.5\n",
    "print(\"Standard deviation : \",SD)"
   ]
  },
  {
   "cell_type": "code",
   "execution_count": 54,
   "id": "db81d279",
   "metadata": {},
   "outputs": [
    {
     "name": "stdout",
     "output_type": "stream",
     "text": [
      "Standard deviation :  2.581988897471611\n"
     ]
    }
   ],
   "source": [
    "#Using Numpy Array package\n",
    "\n",
    "SD=np.std(arr)\n",
    "print(\"Standard deviation : \",SD)"
   ]
  },
  {
   "cell_type": "markdown",
   "id": "c81df358",
   "metadata": {},
   "source": [
    "#### 12. What is the dimensionality of a Boolean mask-generated array?"
   ]
  },
  {
   "cell_type": "markdown",
   "id": "cff4425d",
   "metadata": {},
   "source": [
    " It will be same as that of the original non-masked array."
   ]
  },
  {
   "cell_type": "code",
   "execution_count": 59,
   "id": "a635d792",
   "metadata": {},
   "outputs": [
    {
     "name": "stdout",
     "output_type": "stream",
     "text": [
      "Dimension of input array :  1\n",
      "Dimension of masked array :  1\n"
     ]
    }
   ],
   "source": [
    "bool = np.array([True,True,False,True,False,True])          \n",
    "x = np.array([1,2,3,4,5,6])         \n",
    "mask = np.ma.masked_where(x**2>19,bool)  \n",
    "print(\"Dimension of input array : \", x.ndim)\n",
    "print(\"Dimension of masked array : \", mask.ndim)"
   ]
  }
 ],
 "metadata": {
  "kernelspec": {
   "display_name": "Python 3 (ipykernel)",
   "language": "python",
   "name": "python3"
  },
  "language_info": {
   "codemirror_mode": {
    "name": "ipython",
    "version": 3
   },
   "file_extension": ".py",
   "mimetype": "text/x-python",
   "name": "python",
   "nbconvert_exporter": "python",
   "pygments_lexer": "ipython3",
   "version": "3.8.11"
  }
 },
 "nbformat": 4,
 "nbformat_minor": 5
}
