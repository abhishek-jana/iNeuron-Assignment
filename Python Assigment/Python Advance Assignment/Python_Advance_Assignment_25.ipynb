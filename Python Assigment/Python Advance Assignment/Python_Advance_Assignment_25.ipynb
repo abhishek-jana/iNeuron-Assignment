{
 "cells": [
  {
   "cell_type": "markdown",
   "id": "4a7247b7",
   "metadata": {},
   "source": [
    "#### Q1. What is the distinction between a numpy array and a pandas data frame? Is there a way to convert between the two if there is?"
   ]
  },
  {
   "cell_type": "markdown",
   "id": "9594f703",
   "metadata": {},
   "source": [
    "A numpy array is an nD (n=1,2,3,....) set or sequence  of values arranged like a list or matrix. DataFrame is an analog of a two-dimensional array with both flexible row indices and flexible column names in a tabular structure format."
   ]
  },
  {
   "cell_type": "code",
   "execution_count": 7,
   "id": "91499835",
   "metadata": {},
   "outputs": [
    {
     "name": "stdout",
     "output_type": "stream",
     "text": [
      "     0   1\n",
      "0    1   a\n",
      "1    5  99\n",
      "2  Joe   c\n",
      "\n",
      "\n",
      "[['1' 'a']\n",
      " ['5' '99']\n",
      " ['Joe' 'c']]\n"
     ]
    }
   ],
   "source": [
    "# Conversion of one into other\n",
    "\n",
    "import numpy as np\n",
    "import pandas as pd\n",
    "\n",
    "arr = np.array([[1, 'a'], [5, 99], ['Joe', 'c']])\n",
    "df = pd.DataFrame(arr)\n",
    "print(df)\n",
    "print(\"\\n\")\n",
    "print(df.to_numpy())"
   ]
  },
  {
   "cell_type": "markdown",
   "id": "f2a6bff4",
   "metadata": {},
   "source": [
    "\n",
    "#### Q2. What can go wrong when an user enters in a stock-ticker symbol, and how do you handle it?"
   ]
  },
  {
   "cell_type": "markdown",
   "id": "99e224e7",
   "metadata": {},
   "source": [
    "A stock ticker symbol is a mini-sequence of letters that denotes company's unique identifier in the trade market. Companies issue stocks or bonds to raise capital, and if their issues trade on public exchanges, they need to be uniquely identified to be recognized by investors or traders quickly."
   ]
  },
  {
   "cell_type": "markdown",
   "id": "0b571db7",
   "metadata": {},
   "source": [
    "#### Q3. Identify some of the plotting techniques that are used to produce a stock-market chart."
   ]
  },
  {
   "cell_type": "markdown",
   "id": "afbd1188",
   "metadata": {},
   "source": [
    "- LINE plot\n",
    "- BAR plot\n",
    "- Scattered matrix plot\n",
    "- Moving average plot"
   ]
  },
  {
   "cell_type": "markdown",
   "id": "3e797655",
   "metadata": {},
   "source": [
    "#### Q4. Why is it essential to print a legend on a stock market chart?"
   ]
  },
  {
   "cell_type": "markdown",
   "id": "cd5eb412",
   "metadata": {},
   "source": [
    "The stock market chart is a way of distinguishing the novice from the an expert investor. Stock charts record price movement and volume history thereby giving an estimate whether determine that stock is appreciating or depreciating in value. But a marketsmith can visualize much more beforehand by learning how to read stock charts."
   ]
  },
  {
   "cell_type": "markdown",
   "id": "80244d8d",
   "metadata": {},
   "source": [
    "#### Q5. What is the best way to limit the length of a pandas data frame to less than a year?"
   ]
  },
  {
   "cell_type": "markdown",
   "id": "bf9c07f2",
   "metadata": {},
   "source": [
    "Start and end parameters are best to use for that purpose. They denote the start and end date work, as the name suggests. Within that timeframe, we can restrict the duration. Moreover parameters like period and frequency can also be used to know the frequency of duration."
   ]
  },
  {
   "cell_type": "markdown",
   "id": "5d05a42a",
   "metadata": {},
   "source": [
    "#### Q6. What is the definition of a 180-day moving average?"
   ]
  },
  {
   "cell_type": "markdown",
   "id": "e88ae654",
   "metadata": {},
   "source": [
    "180-day moving average gives the arithmetic mean of a given set of prices over the 180 days in the past.The moving average gives investors and traders a sense of the incoming trend of the stock and potential resistance."
   ]
  },
  {
   "cell_type": "markdown",
   "id": "8f2374d8",
   "metadata": {},
   "source": [
    "#### Q7. Did the chapters final example use \"indirect\" importing? If so, how exactly do you do it?"
   ]
  },
  {
   "cell_type": "markdown",
   "id": "9dd439e9",
   "metadata": {},
   "source": [
    "What chapters? Question is not clear."
   ]
  }
 ],
 "metadata": {
  "kernelspec": {
   "display_name": "Python 3 (ipykernel)",
   "language": "python",
   "name": "python3"
  },
  "language_info": {
   "codemirror_mode": {
    "name": "ipython",
    "version": 3
   },
   "file_extension": ".py",
   "mimetype": "text/x-python",
   "name": "python",
   "nbconvert_exporter": "python",
   "pygments_lexer": "ipython3",
   "version": "3.8.11"
  }
 },
 "nbformat": 4,
 "nbformat_minor": 5
}
