{
 "cells": [
  {
   "cell_type": "markdown",
   "id": "b20218e0",
   "metadata": {},
   "source": [
    "#### Q1. You are going to play 2 games of chess with an opponent whom you have never played against before (for the sake of this problem). Your opponent is equally likely to be a beginner, intermediate, or a master. Depending on \n",
    "(a) What is your probability of winning the first game? \n",
    "\n",
    "(b) Congratulations: you won the first game! Given this information, what is the probability that you will also win the second game \n",
    "\n",
    "(c) Explain the distinction between assuming that the outcomes of the games are independent and assuming that they are conditionally independent given the opponent’s skill level. Which of these assumptions seems more reasonable, and why?\n"
   ]
  },
  {
   "cell_type": "markdown",
   "id": "dde823d1",
   "metadata": {},
   "source": [
    "Ans.\n",
    "\n",
    "*I think the question forgot to mention the probability of winning against each level.*\n",
    "\n",
    "For the sake of completion let's assume the probability to win against a beginner, intermediate and master is 0.9, 0.5, 0.3 respectively.\n",
    "\n",
    "a)\n",
    "\n",
    "let $W_i$ : event for winning the ith game.\n",
    "\n",
    "By law of total probability:\n",
    "\n",
    "$P(W_1) = P(W_1 | beginner) P(beginner) + P(W_1 | intermediate)P(intermediate) + P(W_1 | master) P(master) = \\frac{1}{3}(0.9 + 0.5 + 0.3) = \\frac{17}{30}$"
   ]
  },
  {
   "cell_type": "markdown",
   "id": "1cad7fa7",
   "metadata": {},
   "source": [
    "b)\n",
    "\n",
    "We have, $P(W_2 | W_1) = \\frac{P(W_2,W_1)}{P(W_1)}$\n",
    "\n",
    "Since $W_1$ and $W_2$ are mutually independent event, we can write,\n",
    "\n",
    "\n",
    "$P(W_1,W_2) = P(W_1,W_2 | beginner) P(beginner) + P(W_1,W_2 | intermediate)P(intermediate) + P(W_1,W_2 | master) P(master) = \\frac{1}{3}(0.9^2 + 0.5^2 + 0.3^2) = \\frac{23}{60}$\n",
    "\n",
    "So, $P(W_2 | W_1) = \\frac{23/60}{17/30} = \\frac{23}{34} \\simeq 0.68$"
   ]
  },
  {
   "cell_type": "markdown",
   "id": "8d88cd77",
   "metadata": {},
   "source": [
    "C) Independent outcome means the outcome of the second game doesn't depend on the first games result.\n",
    "\n",
    "conditionally independent means the same statement except the probabilities are dependent on the opponents skill level. \n",
    "\n",
    "conditionally independent seems like a more reasonable assumption as it gives us information about the opponents skill level and from the firs game we can get some information about the opponents skill level which influences the result of the second game."
   ]
  }
 ],
 "metadata": {
  "kernelspec": {
   "display_name": "Python 3 (ipykernel)",
   "language": "python",
   "name": "python3"
  },
  "language_info": {
   "codemirror_mode": {
    "name": "ipython",
    "version": 3
   },
   "file_extension": ".py",
   "mimetype": "text/x-python",
   "name": "python",
   "nbconvert_exporter": "python",
   "pygments_lexer": "ipython3",
   "version": "3.8.11"
  }
 },
 "nbformat": 4,
 "nbformat_minor": 5
}
