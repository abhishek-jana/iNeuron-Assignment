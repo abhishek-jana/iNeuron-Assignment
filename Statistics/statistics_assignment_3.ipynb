{
 "cells": [
  {
   "cell_type": "markdown",
   "id": "c2e10c0f",
   "metadata": {},
   "source": [
    "#### Q1. For a group of 7 people, find the probability that all 4 seasons (winter, spring, summer, fall) occur at least once each among their birthdays, assuming that all seasons are equally likely.\n"
   ]
  },
  {
   "cell_type": "markdown",
   "id": "4c16f1fb",
   "metadata": {},
   "source": [
    "Ans. 0.513\n",
    "\n",
    "Given that all 4 seasons (winter, spring, summer, fall) occur at least once each among their birthdays, assuming that all seasons are equally likely.\n",
    "\n",
    "Total outcome: \n",
    "\n",
    "Given that seasons are equally likely and all 4 seasons (winter, spring, summer, fall) occur at least once each among their birthdays\n",
    "\n",
    "Total outcomes: Each person is allotted a season out of 4. Hence total $4^7$ possibilities.\n",
    "\n",
    "Number of Outcomes that one or more season has no student having their birthday:\n",
    "\n",
    "Using Inclusion and Exclusion, \n",
    "\n",
    "we, Exclude 1 season - Exclude 2 season + exclude 3 season,and we can't exclude all the 4 seasons\n",
    "\n",
    "${4 \\choose 1}* 3^7 - {4 \\choose 2}* 2^7 + {4 \\choose 3}* 1^7$\n",
    "\n",
    "So total number of desired outcome is:\n",
    "\n",
    "$4^7 - {4 \\choose 1}* 3^7 + {4 \\choose 2}* 2^7 - {4 \\choose 3}* 1^7 = 8400$\n",
    "\n",
    "\n",
    "Required probability that all 4 seasons (winter, spring, summer, fall) occur at least once each among their birthdays:\n",
    "\n",
    "$\\frac{8400}{4^7} \\simeq 0.513$"
   ]
  },
  {
   "cell_type": "markdown",
   "id": "8a67e635",
   "metadata": {},
   "source": [
    "#### Q2. Alice attends a small college in which each class meets only once a week. She is deciding between 30 non-overlapping classes. There are 6 classes to choose from for each day of the week, Monday through Friday. Trusting in the benevolence of randomness, Alice decides to register for 7 randomly selected classes out of the 30, with all choices equally likely. What is the probability that she will have classes every day, Monday through Friday?\n"
   ]
  },
  {
   "cell_type": "markdown",
   "id": "284faef6",
   "metadata": {},
   "source": [
    "Ans.\n",
    "\n",
    "Alice needs to choose 7 classes out of 30. So the total possible outcome is ${30 \\choose 7}$.\n",
    "\n",
    "Now there are 2 ways alice can choose 7 classes in 5 days.\n",
    "\n",
    "1) 2 classes on 2 days and 1 class each on 3 days. Total outcome to choose the 2 days when she has 2 classes, and then select 2 classes on those days: ${5 \\choose 2}{6 \\choose 2}^2$. And, total outcome to choose 1 class for the other days:\n",
    "$6^3$. Total = ${5 \\choose 2}{6 \\choose 2}^26^3$\n",
    "\n",
    "2) 3 class on 1 day and 1 class each on 4 days. Total outcome to choose the 1 days when she has 3 classes, and then select 3 classes on those days: ${5 \\choose 1}{6 \\choose 3}$. And, total outcome to choose 1 class for the other days:\n",
    "$6^4$. Total = ${5 \\choose 1}{6 \\choose 3}6^4$\n",
    "\n",
    "So, the probability is :\n",
    "\n",
    "$\\frac{{5 \\choose 2}{6 \\choose 2}^26^3+{5 \\choose 1}{6 \\choose 3}6^4}{{30 \\choose 7}} \\simeq 0.302$"
   ]
  }
 ],
 "metadata": {
  "kernelspec": {
   "display_name": "Python 3 (ipykernel)",
   "language": "python",
   "name": "python3"
  },
  "language_info": {
   "codemirror_mode": {
    "name": "ipython",
    "version": 3
   },
   "file_extension": ".py",
   "mimetype": "text/x-python",
   "name": "python",
   "nbconvert_exporter": "python",
   "pygments_lexer": "ipython3",
   "version": "3.8.11"
  }
 },
 "nbformat": 4,
 "nbformat_minor": 5
}
