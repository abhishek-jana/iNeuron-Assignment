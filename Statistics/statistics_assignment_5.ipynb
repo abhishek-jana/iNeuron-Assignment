{
 "cells": [
  {
   "cell_type": "markdown",
   "id": "6cf4ba5f",
   "metadata": {},
   "source": [
    "#### Q1. Give an example of 3 events A, B, C which are pairwise independent but not independent. Hint: find an example where whether C occurs is completely determined if we know whether A occurred and whether B occurred, but completely undetermined if we know only one of these things.\n"
   ]
  },
  {
   "cell_type": "markdown",
   "id": "1ca171ef",
   "metadata": {},
   "source": [
    "Ans. \n",
    "\n",
    "Let A and B are two independent coin toss events. Let A be an event where first toss is heads and B be an event where second toss is heads. Let C be an event where both tosses have the same result. \n",
    "\n",
    "Now A,B,C are dependent since $P(A \\cap B \\cap C) = P(A \\cap B) = P(A)P(B) = \\frac{1}{4} \\neq \\frac{1}{4} . \\frac{1}{2} = \\frac{1}{8} = P(A)P(B)P(C)$\n",
    "\n",
    "But they are pairwise independent and A and B are indipendent by definition. So,  $P(A \\cap B) =  P(A \\cap C) = \\frac{1}{4} = P(A)(C)$\n",
    "\n",
    "Similarly B and C are indipendent."
   ]
  },
  {
   "cell_type": "markdown",
   "id": "e0ff12b9",
   "metadata": {},
   "source": [
    "#### Q2. A bag contains one marble which is either green or blue, with equal probabilities. A green marble is put in the bag (so there are 2 marbles now), and then a random marble is taken out. The marble taken out is green. What is the probability that the remaining marble is also green?\n"
   ]
  },
  {
   "cell_type": "markdown",
   "id": "63158f64",
   "metadata": {},
   "source": [
    "Ans.\n",
    "\n",
    "Let A be the event that the marble inside the bag is green, and B be the event that the marble taken out is green, and C be the event that the marble inside the bag is green. \n",
    "\n",
    "We need to find $P(C|B)$\n",
    "\n",
    "$P(C|B) = P(C|B,A)P(A|B) + P(C|B,A^c)P(A^c|B)=1 . P(A|B) + 0 . P(A^c|B) = P(A | B)$\n",
    "\n",
    "Using Bayes Theorem:\n",
    "\n",
    "$P(A | B) = \\frac{P(B | A) P(A)}{P(B)} = \\frac{P(B | A) P(A)}{P(B | A) P(A) + P(B | A^c) P(A^c)} = \\frac{\\frac{1}{2}}{\\frac{1}{2} + \\frac{1}{4}} = \\frac{2}{3}$"
   ]
  },
  {
   "cell_type": "code",
   "execution_count": null,
   "id": "03b7fd2c",
   "metadata": {},
   "outputs": [],
   "source": []
  }
 ],
 "metadata": {
  "kernelspec": {
   "display_name": "Python 3 (ipykernel)",
   "language": "python",
   "name": "python3"
  },
  "language_info": {
   "codemirror_mode": {
    "name": "ipython",
    "version": 3
   },
   "file_extension": ".py",
   "mimetype": "text/x-python",
   "name": "python",
   "nbconvert_exporter": "python",
   "pygments_lexer": "ipython3",
   "version": "3.8.11"
  }
 },
 "nbformat": 4,
 "nbformat_minor": 5
}
