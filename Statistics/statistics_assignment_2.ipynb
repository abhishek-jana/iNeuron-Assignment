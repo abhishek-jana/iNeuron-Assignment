{
 "cells": [
  {
   "cell_type": "markdown",
   "id": "1cb34df3",
   "metadata": {},
   "source": [
    "#### Q1. Raindrops are falling at an average rate of 20 drops per square inch per minute. What would be a reasonable distribution to use for the number of raindrops hitting a particular region measuring 5 inches2 in t minutes? Why? Using your chosen distribution, compute the probability that the region has no rain drops in a given 3 second time interval. A reasonable choice of distribution is P\n",
    "\n"
   ]
  },
  {
   "cell_type": "markdown",
   "id": "59a3c324",
   "metadata": {},
   "source": [
    "Ans. Since an average rate is give, it is natural to choose poisson distribution. \n",
    "\n",
    "so, t.$\\lambda $ = $t.(drops\\,per\\,square\\,inch).(region)$ = t.20.5 = 100t (in average 100 raindrops hitting 5 square inch region)\n",
    "\n",
    "Assuming P(no raindrops in 3 seconds), setting t = 1/20 gives,\n",
    "\n",
    "$P(X=0) = \\frac{(100/20)^0}{0!}.e^{-100/20} = e^{-5}$\n",
    "\n",
    "(0 because we want no raindrops at all!)\n"
   ]
  },
  {
   "cell_type": "markdown",
   "id": "edda1103",
   "metadata": {},
   "source": [
    "#### Q2. Let X be a random day of the week, coded so that Monday is 1, Tuesday is 2, etc. (so X takes values 1, 2,..., 7, with equal probabilities). Let Y be the next day after X (again represented as an integer between 1 and 7). Do X and Y have the same distribution? What is P(X)"
   ]
  },
  {
   "cell_type": "markdown",
   "id": "da208c0f",
   "metadata": {},
   "source": [
    "Since all the values are equally likely to occur and $Y = X + 1(mod 7)$. So both X and Y can have probability $\\frac{1}{7}$.\n",
    "\n",
    "**Hence both X and Y will have same distribution**\n",
    "\n",
    "However we have $P(X<Y) = P(X\\ne7) = \\frac{1}{7}[0+1+1+1+1+1+1] = \\frac{6}{7}$"
   ]
  },
  {
   "cell_type": "code",
   "execution_count": null,
   "id": "5c377d03",
   "metadata": {},
   "outputs": [],
   "source": []
  }
 ],
 "metadata": {
  "kernelspec": {
   "display_name": "Python 3 (ipykernel)",
   "language": "python",
   "name": "python3"
  },
  "language_info": {
   "codemirror_mode": {
    "name": "ipython",
    "version": 3
   },
   "file_extension": ".py",
   "mimetype": "text/x-python",
   "name": "python",
   "nbconvert_exporter": "python",
   "pygments_lexer": "ipython3",
   "version": "3.8.11"
  }
 },
 "nbformat": 4,
 "nbformat_minor": 5
}
