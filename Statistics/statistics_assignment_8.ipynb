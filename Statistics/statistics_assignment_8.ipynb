{
 "cells": [
  {
   "cell_type": "markdown",
   "id": "a60682b8",
   "metadata": {},
   "source": [
    "#### Q1. A crime is committed by one of two suspects, A and B. Initially, there is equal evidence against both of them. In further investigation at the crime scene, it is found that the guilty party had a blood type found in 10% of the population. Suspect A does match this blood type, whereas the blood type of Suspect B is unknown. \n",
    "\n",
    "#### (a) Given this new information, what is the probability that A is the guilty party? \n",
    "\n",
    "#### (b) Given this new information, what is the probability that B’s blood type matches that found at the crime scene?\n"
   ]
  },
  {
   "cell_type": "markdown",
   "id": "4104eb14",
   "metadata": {},
   "source": [
    "Ans.\n",
    "a)\n",
    "Event M : A's blood type matches with the guilty\n",
    "\n",
    "A : A is guilty\n",
    "\n",
    "B : B is guilty\n",
    "\n",
    "Using Baye's Rule:\n",
    "\n",
    "$P(A | M) = \\frac{P(M | A)P(A)}{P(M | A)P(A) + P(M | B)P(B} = \\frac{1/2}{1/2 + (1/10) * (1/2)} = \\frac{10}{11}$\n",
    "\n",
    "(* Here $P(M | B) = \\frac{1}{10}$ given that B is guilty,  A's blood type matches with the guilty is the same probability as general population.)"
   ]
  },
  {
   "cell_type": "markdown",
   "id": "1b05c22c",
   "metadata": {},
   "source": [
    "b)  Event $M_B$ : B's blood type matches with the guilty. So,\n",
    "\n",
    "$P(M_B | M) = P(M_B | M,A)P(A | M) + P(M_B | M, B)P(B | M) = \\frac{1}{10}.\\frac{10}{11} + \\frac{1}{11} = \\frac{2}{11}$"
   ]
  }
 ],
 "metadata": {
  "kernelspec": {
   "display_name": "Python 3 (ipykernel)",
   "language": "python",
   "name": "python3"
  },
  "language_info": {
   "codemirror_mode": {
    "name": "ipython",
    "version": 3
   },
   "file_extension": ".py",
   "mimetype": "text/x-python",
   "name": "python",
   "nbconvert_exporter": "python",
   "pygments_lexer": "ipython3",
   "version": "3.8.11"
  }
 },
 "nbformat": 4,
 "nbformat_minor": 5
}
