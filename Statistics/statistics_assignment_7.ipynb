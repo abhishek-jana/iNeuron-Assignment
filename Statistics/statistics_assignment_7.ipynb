{
 "cells": [
  {
   "cell_type": "markdown",
   "id": "77076f28",
   "metadata": {},
   "source": [
    "#### Q1. A spam filter is designed by looking at commonly occurring phrases in spam. Suppose that 80% of email is spam. In 10% of the spam emails, the phrase “free money” is used, whereas this phrase is only used in 1% of non-spam emails. A new email has just arrived, which does mention “free money”. What is the probability that it is spam?\n"
   ]
  },
  {
   "cell_type": "markdown",
   "id": "f36dea9d",
   "metadata": {},
   "source": [
    "Ans.\n",
    "\n",
    "Event S : event is spam \n",
    "\n",
    "Event F : event of email with free memory.\n",
    "\n",
    "By Bayes rule:\n",
    "\n",
    "$P(S | F) = \\frac{P(F | S)P(S)}{P(F)} = \\frac{0.1 * 0.8}{0.1 * 0.8 + 0.01 * 0.2} = \\frac{80}{82} \\simeq 0.976$"
   ]
  }
 ],
 "metadata": {
  "kernelspec": {
   "display_name": "Python 3 (ipykernel)",
   "language": "python",
   "name": "python3"
  },
  "language_info": {
   "codemirror_mode": {
    "name": "ipython",
    "version": 3
   },
   "file_extension": ".py",
   "mimetype": "text/x-python",
   "name": "python",
   "nbconvert_exporter": "python",
   "pygments_lexer": "ipython3",
   "version": "3.8.11"
  }
 },
 "nbformat": 4,
 "nbformat_minor": 5
}
