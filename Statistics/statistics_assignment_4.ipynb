{
 "cells": [
  {
   "cell_type": "markdown",
   "id": "81ab186a",
   "metadata": {},
   "source": [
    "#### Q1. Is it possible that an event is independent of itself? If so, when?\n"
   ]
  },
  {
   "cell_type": "markdown",
   "id": "f3f816a6",
   "metadata": {},
   "source": [
    "Yes it is possible that an event is independent of itself\n",
    "\n",
    "When the probability is either 0 or 1. This follows from the the fact that only 0 and 1 are the numbers of it's own square. Which means that and event is essentially constant."
   ]
  },
  {
   "cell_type": "markdown",
   "id": "016353a6",
   "metadata": {},
   "source": [
    "#### Q2. Is it always true that if A and B are independent events, then Ac and Bc are independent events? Show that it is, or give a counterexample.\n"
   ]
  },
  {
   "cell_type": "markdown",
   "id": "55a0fc04",
   "metadata": {},
   "source": [
    "Assume A and B are independent. Then\n",
    "\n",
    "$P( Ac \\cap Bc) = 1 - P(A \\cup B)=1 - P(A) - P(B) + P(A \\cap B)=1 - P(A) - P(B)+P(A)P(B)=(1 - P(A))(1 - P(B))=P(Ac)P(Bc)$ "
   ]
  }
 ],
 "metadata": {
  "kernelspec": {
   "display_name": "Python 3 (ipykernel)",
   "language": "python",
   "name": "python3"
  },
  "language_info": {
   "codemirror_mode": {
    "name": "ipython",
    "version": 3
   },
   "file_extension": ".py",
   "mimetype": "text/x-python",
   "name": "python",
   "nbconvert_exporter": "python",
   "pygments_lexer": "ipython3",
   "version": "3.8.11"
  }
 },
 "nbformat": 4,
 "nbformat_minor": 5
}
