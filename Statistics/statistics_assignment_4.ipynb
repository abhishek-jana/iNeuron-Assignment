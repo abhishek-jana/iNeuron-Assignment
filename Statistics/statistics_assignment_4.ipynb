{
 "cells": [
  {
   "cell_type": "markdown",
   "id": "357b5ce1",
   "metadata": {},
   "source": [
    "#### Q1. Is it possible that an event is independent of itself? If so, when?\n"
   ]
  },
  {
   "cell_type": "markdown",
   "id": "1881c894",
   "metadata": {},
   "source": [
    "Yes it is possible that an event is independent of itself\n",
    "\n",
    "When the probability is either 0 or 1. This follows from the the fact that only 0 and 1 are the numbers of it's own square. Which means that and event is essentially constant."
   ]
  },
  {
   "cell_type": "markdown",
   "id": "7bb201d6",
   "metadata": {},
   "source": [
    "#### Q2. Is it always true that if A and B are independent events, then Ac and Bc are independent events? Show that it is, or give a counterexample.\n"
   ]
  },
  {
   "cell_type": "markdown",
   "id": "e17920ae",
   "metadata": {},
   "source": [
    "Assume A and B are independent. Then\n",
    "\n",
    "$P(Ac∩Bc)=1−P(A∪B)=1−P(A)−P(B)+P(A∩B)=1−P(A)−P(B)+P(A)P(B)=(1−P(A))(1−P(B))=P(Ac)P(Bc)$ "
   ]
  }
 ],
 "metadata": {
  "kernelspec": {
   "display_name": "Python 3 (ipykernel)",
   "language": "python",
   "name": "python3"
  },
  "language_info": {
   "codemirror_mode": {
    "name": "ipython",
    "version": 3
   },
   "file_extension": ".py",
   "mimetype": "text/x-python",
   "name": "python",
   "nbconvert_exporter": "python",
   "pygments_lexer": "ipython3",
   "version": "3.8.11"
  }
 },
 "nbformat": 4,
 "nbformat_minor": 5
}
