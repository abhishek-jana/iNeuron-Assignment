{
 "cells": [
  {
   "cell_type": "markdown",
   "id": "397049a0",
   "metadata": {},
   "source": [
    "#### Q1. A chicken lays n eggs. Each egg independently does or doesn’t hatch, with probability p of hatching. For each egg that hatches, the chick does or doesn’t survive (independently of the other eggs), with probability s of survival. Let N ⇠ Bin(n, p) be the number of eggs which hatch, X be the number of chicks which survive, and Y be the number of chicks which hatch but don’t survive (so X + Y = N). Find the marginal PMF of X, and the joint PMF of X and Y . Are they independent?\n"
   ]
  },
  {
   "cell_type": "markdown",
   "id": "2619de92",
   "metadata": {},
   "source": [
    "Ans. \n",
    "\n",
    "the eggs can be thought of as independent Bernoulli trials with probability $ps$ of success for each.\n",
    "\n",
    "So $X \\sim Bin(n,ps)$.\n",
    "\n",
    "Here X and Y are not independent. For extreme case, if X = n then Y = 0.\n",
    "\n",
    "Now, $P(Y = 0) < 1$ while,\n",
    "\n",
    "$P(Y = 0 | X = n) = 1$ \n",
    "\n",
    "For joint distribution, only $ N = i + j $ term is nonzero: for any non negative integers $i,j$ with $i+j \\le n$,\n",
    "\n",
    "$P(X = i, Y = j) = P(X = i,Y = j|N = i+j) P(N = i+j)$\n",
    "\n",
    "$= P(X = i|N = i+j) P(N = i+j)$\n",
    "\n",
    "$= {i+j \\choose i} s^i (1-s)^j {n \\choose i+j} p^{i+j} (1-p)^{n-i-j} $\n",
    "\n",
    "$= \\frac{n\\,!}{i\\,!j\\,! (n-i-j)\\,!} (ps)^i (p(1-s))^j (1-p)^{n-i-j} $"
   ]
  }
 ],
 "metadata": {
  "kernelspec": {
   "display_name": "Python 3 (ipykernel)",
   "language": "python",
   "name": "python3"
  },
  "language_info": {
   "codemirror_mode": {
    "name": "ipython",
    "version": 3
   },
   "file_extension": ".py",
   "mimetype": "text/x-python",
   "name": "python",
   "nbconvert_exporter": "python",
   "pygments_lexer": "ipython3",
   "version": "3.8.11"
  }
 },
 "nbformat": 4,
 "nbformat_minor": 5
}
